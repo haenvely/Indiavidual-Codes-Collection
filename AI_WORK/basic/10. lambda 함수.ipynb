{
 "cells": [
  {
   "cell_type": "markdown",
   "metadata": {},
   "source": [
    "\n",
    "\n",
    "### 학습목표\n",
    " 1. Lambda 함수를 이해하고, 사용할 수 있다. "
   ]
  },
  {
   "cell_type": "markdown",
   "metadata": {},
   "source": [
    "* **Lambda 함수**\n",
    " + 단일문으로 표현되는 익명함수이다.\n",
    " + 익명함수란 <u>이름이 없는</u> 구현체만 존재하는 간단한 함수를 의미한다.\n",
    " + 코드 상에서 한번만 사용되는 기능이 있을 때, 굳이 함수로 만들지 않고 1회성으로 만들어서 쓸 때 사용한다.\n",
    " + lambda 예약어로 만든 함수는 return 명령어가 없어도 결괏값을 돌려준다."
   ]
  },
  {
   "cell_type": "code",
   "execution_count": 2,
   "metadata": {},
   "outputs": [
    {
     "data": {
      "text/plain": [
       "7"
      ]
     },
     "execution_count": 2,
     "metadata": {},
     "output_type": "execute_result"
    }
   ],
   "source": [
    "lambda a, b: a + b\n",
    "#단순 함수기 때문에 쓸 수가 없음\n",
    "(lambda a, b : a+b)(3,4) #파라미터 넣으면 됨..ㅇㅇ"
   ]
  },
  {
   "cell_type": "code",
   "execution_count": 3,
   "metadata": {},
   "outputs": [
    {
     "data": {
      "text/plain": [
       "5"
      ]
     },
     "execution_count": 3,
     "metadata": {},
     "output_type": "execute_result"
    }
   ],
   "source": [
    "add = lambda a, b : a + b\n",
    "add(2,3)"
   ]
  },
  {
   "cell_type": "code",
   "execution_count": 6,
   "metadata": {},
   "outputs": [
    {
     "data": {
      "text/plain": [
       "[3, 5, 7]"
      ]
     },
     "execution_count": 6,
     "metadata": {},
     "output_type": "execute_result"
    }
   ],
   "source": [
    "a = [1,2,3]\n",
    "\n",
    "(lambda add, obj : [add(x, x+1) for x in obj])(add, a)"
   ]
  },
  {
   "cell_type": "code",
   "execution_count": 7,
   "metadata": {},
   "outputs": [
    {
     "data": {
      "text/plain": [
       "5"
      ]
     },
     "execution_count": 7,
     "metadata": {},
     "output_type": "execute_result"
    }
   ],
   "source": [
    "def str_len(s):\n",
    "    return len(s)\n",
    "\n",
    "str_len('hello')"
   ]
  },
  {
   "cell_type": "code",
   "execution_count": 8,
   "metadata": {},
   "outputs": [
    {
     "data": {
      "text/plain": [
       "5"
      ]
     },
     "execution_count": 8,
     "metadata": {},
     "output_type": "execute_result"
    }
   ],
   "source": [
    "(lambda s: len(s))('hello')"
   ]
  },
  {
   "cell_type": "markdown",
   "metadata": {},
   "source": [
    "#### **filter, map, reduce**\n",
    " + lambda가 유용하게 사용되는 3가지 대표적 함수이다.\n",
    " + 함수형 프로그래밍의 기본 요소이기도 하다.\n",
    " + filter : 특정 조건을 만족하는 요소만 남기고 필터링한다.\n",
    " + map    : 각 원소를 주어진 수식에 따라 변형하여 새로운 리스트를 반환한다.\n",
    " + reduce : 차례대로 앞 2개의 원소를 가지고 연산. 연산의 결과가 또 다음 연산의 입력으로 진행된다. 따라서 마지막까지 진행되면 최종 출력은 한개의 값만 남게 된다."
   ]
  },
  {
   "cell_type": "code",
   "execution_count": 9,
   "metadata": {},
   "outputs": [
    {
     "data": {
      "text/plain": [
       "False"
      ]
     },
     "execution_count": 9,
     "metadata": {},
     "output_type": "execute_result"
    }
   ],
   "source": [
    "def even(n):\n",
    "    return n%2 ==0\n",
    "even(3)"
   ]
  },
  {
   "cell_type": "code",
   "execution_count": 11,
   "metadata": {},
   "outputs": [
    {
     "data": {
      "text/plain": [
       "[2, 4, 8]"
      ]
     },
     "execution_count": 11,
     "metadata": {},
     "output_type": "execute_result"
    }
   ],
   "source": [
    "#filter: 여기 해당하는 요소만 필터링해서 볼 수 있는 것\n",
    "#즉, True로 반환되는 요소들만 return됨\n",
    "#filter(람다식, 인자)\n",
    "\n",
    "nums = [1,2,3,4,57,8, 77, 9, 19]\n",
    "\n",
    "list(filter(lambda n : n% 2 ==0, nums))"
   ]
  },
  {
   "cell_type": "code",
   "execution_count": 15,
   "metadata": {},
   "outputs": [
    {
     "data": {
      "text/plain": [
       "[8, 7, 9]"
      ]
     },
     "execution_count": 15,
     "metadata": {},
     "output_type": "execute_result"
    }
   ],
   "source": [
    "def f(x):\n",
    "    return x > 5 and x < 10\n",
    "a = [8, 3, 2, 10, 15, 7, 1, 9, 0, 11]\n",
    "\n",
    "list(filter(f, a))\n",
    "\n",
    "\n",
    "#함수 f를 람다표현식으로 바꾸기\n",
    "list(filter(lambda x: x> 5 and x < 10, a))"
   ]
  },
  {
   "cell_type": "code",
   "execution_count": 21,
   "metadata": {},
   "outputs": [
    {
     "data": {
      "text/plain": [
       "[1, 4, 9, 36, 64, 81, 100, 121, 169, 225]"
      ]
     },
     "execution_count": 21,
     "metadata": {},
     "output_type": "execute_result"
    }
   ],
   "source": [
    "# map\n",
    "# 주어진 리스트, 리스트의 제곱을 한 숫자로 새로운 리스트\n",
    "nums = [1, 2, 3, 6, 8, 9, 10, 11, 13, 15]\n",
    "\n",
    "list(map(lambda x: x**2, nums))"
   ]
  },
  {
   "cell_type": "code",
   "execution_count": 22,
   "metadata": {},
   "outputs": [
    {
     "data": {
      "text/plain": [
       "[False, True, False, True, True, False, True, False, False, False]"
      ]
     },
     "execution_count": 22,
     "metadata": {},
     "output_type": "execute_result"
    }
   ],
   "source": [
    "#map을 이용해서 짝수면 True 아니면 False\n",
    "\n",
    "list(map(lambda x: x%2 ==0, nums))"
   ]
  },
  {
   "cell_type": "code",
   "execution_count": 5,
   "metadata": {},
   "outputs": [],
   "source": [
    "#람다 표현식을 인수로 사용하기  ex) map \n"
   ]
  },
  {
   "cell_type": "code",
   "execution_count": 24,
   "metadata": {},
   "outputs": [
    {
     "data": {
      "text/plain": [
       "1"
      ]
     },
     "execution_count": 24,
     "metadata": {},
     "output_type": "execute_result"
    }
   ],
   "source": [
    "#매개변수가 없으면 그냥 콜론만 찍고 실행해도 됨.\n",
    "#리턴할 값은 있어야쥬,,,\n",
    "\n",
    "(lambda : 1)()"
   ]
  },
  {
   "cell_type": "code",
   "execution_count": 28,
   "metadata": {},
   "outputs": [
    {
     "name": "stdout",
     "output_type": "stream",
     "text": [
      "[1, 2, '3', 4, 5, '6', 7, 8, '9', 10]\n",
      "[3, 6, 9]\n"
     ]
    }
   ],
   "source": [
    "#람다 표현식에 조건부 표현식 사용하기\n",
    "#lambda 매개변수들: 식1 if 조건식 else 식2\n",
    "\n",
    "a = [1, 2, 3, 4, 5, 6, 7, 8, 9, 10]\n",
    "\n",
    "print(list(map(lambda x: str(x) if x%3 == 0 else x, a)))\n",
    "\n",
    "print(list(filter(lambda x: x%3 == 0, a)))"
   ]
  },
  {
   "cell_type": "code",
   "execution_count": 29,
   "metadata": {},
   "outputs": [
    {
     "name": "stdout",
     "output_type": "stream",
     "text": [
      "['1', 2.0, 13, 14, 15, 16, 17, 18, 19, 20]\n"
     ]
    },
    {
     "data": {
      "text/plain": [
       "['1', 2.0, 13, 14, 15, 16, 17, 18, 19, 20]"
      ]
     },
     "execution_count": 29,
     "metadata": {},
     "output_type": "execute_result"
    }
   ],
   "source": [
    "#lambda 매개변수들: 식1 if 조건식1 else 식2 if 조건식2 else 식3\n",
    "# 이렇게 가독성이 떨어질 때에는 그냥 def 함수로 만들고 if elif else 사용권장\n",
    "a = [1, 2, 3, 4, 5, 6, 7, 8, 9, 10]\n",
    "\n",
    "result = list(map(lambda x: str(x) if x == 1 else float(x) if x==2 else x + 10, a))\n",
    "\n",
    "print(result)\n",
    "\n",
    "def f(x):\n",
    "    if x ==1:\n",
    "        return str(x)\n",
    "    elif x ==2:\n",
    "        return float(x)\n",
    "    else:\n",
    "        return x + 10\n",
    "list(map(f, a))"
   ]
  },
  {
   "cell_type": "code",
   "execution_count": 30,
   "metadata": {},
   "outputs": [
    {
     "data": {
      "text/plain": [
       "[2, 8, 18, 32, 50]"
      ]
     },
     "execution_count": 30,
     "metadata": {},
     "output_type": "execute_result"
    }
   ],
   "source": [
    "#map에 객체를 여러 개 넣기\n",
    "#map은 리스트 등의 반복 가능한 객체를 여러 개 넣을 수도 있습니다. \n",
    "#다음은 두 리스트의 요소를 곱해서 새 리스트를 만듭니다.\n",
    "\n",
    "a = [1, 2, 3, 4, 5]\n",
    "b = [2, 4, 6, 8, 10]\n",
    "list(map(lambda x, y: x * y, a, b))"
   ]
  },
  {
   "cell_type": "markdown",
   "metadata": {},
   "source": [
    "#### reduce 사용하기\n",
    "-  from functools import reduce\n",
    "-  reduce(함수, 반복가능한객체)\n",
    "\n",
    "- for나 while보다 처리 속도가 느림. 권장치 않는 함수\n"
   ]
  },
  {
   "cell_type": "code",
   "execution_count": 32,
   "metadata": {},
   "outputs": [
    {
     "data": {
      "text/plain": [
       "86"
      ]
     },
     "execution_count": 32,
     "metadata": {},
     "output_type": "execute_result"
    }
   ],
   "source": [
    "# reduce 사용하기\n",
    "#  from functools import reduce\n",
    "#  reduce(함수, 반복가능한객체)\n",
    "\n",
    "def add(x, y):\n",
    "    return x + y\n",
    "\n",
    "a = [1,2,3,4,5]\n",
    "\n",
    "#x가 1, 그다음 1 + 2, 다음에 1+2+3 --- 이런식으로 전의 값들이 다시 x로 재할당\n",
    "\n",
    "from functools import reduce\n",
    "reduce(add, a)\n",
    "\n",
    "a = [20,11,43,12]\n",
    "reduce(add, a)"
   ]
  },
  {
   "cell_type": "code",
   "execution_count": 34,
   "metadata": {},
   "outputs": [
    {
     "data": {
      "text/plain": [
       "17"
      ]
     },
     "execution_count": 34,
     "metadata": {},
     "output_type": "execute_result"
    }
   ],
   "source": [
    "import functools\n",
    "\n",
    "a = [1, 3, 5, 8]\n",
    "# 리스트 내의 모든 숫자의 합\n",
    "\n",
    "functools.reduce(lambda x, y: x + y, a)"
   ]
  },
  {
   "cell_type": "code",
   "execution_count": 35,
   "metadata": {},
   "outputs": [
    {
     "data": {
      "text/plain": [
       "[7, 8]"
      ]
     },
     "execution_count": 35,
     "metadata": {},
     "output_type": "execute_result"
    }
   ],
   "source": [
    "# List Comprehesions \n",
    "\n",
    "a = [3,45,2,12,3,7,87,8,5]\n",
    "\n",
    "[i for i in a if i > 5 and i < 10]"
   ]
  },
  {
   "cell_type": "markdown",
   "metadata": {},
   "source": [
    "\n",
    "#### 함수 연습문제\n",
    " 1. 주어진 숫자 리스트의 평균을 구하는 함수를 출력하시오\n",
    " 1. 해당 숫자가 소수인지 아닌지 판별하시오.\n",
    " 2. 2부터 해당 숫자사이에 소수가 몇개인지 출력하는 함수를 구하시오 "
   ]
  },
  {
   "cell_type": "code",
   "execution_count": null,
   "metadata": {},
   "outputs": [],
   "source": []
  },
  {
   "cell_type": "code",
   "execution_count": null,
   "metadata": {},
   "outputs": [],
   "source": []
  },
  {
   "cell_type": "code",
   "execution_count": null,
   "metadata": {},
   "outputs": [],
   "source": []
  },
  {
   "cell_type": "code",
   "execution_count": null,
   "metadata": {},
   "outputs": [],
   "source": []
  },
  {
   "cell_type": "markdown",
   "metadata": {},
   "source": [
    "#### 클로저 \n",
    "\n",
    "- 변수의 사용범위 지역변수, 전역변수, global 확인\n",
    "- https://dojang.io/mod/page/view.php?id=2364   참고 \n",
    "- 클로저(closure)란, 외부 함수에 접근할 수 있는 내부 함수 \n",
    "- 혹은 이러한 원리를 일컫는 용어인데 스코프에 따라서 내부함수의 범위에서는 외부 함수 범위에 있는 변수에 접근이 가능하지만 그 반대는 실현이 불가능하다는 개념이다.\n",
    "\n",
    "- 특징으로는 외부함수는 외부함수의 지역변수를 사용하는 내부함수가 소멸될 때까지 소멸되지 않는다.예를 들어 한 함수안에 다른 함수가 있다면 그 안의 함수는 바깥에 정의해놓은 변수를 사용할 수 있지만 그 반대는 가능하지 않다.\n"
   ]
  },
  {
   "cell_type": "code",
   "execution_count": 1,
   "metadata": {},
   "outputs": [
    {
     "name": "stdout",
     "output_type": "stream",
     "text": [
      "20\n",
      "{}\n",
      "{'y': 'hh'}\n",
      "20\n"
     ]
    }
   ],
   "source": [
    "x = 10\n",
    "def foo():\n",
    "    global x\n",
    "    x = 20\n",
    "    print(x)\n",
    "    print(locals()) #비어있음, 즉 여기는 지역변수로 정의된게 없음.\n",
    "    y = 'hh'\n",
    "    print(locals()) #딕셔너리 형태로 지역변수가 들어옴\n",
    "foo()\n",
    "print(x)"
   ]
  },
  {
   "cell_type": "code",
   "execution_count": 1,
   "metadata": {},
   "outputs": [
    {
     "data": {
      "text/plain": [
       "{'__name__': '__main__',\n",
       " '__doc__': 'Automatically created module for IPython interactive environment',\n",
       " '__package__': None,\n",
       " '__loader__': None,\n",
       " '__spec__': None,\n",
       " '__builtin__': <module 'builtins' (built-in)>,\n",
       " '__builtins__': <module 'builtins' (built-in)>,\n",
       " '_ih': ['', 'locals()'],\n",
       " '_oh': {},\n",
       " '_dh': ['C:\\\\Users\\\\ohi02\\\\PycharmProjects\\\\AI_WORK'],\n",
       " 'In': ['', 'locals()'],\n",
       " 'Out': {},\n",
       " 'get_ipython': <bound method InteractiveShell.get_ipython of <ipykernel.zmqshell.ZMQInteractiveShell object at 0x00000271D0F1A888>>,\n",
       " 'exit': <IPython.core.autocall.ZMQExitAutocall at 0x271d1af8388>,\n",
       " 'quit': <IPython.core.autocall.ZMQExitAutocall at 0x271d1af8388>,\n",
       " '_': '',\n",
       " '__': '',\n",
       " '___': '',\n",
       " '_i': '',\n",
       " '_ii': '',\n",
       " '_iii': '',\n",
       " '_i1': 'locals()'}"
      ]
     },
     "execution_count": 1,
     "metadata": {},
     "output_type": "execute_result"
    }
   ],
   "source": [
    "locals() #global의 locals"
   ]
  },
  {
   "cell_type": "code",
   "execution_count": 5,
   "metadata": {},
   "outputs": [
    {
     "data": {
      "text/plain": [
       "{'__name__': '__main__',\n",
       " '__doc__': 'Automatically created module for IPython interactive environment',\n",
       " '__package__': None,\n",
       " '__loader__': None,\n",
       " '__spec__': None,\n",
       " '__builtin__': <module 'builtins' (built-in)>,\n",
       " '__builtins__': <module 'builtins' (built-in)>,\n",
       " '_ih': ['',\n",
       "  'locals()',\n",
       "  'x = 10\\ndef foo():\\n    global x\\n    x = 20\\n    print(x)\\nfoo()\\nprint(x)',\n",
       "  'x = 10\\ndef foo():\\n    global x\\n    x = 20\\n    print(x)\\n    print(locals())\\nfoo()\\nprint(x)',\n",
       "  \"x = 10\\ndef foo():\\n    global x\\n    x = 20\\n    print(x)\\n    print(locals()) #비어있음, 즉 여기는 지역변수로 정의된게 없음.\\n    y = 'hh'\\n    print(locals())\\nfoo()\\nprint(x)\",\n",
       "  'globals()'],\n",
       " '_oh': {1: {...}},\n",
       " '_dh': ['C:\\\\Users\\\\ohi02\\\\PycharmProjects\\\\AI_WORK'],\n",
       " 'In': ['',\n",
       "  'locals()',\n",
       "  'x = 10\\ndef foo():\\n    global x\\n    x = 20\\n    print(x)\\nfoo()\\nprint(x)',\n",
       "  'x = 10\\ndef foo():\\n    global x\\n    x = 20\\n    print(x)\\n    print(locals())\\nfoo()\\nprint(x)',\n",
       "  \"x = 10\\ndef foo():\\n    global x\\n    x = 20\\n    print(x)\\n    print(locals()) #비어있음, 즉 여기는 지역변수로 정의된게 없음.\\n    y = 'hh'\\n    print(locals())\\nfoo()\\nprint(x)\",\n",
       "  'globals()'],\n",
       " 'Out': {1: {...}},\n",
       " 'get_ipython': <bound method InteractiveShell.get_ipython of <ipykernel.zmqshell.ZMQInteractiveShell object at 0x00000271D0F1A888>>,\n",
       " 'exit': <IPython.core.autocall.ZMQExitAutocall at 0x271d1af8388>,\n",
       " 'quit': <IPython.core.autocall.ZMQExitAutocall at 0x271d1af8388>,\n",
       " '_': {...},\n",
       " '__': '',\n",
       " '___': '',\n",
       " '_i': \"x = 10\\ndef foo():\\n    global x\\n    x = 20\\n    print(x)\\n    print(locals()) #비어있음, 즉 여기는 지역변수로 정의된게 없음.\\n    y = 'hh'\\n    print(locals())\\nfoo()\\nprint(x)\",\n",
       " '_ii': 'x = 10\\ndef foo():\\n    global x\\n    x = 20\\n    print(x)\\n    print(locals())\\nfoo()\\nprint(x)',\n",
       " '_iii': 'x = 10\\ndef foo():\\n    global x\\n    x = 20\\n    print(x)\\nfoo()\\nprint(x)',\n",
       " '_i1': 'locals()',\n",
       " '_1': {...},\n",
       " '_i2': 'x = 10\\ndef foo():\\n    global x\\n    x = 20\\n    print(x)\\nfoo()\\nprint(x)',\n",
       " 'x': 20,\n",
       " 'foo': <function __main__.foo()>,\n",
       " '_i3': 'x = 10\\ndef foo():\\n    global x\\n    x = 20\\n    print(x)\\n    print(locals())\\nfoo()\\nprint(x)',\n",
       " '_i4': \"x = 10\\ndef foo():\\n    global x\\n    x = 20\\n    print(x)\\n    print(locals()) #비어있음, 즉 여기는 지역변수로 정의된게 없음.\\n    y = 'hh'\\n    print(locals())\\nfoo()\\nprint(x)\",\n",
       " '_i5': 'globals()'}"
      ]
     },
     "execution_count": 5,
     "metadata": {},
     "output_type": "execute_result"
    }
   ],
   "source": [
    "globals()"
   ]
  },
  {
   "cell_type": "code",
   "execution_count": 6,
   "metadata": {},
   "outputs": [
    {
     "name": "stdout",
     "output_type": "stream",
     "text": [
      "hello\n"
     ]
    }
   ],
   "source": [
    "def hello():\n",
    "    h = 'hello'\n",
    "    def hello_sub():\n",
    "        print(h)   #여기선 h = 'hello'가 글로벌 개념\n",
    "    hello_sub()\n",
    "hello()"
   ]
  },
  {
   "cell_type": "code",
   "execution_count": 7,
   "metadata": {},
   "outputs": [
    {
     "name": "stdout",
     "output_type": "stream",
     "text": [
      "10\n"
     ]
    }
   ],
   "source": [
    "def a():\n",
    "    x  = 10\n",
    "    def b():\n",
    "        x = 20\n",
    "    b()\n",
    "    print(x)\n",
    "a()"
   ]
  },
  {
   "cell_type": "code",
   "execution_count": 9,
   "metadata": {},
   "outputs": [
    {
     "name": "stdout",
     "output_type": "stream",
     "text": [
      "20\n"
     ]
    }
   ],
   "source": [
    "def a():\n",
    "    x  = 10\n",
    "    def b():\n",
    "        nonlocal x #이 안에서 x를 정의한걸 쓰지 않겠다.\n",
    "        x = 20\n",
    "    b()\n",
    "    print(x)\n",
    "a()"
   ]
  },
  {
   "cell_type": "code",
   "execution_count": 13,
   "metadata": {},
   "outputs": [
    {
     "name": "stdout",
     "output_type": "stream",
     "text": [
      "50\n",
      "400\n",
      "31\n"
     ]
    }
   ],
   "source": [
    "z = 1\n",
    "def a():\n",
    "    x = 10\n",
    "    y = 100\n",
    "    def b():\n",
    "        x = 20\n",
    "        def c():\n",
    "            nonlocal x #자신에서 가까운걸로 쓴다\n",
    "            nonlocal y\n",
    "            global z\n",
    "            x = x + 30\n",
    "            y = y+300\n",
    "            z = z + 30\n",
    "            print(x)\n",
    "            print(y)\n",
    "            print(z)\n",
    "        c()\n",
    "    b()\n",
    "a()\n"
   ]
  },
  {
   "cell_type": "code",
   "execution_count": 15,
   "metadata": {},
   "outputs": [
    {
     "name": "stdout",
     "output_type": "stream",
     "text": [
      "hi~~ kang\n"
     ]
    }
   ],
   "source": [
    "def my_func():\n",
    "    name = 'kang'\n",
    "    def hello():\n",
    "        print('hi~~', name)\n",
    "    return hello #함수를 리턴\n",
    "a = my_func()\n",
    "\n",
    "a()"
   ]
  },
  {
   "cell_type": "code",
   "execution_count": 16,
   "metadata": {},
   "outputs": [
    {
     "data": {
      "text/plain": [
       "33"
      ]
     },
     "execution_count": 16,
     "metadata": {},
     "output_type": "execute_result"
    }
   ],
   "source": [
    "def cal():\n",
    "    a = 10 #지역변수 - return까지 유효\n",
    "    b = 20\n",
    "    def add_mul(x):\n",
    "        return a + b + x\n",
    "    return add_mul\n",
    "\n",
    "c = cal()\n",
    "c(1)\n",
    "c(3)"
   ]
  },
  {
   "cell_type": "code",
   "execution_count": 17,
   "metadata": {},
   "outputs": [
    {
     "data": {
      "text/plain": [
       "42"
      ]
     },
     "execution_count": 17,
     "metadata": {},
     "output_type": "execute_result"
    }
   ],
   "source": [
    "def cal():\n",
    "    a = 19\n",
    "    b = 20\n",
    "    \n",
    "    return lambda x: a+b+x\n",
    "c = cal()\n",
    "c(1)\n",
    "c(3)"
   ]
  },
  {
   "cell_type": "code",
   "execution_count": 18,
   "metadata": {},
   "outputs": [],
   "source": [
    "#클로져: scope가 끝나는데 내부의 함수가 외부의 변수를 사용할때, 내부함수의 수행이 종료될때까지 외부의 변수가 사라지지 않는거?"
   ]
  },
  {
   "cell_type": "code",
   "execution_count": 19,
   "metadata": {},
   "outputs": [
    {
     "name": "stdout",
     "output_type": "stream",
     "text": [
      "9\n",
      "19\n",
      "30\n"
     ]
    }
   ],
   "source": [
    "def calc():\n",
    "    a = 3\n",
    "    b = 5\n",
    "    total = 0\n",
    "    def mul_add(x):\n",
    "        nonlocal total\n",
    "        total = total + a + x + b\n",
    "        print(total)\n",
    "    return mul_add\n",
    "\n",
    "c = calc()\n",
    "c(1)\n",
    "c(2)\n",
    "c(3)"
   ]
  },
  {
   "cell_type": "markdown",
   "metadata": {},
   "source": [
    "#### 연습문제 \n",
    "\n",
    "호출횟수를 세는 함수 만들기.  c를 호출 할 때마다 호출 횟수가 출력되도록 작성 \n",
    "\n",
    "```\n",
    "def counter():\n",
    "    i = 0\n",
    "    def count():\n",
    "                       \n",
    "        ...\n",
    "                       \n",
    " \n",
    "c = counter()\n",
    "for i in range(10):\n",
    "    print(c(), end=' ')\n",
    "\n",
    "```\n"
   ]
  },
  {
   "cell_type": "code",
   "execution_count": null,
   "metadata": {},
   "outputs": [],
   "source": []
  },
  {
   "cell_type": "code",
   "execution_count": null,
   "metadata": {},
   "outputs": [],
   "source": []
  }
 ],
 "metadata": {
  "kernelspec": {
   "display_name": "Python 3",
   "language": "python",
   "name": "python3"
  },
  "language_info": {
   "codemirror_mode": {
    "name": "ipython",
    "version": 3
   },
   "file_extension": ".py",
   "mimetype": "text/x-python",
   "name": "python",
   "nbconvert_exporter": "python",
   "pygments_lexer": "ipython3",
   "version": "3.7.4"
  }
 },
 "nbformat": 4,
 "nbformat_minor": 1
}
