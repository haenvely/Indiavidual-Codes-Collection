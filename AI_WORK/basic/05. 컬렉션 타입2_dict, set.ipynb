{
 "cells": [
  {
   "cell_type": "markdown",
   "metadata": {},
   "source": [
    "## 학습목표\n",
    " 1. dictionary, set에 대해 이해하고 활용할 수 있다. \n"
   ]
  },
  {
   "cell_type": "markdown",
   "metadata": {},
   "source": [
    "### **dictionary**\n",
    " + 키와 값을 갖는 데이터 구조이다.\n",
    " + 키는 내부적으로 hash값으로 저장된다.\n",
    " + 순서가 없다. 그러므로 인덱스가 존재하지 않는다. \n",
    " \n",
    " - Key와 Value의 쌍 여러 개가 { }로 둘러싸여 있다. \n",
    " - 각각의 요소는 Key : Value 형태로 이루어져 있고 쉼표(,)로 구분되어 있다.\n",
    " \n",
    " ```\n",
    " dict = {} \n",
    " \n",
    " dic22 = {key1:value1, key2:value2,....} \n",
    " ```\n",
    " "
   ]
  },
  {
   "cell_type": "code",
   "execution_count": 2,
   "metadata": {},
   "outputs": [
    {
     "name": "stdout",
     "output_type": "stream",
     "text": [
      "{'name': 'kang', 'age': 20, 'phone': '010-111-1111'}\n",
      "<class 'dict'>\n",
      "kang\n"
     ]
    }
   ],
   "source": [
    "person = {'name':'kang', 'age': 20, 'phone': '010-111-1111'}\n",
    "print(person)\n",
    "print(type(person))\n",
    "print(person['name'])"
   ]
  },
  {
   "cell_type": "code",
   "execution_count": 3,
   "metadata": {},
   "outputs": [
    {
     "name": "stdout",
     "output_type": "stream",
     "text": [
      "{1: 'kang'}\n"
     ]
    },
    {
     "data": {
      "text/plain": [
       "{'a': {1, 2, 3}}"
      ]
     },
     "execution_count": 3,
     "metadata": {},
     "output_type": "execute_result"
    }
   ],
   "source": [
    "dic1 = {1:'kang'}\n",
    "print(dic1)\n",
    "dic2 = {'a': {1,2,3}}\n",
    "dic2"
   ]
  },
  {
   "cell_type": "markdown",
   "metadata": {},
   "source": [
    "+ **딕셔너리 요소 추가 및 변경**\n",
    " - 기존에 키가 존재 하면, 새로운 값으로 업데이트된다.\n",
    " - 존재하지 않으면, 새로운 키, 값 생성된다."
   ]
  },
  {
   "cell_type": "code",
   "execution_count": 5,
   "metadata": {},
   "outputs": [
    {
     "name": "stdout",
     "output_type": "stream",
     "text": [
      "{1: 'a', 2: 'b'}\n",
      "{1: 'c', 2: 'b'}\n",
      "{'name': 'Haein', 'phone': '010-2000-2000', 'type': 'friend'}\n",
      "{'name': 'Haein Oh', 'phone': '010-2000-2000', 'type': 'friend'}\n"
     ]
    }
   ],
   "source": [
    "a = {1:'a'}\n",
    "a[2] = 'b'\n",
    "print(a)\n",
    "a[1] = 'c'\n",
    "print(a)\n",
    "\n",
    "contact = {'name':'Haein', 'phone': '010-2000-2000'}\n",
    "contact['type'] = 'friend'\n",
    "print(contact)\n",
    "contact['name'] = 'Haein Oh'\n",
    "print(contact)"
   ]
  },
  {
   "cell_type": "code",
   "execution_count": 7,
   "metadata": {},
   "outputs": [
    {
     "data": {
      "text/plain": [
       "{1: 'c', 2: 'b', 'person': {'name': 'kim'}}"
      ]
     },
     "execution_count": 7,
     "metadata": {},
     "output_type": "execute_result"
    }
   ],
   "source": [
    "a['person'] = {'name':'kim'}\n",
    "a"
   ]
  },
  {
   "cell_type": "markdown",
   "metadata": {},
   "source": [
    "+ **딕셔너리 요소 삭제**\n",
    "  * del 키워드  \n",
    "    + del a[1]\n",
    "  * pop() 함수\n",
    "    + a.pop('key')"
   ]
  },
  {
   "cell_type": "code",
   "execution_count": 8,
   "metadata": {},
   "outputs": [
    {
     "data": {
      "text/plain": [
       "{2: 'b', 'person': {'name': 'kim'}}"
      ]
     },
     "execution_count": 8,
     "metadata": {},
     "output_type": "execute_result"
    }
   ],
   "source": [
    "del a[1] #키 1을 지우면 값도 같이 삭제됨\n",
    "a"
   ]
  },
  {
   "cell_type": "code",
   "execution_count": 9,
   "metadata": {},
   "outputs": [
    {
     "data": {
      "text/plain": [
       "{'name': 'kim'}"
      ]
     },
     "execution_count": 9,
     "metadata": {},
     "output_type": "execute_result"
    }
   ],
   "source": [
    "a.pop('person') #키를 넣으면 값이 pop됨"
   ]
  },
  {
   "cell_type": "code",
   "execution_count": 10,
   "metadata": {},
   "outputs": [
    {
     "data": {
      "text/plain": [
       "{2: 'b'}"
      ]
     },
     "execution_count": 10,
     "metadata": {},
     "output_type": "execute_result"
    }
   ],
   "source": [
    "a"
   ]
  },
  {
   "cell_type": "code",
   "execution_count": 14,
   "metadata": {},
   "outputs": [
    {
     "name": "stdout",
     "output_type": "stream",
     "text": [
      "{'a': 10, 'b': 20, 'c': 30, 'd': None}\n",
      "{'a': 10, 'b': 20, 'c': 30, 'd': None, 'e': 100}\n",
      "{'a': 10, 'b': 20, 'c': 30, 'd': None, 'e': 100}\n"
     ]
    }
   ],
   "source": [
    "#setdefault()  이용해서 추가하기!! \n",
    "x = {'a':10, 'b':20, 'c':30}\n",
    "x.setdefault('d')  #키를 넣음. 키만 넣은채로도 추가가 가능함!\n",
    "print(x)\n",
    "x.setdefault('e', 100) #키랑 값을 같이 넣을 수 있음\n",
    "print(x)\n",
    "x.setdefault('a', 1000) #setdefault를 이용해서 기존의 키에 값을 넣으면 안바뀜...\n",
    "print(x)"
   ]
  },
  {
   "cell_type": "markdown",
   "metadata": {},
   "source": [
    "+ **update()**\n",
    " * 두 딕셔너리를 병합한다.\n",
    " * 겹치는 키가 있다면 parameter로 전달되는 키 값이 overwrite된다."
   ]
  },
  {
   "cell_type": "code",
   "execution_count": 15,
   "metadata": {},
   "outputs": [
    {
     "name": "stdout",
     "output_type": "stream",
     "text": [
      "{'a': 100, 'b': 200, 'c': 300, 'd': 40, 'e': 500}\n"
     ]
    }
   ],
   "source": [
    "x={'a':10,'b':20,'c':30,'d':40}\n",
    "y ={'a':100,'b':200,'c':300,'e':500}\n",
    "\n",
    "x.update(y) #x를 업데이트 할 건데, y를 이용해서 함\n",
    "print(x) #y를 기준으로 업데이트하고,수정 없는 키값은 그대로, 아예 없는 키값은 아예 추가됨"
   ]
  },
  {
   "cell_type": "code",
   "execution_count": 19,
   "metadata": {},
   "outputs": [
    {
     "name": "stdout",
     "output_type": "stream",
     "text": [
      "{'a': 100, 'b': 20, 'c': 30, 'd': 40}\n",
      "{'a': 1000, 'b': 20, 'c': 30, 'd': 40, 'f': 500}\n"
     ]
    }
   ],
   "source": [
    "x={'a':10,'b':20,'c':30,'d':40}\n",
    "\n",
    "\n",
    "#x.update('a',100) #오류남\n",
    "\n",
    "x.update(a= 100)  #update(키 = 100)\n",
    "print(x)\n",
    "\n",
    "x.update(a=1000, f = 500) #복수의 개도 업데이트 가능\n",
    "print(x)"
   ]
  },
  {
   "cell_type": "code",
   "execution_count": 73,
   "metadata": {},
   "outputs": [
    {
     "data": {
      "text/plain": [
       "{1: 'one', 2: 'TWO', 4: 'FOUR'}"
      ]
     },
     "execution_count": 73,
     "metadata": {},
     "output_type": "execute_result"
    }
   ],
   "source": [
    "y={1:'one',2:'two'}\n",
    "y.update([[2,'TWO'], [4,'FOUR']])   #요로케 리스트 형태로도 가능..\n",
    "y"
   ]
  },
  {
   "cell_type": "code",
   "execution_count": 75,
   "metadata": {},
   "outputs": [
    {
     "name": "stdout",
     "output_type": "stream",
     "text": [
      "[(6, 'SIX'), (7, 'SEVEN')]\n"
     ]
    },
    {
     "data": {
      "text/plain": [
       "{1: 'one', 2: 'TWO', 4: 'FOUR', 6: 'SIX', 7: 'SEVEN'}"
      ]
     },
     "execution_count": 75,
     "metadata": {},
     "output_type": "execute_result"
    }
   ],
   "source": [
    "print(list(zip([6, 7], ['SIX', 'SEVEN'])))\n",
    "y.update(zip([6, 7], ['SIX', 'SEVEN'])) #zip이나 리스트로 추가하기\n",
    "y"
   ]
  },
  {
   "cell_type": "markdown",
   "metadata": {},
   "source": [
    "* **key삭제**\n",
    " - del 키워드 사용\n",
    " - pop 함수 이용"
   ]
  },
  {
   "cell_type": "code",
   "execution_count": 23,
   "metadata": {},
   "outputs": [
    {
     "name": "stdout",
     "output_type": "stream",
     "text": [
      "{'a': 10, 'b': 20, 'c': 30, 'd': 40}\n",
      "{'b': 20, 'c': 30, 'd': 40}\n"
     ]
    },
    {
     "data": {
      "text/plain": [
       "20"
      ]
     },
     "execution_count": 23,
     "metadata": {},
     "output_type": "execute_result"
    }
   ],
   "source": [
    "x = {'a':10 , 'b':20, 'c':30, 'd':40}\n",
    "print(x)\n",
    "\n",
    "del x['a']\n",
    "print(x)\n",
    "\n",
    "x.pop('b')"
   ]
  },
  {
   "cell_type": "code",
   "execution_count": 27,
   "metadata": {},
   "outputs": [
    {
     "data": {
      "text/plain": [
       "{'c': 30, 'd': 40}"
      ]
     },
     "execution_count": 27,
     "metadata": {},
     "output_type": "execute_result"
    }
   ],
   "source": [
    "x"
   ]
  },
  {
   "cell_type": "code",
   "execution_count": 29,
   "metadata": {},
   "outputs": [
    {
     "name": "stdout",
     "output_type": "stream",
     "text": [
      "('d', 40)\n",
      "{'a': 10, 'b': 20, 'c': 30}\n"
     ]
    },
    {
     "ename": "TypeError",
     "evalue": "pop expected at least 1 arguments, got 0",
     "output_type": "error",
     "traceback": [
      "\u001b[1;31m---------------------------------------------------------------------------\u001b[0m",
      "\u001b[1;31mTypeError\u001b[0m                                 Traceback (most recent call last)",
      "\u001b[1;32m<ipython-input-29-0ffb462164b3>\u001b[0m in \u001b[0;36m<module>\u001b[1;34m\u001b[0m\n\u001b[0;32m      3\u001b[0m \u001b[0mprint\u001b[0m\u001b[1;33m(\u001b[0m\u001b[0mx\u001b[0m\u001b[1;33m)\u001b[0m\u001b[1;33m\u001b[0m\u001b[1;33m\u001b[0m\u001b[0m\n\u001b[0;32m      4\u001b[0m \u001b[1;33m\u001b[0m\u001b[0m\n\u001b[1;32m----> 5\u001b[1;33m \u001b[0mprint\u001b[0m\u001b[1;33m(\u001b[0m\u001b[0mx\u001b[0m\u001b[1;33m.\u001b[0m\u001b[0mpop\u001b[0m\u001b[1;33m(\u001b[0m\u001b[1;33m)\u001b[0m\u001b[1;33m)\u001b[0m\u001b[1;33m\u001b[0m\u001b[1;33m\u001b[0m\u001b[0m\n\u001b[0m\u001b[0;32m      6\u001b[0m \u001b[0mprint\u001b[0m\u001b[1;33m(\u001b[0m\u001b[0mx\u001b[0m\u001b[1;33m)\u001b[0m\u001b[1;33m\u001b[0m\u001b[1;33m\u001b[0m\u001b[0m\n",
      "\u001b[1;31mTypeError\u001b[0m: pop expected at least 1 arguments, got 0"
     ]
    }
   ],
   "source": [
    "x = {'a':10 , 'b':20, 'c':30, 'd':40}\n",
    "print(x.popitem()) #마지막 요소가 pop됨\n",
    "print(x)\n",
    "\n",
    "print(x.pop()) #에러남\n",
    "print(x)"
   ]
  },
  {
   "cell_type": "markdown",
   "metadata": {},
   "source": [
    "* **clear()**\n",
    " + 딕셔너리의 모든 키-값 쌍을 삭제한다. \n"
   ]
  },
  {
   "cell_type": "code",
   "execution_count": 30,
   "metadata": {},
   "outputs": [
    {
     "data": {
      "text/plain": [
       "{}"
      ]
     },
     "execution_count": 30,
     "metadata": {},
     "output_type": "execute_result"
    }
   ],
   "source": [
    "x\n",
    "\n",
    "x.clear()\n",
    "\n",
    "x  #키와 값은 모두 날라갔지만 객체는 dictionary임"
   ]
  },
  {
   "cell_type": "markdown",
   "metadata": {},
   "source": [
    "* **in**\n",
    " + key값 존재여부를 확인한다.\n",
    " + O(1) 연산 - 딕셔너리의 크기와 관계없이 항상 연산의 속도가 일정하다는 의미한다."
   ]
  },
  {
   "cell_type": "code",
   "execution_count": 32,
   "metadata": {},
   "outputs": [
    {
     "name": "stdout",
     "output_type": "stream",
     "text": [
      "True\n"
     ]
    }
   ],
   "source": [
    "x = {'a':10, 'b':20, 'c':30}\n",
    "print('a' in x)   #키값 in 딕셔너리"
   ]
  },
  {
   "cell_type": "markdown",
   "metadata": {},
   "source": [
    "* **value access**\n",
    " + dict[key]로 접급, 키가 없는 경우 에러 발생 \n",
    " + .get() 함수로 접근, 키가 없는 경우 None반환"
   ]
  },
  {
   "cell_type": "markdown",
   "metadata": {},
   "source": [
    "#### **모든 keys, values 접근**\n",
    " + keys() - 키만 반환\n",
    " + values() - 값만 반환\n",
    " + items() - 키, 값의 튜플을 반환"
   ]
  },
  {
   "cell_type": "code",
   "execution_count": 33,
   "metadata": {},
   "outputs": [
    {
     "name": "stdout",
     "output_type": "stream",
     "text": [
      "{'a': 10, 'b': 20, 'c': 30, 'd': 40}\n"
     ]
    },
    {
     "data": {
      "text/plain": [
       "dict_keys(['a', 'b', 'c', 'd'])"
      ]
     },
     "execution_count": 33,
     "metadata": {},
     "output_type": "execute_result"
    }
   ],
   "source": [
    "x = {'a':10 , 'b':20, 'c':30, 'd':40}\n",
    "print(x)\n",
    "x.keys()"
   ]
  },
  {
   "cell_type": "code",
   "execution_count": 35,
   "metadata": {},
   "outputs": [
    {
     "name": "stdout",
     "output_type": "stream",
     "text": [
      "dict_values([10, 20, 30, 40])\n"
     ]
    }
   ],
   "source": [
    "print(x.values())"
   ]
  },
  {
   "cell_type": "code",
   "execution_count": 52,
   "metadata": {},
   "outputs": [
    {
     "name": "stdout",
     "output_type": "stream",
     "text": [
      "dict_items([('a', 10), ('b', 20), ('c', 30), ('d', 40)])\n",
      "[('a', 10), ('b', 20), ('c', 30), ('d', 40)]\n"
     ]
    }
   ],
   "source": [
    "print(x.items())\n",
    "print(list(x.items()))"
   ]
  },
  {
   "cell_type": "code",
   "execution_count": 38,
   "metadata": {},
   "outputs": [
    {
     "data": {
      "text/plain": [
       "10"
      ]
     },
     "execution_count": 38,
     "metadata": {},
     "output_type": "execute_result"
    }
   ],
   "source": [
    "x.get('a')"
   ]
  },
  {
   "cell_type": "code",
   "execution_count": 39,
   "metadata": {},
   "outputs": [
    {
     "data": {
      "text/plain": [
       "10"
      ]
     },
     "execution_count": 39,
     "metadata": {},
     "output_type": "execute_result"
    }
   ],
   "source": [
    "x['a']"
   ]
  },
  {
   "cell_type": "code",
   "execution_count": 40,
   "metadata": {},
   "outputs": [
    {
     "ename": "KeyError",
     "evalue": "'f'",
     "output_type": "error",
     "traceback": [
      "\u001b[1;31m---------------------------------------------------------------------------\u001b[0m",
      "\u001b[1;31mKeyError\u001b[0m                                  Traceback (most recent call last)",
      "\u001b[1;32m<ipython-input-40-92aaf69c03c3>\u001b[0m in \u001b[0;36m<module>\u001b[1;34m\u001b[0m\n\u001b[1;32m----> 1\u001b[1;33m \u001b[0mx\u001b[0m\u001b[1;33m[\u001b[0m\u001b[1;34m'f'\u001b[0m\u001b[1;33m]\u001b[0m\u001b[1;33m\u001b[0m\u001b[1;33m\u001b[0m\u001b[0m\n\u001b[0m",
      "\u001b[1;31mKeyError\u001b[0m: 'f'"
     ]
    }
   ],
   "source": [
    "x['f']"
   ]
  },
  {
   "cell_type": "code",
   "execution_count": 44,
   "metadata": {},
   "outputs": [
    {
     "name": "stdout",
     "output_type": "stream",
     "text": [
      "None\n",
      "10\n",
      "100\n"
     ]
    }
   ],
   "source": [
    "print(x.get('f'))\n",
    "\n",
    "#값이 없다면 뒤의 값을 return해줌\n",
    "#값이 있다면 원래 키값을 return해줌\n",
    "print(x.get('a',100))\n",
    "print(x.get('f',100))"
   ]
  },
  {
   "cell_type": "markdown",
   "metadata": {},
   "source": [
    "### **리스트와 튜플로 딕셔너리 만들기**\n"
   ]
  },
  {
   "cell_type": "code",
   "execution_count": 46,
   "metadata": {},
   "outputs": [
    {
     "name": "stdout",
     "output_type": "stream",
     "text": [
      "{'a': None, 'b': None, 'c': None, 'd': None}\n",
      "{'a': 100, 'b': 100, 'c': 100, 'd': 100}\n"
     ]
    }
   ],
   "source": [
    "keys = ['a','b','c','d']\n",
    "dict1 = dict.fromkeys(keys) #값이 none인 dictionary 생성\n",
    "print(dict1)\n",
    "\n",
    "dict2 = dict.fromkeys(keys, 100) #none이 아닌 100으로 줘서 생성\n",
    "print(dict2)"
   ]
  },
  {
   "cell_type": "code",
   "execution_count": 50,
   "metadata": {},
   "outputs": [
    {
     "name": "stdout",
     "output_type": "stream",
     "text": [
      "{'brown': 3, 'gray': 7}\n",
      "{'brown': 3, 'gray': 7}\n"
     ]
    }
   ],
   "source": [
    "#딕셔너리 생성 두가지 문법\n",
    "dict2 = dict([('brown',3),('gray',7)]) #([('키':값), ('키':값), ('키':값)])\n",
    "print(dict2)\n",
    "\n",
    "dict3 = dict(brown = 3, gray = 7) #(키 = 값, 키 = 값)\n",
    "print(dict3)"
   ]
  },
  {
   "cell_type": "code",
   "execution_count": 53,
   "metadata": {},
   "outputs": [
    {
     "name": "stdout",
     "output_type": "stream",
     "text": [
      "a b c d \n",
      "a 10 b 20 c 30 d 40 "
     ]
    }
   ],
   "source": [
    "x = {'a':10 , 'b':20, 'c':30, 'd':40}\n",
    "\n",
    "#x의 키 중에 i가 있는지를 반복\n",
    "for i in x :\n",
    "    print(i, end = ' ')\n",
    "print()\n",
    "\n",
    "for key,value in x.items():\n",
    "    print(key, value, end = ' ')\n"
   ]
  },
  {
   "cell_type": "markdown",
   "metadata": {},
   "source": [
    "### **set**\n",
    " + dictionary에서 key만 활용하는 데이터 구조이다.\n",
    " + 수학에서의 집합과 동일한 개념이다.\n",
    " + 파이썬 2.3부터 지원된 자료형으로 집합에 관련된 것을 쉽게 처리한다.\n",
    " + set 키워드를 이용해서 만들 수 있다. \n",
    " + 빈 set 을 만드는 방법은 set() 을 이용한다. \n",
    " + 특징\n",
    "     - 중복을 허용하지 않는다. \n",
    "     - 순서가 없다. (리스트는 중복과 순서가 둘다 허용된다)"
   ]
  },
  {
   "cell_type": "code",
   "execution_count": 54,
   "metadata": {},
   "outputs": [
    {
     "data": {
      "text/plain": [
       "{1, 3, 4, 5, 6, 9}"
      ]
     },
     "execution_count": 54,
     "metadata": {},
     "output_type": "execute_result"
    }
   ],
   "source": [
    "a = {1,1,3,4,5,6,6,6,6,4,9,9} #시간복잡도 O(1)\n",
    "a  #중복 ㄷㅏ 날라감"
   ]
  },
  {
   "cell_type": "markdown",
   "metadata": {},
   "source": [
    "* **set()으로 집합으로 변환**"
   ]
  },
  {
   "cell_type": "code",
   "execution_count": 55,
   "metadata": {
    "scrolled": true
   },
   "outputs": [
    {
     "name": "stdout",
     "output_type": "stream",
     "text": [
      "[1, 1, 3, 4, 5, 6, 6, 6, 6, 4, 9, 9]\n",
      "{1, 3, 4, 5, 6, 9}\n"
     ]
    }
   ],
   "source": [
    "a = [1,1,3,4,5,6,6,6,6,4,9,9]\n",
    "print(a)\n",
    "\n",
    "#리스트에서 중복을 쉽게 제거하고싶다?\n",
    "b = set(a)\n",
    "print(b)"
   ]
  },
  {
   "cell_type": "code",
   "execution_count": 56,
   "metadata": {},
   "outputs": [
    {
     "data": {
      "text/plain": [
       "{'e', 'h', 'l', 'o'}"
      ]
     },
     "execution_count": 56,
     "metadata": {},
     "output_type": "execute_result"
    }
   ],
   "source": [
    "s = set('hello')  #순서는 들어온 순서와 관계 없음ㅠ, 문자열도 중복 다 날라감\n",
    "s"
   ]
  },
  {
   "cell_type": "markdown",
   "metadata": {},
   "source": [
    "+ **set operations**\n",
    " - 수학 연산과 동일하다.\n",
    " - 교집합, 합집합, 차집합 등 지원한다."
   ]
  },
  {
   "cell_type": "code",
   "execution_count": 59,
   "metadata": {},
   "outputs": [
    {
     "name": "stdout",
     "output_type": "stream",
     "text": [
      "{1, 2, 3, 4}\n",
      "{1}\n",
      "{4}\n",
      "{2, 3}\n"
     ]
    }
   ],
   "source": [
    "a = {1,2,3}\n",
    "b = {2,3,4}\n",
    "\n",
    "print(a.union(b)) #합집합\n",
    "print(a.difference(b)) #차집합\n",
    "print(b.difference(a)) #차집합\n",
    "print(a.intersection(b)) #교집합"
   ]
  },
  {
   "cell_type": "code",
   "execution_count": 60,
   "metadata": {},
   "outputs": [
    {
     "name": "stdout",
     "output_type": "stream",
     "text": [
      "{2, 3}\n",
      "{1, 2, 3, 4}\n",
      "{1}\n"
     ]
    }
   ],
   "source": [
    "print(a & b) #교집합\n",
    "print( a | b) #합집합\n",
    "print(a-b) #차집합"
   ]
  },
  {
   "cell_type": "markdown",
   "metadata": {},
   "source": [
    "+ **set 값 추가 제거 하기**"
   ]
  },
  {
   "cell_type": "code",
   "execution_count": 61,
   "metadata": {},
   "outputs": [
    {
     "data": {
      "text/plain": [
       "{1, 2, 3, 4}"
      ]
     },
     "execution_count": 61,
     "metadata": {},
     "output_type": "execute_result"
    }
   ],
   "source": [
    "s1 = {1,2,3}\n",
    "s1.add(4)\n",
    "s1"
   ]
  },
  {
   "cell_type": "code",
   "execution_count": 62,
   "metadata": {},
   "outputs": [
    {
     "data": {
      "text/plain": [
       "{1, 2, 3, 4, 5, 6}"
      ]
     },
     "execution_count": 62,
     "metadata": {},
     "output_type": "execute_result"
    }
   ],
   "source": [
    " #여러개 추가\n",
    "s1.update([4,5,6])\n",
    "s1"
   ]
  },
  {
   "cell_type": "code",
   "execution_count": 63,
   "metadata": {},
   "outputs": [
    {
     "data": {
      "text/plain": [
       "{2, 3, 4, 5, 6}"
      ]
     },
     "execution_count": 63,
     "metadata": {},
     "output_type": "execute_result"
    }
   ],
   "source": [
    "s1.remove(1)\n",
    "s1"
   ]
  }
 ],
 "metadata": {
  "kernelspec": {
   "display_name": "Python 3",
   "language": "python",
   "name": "python3"
  },
  "language_info": {
   "codemirror_mode": {
    "name": "ipython",
    "version": 3
   },
   "file_extension": ".py",
   "mimetype": "text/x-python",
   "name": "python",
   "nbconvert_exporter": "python",
   "pygments_lexer": "ipython3",
   "version": "3.7.4"
  }
 },
 "nbformat": 4,
 "nbformat_minor": 1
}
