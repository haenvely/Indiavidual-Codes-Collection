{
 "cells": [
  {
   "cell_type": "markdown",
   "metadata": {},
   "source": [
    "### 학습목표\n",
    "1. 문자열 이해하기"
   ]
  },
  {
   "cell_type": "markdown",
   "metadata": {},
   "source": [
    "### **string (문자열)**\n",
    " - 문자 여러개가 순서대로 나열 된 것\n",
    " - 문자열은 '(작은따옴표) 혹은 \"(큰따옴표) 사이에 문자를 넣어서 생성\n",
    " - **''' '''** 사용하여 표현 가능\n",
    " \n",
    "     - '', \"\" -> 한줄 문자열 표현\n",
    "     - ''' ''' -> 어려줄에 걸쳐 문자열 표현 가능"
   ]
  },
  {
   "cell_type": "code",
   "execution_count": 1,
   "metadata": {},
   "outputs": [
    {
     "ename": "SyntaxError",
     "evalue": "EOL while scanning string literal (<ipython-input-1-6c6224c7930e>, line 3)",
     "output_type": "error",
     "traceback": [
      "\u001b[1;36m  File \u001b[1;32m\"<ipython-input-1-6c6224c7930e>\"\u001b[1;36m, line \u001b[1;32m3\u001b[0m\n\u001b[1;33m    c = 'Hello\u001b[0m\n\u001b[1;37m              ^\u001b[0m\n\u001b[1;31mSyntaxError\u001b[0m\u001b[1;31m:\u001b[0m EOL while scanning string literal\n"
     ]
    }
   ],
   "source": [
    "a = 'HELLO WORLD'\n",
    "b = \"hello 'World'!!\"\n",
    "c = 'Hello  \n",
    "\n",
    "world' #여러줄 안됨\n",
    "\n",
    "print(a)\n",
    "print(b)\n",
    "print(c)"
   ]
  },
  {
   "cell_type": "code",
   "execution_count": 5,
   "metadata": {},
   "outputs": [
    {
     "name": "stdout",
     "output_type": "stream",
     "text": [
      "Hello\n",
      "\n",
      "world\n",
      "\n"
     ]
    }
   ],
   "source": [
    "c = '''Hello\n",
    "\n",
    "world\n",
    "'''\n",
    "#여러줄 가능\n",
    "print(c)"
   ]
  },
  {
   "cell_type": "markdown",
   "metadata": {},
   "source": [
    "#### **escape string** \n",
    "* 문자열내의 일부 문자의 의미를 달리하여 `특정한 효과`를 주는 것\n",
    "* `\\n` : new line `\\t` : tab 등\n",
    "\n"
   ]
  },
  {
   "cell_type": "code",
   "execution_count": 7,
   "metadata": {},
   "outputs": [
    {
     "name": "stdout",
     "output_type": "stream",
     "text": [
      "nnn\n",
      "nn\n",
      "n\n"
     ]
    }
   ],
   "source": [
    "print('nnn')\n",
    "print('nn\\nn')"
   ]
  },
  {
   "cell_type": "markdown",
   "metadata": {},
   "source": [
    "#### **indexing & slicing string **\n",
    "  - 문자열의 각 문자는 순서가 있는데, 이 순서를 **인덱스** 라고 한다.\n",
    "  - 첫번째 시작문자의 순서는 0으로 시작"
   ]
  },
  {
   "cell_type": "markdown",
   "metadata": {},
   "source": []
  },
  {
   "cell_type": "markdown",
   "metadata": {},
   "source": [
    "#### **-1 인덱스**\n",
    "  - python의 경우 음수 인덱스를 지원한다.\n",
    "  - -1이 가장 마지막 인덱스를, -2가 마지막에서 두번째 인덱스를 의미한다."
   ]
  },
  {
   "cell_type": "code",
   "execution_count": 8,
   "metadata": {},
   "outputs": [
    {
     "name": "stdout",
     "output_type": "stream",
     "text": [
      "h\n",
      "o\n"
     ]
    }
   ],
   "source": [
    "a = 'hello world'\n",
    "print(a[0])\n",
    "print(a[4])"
   ]
  },
  {
   "cell_type": "markdown",
   "metadata": {},
   "source": [
    "#### **인덱스의 범위**\n",
    "  - 인덱스는 [0, 문자열의 길이) 의 범위만 유효하다.\n",
    "  - 음수 인덱스를 사용할 경우, [-문자열의 길이, -1]\n",
    "  - 범위를 넘어갈 경우 에러 발생한다."
   ]
  },
  {
   "cell_type": "code",
   "execution_count": 9,
   "metadata": {},
   "outputs": [
    {
     "name": "stdout",
     "output_type": "stream",
     "text": [
      "d\n"
     ]
    },
    {
     "ename": "IndexError",
     "evalue": "string index out of range",
     "output_type": "error",
     "traceback": [
      "\u001b[1;31m---------------------------------------------------------------------------\u001b[0m",
      "\u001b[1;31mIndexError\u001b[0m                                Traceback (most recent call last)",
      "\u001b[1;32m<ipython-input-9-a8884e70ffc3>\u001b[0m in \u001b[0;36m<module>\u001b[1;34m\u001b[0m\n\u001b[0;32m      1\u001b[0m \u001b[0mprint\u001b[0m\u001b[1;33m(\u001b[0m\u001b[0ma\u001b[0m\u001b[1;33m[\u001b[0m\u001b[1;33m-\u001b[0m\u001b[1;36m1\u001b[0m\u001b[1;33m]\u001b[0m\u001b[1;33m)\u001b[0m\u001b[1;33m\u001b[0m\u001b[1;33m\u001b[0m\u001b[0m\n\u001b[1;32m----> 2\u001b[1;33m \u001b[0mprint\u001b[0m\u001b[1;33m(\u001b[0m\u001b[0ma\u001b[0m\u001b[1;33m[\u001b[0m\u001b[1;33m-\u001b[0m\u001b[1;36m20\u001b[0m\u001b[1;33m]\u001b[0m\u001b[1;33m)\u001b[0m\u001b[1;33m\u001b[0m\u001b[1;33m\u001b[0m\u001b[0m\n\u001b[0m",
      "\u001b[1;31mIndexError\u001b[0m: string index out of range"
     ]
    }
   ],
   "source": [
    "print(a[-1])\n",
    "print(a[-20])"
   ]
  },
  {
   "cell_type": "markdown",
   "metadata": {},
   "source": [
    "#### **문자열 slicing**\n",
    "  - slicing은 부분 문자열을 추출한다.\n",
    "  - [시작:끝]와 같이 명시하여 (시작, 끝)에 해당하는 부분 문자열을 추출한다.\n",
    "  - 시작, 끝 인덱스가 생략이 되어 있다면, 0부터 혹은 끝까지로 간주한다."
   ]
  },
  {
   "cell_type": "code",
   "execution_count": 10,
   "metadata": {},
   "outputs": [
    {
     "name": "stdout",
     "output_type": "stream",
     "text": [
      "hel\n"
     ]
    }
   ],
   "source": [
    "print(a[0:3])"
   ]
  },
  {
   "cell_type": "code",
   "execution_count": 11,
   "metadata": {},
   "outputs": [
    {
     "data": {
      "text/plain": [
       "'hello'"
      ]
     },
     "execution_count": 11,
     "metadata": {},
     "output_type": "execute_result"
    }
   ],
   "source": [
    "a[0:5]"
   ]
  },
  {
   "cell_type": "code",
   "execution_count": 12,
   "metadata": {},
   "outputs": [
    {
     "data": {
      "text/plain": [
       "'hello world'"
      ]
     },
     "execution_count": 12,
     "metadata": {},
     "output_type": "execute_result"
    }
   ],
   "source": [
    "a"
   ]
  },
  {
   "cell_type": "code",
   "execution_count": 13,
   "metadata": {},
   "outputs": [
    {
     "data": {
      "text/plain": [
       "'hello'"
      ]
     },
     "execution_count": 13,
     "metadata": {},
     "output_type": "execute_result"
    }
   ],
   "source": [
    "b = a[0:5]\n",
    "b"
   ]
  },
  {
   "cell_type": "code",
   "execution_count": 14,
   "metadata": {},
   "outputs": [
    {
     "data": {
      "text/plain": [
       "'hello world'"
      ]
     },
     "execution_count": 14,
     "metadata": {},
     "output_type": "execute_result"
    }
   ],
   "source": [
    "a[:]"
   ]
  },
  {
   "cell_type": "code",
   "execution_count": 15,
   "metadata": {},
   "outputs": [
    {
     "data": {
      "text/plain": [
       "'lo world'"
      ]
     },
     "execution_count": 15,
     "metadata": {},
     "output_type": "execute_result"
    }
   ],
   "source": [
    "a[3:] #3번째 자리부터"
   ]
  },
  {
   "cell_type": "code",
   "execution_count": 16,
   "metadata": {},
   "outputs": [
    {
     "data": {
      "text/plain": [
       "'hello'"
      ]
     },
     "execution_count": 16,
     "metadata": {},
     "output_type": "execute_result"
    }
   ],
   "source": [
    "a[:5] #4번까지"
   ]
  },
  {
   "cell_type": "code",
   "execution_count": 17,
   "metadata": {},
   "outputs": [
    {
     "data": {
      "text/plain": [
       "'hello '"
      ]
     },
     "execution_count": 17,
     "metadata": {},
     "output_type": "execute_result"
    }
   ],
   "source": [
    "a[:6] #5번까지"
   ]
  },
  {
   "cell_type": "markdown",
   "metadata": {},
   "source": [
    "#### **문자열 함수**\n",
    "  - 문자열은 여러가지 기능 제공을 위한 함수를 내장하고 있다.   \n",
    "  - `tab`키를 이용해서 제공하는 함수들을 확인 할 수 있다. "
   ]
  },
  {
   "cell_type": "code",
   "execution_count": 18,
   "metadata": {},
   "outputs": [
    {
     "data": {
      "text/plain": [
       "'HELLO WORLD!'"
      ]
     },
     "execution_count": 18,
     "metadata": {},
     "output_type": "execute_result"
    }
   ],
   "source": [
    "a = 'hello world!'\n",
    "a.upper()"
   ]
  },
  {
   "cell_type": "markdown",
   "metadata": {},
   "source": [
    "* **replace** \n",
    " - 문자열 내의 특정 문자를 치환"
   ]
  },
  {
   "cell_type": "code",
   "execution_count": 20,
   "metadata": {},
   "outputs": [
    {
     "name": "stdout",
     "output_type": "stream",
     "text": [
      "HELLO PYTHON\n"
     ]
    },
    {
     "data": {
      "text/plain": [
       "'hejjo worjd!'"
      ]
     },
     "execution_count": 20,
     "metadata": {},
     "output_type": "execute_result"
    }
   ],
   "source": [
    "print('hello python'.upper())\n",
    "a = a.replace('l', 'j')\n",
    "a"
   ]
  },
  {
   "cell_type": "markdown",
   "metadata": {},
   "source": [
    "###### translate 기능"
   ]
  },
  {
   "cell_type": "code",
   "execution_count": 22,
   "metadata": {},
   "outputs": [
    {
     "name": "stdout",
     "output_type": "stream",
     "text": [
      "Kyle Kyle hehehe hihihi\n",
      "1ppl2\n"
     ]
    }
   ],
   "source": [
    "#replace 문자열 바꾸기\n",
    "name = 'haein haein hehehe hihihi'\n",
    "name2 = name.replace('haein', 'Kyle')\n",
    "print(name2)\n",
    "\n",
    "#문자 바꾸기\n",
    "table = str.maketrans('aeiou', '12345')\n",
    "print('apple'.translate(table))"
   ]
  },
  {
   "cell_type": "markdown",
   "metadata": {},
   "source": [
    "* **format**\n",
    " - 문자열내의 특정한 값을 변수로부터 초기화하여 동적으로 문자열을 생성 "
   ]
  },
  {
   "cell_type": "code",
   "execution_count": 25,
   "metadata": {},
   "outputs": [
    {
     "name": "stdout",
     "output_type": "stream",
     "text": [
      "오늘 기온4.2도 이고, 비올 확률은 20.0%입니다.\n"
     ]
    }
   ],
   "source": [
    "temperature = 4.2\n",
    "probability = 20.0\n",
    "\n",
    "a = '오늘 기온{}도 이고, 비올 확률은 {}%입니다.'.format(temperature, probability)\n",
    "print(a)"
   ]
  },
  {
   "cell_type": "code",
   "execution_count": 27,
   "metadata": {},
   "outputs": [
    {
     "name": "stdout",
     "output_type": "stream",
     "text": [
      "haein!\n",
      "hello, haein!\n"
     ]
    }
   ],
   "source": [
    "print('hello, {}'.format(input()))"
   ]
  },
  {
   "cell_type": "code",
   "execution_count": 30,
   "metadata": {},
   "outputs": [
    {
     "name": "stdout",
     "output_type": "stream",
     "text": [
      "hello, python, 11, Haein\n",
      "hello, python, Haein, python\n"
     ]
    }
   ],
   "source": [
    "print('hello, {0}, {2}, {1}'.format('python', 'Haein', 11)) #인덱스를 부여할 수 있다\n",
    "print('hello, {0}, {1}, {0}'.format('python', 'Haein'))"
   ]
  },
  {
   "cell_type": "code",
   "execution_count": 33,
   "metadata": {},
   "outputs": [
    {
     "name": "stdout",
     "output_type": "stream",
     "text": [
      "Hello 4.2\n"
     ]
    }
   ],
   "source": [
    "#format에 변수를 바로 직접 넣고 싶을 때\n",
    "print(f'Hello',temperature)"
   ]
  },
  {
   "cell_type": "code",
   "execution_count": 34,
   "metadata": {},
   "outputs": [
    {
     "name": "stdout",
     "output_type": "stream",
     "text": [
      "139,439\n"
     ]
    }
   ],
   "source": [
    "print(format(139439,','))"
   ]
  },
  {
   "cell_type": "markdown",
   "metadata": {},
   "source": [
    "* **split**\n",
    " - 문자열을 특정한 문자 구분하여(delimiter) 문자열의 리스트로 치환"
   ]
  },
  {
   "cell_type": "code",
   "execution_count": 35,
   "metadata": {},
   "outputs": [
    {
     "name": "stdout",
     "output_type": "stream",
     "text": [
      "['hello', 'world', 'what', 'a', 'nice', 'weather']\n",
      "['hello ', 'orld ', 'hat a nice ', 'eather']\n"
     ]
    }
   ],
   "source": [
    "a = 'hello world what a nice weather'\n",
    "print(a.split())\n",
    "print(a.split('w'))"
   ]
  },
  {
   "cell_type": "code",
   "execution_count": 1,
   "metadata": {},
   "outputs": [
    {
     "name": "stdout",
     "output_type": "stream",
     "text": [
      "['apple', 'pear', 'grape', 'pineapple', 'orange']\n",
      "['apple', ' pear', ' grape', ' pineapple', ' orange']\n"
     ]
    }
   ],
   "source": [
    "#문자열 분리하기  split()\n",
    "result = 'apple pear grape pineapple orange'.split() \n",
    "print(result) \n",
    "result = 'apple, pear, grape, pineapple, orange'.split(',') \n",
    "print(result)"
   ]
  },
  {
   "cell_type": "code",
   "execution_count": 37,
   "metadata": {},
   "outputs": [
    {
     "name": "stdout",
     "output_type": "stream",
     "text": [
      "10 20\n",
      "10\n",
      "20\n"
     ]
    }
   ],
   "source": [
    "a, b = input().split()\n",
    "\n",
    "print(a)\n",
    "print(b)"
   ]
  },
  {
   "cell_type": "markdown",
   "metadata": {},
   "source": [
    "* **join**\n",
    "    - 구분자 문자열과 문자열 리스트 연결하기"
   ]
  },
  {
   "cell_type": "code",
   "execution_count": 5,
   "metadata": {},
   "outputs": [
    {
     "name": "stdout",
     "output_type": "stream",
     "text": [
      "apple  pear  grape  pineapple  orange <class 'str'>\n",
      "apple.pear.grape.pineapple.orange <class 'str'>\n"
     ]
    }
   ],
   "source": [
    "#구분자 문자열과 문자열 리스트 연결하기  join\n",
    "joinstr = ' '.join(result)\n",
    "print(joinstr, type(joinstr))\n",
    "joinstr_list = '.'.join(['apple', 'pear', 'grape', 'pineapple', 'orange'])\n",
    "print(joinstr_list, type(joinstr_list))"
   ]
  },
  {
   "cell_type": "raw",
   "metadata": {},
   "source": [
    "* **공백삭제**"
   ]
  },
  {
   "cell_type": "code",
   "execution_count": 7,
   "metadata": {},
   "outputs": [
    {
     "name": "stdout",
     "output_type": "stream",
     "text": [
      "python\n",
      "              python\n",
      "python              \n"
     ]
    }
   ],
   "source": [
    "print('              python              '.strip())\n",
    "print('              python              '.rstrip())\n",
    "print('              python              '.lstrip())"
   ]
  },
  {
   "cell_type": "markdown",
   "metadata": {},
   "source": [
    "* **특정문자삭제**"
   ]
  },
  {
   "cell_type": "code",
   "execution_count": 11,
   "metadata": {},
   "outputs": [
    {
     "name": "stdout",
     "output_type": "stream",
     "text": [
      "    . ,         python    ,    .,      \n",
      "    . ,         python    ,    .,      \n",
      "    . ,         python    ,    .,      \n",
      "python\n",
      "    . ,         python\n",
      "python    ,    .,      \n"
     ]
    }
   ],
   "source": [
    "print('    . ,         python    ,    .,      '.strip(',.'))\n",
    "print('    . ,         python    ,    .,      '.rstrip(',.'))\n",
    "print('    . ,         python    ,    .,      '.lstrip(',.')) #공백 안넣어주면 안됨..\n",
    "print('    . ,         python    ,    .,      '.strip(' ,.'))\n",
    "print('    . ,         python    ,    .,      '.rstrip(' ,.'))\n",
    "print('    . ,         python    ,    .,      '.lstrip(' ,.'))"
   ]
  },
  {
   "cell_type": "code",
   "execution_count": 18,
   "metadata": {},
   "outputs": [
    {
     "name": "stdout",
     "output_type": "stream",
     "text": [
      "python\n",
      "       .@%&&*python\n",
      "python\n",
      "python    \n",
      "    python\n",
      "  python  \n",
      "    PYTHON\n",
      "13\n",
      "-1\n",
      "15\n",
      "13\n",
      "2\n",
      "5\n"
     ]
    }
   ],
   "source": [
    "#구두점을 간단하게 삭제하기    \n",
    "import string\n",
    "string.punctuation\n",
    "\n",
    "print('.@%&&*python\\;<='.strip(string.punctuation)) #python만 남음\n",
    "print('       .@%&&*python\\;<='.strip(string.punctuation)) #python 오른쪽만 날라감\n",
    "print('.@%&&*python\\;<='.strip(string.punctuation)) #python만 남음\n",
    "\n",
    "\n",
    "#문자열 왼쪽 정렬하기\n",
    "print('python'.ljust(10)) #10자리를 기준으로 왼쪽 정렬\n",
    "print('python'.rjust(10)) #10자리를 오른쪽 정렬\n",
    "print('python'.center(10)) #10자리를 중간 정렬\n",
    "\n",
    "\n",
    "#메서드체이닝\n",
    "print('python'.rjust(10).upper()) #메서드를 여러개 붙여서 사용가능하다\n",
    "\n",
    "\n",
    "#문자열 위치찾기  find, rfind, index, rindex\n",
    "print('python hello hahah'.find('ha')) #index 리턴\n",
    "print('python hello hahah'.find('xi')) #찾는 문자가 없을 경우 -1 리턴\n",
    "print('python hello hahah'.rfind('ha')) #오른쪽부터 찾아서 index 리턴\n",
    "print('python hello hahah'.index('ha')) #find와 같은 값 리턴하지만, 없을경우 ValueError 리턴\n",
    "\n",
    "#문자열개수세기\n",
    "print('python hello hahah'.count('ha'))\n",
    "print('python hello hahah'.count('h'))\n"
   ]
  },
  {
   "cell_type": "code",
   "execution_count": 23,
   "metadata": {},
   "outputs": [
    {
     "name": "stdout",
     "output_type": "stream",
     "text": [
      "True\n",
      "True\n",
      "False\n",
      "True\n",
      "False\n",
      "True\n",
      "True\n",
      "True\n",
      "hihihi\n"
     ]
    }
   ],
   "source": [
    "#비교연산  is: 같은 객체인   is not: 같은 객체가 아닌..  x or y , x and y , not x\n",
    "str1 = 'a'\n",
    "str2 = 'a'\n",
    "\n",
    "print(str1 == str2) #a의 값과 b의 값을 비교\n",
    "print(str1 is str2) #a와 b의 객체가 같은지를 비교(객체를 비교..값이 똑같더라도 다른 객체면 false)\n",
    "print(str1 is not str2)\n",
    "\n",
    "str3 = 'atest hah'\n",
    "str4 = 'atest hah'\n",
    "\n",
    "print(str3 == str4) \n",
    "print(str3 is str4) #비교\n",
    "print(str3 is not str4)\n",
    "\n",
    "#문자열 타입\n",
    "\n",
    "#데이터가 여러 문자로 구성되어 있고 다른 문자와 연결될 수 있으며 데이터에 포함된 문자열의 길이를 확인 할 수 있는 데이터 타입\n",
    "\n",
    "#파이썬에서 문자열 데이터 타입은 str  여러줄로 표현할때는 ''' '''  또는 \"\"\" \"\"\"\n",
    "\n",
    "print('python'.startswith('p'))\n",
    "print('python hahah'.endswith('h'))\n",
    "\n",
    "print('hi'*3)"
   ]
  },
  {
   "cell_type": "markdown",
   "metadata": {},
   "source": [
    "https://docs.python.org/3/library/stdtypes.html"
   ]
  },
  {
   "cell_type": "code",
   "execution_count": 26,
   "metadata": {},
   "outputs": [
    {
     "name": "stdout",
     "output_type": "stream",
     "text": [
      "carami 2138879113200\n",
      "kang 2138879112432\n",
      "KANG 2138879098672\n",
      "['carami'] 2138879066312\n",
      "['kang'] 2138879066312\n"
     ]
    }
   ],
   "source": [
    "#변할 수 없는 (immutable) vs 변할 수 있는 (mutabel)\n",
    "#<immutable>: str, int, float 등\n",
    "name = 'carami'\n",
    "print(name, id(name))\n",
    "name = 'kang'\n",
    "print(name, id(name))  #새로운 객체가 만들어짐. 아이디가 달라진다\n",
    "name = name.upper()\n",
    "print(name, id(name)) #새로운 객체가 또 생성\n",
    "\n",
    "#<mutable> : list, dictionary, array 등의 클래스 오브젝트들\n",
    "name_list = ['carami']\n",
    "print(name_list, id(name_list))\n",
    "name_list[0] = 'kang'\n",
    "print(name_list, id(name_list)) #같은 객체에 값만 바뀌었을 뿐이라서!!아이디 유지됨"
   ]
  }
 ],
 "metadata": {
  "kernelspec": {
   "display_name": "Python 3",
   "language": "python",
   "name": "python3"
  },
  "language_info": {
   "codemirror_mode": {
    "name": "ipython",
    "version": 3
   },
   "file_extension": ".py",
   "mimetype": "text/x-python",
   "name": "python",
   "nbconvert_exporter": "python",
   "pygments_lexer": "ipython3",
   "version": "3.7.4"
  }
 },
 "nbformat": 4,
 "nbformat_minor": 1
}
