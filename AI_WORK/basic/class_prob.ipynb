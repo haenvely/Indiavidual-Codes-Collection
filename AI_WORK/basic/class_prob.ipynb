{
 "cells": [
  {
   "cell_type": "markdown",
   "metadata": {},
   "source": [
    "1. 다음의 조건을 만족하는 Point라는 클래스를 작성하세요.\n",
    "\n",
    "  - Point 클래스는 생성자를 통해 (x, y) 좌표를 입력받는다.\n",
    "  - setX(x), setY(y) 메서드를 통해 x 좌표와 y 좌표를 따로 입력받을 수도 있다.\n",
    "  - getInfo() 메서드를 호출하면 튜플로 구성된 (x, y) 좌표를 반환한다.\n",
    "  - move(x, y) 메서드는 현재 좌표를 x, y만큼 이동시킨다.\n",
    "  - 모든 메서드는 인스턴스 메서드다."
   ]
  },
  {
   "cell_type": "code",
   "execution_count": 5,
   "metadata": {},
   "outputs": [
    {
     "data": {
      "text/plain": [
       "(5, 3)"
      ]
     },
     "execution_count": 5,
     "metadata": {},
     "output_type": "execute_result"
    }
   ],
   "source": [
    "class Point:\n",
    "    def __init__(self, x, y):\n",
    "        self.x = x\n",
    "        self.y = y\n",
    "    def setX(self, x):\n",
    "        self.x = x\n",
    "    def setY(self, y):\n",
    "        self.y = y\n",
    "    \n",
    "    def move(self, x, y):\n",
    "        self.x = self.x + x\n",
    "        self.y = self.y + y\n",
    "    \n",
    "    def getInfo(self):\n",
    "        return (self.x, self.y)\n"
   ]
  },
  {
   "cell_type": "markdown",
   "metadata": {},
   "source": [
    "2. 문제 1에서 생성한 Point 클래스에 대한 인스턴스를 생성한 각 각 메서드를 사용하는 코드를 작성하세요."
   ]
  },
  {
   "cell_type": "code",
   "execution_count": 6,
   "metadata": {},
   "outputs": [
    {
     "data": {
      "text/plain": [
       "(5, 3)"
      ]
     },
     "execution_count": 6,
     "metadata": {},
     "output_type": "execute_result"
    }
   ],
   "source": [
    "point = Point(10, 12)\n",
    "point.getInfo()\n",
    "point.move(2,5)\n",
    "point.getInfo()\n",
    "\n",
    "point.setX(5)\n",
    "point.getInfo()\n",
    "\n",
    "point.setY(3)\n",
    "point.getInfo()"
   ]
  },
  {
   "cell_type": "markdown",
   "metadata": {},
   "source": [
    "3. 아래와 같이 Person 클래스로 kang, kim 의 인스턴스가 생성되었을때 Pesron 클래스와 kang, kim 인스턴스의 네임 스페이스를 그려보고 조원들에게 설명하세요. \n",
    "\n",
    "```\n",
    "class Person:\n",
    "    name = 'person'\n",
    "    \n",
    "    \n",
    "kang = Person()\n",
    "kim = Person()\n",
    "    \n",
    "```\n",
    "\n",
    "\n",
    "\n"
   ]
  },
  {
   "cell_type": "markdown",
   "metadata": {},
   "source": [
    "내 답안: kang과 kim의 네임스페이스는 Person과 따로 존재"
   ]
  },
  {
   "cell_type": "markdown",
   "metadata": {},
   "source": [
    "4. 위의 3번 문제의 코드에 추가로 아래와 같이 코드를 실행했을 때 예상되는 결괏값을 쓰세요. \n",
    "\n",
    "```\n",
    "print(kang.name)\n",
    "print(kim.name)\n",
    "\n",
    "print(Person.name)\n",
    "\n",
    "kang.name='kang'\n",
    "kim.name = 'kim'\n",
    "\n",
    "print(kang.name)\n",
    "print(kim.name)\n",
    "\n",
    "print(Person.name)\n",
    "```"
   ]
  },
  {
   "cell_type": "code",
   "execution_count": 7,
   "metadata": {},
   "outputs": [],
   "source": [
    "class Person:\n",
    "    name = 'person'\n",
    "    \n",
    "    \n",
    "kang = Person()\n",
    "kim = Person()"
   ]
  },
  {
   "cell_type": "code",
   "execution_count": 8,
   "metadata": {},
   "outputs": [
    {
     "name": "stdout",
     "output_type": "stream",
     "text": [
      "person\n",
      "person\n",
      "person\n",
      "kang\n",
      "kim\n",
      "person\n"
     ]
    }
   ],
   "source": [
    "print(kang.name)\n",
    "print(kim.name)\n",
    "\n",
    "print(Person.name)\n",
    "\n",
    "kang.name='kang'\n",
    "kim.name = 'kim'\n",
    "\n",
    "print(kang.name)\n",
    "print(kim.name)\n",
    "\n",
    "print(Person.name)"
   ]
  },
  {
   "cell_type": "markdown",
   "metadata": {},
   "source": [
    "5. 4번이 수행된 후 Person 클래스로 kang, kim 의 인스턴스가 생성되었을때 Pesron 클래스와 kang, kim 인스턴스의 네임 스페이스를 그려보고 조원들에게 설명하세요."
   ]
  },
  {
   "cell_type": "markdown",
   "metadata": {},
   "source": [
    "내답안: kang 네임스페이스에서 name = kang, kim 네임스페이스에서 name = kim, Person 클래스 네임스페이스에서 name = Person"
   ]
  },
  {
   "cell_type": "markdown",
   "metadata": {},
   "source": [
    "6. 계산기 기능을 하는 Calculator 클래스를 만들어 보세요. 덧셈, 뺄셈, 곱셈, 나눗셈을 연산할 때 마다 어떠한 연산을 몇 번 수행 했는지 저장해야 합니다. printCount() 메소드를 실행하면 각 연산이 몇 번씩 수행했는지 결과를 보여주세요.\n",
    "\n"
   ]
  },
  {
   "cell_type": "code",
   "execution_count": 32,
   "metadata": {},
   "outputs": [],
   "source": [
    "class Calculator:\n",
    "\n",
    "    def __init__(self):\n",
    "        self.x = 0\n",
    "        self.y = 0\n",
    "\n",
    "        self.addnum = 0\n",
    "        self.subnum = 0\n",
    "        self.mulnum = 0\n",
    "    def addNum(self):\n",
    "        self.addnum += 1\n",
    "        result =  self.x + self.y\n",
    "        print(result)\n",
    "        return result\n",
    "    def subNum(self):\n",
    "        self.subnum += 1\n",
    "        result = self.x - self.y\n",
    "        print(result)\n",
    "        return result\n",
    "    def mulNum(self):\n",
    "        self.mulnum += 1\n",
    "        result =  self.x * self.y\n",
    "        print(result)\n",
    "        return result\n",
    "    def printCount(self):\n",
    "        return self.addnum, self.subnum, self.mulnum"
   ]
  },
  {
   "cell_type": "code",
   "execution_count": 34,
   "metadata": {},
   "outputs": [
    {
     "name": "stdout",
     "output_type": "stream",
     "text": [
      "4\n",
      "-2\n",
      "3\n",
      "4\n"
     ]
    },
    {
     "data": {
      "text/plain": [
       "(2, 1, 1)"
      ]
     },
     "execution_count": 34,
     "metadata": {},
     "output_type": "execute_result"
    }
   ],
   "source": [
    "cal = Calculator()\n",
    "cal.x = 1\n",
    "cal.y = 3\n",
    "\n",
    "cal.addNum()\n",
    "cal.subNum()\n",
    "cal.mulNum()\n",
    "cal.addNum()\n",
    "cal.printCount()"
   ]
  }
 ],
 "metadata": {
  "kernelspec": {
   "display_name": "Python 3",
   "language": "python",
   "name": "python3"
  },
  "language_info": {
   "codemirror_mode": {
    "name": "ipython",
    "version": 3
   },
   "file_extension": ".py",
   "mimetype": "text/x-python",
   "name": "python",
   "nbconvert_exporter": "python",
   "pygments_lexer": "ipython3",
   "version": "3.7.4"
  }
 },
 "nbformat": 4,
 "nbformat_minor": 4
}
