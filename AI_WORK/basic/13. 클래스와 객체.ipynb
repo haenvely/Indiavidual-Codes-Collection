{
 "cells": [
  {
   "cell_type": "markdown",
   "metadata": {},
   "source": [
    "### 학습목표\n",
    " 1. 클래스와 오브젝트에 대해 이해한다. \n",
    " 2. 클래스를 정의하고 활용 할 수 있다."
   ]
  },
  {
   "cell_type": "markdown",
   "metadata": {},
   "source": [
    "#### **class란?**\n",
    " + 실세계의 것을 모델링하여 속성(attribute)와 행위(method)를 갖는 데이터 타입이다. (실체가 아님. 실체를 구현해야하는 것, class를 이용해서 objct(객체) 를 만들어낸다)\n",
    " + python에서의 string, int, list, dict.. 모두가 다 클래스로 존재한다.\n",
    " + 예를들어 학생이라는 클래스를 만든다면, 학생을 나타내는 속성과 학생이 행하는 행동을 함께 정의 할 수 있음\n",
    " + 사용하고자하는 데이터(변수)와 데이터를 다루는 연산(함수)를 하나로 캡슐화(encapsulation)하여 클래스로 표현한다.\n"
   ]
  },
  {
   "cell_type": "markdown",
   "metadata": {},
   "source": [
    "#### **object 란?**\n",
    " - 클래스로 생성되어 구체화된 객체(인스턴스)이다. 실체 그 자체를 instance라 하고, 이걸 만드는 것을 인스턴스화 라고 함\n",
    " - 파이썬의 모든 것(int, str, list..etc)은 객체(인스턴스)이다.\n",
    " - 실제로 class가 인스턴스화 되어 메모리에 상주하는 상태를 의미한다.\n",
    " - class가 설계도, object는 실제로 설계도를 기반으로 만든 것을 말한다.\n"
   ]
  },
  {
   "cell_type": "markdown",
   "metadata": {},
   "source": [
    "#### **class 선언하기**\n",
    "  - 객체를 생성하기 위해선 객체의 설계도가 되는 class를 미리 선언해야 한다."
   ]
  },
  {
   "cell_type": "markdown",
   "metadata": {},
   "source": [
    "#객체를 만들어내기 위한 설계도 = 클래스"
   ]
  },
  {
   "cell_type": "code",
   "execution_count": null,
   "metadata": {},
   "outputs": [],
   "source": [
    "#class는 대문자 사용 권장\n",
    "class Person :\n",
    "    pass #쓸 수 있음. Person class가 만들어지기만 하고 끝, 빈 객체"
   ]
  },
  {
   "cell_type": "code",
   "execution_count": 1,
   "metadata": {},
   "outputs": [
    {
     "data": {
      "text/plain": [
       "'이것은 나의 클래스입니다.'"
      ]
     },
     "execution_count": 1,
     "metadata": {},
     "output_type": "execute_result"
    }
   ],
   "source": [
    "class MyClass:\n",
    "    '이것은 나의 클래스입니다.'\n",
    "    pass\n",
    "\n",
    "MyClass.__doc__"
   ]
  },
  {
   "cell_type": "code",
   "execution_count": 2,
   "metadata": {},
   "outputs": [
    {
     "data": {
      "text/plain": [
       "\"str(object='') -> str\\nstr(bytes_or_buffer[, encoding[, errors]]) -> str\\n\\nCreate a new string object from the given object. If encoding or\\nerrors is specified, then the object must expose a data buffer\\nthat will be decoded using the given encoding and error handler.\\nOtherwise, returns the result of object.__str__() (if defined)\\nor repr(object).\\nencoding defaults to sys.getdefaultencoding().\\nerrors defaults to 'strict'.\""
      ]
     },
     "execution_count": 2,
     "metadata": {},
     "output_type": "execute_result"
    }
   ],
   "source": [
    "str.__doc__"
   ]
  },
  {
   "cell_type": "code",
   "execution_count": 20,
   "metadata": {},
   "outputs": [
    {
     "name": "stdout",
     "output_type": "stream",
     "text": [
      "hello\n",
      "kang\n",
      "kang\n",
      "hello\n",
      "kang\n",
      "kim\n"
     ]
    }
   ],
   "source": [
    "class Person:\n",
    "    \"\"\"이것은 사람을 추상화한 클래스입니다.\"\"\"\n",
    "    name = 'kang' #클래스 변수\n",
    "    \n",
    "    def greet(self):  #클래스 내에서 함수는 인자를 써줘야함, 관례 self\n",
    "        print('hello')\n",
    "        \n",
    "#인스턴스를 만들자\n",
    "kang = Person()\n",
    "\n",
    "kang.greet()\n",
    "\n",
    "print(Person.name)  #클래스 내 변수의 특징은 외부와 공유됨\n",
    "print(kang.name)\n",
    "\n",
    "kim = Person()\n",
    "#Person.name = 'kim'\n",
    "kim.name = 'kim' #요렇게 오브젝트에서도 할당 가능\n",
    "\n",
    "kim.greet()\n",
    "print(Person.name) #이렇게 바뀌어버리는걸 확인가능함, kim.name = 으로 바꾼경우 person은 안바뀜\n",
    "print(kim.name)"
   ]
  },
  {
   "cell_type": "code",
   "execution_count": 21,
   "metadata": {},
   "outputs": [
    {
     "data": {
      "text/plain": [
       "{}"
      ]
     },
     "execution_count": 21,
     "metadata": {},
     "output_type": "execute_result"
    }
   ],
   "source": [
    "kang.__dict__"
   ]
  },
  {
   "cell_type": "code",
   "execution_count": 23,
   "metadata": {},
   "outputs": [
    {
     "data": {
      "text/plain": [
       "{'name': 'kim'}"
      ]
     },
     "execution_count": 23,
     "metadata": {},
     "output_type": "execute_result"
    }
   ],
   "source": [
    "kim.__dict__ #각각 저장하는 namespace를 갖는다~"
   ]
  },
  {
   "cell_type": "markdown",
   "metadata": {},
   "source": [
    "#### \\_\\_init__(self)\n",
    " + 생성자, 클래스 인스턴스가 생성될 때 호출된다. \n",
    " + self인자는 항상 첫번째에 오며 자기 자신을 가리키다.\n",
    " + 이름이 꼭 self일 필요는 없지만, 관례적으로 self로 사용한다.\n",
    " \n",
    " + 생성자에서는 해당 클래스가 다루는 데이터를 정의한다.\n",
    "   - 이 데이터를 멤버 변수(member variable) 또는 속성(attribute)라고 함\n",
    "   \n",
    "   모든 객체를 생성할 때 생성자가 실행됨. 초기화됨.\n",
    "   객체를 초기화할 목적으로 실행하는 메소드."
   ]
  },
  {
   "cell_type": "code",
   "execution_count": 11,
   "metadata": {},
   "outputs": [
    {
     "name": "stdout",
     "output_type": "stream",
     "text": [
      "haein haein\n",
      "kang k m kim h h\n"
     ]
    }
   ],
   "source": [
    "class Person:\n",
    "    def __init__(self): #관례적으로 self\n",
    "        self.name = 'haein'\n",
    "        self.age = 20\n",
    "kang = Person()\n",
    "kim = Person()\n",
    "print(kang.name, kim.name)\n",
    "kang.name = 'kang k m'\n",
    "kim.name = 'kim h h'\n",
    "\n",
    "print(kang.name, kim.name)"
   ]
  },
  {
   "cell_type": "markdown",
   "metadata": {},
   "source": [
    "모든 객체는 인스턴스화 되어야 쓸 수 있음(객체화 = 인스턴스화)\n",
    "모든 클래스들은 한 디스크에 저장되어있는 상태\n",
    "이것을 이용해서 메모리에 올라가는 올라가는 상태 = 인스턴스\n",
    "인스턴스가 만들어질 때, 초기값을 부여하는 것이 생성자\n",
    "얘의 속성에 값을 넣어주는 것이 생성자"
   ]
  },
  {
   "cell_type": "code",
   "execution_count": 17,
   "metadata": {
    "scrolled": true
   },
   "outputs": [
    {
     "name": "stdout",
     "output_type": "stream",
     "text": [
      "Person 객체생성!\n",
      "Person 객체생성!\n",
      "kang kim\n"
     ]
    }
   ],
   "source": [
    "#클래스에 초기값을 가지게 할 목적으로 만드는 것이 생성자. 객체의 초기화할 목적으로 만드는 것이 생성자\n",
    "class Person:\n",
    "    def __init__(self, name):  #무조건 name이란 값을 갖고 생기게 하고 싶을때\n",
    "        print('Person 객체생성!') #생성자 내에 값을 만들기\n",
    "        self.name = name #생길 때 이 값을 할당하게 할거임.\n",
    "        \n",
    "    \n",
    "#kang = Person() #에러. name이란 값을 필요로 하는 데 없기 때문에.\n",
    "kang = Person('kang') #값을 보냄\n",
    "kim = Person('kim')\n",
    "\n",
    "print(kang.name, kim.name)"
   ]
  },
  {
   "cell_type": "code",
   "execution_count": 19,
   "metadata": {},
   "outputs": [
    {
     "name": "stdout",
     "output_type": "stream",
     "text": [
      "Person 객체생성!\n",
      "Person 객체생성!\n",
      "kang kim\n",
      "20 25\n"
     ]
    }
   ],
   "source": [
    "\n",
    "class Person:\n",
    "    def __init__(self, name, age = 20): #오버로딩을 하고 싶은 변수가 있다면 디폴트 인자 설정\n",
    "        print('Person 객체생성!') \n",
    "        self.name = name \n",
    "        self.age = age\n",
    "    \n",
    "kang = Person('kang')\n",
    "kim = Person('kim', 25)\n",
    "\n",
    "print(kang.name, kim.name)\n",
    "print(kang.age, kim.age)"
   ]
  },
  {
   "cell_type": "code",
   "execution_count": 1,
   "metadata": {},
   "outputs": [
    {
     "name": "stdout",
     "output_type": "stream",
     "text": [
      "안녕~~ 클래스 처음이지?\n"
     ]
    }
   ],
   "source": [
    "class Person:\n",
    "    def hello(self): #얘도 셀프를 받음\n",
    "        print('안녕~~ 클래스 처음이지?')\n",
    "    def hi(self):\n",
    "        self.hello() #클래스 내의 hello 함수를 출력\n",
    "kang = Person()\n",
    "kang.hello()"
   ]
  },
  {
   "cell_type": "markdown",
   "metadata": {},
   "source": [
    "#### **self**\n",
    " - 파이썬의 method는 항상 첫번째 인자로 self를 전달한다.\n",
    " - self는 현재 해당 메쏘드가 호출되는 객체 자신을 가리킨다.(첫번째 인자는 인스턴스화된 자기자신을 리턴함)\n",
    " - 반드시 이름이 self일 필요는 없으나 관례적으로 self를 사용한다.\n",
    " - 위치는 항상 맨 첫번째 parameter이다.  "
   ]
  },
  {
   "cell_type": "markdown",
   "metadata": {},
   "source": [
    "나의 멤버나 메소드에 접근할 때 쓰는 self 키워드!"
   ]
  },
  {
   "cell_type": "code",
   "execution_count": 3,
   "metadata": {},
   "outputs": [
    {
     "name": "stdout",
     "output_type": "stream",
     "text": [
      "차 이름:  자동차\n",
      "차 속도:  10\n"
     ]
    }
   ],
   "source": [
    "class Car:\n",
    "    def __init__(self, name, speed): #name이랑 speed 안넣으면 강제로 입력안해도 됨\n",
    "        self.name = name\n",
    "        self.speed = speed\n",
    "        print('차 이름: ', name)\n",
    "        print('차 속도: ', speed)\n",
    "car1 = Car('자동차', 10)\n"
   ]
  },
  {
   "cell_type": "code",
   "execution_count": 5,
   "metadata": {},
   "outputs": [
    {
     "name": "stdout",
     "output_type": "stream",
     "text": [
      "차 이름입니다 0\n"
     ]
    }
   ],
   "source": [
    "class CarMini:\n",
    "    def __init__(self):\n",
    "        self.name = 'None'\n",
    "        self.speed = 0\n",
    "carmini = CarMini()\n",
    "carmini.name = '차 이름입니다'\n",
    "print(carmini.name, carmini.speed)"
   ]
  },
  {
   "cell_type": "code",
   "execution_count": 10,
   "metadata": {},
   "outputs": [
    {
     "name": "stdout",
     "output_type": "stream",
     "text": [
      "차 이름:  tico\n",
      "차 속도:  0\n"
     ]
    }
   ],
   "source": [
    "#차 이름과 속도를 알려주는 info 라이브러리\n",
    "class Car:\n",
    "    def __init__(self, name = None, speed = 0): \n",
    "        self.name = name\n",
    "        self.speed = speed\n",
    "    def info(self):\n",
    "        print('차 이름: ', self.name) #위에서 self의 name을 받아와야하니까 self.name\n",
    "        print('차 속도: ', self.speed)\n",
    "test = Car()\n",
    "t2 = Car('tico')\n",
    "t3 = Car('a, 200')\n",
    "t2.info()"
   ]
  },
  {
   "cell_type": "markdown",
   "metadata": {},
   "source": [
    "#### **mehtod 정의**\n",
    " + 파이썬에서는 메서드의 첫번째 매개변수 이름은 관례적으로 self를 사용한다. \n",
    " + obj.method() 형태로 호출된다."
   ]
  },
  {
   "cell_type": "code",
   "execution_count": 26,
   "metadata": {},
   "outputs": [
    {
     "name": "stdout",
     "output_type": "stream",
     "text": [
      "0\n"
     ]
    }
   ],
   "source": [
    "#counter 클래스를 정의하세요. 멤버 변수는 num을 갖고 있고\n",
    "#메소드는 num을 1씩 증가시키는 메소드. num을 0으로 초기화하는 메소드,\n",
    "#현재 num의 값을 알려주는 메서드를 정의하세요\n",
    "class Counter:\n",
    "    num = 0\n",
    "    def increase(self):\n",
    "        self.num += 1\n",
    "    def initialize(self):\n",
    "        self.num = 0\n",
    "    def printNum(self):\n",
    "        print(self.num)\n",
    "counter = Counter()\n",
    "counter.increase()\n",
    "counter.initialize()\n",
    "counter.printNum()\n",
    "\n",
    "#생성자를 통해 멤버변수 num을 갖자\n",
    "class Counter:\n",
    "    def __init__(self):\n",
    "        self.num = 0\n",
    "    def increment(self):\n",
    "        self.num += 1\n",
    "    def reset(self):\n",
    "        self.num = 0\n",
    "    def currentValue(self):\n",
    "        print(self.num)\n",
    "counter = Counter()"
   ]
  },
  {
   "cell_type": "code",
   "execution_count": 27,
   "metadata": {},
   "outputs": [
    {
     "data": {
      "text/plain": [
       "{'num': 0}"
      ]
     },
     "execution_count": 27,
     "metadata": {},
     "output_type": "execute_result"
    }
   ],
   "source": [
    "counter.__dict__"
   ]
  },
  {
   "cell_type": "markdown",
   "metadata": {},
   "source": [
    "#속성이나 변수가 추가될 수 있다~~"
   ]
  },
  {
   "cell_type": "code",
   "execution_count": 31,
   "metadata": {},
   "outputs": [
    {
     "name": "stdout",
     "output_type": "stream",
     "text": [
      "파이썬 철저입문\n"
     ]
    }
   ],
   "source": [
    "class Book:\n",
    "    #name = None\n",
    "    pass\n",
    "python = Book()\n",
    "python.name = '파이썬 철저입문' #name이란 공간이 원래 없지만 python객체 내 name 변수 공간이 생김\n",
    "print(python.name)"
   ]
  },
  {
   "cell_type": "code",
   "execution_count": 32,
   "metadata": {},
   "outputs": [
    {
     "name": "stdout",
     "output_type": "stream",
     "text": [
      "None\n"
     ]
    }
   ],
   "source": [
    "java = Book()\n",
    "print(java.name) #name이란 공간이 없어서 오류발생"
   ]
  },
  {
   "cell_type": "code",
   "execution_count": 33,
   "metadata": {},
   "outputs": [
    {
     "name": "stdout",
     "output_type": "stream",
     "text": [
      "None\n"
     ]
    }
   ],
   "source": [
    "print(Book.name) #name이란 공간이 없어서 오류발생"
   ]
  },
  {
   "cell_type": "markdown",
   "metadata": {},
   "source": [
    "#### **비공개속성**\n"
   ]
  },
  {
   "cell_type": "markdown",
   "metadata": {},
   "source": [
    "__ 를 붙이면 비공개 속성이 된다.\n",
    "쉽게 직접 접근하기 어렵도록 만들어주고, 메서드를 정의해서 접근할 수 있게 한다\n",
    "예시에서 kang.age는 접근 가능하지만 kang.__name은 접근 불가능"
   ]
  },
  {
   "cell_type": "code",
   "execution_count": 40,
   "metadata": {},
   "outputs": [
    {
     "name": "stdout",
     "output_type": "stream",
     "text": [
      "kang\n",
      "kang Kung Mi\n"
     ]
    },
    {
     "ename": "AttributeError",
     "evalue": "type object 'Person' has no attribute 'age'",
     "output_type": "error",
     "traceback": [
      "\u001b[1;31m---------------------------------------------------------------------------\u001b[0m",
      "\u001b[1;31mAttributeError\u001b[0m                            Traceback (most recent call last)",
      "\u001b[1;32m<ipython-input-40-cb42f88c39ec>\u001b[0m in \u001b[0;36m<module>\u001b[1;34m\u001b[0m\n\u001b[0;32m     12\u001b[0m \u001b[0mkang\u001b[0m\u001b[1;33m.\u001b[0m\u001b[0msetName\u001b[0m\u001b[1;33m(\u001b[0m\u001b[1;34m'kang Kung Mi'\u001b[0m\u001b[1;33m)\u001b[0m \u001b[1;31m#직접 접근으로 바꿀 수 없기때문에 메서드 사용\u001b[0m\u001b[1;33m\u001b[0m\u001b[1;33m\u001b[0m\u001b[0m\n\u001b[0;32m     13\u001b[0m \u001b[0mprint\u001b[0m\u001b[1;33m(\u001b[0m\u001b[0mkang\u001b[0m\u001b[1;33m.\u001b[0m\u001b[0mgetName\u001b[0m\u001b[1;33m(\u001b[0m\u001b[1;33m)\u001b[0m\u001b[1;33m)\u001b[0m\u001b[1;33m\u001b[0m\u001b[1;33m\u001b[0m\u001b[0m\n\u001b[1;32m---> 14\u001b[1;33m \u001b[0mprint\u001b[0m\u001b[1;33m(\u001b[0m\u001b[0mPerson\u001b[0m\u001b[1;33m.\u001b[0m\u001b[0mage\u001b[0m\u001b[1;33m)\u001b[0m \u001b[1;31m#불가\u001b[0m\u001b[1;33m\u001b[0m\u001b[1;33m\u001b[0m\u001b[0m\n\u001b[0m",
      "\u001b[1;31mAttributeError\u001b[0m: type object 'Person' has no attribute 'age'"
     ]
    }
   ],
   "source": [
    "class Person:\n",
    "    def __init__(self):\n",
    "        self.__name = 'kang' #비공개 속성. __를 붙이면 접근 안됨.\n",
    "        self.age = 20\n",
    "    def getName(self): #비공개 속성에 접근할 수 있는 메서드를 설정해준다\n",
    "        return self.__name\n",
    "    def setName(self, name):\n",
    "        self.__name = name\n",
    "kang = Person()\n",
    "#print(kang.__name) #외부에서 접근 불가\n",
    "print(kang.getName()) #직접접근은 안되지만 메서드를 통해 접근\n",
    "kang.setName('kang Kung Mi') #직접 접근으로 바꿀 수 없기때문에 메서드 사용\n",
    "print(kang.getName())\n",
    "print(Person.age) #불가. 이건 클래스 변수가 아니라 인스턴스변수니까~"
   ]
  },
  {
   "cell_type": "markdown",
   "metadata": {},
   "source": [
    "#### **클래스 속성 VS 인스턴스 속성**"
   ]
  },
  {
   "cell_type": "code",
   "execution_count": 41,
   "metadata": {},
   "outputs": [
    {
     "name": "stdout",
     "output_type": "stream",
     "text": [
      "['candy', 'book']\n",
      "['candy', 'book']\n",
      "['candy', 'book', 'pen', 'phone']\n",
      "['candy', 'book', 'pen', 'phone']\n"
     ]
    }
   ],
   "source": [
    "#클래스 변수로 정의했을 때는 Person 클래스를 계속 참조 공유\n",
    "class Person:\n",
    "    bag = [] #클래스 변수\n",
    "    def putBag(self, item):\n",
    "        self.bag.append(item)\n",
    "kang = Person()\n",
    "kim = Person()\n",
    "kang.putBag('candy')\n",
    "kang.putBag('book')\n",
    "\n",
    "print(kang.bag)\n",
    "print(kim.bag)\n",
    "\n",
    "kim.putBag('pen')\n",
    "kim.putBag('phone')\n",
    "\n",
    "print(kang.bag)\n",
    "print(kim.bag)"
   ]
  },
  {
   "cell_type": "code",
   "execution_count": 43,
   "metadata": {},
   "outputs": [
    {
     "name": "stdout",
     "output_type": "stream",
     "text": [
      "['candy', 'book']\n",
      "[]\n",
      "['candy', 'book']\n",
      "['pen', 'phone']\n"
     ]
    }
   ],
   "source": [
    "\n",
    "class Person:\n",
    "    def __init__(self):\n",
    "        self.bag = [] #인스턴스 변수\n",
    "    def putBag(self, item):\n",
    "        self.bag.append(item)\n",
    "kang = Person()\n",
    "kim = Person()\n",
    "kang.putBag('candy')\n",
    "kang.putBag('book')\n",
    "\n",
    "print(kang.bag)\n",
    "print(kim.bag)\n",
    "\n",
    "kim.putBag('pen')\n",
    "kim.putBag('phone')\n",
    "\n",
    "print(kang.bag)\n",
    "print(kim.bag)"
   ]
  },
  {
   "cell_type": "markdown",
   "metadata": {},
   "source": [
    "#### **method type**\n",
    " - instance method - 객체로 호출된다. \n",
    "   - 메서드는 객체가 생성될때 만들어진다.  \n",
    " - class method(static method) - class로 호출\n",
    "   - 클래스 메서드의 경우 객체가 생성되기 전에 미리 생성됨으로 객체를 통해 호출하지 않는다.\n"
   ]
  },
  {
   "cell_type": "code",
   "execution_count": 44,
   "metadata": {},
   "outputs": [
    {
     "name": "stdout",
     "output_type": "stream",
     "text": [
      "3\n"
     ]
    }
   ],
   "source": [
    "class Cal:\n",
    "    def add(self, a, b):\n",
    "        print(a + b)\n",
    "cal = Cal()\n",
    "cal.add(1,2)"
   ]
  },
  {
   "cell_type": "code",
   "execution_count": 45,
   "metadata": {},
   "outputs": [
    {
     "name": "stdout",
     "output_type": "stream",
     "text": [
      "3\n"
     ]
    }
   ],
   "source": [
    "#클래스 메소드로 만들자\n",
    "class Cal:\n",
    "    @staticmethod #꼭필요\n",
    "    def add(a , b):\n",
    "        print(a + b)\n",
    "Cal.add(1,2) #객체를 생성하지도 않았는데 바로 사용가능"
   ]
  },
  {
   "cell_type": "code",
   "execution_count": 49,
   "metadata": {},
   "outputs": [
    {
     "ename": "TypeError",
     "evalue": "add() missing 1 required positional argument: 'b'",
     "output_type": "error",
     "traceback": [
      "\u001b[1;31m---------------------------------------------------------------------------\u001b[0m",
      "\u001b[1;31mTypeError\u001b[0m                                 Traceback (most recent call last)",
      "\u001b[1;32m<ipython-input-49-397225efbc92>\u001b[0m in \u001b[0;36m<module>\u001b[1;34m\u001b[0m\n\u001b[0;32m      9\u001b[0m         \u001b[0mhi\u001b[0m\u001b[1;33m(\u001b[0m\u001b[1;33m)\u001b[0m \u001b[1;31m#Cal이 인스턴스화가 안되서 안됨\u001b[0m\u001b[1;33m\u001b[0m\u001b[1;33m\u001b[0m\u001b[0m\n\u001b[0;32m     10\u001b[0m         \u001b[0mprint\u001b[0m\u001b[1;33m(\u001b[0m\u001b[0mself\u001b[0m\u001b[1;33m.\u001b[0m\u001b[0mc\u001b[0m\u001b[1;33m)\u001b[0m\u001b[1;33m\u001b[0m\u001b[1;33m\u001b[0m\u001b[0m\n\u001b[1;32m---> 11\u001b[1;33m \u001b[0mCal\u001b[0m\u001b[1;33m.\u001b[0m\u001b[0madd\u001b[0m\u001b[1;33m(\u001b[0m\u001b[1;36m1\u001b[0m\u001b[1;33m,\u001b[0m\u001b[1;36m2\u001b[0m\u001b[1;33m)\u001b[0m\u001b[1;33m\u001b[0m\u001b[1;33m\u001b[0m\u001b[0m\n\u001b[0m",
      "\u001b[1;31mTypeError\u001b[0m: add() missing 1 required positional argument: 'b'"
     ]
    }
   ],
   "source": [
    "class Cal:\n",
    "    def __init__(self):  # c는 Cal이 instance화 될때 만들어짐\n",
    "        self.c = 10\n",
    "    def hi(self): #인스턴스가 생성되어야만 호출가능. 인스턴스화 될 때 만들어짐\n",
    "        print('hi')\n",
    "    @staticmethod #static method의 생성시점은 객체 생성 이전에 이미 만들어져있다는 것.\n",
    "    def add(self, a , b): #self는 인스턴스화된 나 자신을 뜻함, 객체가 인스턴스화 될때 만들어짐\n",
    "        print(a + b)\n",
    "        hi() #Cal이 인스턴스화가 안되서 안됨\n",
    "        print(self.c)\n",
    "Cal.add(1,2)"
   ]
  },
  {
   "cell_type": "code",
   "execution_count": 48,
   "metadata": {},
   "outputs": [
    {
     "name": "stdout",
     "output_type": "stream",
     "text": [
      "5\n"
     ]
    },
    {
     "ename": "TypeError",
     "evalue": "add() missing 1 required positional argument: 'b'",
     "output_type": "error",
     "traceback": [
      "\u001b[1;31m---------------------------------------------------------------------------\u001b[0m",
      "\u001b[1;31mTypeError\u001b[0m                                 Traceback (most recent call last)",
      "\u001b[1;32m<ipython-input-48-5201b04f0f71>\u001b[0m in \u001b[0;36m<module>\u001b[1;34m\u001b[0m\n\u001b[0;32m      4\u001b[0m         \u001b[0mprint\u001b[0m\u001b[1;33m(\u001b[0m\u001b[0ma\u001b[0m \u001b[1;33m+\u001b[0m \u001b[0mb\u001b[0m\u001b[1;33m)\u001b[0m\u001b[1;33m\u001b[0m\u001b[1;33m\u001b[0m\u001b[0m\n\u001b[0;32m      5\u001b[0m \u001b[0mCal\u001b[0m\u001b[1;33m.\u001b[0m\u001b[0madd\u001b[0m\u001b[1;33m(\u001b[0m\u001b[1;36m1\u001b[0m\u001b[1;33m,\u001b[0m\u001b[1;36m2\u001b[0m\u001b[1;33m,\u001b[0m\u001b[1;36m3\u001b[0m\u001b[1;33m)\u001b[0m\u001b[1;33m\u001b[0m\u001b[1;33m\u001b[0m\u001b[0m\n\u001b[1;32m----> 6\u001b[1;33m \u001b[0mCal\u001b[0m\u001b[1;33m.\u001b[0m\u001b[0madd\u001b[0m\u001b[1;33m(\u001b[0m\u001b[1;36m1\u001b[0m\u001b[1;33m,\u001b[0m\u001b[1;36m2\u001b[0m\u001b[1;33m)\u001b[0m \u001b[1;31m#세번째 인자가 없으니 에러 발생\u001b[0m\u001b[1;33m\u001b[0m\u001b[1;33m\u001b[0m\u001b[0m\n\u001b[0m",
      "\u001b[1;31mTypeError\u001b[0m: add() missing 1 required positional argument: 'b'"
     ]
    }
   ],
   "source": [
    "class Cal:\n",
    "    @staticmethod\n",
    "    def add(self, a , b): #인스턴스화된 self를 의미하지 않음. 단순 첫번째 인자 말함\n",
    "        print(a + b)\n",
    "Cal.add(1,2,3)\n",
    "Cal.add(1,2) #세번째 인자가 없으니 에러 발생. "
   ]
  },
  {
   "cell_type": "markdown",
   "metadata": {},
   "source": [
    "#### classmethod\n",
    "- 클래스 변수에 접근해서 사용 가능.\n",
    "- 클래스.변수 이렇게도 사용가능하지만 cls.변수 이렇게 사용 가능\n",
    "- @classmethod 사용\n",
    "- 첫번째 인자로 클래스를 넘겨줌\n",
    "- 네임스페이스 공간을 넘겨주면, 클래스 변수에 바로 접근 가능하고 조작도 가능\n"
   ]
  },
  {
   "cell_type": "code",
   "execution_count": 1,
   "metadata": {},
   "outputs": [
    {
     "name": "stdout",
     "output_type": "stream",
     "text": [
      "3\n",
      "hi kkk\n",
      "hello\n",
      "class method kkk\n",
      "myFunction~~\n"
     ]
    }
   ],
   "source": [
    "def myFunc():\n",
    "    print('myFunction~~')\n",
    "class Cal:\n",
    "    name = 'kkk'\n",
    "    def hello(self):\n",
    "        print('hello')\n",
    "        \n",
    "    @classmethod #인스턴스에 종속되지 않고 독립적이지만, 클래스에는 종속됨\n",
    "    def classMethod(cls): #클래스 변수를 사용하려고 사용하는 정형 메소드\n",
    "        print('class method', cls.name)  #클래스 메서드에 클래스 변수 할당됨~~\n",
    "\n",
    "    def hi():\n",
    "        print('hi', Cal.name)\n",
    "        \n",
    "    @staticmethod\n",
    "    def add(a , b): \n",
    "        print(a + b)\n",
    "        Cal.hi() \n",
    "\n",
    "Cal.add(1,2)\n",
    "c = Cal()\n",
    "c.hello()\n",
    "\n",
    "Cal.classMethod()\n",
    "myFunc()"
   ]
  },
  {
   "cell_type": "code",
   "execution_count": 2,
   "metadata": {},
   "outputs": [
    {
     "name": "stdout",
     "output_type": "stream",
     "text": [
      "Help on class classmethod in module builtins:\n",
      "\n",
      "class classmethod(object)\n",
      " |  classmethod(function) -> method\n",
      " |  \n",
      " |  Convert a function to be a class method.\n",
      " |  \n",
      " |  A class method receives the class as implicit first argument,\n",
      " |  just like an instance method receives the instance.\n",
      " |  To declare a class method, use this idiom:\n",
      " |  \n",
      " |    class C:\n",
      " |        @classmethod\n",
      " |        def f(cls, arg1, arg2, ...):\n",
      " |            ...\n",
      " |  \n",
      " |  It can be called either on the class (e.g. C.f()) or on an instance\n",
      " |  (e.g. C().f()).  The instance is ignored except for its class.\n",
      " |  If a class method is called for a derived class, the derived class\n",
      " |  object is passed as the implied first argument.\n",
      " |  \n",
      " |  Class methods are different than C++ or Java static methods.\n",
      " |  If you want those, see the staticmethod builtin.\n",
      " |  \n",
      " |  Methods defined here:\n",
      " |  \n",
      " |  __get__(self, instance, owner, /)\n",
      " |      Return an attribute of instance, which is of type owner.\n",
      " |  \n",
      " |  __init__(self, /, *args, **kwargs)\n",
      " |      Initialize self.  See help(type(self)) for accurate signature.\n",
      " |  \n",
      " |  ----------------------------------------------------------------------\n",
      " |  Static methods defined here:\n",
      " |  \n",
      " |  __new__(*args, **kwargs) from builtins.type\n",
      " |      Create and return a new object.  See help(type) for accurate signature.\n",
      " |  \n",
      " |  ----------------------------------------------------------------------\n",
      " |  Data descriptors defined here:\n",
      " |  \n",
      " |  __dict__\n",
      " |  \n",
      " |  __func__\n",
      " |  \n",
      " |  __isabstractmethod__\n",
      "\n"
     ]
    }
   ],
   "source": [
    "help(classmethod) "
   ]
  },
  {
   "cell_type": "code",
   "execution_count": 4,
   "metadata": {},
   "outputs": [
    {
     "name": "stdout",
     "output_type": "stream",
     "text": [
      "3\n",
      "hi kkk\n",
      "hello\n",
      "2\n",
      "class method kkk\n",
      "myFunction~~\n"
     ]
    }
   ],
   "source": [
    "def myFunc():\n",
    "    print('myFunction~~')\n",
    "\n",
    "class Cal:\n",
    "    name = 'kkk'\n",
    "    def hello(self):\n",
    "        print('hello')\n",
    "        \n",
    "    @classmethod #인스턴스에 종속되지 않고 독립적이지만, 클래스에는 종속됨\n",
    "    def classMethod(cls, a, b):\n",
    "        print(a * b)\n",
    "        print('class method', cls.name)  #클래스 메서드에 클래스 변수 할당됨~~\n",
    "\n",
    "    def hi():\n",
    "        print('hi', Cal.name)\n",
    "        \n",
    "    @staticmethod\n",
    "    def add(a , b): \n",
    "        print(a + b)\n",
    "        Cal.hi() \n",
    "\n",
    "Cal.add(1,2)\n",
    "c = Cal()\n",
    "c.hello()\n",
    "\n",
    "Cal.classMethod(1, 2)\n",
    "myFunc()"
   ]
  },
  {
   "cell_type": "markdown",
   "metadata": {},
   "source": [
    " #### **Class Inheritance (상속)**\n",
    " ##### 개체들 사이에서도 상속 가능~~~\n",
    "  - 다른 클래스의 기능을 그대로 물려받을 수 있다.\n",
    "  - 기존 클래스에 기능 일부를 추가하거나, 변경하여 새로운 클래스를 정의한다.\n",
    "  - 코드를 재사용할 수 있게된다.\n",
    "  - 상속 받고자 하는 대상인 기존 클래스는 (Parent, Super, Base class 라고 부른다.)\n",
    "  - 상속 받는 새로운 클래스는(Child, Sub, Derived class 라고 부른다.)\n",
    "  - 의미적으로 is-a관계를 갖는다"
   ]
  },
  {
   "cell_type": "code",
   "execution_count": 6,
   "metadata": {},
   "outputs": [
    {
     "name": "stdout",
     "output_type": "stream",
     "text": [
      "10\n"
     ]
    }
   ],
   "source": [
    "class Parent:\n",
    "    def __init__(self):\n",
    "        self.i = 10\n",
    "class Child(Parent): #상속 클래스 이름\n",
    "    pass\n",
    "\n",
    "c = Child()\n",
    "print(c.i)  #child는 아무 변수도 할당안되어있지만 부모클래스를 상속받아 내것처럼 쓸 수 있음"
   ]
  },
  {
   "cell_type": "code",
   "execution_count": 7,
   "metadata": {},
   "outputs": [
    {
     "name": "stdout",
     "output_type": "stream",
     "text": [
      "20\n"
     ]
    }
   ],
   "source": [
    "class Parent:\n",
    "    def __init__(self):\n",
    "        self.i = 10\n",
    "class Child(Parent): #상속 클래스 이름\n",
    "    def __init__(self):\n",
    "        self.i = 20\n",
    "\n",
    "c = Child()\n",
    "print(c.i)  "
   ]
  },
  {
   "cell_type": "code",
   "execution_count": 10,
   "metadata": {},
   "outputs": [],
   "source": [
    "class Person:\n",
    "    def __init__(self, name):\n",
    "        self.name = name\n",
    "    def eat(self, food):\n",
    "        print('{}은 {}를 먹습니다.'.format(self.name, food))"
   ]
  },
  {
   "cell_type": "code",
   "execution_count": 12,
   "metadata": {},
   "outputs": [
    {
     "name": "stdout",
     "output_type": "stream",
     "text": [
      "carami은 빵를 먹습니다.\n"
     ]
    }
   ],
   "source": [
    "class Student(Person):\n",
    "    def __init__(self, name):\n",
    "        self.name = name\n",
    "carami = Student('carami')\n",
    "carami.eat('빵')"
   ]
  },
  {
   "cell_type": "markdown",
   "metadata": {},
   "source": [
    "#### **method override**\n",
    "##### 부모가 구현한 것을 자식이 다시 구현하는 것\n",
    " - 부모 클래스의 method를 재정의(override)한다.\n",
    " - 하위 클래스(자식 클래스) 의 인스턴스로 호출시, 재정의된 메소드가 호출된다."
   ]
  },
  {
   "cell_type": "code",
   "execution_count": 13,
   "metadata": {},
   "outputs": [
    {
     "name": "stdout",
     "output_type": "stream",
     "text": [
      "carami은 빵를 맛있게 먹습니다.\n"
     ]
    }
   ],
   "source": [
    "class Person:\n",
    "    def __init__(self, name):\n",
    "        self.name = name\n",
    "    def eat(self, food):\n",
    "        print('{}은 {}를 먹습니다.'.format(self.name, food))\n",
    "        \n",
    "class Student(Person):\n",
    "    def __init__(self, name):\n",
    "        self.name = name\n",
    "    def eat(self, food): #오버라이딩\n",
    "        print('{}은 {}를 맛있게 먹습니다.'.format(self.name, food))\n",
    "        \n",
    "carami = Student('carami')\n",
    "carami.eat('빵')"
   ]
  },
  {
   "cell_type": "markdown",
   "metadata": {},
   "source": [
    "#### super \n",
    "\n",
    "##### 부모 클래스를 지칭\n",
    " - 하위클래스(자식 클래스)에서 부모클래스의 method를 호출할 때 사용한다."
   ]
  },
  {
   "cell_type": "code",
   "execution_count": 17,
   "metadata": {},
   "outputs": [
    {
     "name": "stdout",
     "output_type": "stream",
     "text": [
      "안녕\n",
      "난 학생이에요~\n",
      "공부\n"
     ]
    }
   ],
   "source": [
    "class Person:\n",
    "    def hello(self):\n",
    "        print('안녕')\n",
    "        \n",
    "class Student(Person):\n",
    "    def hello(self): #오버라이딩 중 기능을 좀만 더 추가하는 쪽으로 수정하고싶을때\n",
    "        super().hello() #부모 클래스의 hello를 그대로 갖고옴\n",
    "        print('난 학생이에요~')\n",
    "    def study(self):\n",
    "        print('공부')\n",
    "kang = Student()\n",
    "\n",
    "kang.hello()\n",
    "kang.study()"
   ]
  },
  {
   "cell_type": "code",
   "execution_count": 18,
   "metadata": {},
   "outputs": [
    {
     "name": "stdout",
     "output_type": "stream",
     "text": [
      "안녕\n",
      "난 학생이에요~\n"
     ]
    }
   ],
   "source": [
    "kang.hello()"
   ]
  },
  {
   "cell_type": "code",
   "execution_count": 19,
   "metadata": {},
   "outputs": [
    {
     "name": "stdout",
     "output_type": "stream",
     "text": [
      "Student 생성자!\n",
      "안녕\n",
      "난 학생이에요~\n",
      "공부\n"
     ]
    }
   ],
   "source": [
    "class Person:\n",
    "    def __init__(self):\n",
    "        print('Person 생성자!')\n",
    "    def hello(self):\n",
    "        print('안녕')\n",
    "        \n",
    "class Student(Person):\n",
    "    def __init__(self):\n",
    "        print('Student 생성자!')\n",
    "    def hello(self): \n",
    "        super().hello()\n",
    "        print('난 학생이에요~')\n",
    "    def study(self):\n",
    "        print('공부')\n",
    "kang = Student() #student 클래스에서 kang의 객체가 생성되었음. student 생성자\n",
    "#q부모의 생성자는 실행되지않음\n",
    "kang.hello()\n",
    "kang.study()"
   ]
  },
  {
   "cell_type": "code",
   "execution_count": 20,
   "metadata": {},
   "outputs": [
    {
     "name": "stdout",
     "output_type": "stream",
     "text": [
      "Student 생성자!\n"
     ]
    }
   ],
   "source": [
    "kim = Student()"
   ]
  },
  {
   "cell_type": "code",
   "execution_count": 24,
   "metadata": {},
   "outputs": [
    {
     "name": "stdout",
     "output_type": "stream",
     "text": [
      "Person 생성자!\n",
      "Student 생성자!\n",
      "안녕\n",
      "난 학생이에요~\n",
      "공부\n"
     ]
    }
   ],
   "source": [
    "class Person:\n",
    "    def __init__(self, name):\n",
    "        self.name = name\n",
    "        print('Person 생성자!')\n",
    "    def hello(self):\n",
    "        print('안녕')\n",
    "        \n",
    "class Student(Person):\n",
    "    def __init__(self, name, schoolName): \n",
    "        Person.__init__(self,name)  \n",
    "        self.schoolName = schoolName\n",
    "        print('Student 생성자!')\n",
    "    def hello(self): \n",
    "        super().hello()\n",
    "        print('난 학생이에요~')\n",
    "    def study(self):\n",
    "        print('공부')\n",
    "kang = Student('kang', 'kkk') \n",
    "kang.hello()\n",
    "kang.study()"
   ]
  },
  {
   "cell_type": "markdown",
   "metadata": {},
   "source": [
    "## 다중 상속\n",
    "부모가 여러개인것"
   ]
  },
  {
   "cell_type": "code",
   "execution_count": 25,
   "metadata": {},
   "outputs": [
    {
     "name": "stdout",
     "output_type": "stream",
     "text": [
      "hello cccc\n"
     ]
    }
   ],
   "source": [
    "#< test 1>\n",
    "class A:\n",
    "    def hello(self):\n",
    "        print('hello aaaaa')\n",
    "        \n",
    "class B:\n",
    "    def hello(self):\n",
    "        print('hello bbbbb')\n",
    "        \n",
    "class C(A):\n",
    "    def hello(self):\n",
    "        print('hello cccc')\n",
    "        \n",
    "class D(C, B):\n",
    "    pass\n",
    "\n",
    "test = D()\n",
    "test.hello()"
   ]
  },
  {
   "cell_type": "code",
   "execution_count": 26,
   "metadata": {},
   "outputs": [
    {
     "name": "stdout",
     "output_type": "stream",
     "text": [
      "hello cccc\n"
     ]
    }
   ],
   "source": [
    "test = D()\n",
    "test.hello()"
   ]
  },
  {
   "cell_type": "code",
   "execution_count": 30,
   "metadata": {},
   "outputs": [
    {
     "name": "stdout",
     "output_type": "stream",
     "text": [
      "hello aaaaa\n",
      "[<class '__main__.D'>, <class '__main__.C'>, <class '__main__.A'>, <class '__main__.B'>, <class 'object'>]\n",
      "(<class '__main__.D'>, <class '__main__.C'>, <class '__main__.A'>, <class '__main__.B'>, <class 'object'>)\n"
     ]
    },
    {
     "data": {
      "text/plain": [
       "[__main__.D, __main__.C, __main__.A, __main__.B, object]"
      ]
     },
     "execution_count": 30,
     "metadata": {},
     "output_type": "execute_result"
    }
   ],
   "source": [
    "#<test 2>\n",
    "class A:\n",
    "    def hello(self):\n",
    "        print('hello aaaaa')\n",
    "        \n",
    "class B:\n",
    "    def hello(self):\n",
    "        print('hello bbbbb')\n",
    "        \n",
    "class C(A):\n",
    "    def helloCC(self):\n",
    "        print('hello cccc')\n",
    "        \n",
    "class D(C, B):\n",
    "    pass\n",
    "\n",
    "test = D()\n",
    "test.hello()\n",
    "\n",
    "print(D.mro()) # 상속을 찾아본다\n",
    "print(D.__mro__)\n",
    "D.mro()"
   ]
  },
  {
   "cell_type": "markdown",
   "metadata": {},
   "source": [
    "test1에선 C가 가장 우선순위가 높았으나\n",
    "test 2에선 A가 우선순위가 높아짐.\n",
    "\n",
    "\n",
    "즉, 첫번째 인자가 우선순위를 가지고,\n",
    "첫번째 인자에 없으면 상속을 따라 부모클래스에서 찾아서 우선순위를 부여\n",
    "부모클래스를 다 지난다음에도 해당 메서드가 없으면 두번째 인자로 넘어감"
   ]
  },
  {
   "cell_type": "markdown",
   "metadata": {},
   "source": [
    "### 추상클래스"
   ]
  },
  {
   "cell_type": "markdown",
   "metadata": {},
   "source": [
    "클래스 자체가 추상적일 때.\n",
    "ex) 음식?(추상 ) - 마라탕(구체), 애완동물(추상) - 고양이(구체)\n",
    "\n",
    "* 추상클래스는 객체 생성이 안된다."
   ]
  },
  {
   "cell_type": "code",
   "execution_count": 33,
   "metadata": {},
   "outputs": [
    {
     "name": "stdout",
     "output_type": "stream",
     "text": [
      "먹다\n",
      "공부\n"
     ]
    }
   ],
   "source": [
    "from abc import *\n",
    "\n",
    "class StudentBase(metaclass = ABCMeta): #ABC 메타를 쓰겠다\n",
    "    def hello(self):\n",
    "        print('hello~~')\n",
    "        \n",
    "    @abstractmethod  #구체적이지 않은 메소드. 미완성 설계도\n",
    "    def study(self):\n",
    "        pass\n",
    "    \n",
    "#kang = StudentBase() #추상클래스는 객체 생성 불가\n",
    "\n",
    "class Student(StudentBase) : #상속\n",
    "    #pass 안됨\n",
    "    #약간의 강제성을 띈다\n",
    "    \n",
    "    def eat(self):\n",
    "        print('먹다')\n",
    "    def study(self):\n",
    "        print('공부')\n",
    "        \n",
    "kang = Student()\n",
    "kang.eat()\n",
    "kang.study()"
   ]
  },
  {
   "cell_type": "markdown",
   "metadata": {},
   "source": [
    "#### 연습문제\n",
    "- 멤버변수 x, y를 갖는 Shape 클래스를 정의하시오.\n",
    "- Shape 클래스는 도형을 그리는 draw()라는 추상 메소드를 포함하게 하세요\n",
    "- Shape를 상속받는 Rect, Circle 클래스를 정의하고, draw()메소드를 적절하게 구현하세요\n",
    "- 이때, Circle은 반지름을 나타내는 멤버변수 r을 추가해주세요\n",
    "\n",
    "- 도형은 면적을 구하는 메서드도 추가해보세요.\n"
   ]
  },
  {
   "cell_type": "code",
   "execution_count": 122,
   "metadata": {},
   "outputs": [],
   "source": [
    "class Shape(metaclass = ABCMeta):\n",
    "    def __init__(self, x, y):\n",
    "        self.x = x\n",
    "        self.y = y\n",
    "    @abstractmethod\n",
    "    def draw(self):\n",
    "        pass\n",
    "    \n",
    "class Rect(Shape):\n",
    "        def cal(self):\n",
    "            result = self.x * self.y\n",
    "            print('cal')\n",
    "            print(result)\n",
    "        def draw(self):\n",
    "            print('draw')\n",
    "            Rect.cal(self)\n",
    "            "
   ]
  },
  {
   "cell_type": "code",
   "execution_count": 123,
   "metadata": {},
   "outputs": [
    {
     "name": "stdout",
     "output_type": "stream",
     "text": [
      "draw\n",
      "cal\n",
      "30\n"
     ]
    }
   ],
   "source": [
    "rect = Rect(5,6)\n",
    "rect.draw()"
   ]
  },
  {
   "cell_type": "code",
   "execution_count": 133,
   "metadata": {},
   "outputs": [],
   "source": [
    "class Circle(Shape):\n",
    "    def __init__(self, x, y): \n",
    "        Shape.__init__(self, x, y)\n",
    "        self.r = 1/2 * self.x\n",
    "    def cal(self):\n",
    "        print('cal')\n",
    "        result = self.r * self.r * 3.14\n",
    "        print(result)\n",
    "    def draw(self):\n",
    "        print('draw')\n",
    "        Circle.cal(self)"
   ]
  },
  {
   "cell_type": "code",
   "execution_count": 134,
   "metadata": {},
   "outputs": [
    {
     "name": "stdout",
     "output_type": "stream",
     "text": [
      "draw\n",
      "cal\n",
      "78.5\n"
     ]
    }
   ],
   "source": [
    "cir = Circle(10, 10)\n",
    "cir.draw()"
   ]
  },
  {
   "cell_type": "code",
   "execution_count": 75,
   "metadata": {},
   "outputs": [
    {
     "name": "stdout",
     "output_type": "stream",
     "text": [
      "2 2\n",
      "2 2 2\n",
      "4\n",
      "12.56\n"
     ]
    }
   ],
   "source": [
    "class Shape(metaclass = ABCMeta):\n",
    "    def __init__(self, x=0, y=0):\n",
    "        self.x = x\n",
    "        self.y = y\n",
    "    @abstractmethod\n",
    "    def draw():\n",
    "        pass\n",
    "    @abstractmethod\n",
    "    def cal():\n",
    "        pass\n",
    "\n",
    "class Rect(Shape):\n",
    "    def draw(self):\n",
    "        print(self.x, self.y)\n",
    "    def cal(self):\n",
    "        print(self.x*self.y)\n",
    "\n",
    "class Circle(Shape):\n",
    "    def __init__(self,x=0,y=0, r=0):\n",
    "        super().__init__(x, y)\n",
    "        self.r = r\n",
    "    def draw(self):\n",
    "        print(self.x, self.y, self.r)\n",
    "    def cal(self):\n",
    "        print(self.r*self.r*3.14)\n",
    "r = Rect(2, 2)\n",
    "c = Circle(2,2,2)\n",
    "\n",
    "r.draw()\n",
    "c.draw()\n",
    "r.cal()\n",
    "c.cal()\n"
   ]
  },
  {
   "cell_type": "markdown",
   "metadata": {},
   "source": [
    "#### **special method**\n",
    " - __로 시작 __로 끝나는 특수 함수다.\n",
    " - 해당 메쏘드들을 구현하면, 커스텀 객체에 여러가지 파이썬 내장 함수나 연산자를 적용 가능하다.\n",
    " - 오버라이딩 가능한 함수 목록은 아래 링크에서 참조 \n",
    " - 같은 기능으로 사용가능(len같은 것들) = 내장함수\n",
    " - 파이썬에서는 연산자까지도 오버라이딩 가능했음\n",
    " \n",
    "   - https://docs.python.org/3/reference/datamodel.html\n",
    "   - https://docs.python.org/3/reference/datamodel.html#object.__add__"
   ]
  },
  {
   "cell_type": "markdown",
   "metadata": {},
   "source": [
    "__add__() # + 연산자로 호출\n",
    "__sub__() # - 연산자로 호출\n",
    "__mul_() # * 연산자로 호출\n",
    "__truediv__() # / 연산자로 호출"
   ]
  },
  {
   "cell_type": "code",
   "execution_count": 137,
   "metadata": {},
   "outputs": [
    {
     "name": "stdout",
     "output_type": "stream",
     "text": [
      "2 3\n"
     ]
    }
   ],
   "source": [
    "class Point:\n",
    "    def __init__(self, x, y):\n",
    "        self.x = x\n",
    "        self.y = y\n",
    "    def __add__(self, point): #특수함수. 자기자신의 객체를 point로 갖고왔다.\n",
    "        print('__add__실행')\n",
    "        new_x = self.x + point.x #새로운 객체 x를 형성\n",
    "        new_y = self.y + point.y\n",
    "        return Point(new_x, new_y)\n",
    "    \n",
    "    def __len__(self):\n",
    "        print('프린트~ 내맘대로 구현')\n",
    "        return self.x + self.y\n",
    "    \n",
    "p1 = Point(2, 3)\n",
    "p2 = Point(3, 4)\n",
    "\n",
    "print(p1.x, p2.x)"
   ]
  },
  {
   "cell_type": "code",
   "execution_count": 138,
   "metadata": {},
   "outputs": [
    {
     "name": "stdout",
     "output_type": "stream",
     "text": [
      "__add__실행\n",
      "5 7\n",
      "프린트~ 내맘대로 구현\n"
     ]
    },
    {
     "data": {
      "text/plain": [
       "5"
      ]
     },
     "execution_count": 138,
     "metadata": {},
     "output_type": "execute_result"
    }
   ],
   "source": [
    "\n",
    "p3 = p1 + p2\n",
    "print(p3.x, p3.y)\n",
    "len(p1)"
   ]
  },
  {
   "cell_type": "code",
   "execution_count": 139,
   "metadata": {},
   "outputs": [
    {
     "ename": "NameError",
     "evalue": "name 'add' is not defined",
     "output_type": "error",
     "traceback": [
      "\u001b[1;31m-----------------------------------------------------------------------\u001b[0m",
      "\u001b[1;31mNameError\u001b[0m                             Traceback (most recent call last)",
      "\u001b[1;32m<ipython-input-139-9cd3bc5fb6d1>\u001b[0m in \u001b[0;36m<module>\u001b[1;34m\u001b[0m\n\u001b[1;32m----> 1\u001b[1;33m \u001b[0madd\u001b[0m\u001b[1;33m(\u001b[0m\u001b[1;36m2\u001b[0m\u001b[1;33m,\u001b[0m\u001b[1;36m3\u001b[0m\u001b[1;33m)\u001b[0m\u001b[1;33m\u001b[0m\u001b[1;33m\u001b[0m\u001b[0m\n\u001b[0m",
      "\u001b[1;31mNameError\u001b[0m: name 'add' is not defined"
     ]
    }
   ],
   "source": [
    "add(2,3)"
   ]
  }
 ],
 "metadata": {
  "kernelspec": {
   "display_name": "Python 3",
   "language": "python",
   "name": "python3"
  },
  "language_info": {
   "codemirror_mode": {
    "name": "ipython",
    "version": 3
   },
   "file_extension": ".py",
   "mimetype": "text/x-python",
   "name": "python",
   "nbconvert_exporter": "python",
   "pygments_lexer": "ipython3",
   "version": "3.7.4"
  }
 },
 "nbformat": 4,
 "nbformat_minor": 1
}
