{
 "cells": [
  {
   "cell_type": "markdown",
   "metadata": {},
   "source": [
    "### 학습목표\n",
    "1. 파일 입출력에 대해 이해한다. \n",
    "1. 파일을 읽고 쓸 수 있다."
   ]
  },
  {
   "cell_type": "markdown",
   "metadata": {},
   "source": [
    "## **파일에 문자열 읽기, 쓰기**\n",
    "    + 파일에 문자열 쓰기 \n",
    "        1. 파일에 문자열을 쓸 때는 open 함수를 이용해서 파일객체를 얻어온다.\n",
    "        2. 얻어온 파일 객체에 wirte 메소드를 이용해서 문자열을 쓴다. \n",
    "        3. 모든 일이 끝나면 반드시 close 메소드를 이용해서 파일객체를 닫는다. "
   ]
  },
  {
   "cell_type": "code",
   "execution_count": 1,
   "metadata": {},
   "outputs": [
    {
     "ename": "SyntaxError",
     "evalue": "invalid syntax (<ipython-input-1-1572d7c45c26>, line 2)",
     "output_type": "error",
     "traceback": [
      "\u001b[1;36m  File \u001b[1;32m\"<ipython-input-1-1572d7c45c26>\"\u001b[1;36m, line \u001b[1;32m2\u001b[0m\n\u001b[1;33m    cd c:\\temp\u001b[0m\n\u001b[1;37m       ^\u001b[0m\n\u001b[1;31mSyntaxError\u001b[0m\u001b[1;31m:\u001b[0m invalid syntax\n"
     ]
    }
   ],
   "source": [
    "#경로이동 가능 \n",
    "cd c:\\temp"
   ]
  },
  {
   "cell_type": "code",
   "execution_count": 2,
   "metadata": {},
   "outputs": [],
   "source": [
    "f = open('myFile.txt', 'w')           # (1)'myFile.txt' 파일 쓰기 모드로 열기\n",
    "f.write('This is my first file.')     # (2) 연 파일에 문자열 쓰기\n",
    "f.close()                             # (3) 파일 닫기\n",
    "#파일 닫기를 안해주면?\n",
    "#닫기: 더이상 시킬 일이 없다. = > 운영체제가 f 작업 수행시작함"
   ]
  },
  {
   "cell_type": "code",
   "execution_count": 3,
   "metadata": {},
   "outputs": [
    {
     "name": "stdout",
     "output_type": "stream",
     "text": [
      "This is my first file.\n"
     ]
    }
   ],
   "source": [
    "#주피터노트북에서 !명령어 로 운영체제 명령어 수행가능!!  \n",
    "#!type 파일명 텍스트파일내용 출력..  맥은 !cat 파일명 으로 가능 \n",
    "!type myFile.txt"
   ]
  },
  {
   "cell_type": "markdown",
   "metadata": {},
   "source": [
    " + 파일 읽기\n",
    "      1. 파일에 문자열을 쓸 때는 open 함수를 이용해서 파일객체를 얻어온다.\n",
    "      2. 얻어온 파일 객체에 read 메소드를 이용해서 문자열을 쓴다. \n",
    "      3. 모든 일이 끝나면 반드시 close 메소드를 이용해서 파일객체를 닫는다. "
   ]
  },
  {
   "cell_type": "code",
   "execution_count": null,
   "metadata": {},
   "outputs": [],
   "source": [
    "f = open('myFile.txt', 'r') #파일명, 모드\n",
    "text = f.read() #읽어온 텍스트 할당\n",
    "f.close() #실행 꼭ㄱ\n",
    "\n",
    "print(text)"
   ]
  },
  {
   "cell_type": "markdown",
   "metadata": {},
   "source": [
    "#### **반복문을 이용해 파일 읽고 쓰기**\n",
    "    - 파일에 문자열 한 줄씩 쓰기\n"
   ]
  },
  {
   "cell_type": "code",
   "execution_count": 12,
   "metadata": {},
   "outputs": [],
   "source": [
    "f = open('구구단.txt', 'w')\n",
    "for i in range(2,10):\n",
    "    f.write('2 X %d = %d \\n'%(i, 2*i))\n",
    "f.close()"
   ]
  },
  {
   "cell_type": "code",
   "execution_count": 13,
   "metadata": {},
   "outputs": [
    {
     "name": "stdout",
     "output_type": "stream",
     "text": [
      "2 X 2 = 4 \n",
      "2 X 3 = 6 \n",
      "2 X 4 = 8 \n",
      "2 X 5 = 10 \n",
      "2 X 6 = 12 \n",
      "2 X 7 = 14 \n",
      "2 X 8 = 16 \n",
      "2 X 9 = 18 \n",
      "\n"
     ]
    }
   ],
   "source": [
    "f = open('구구단.txt', 'r')\n",
    "text = f.read()\n",
    "f.close()\n",
    "print(text)"
   ]
  },
  {
   "cell_type": "markdown",
   "metadata": {},
   "source": [
    "- 리스트에 들어있는 문자열 파일에 쓰기 \n",
    "    - 파일객체.writelines(문자열리스트)\n",
    "    - <u>근데 값이 다 이어져서 써짐,,,,,</u>"
   ]
  },
  {
   "cell_type": "code",
   "execution_count": 30,
   "metadata": {},
   "outputs": [],
   "source": [
    "lines = ['hi\\n', 'python\\n', 'hehe']\n",
    "f = open('hello.txt', 'w')\n",
    "f.writelines(lines)\n",
    "f.close()"
   ]
  },
  {
   "cell_type": "code",
   "execution_count": 16,
   "metadata": {},
   "outputs": [
    {
     "name": "stdout",
     "output_type": "stream",
     "text": [
      "hipythonhehe\n"
     ]
    }
   ],
   "source": [
    "!type hello.txt"
   ]
  },
  {
   "cell_type": "markdown",
   "metadata": {},
   "source": [
    "- 파일에서 문자열 한 줄씩 읽기\n",
    "    + **readline()**"
   ]
  },
  {
   "cell_type": "code",
   "execution_count": 18,
   "metadata": {
    "scrolled": true
   },
   "outputs": [
    {
     "name": "stdout",
     "output_type": "stream",
     "text": [
      "2 X 2 = 4 \n",
      "\n"
     ]
    }
   ],
   "source": [
    "f = open('구구단.txt', 'r')\n",
    "#txt = f.read() #전체를 읽어옴\n",
    "txt = f.readline() #한줄만 읽어옴\n",
    "f.close()\n",
    "print(txt)"
   ]
  },
  {
   "cell_type": "code",
   "execution_count": 23,
   "metadata": {},
   "outputs": [
    {
     "name": "stdout",
     "output_type": "stream",
     "text": [
      "2 X 2 = 4 \n",
      "\n",
      "2 X 3 = 6 \n",
      "\n",
      "2 X 4 = 8 \n",
      "\n",
      "2 X 5 = 10 \n",
      "\n",
      "2 X 6 = 12 \n",
      "\n",
      "2 X 7 = 14 \n",
      "\n",
      "2 X 8 = 16 \n",
      "\n",
      "2 X 9 = 18 \n",
      "\n"
     ]
    }
   ],
   "source": [
    "f = open('구구단.txt', 'r')\n",
    "txt = f.readline()\n",
    "while txt:  #txt가 있을 때까지 계속 readline함.\n",
    "    print(txt)\n",
    "    txt = f.readline()\n",
    "f.close()"
   ]
  },
  {
   "cell_type": "markdown",
   "metadata": {},
   "source": [
    "- 파일의 내용을 한 줄씩 리스트로 가져오기.\n",
    "    + **readlines()**"
   ]
  },
  {
   "cell_type": "code",
   "execution_count": 26,
   "metadata": {},
   "outputs": [
    {
     "name": "stdout",
     "output_type": "stream",
     "text": [
      "['2 X 2 = 4 \\n', '2 X 3 = 6 \\n', '2 X 4 = 8 \\n', '2 X 5 = 10 \\n', '2 X 6 = 12 \\n', '2 X 7 = 14 \\n', '2 X 8 = 16 \\n', '2 X 9 = 18 \\n']\n"
     ]
    }
   ],
   "source": [
    "f = open('구구단.txt', 'r')\n",
    "txt = f.readlines() #전체 읽어와서 리스트로 반환\n",
    "f.close()\n",
    "print(txt)"
   ]
  },
  {
   "cell_type": "code",
   "execution_count": 28,
   "metadata": {
    "scrolled": true
   },
   "outputs": [
    {
     "name": "stdout",
     "output_type": "stream",
     "text": [
      "2 X 2 = 4 \n",
      "\n",
      "2 X 3 = 6 \n",
      "\n",
      "2 X 4 = 8 \n",
      "\n",
      "2 X 5 = 10 \n",
      "\n",
      "2 X 6 = 12 \n",
      "\n",
      "2 X 7 = 14 \n",
      "\n",
      "2 X 8 = 16 \n",
      "\n",
      "2 X 9 = 18 \n",
      "\n"
     ]
    }
   ],
   "source": [
    "f = open('구구단.txt', 'r')\n",
    "for txt in f:   #파일을 직접 읽어와서 사용\n",
    "    print(txt)\n",
    "f.close()"
   ]
  },
  {
   "cell_type": "code",
   "execution_count": 29,
   "metadata": {},
   "outputs": [
    {
     "name": "stdout",
     "output_type": "stream",
     "text": [
      "hipythonhehe\n"
     ]
    }
   ],
   "source": [
    "!type hello.txt"
   ]
  },
  {
   "cell_type": "code",
   "execution_count": 31,
   "metadata": {},
   "outputs": [
    {
     "name": "stdout",
     "output_type": "stream",
     "text": [
      "hi\n",
      "python\n",
      "hehe\n"
     ]
    }
   ],
   "source": [
    "!type hello.txt"
   ]
  },
  {
   "cell_type": "code",
   "execution_count": 33,
   "metadata": {},
   "outputs": [
    {
     "name": "stdout",
     "output_type": "stream",
     "text": [
      "hi\n",
      " python\n",
      " hehe\n"
     ]
    }
   ],
   "source": [
    "##참고 \n",
    "#파일 객체는 이터레이터입니다. 따라서 변수 여러 개에 저장하는 언패킹(unpacking)도 가능합니다\n",
    "\n",
    "file = open('hello.txt', 'r')\n",
    "a, b, c = file\n",
    "print(a, b, c)"
   ]
  },
  {
   "cell_type": "markdown",
   "metadata": {},
   "source": [
    "####  자동으로 file 객체를 닫아주는 with \n",
    "    - with 문의 구조\n",
    "    \n",
    "    ```\n",
    "    with open(파일이름, 파일모드) as 파일객체:\n",
    "        코드\n",
    "        \n",
    "    ``` "
   ]
  },
  {
   "cell_type": "code",
   "execution_count": 34,
   "metadata": {},
   "outputs": [],
   "source": [
    "#open은 내가 open과 close를 알아서 지정하므로 언제 close 하든 상관없음\n",
    "with open('hello.txt', 'w') as f:\n",
    "    f.write('hi~~~~1')\n",
    "    f.write('hi~~~~2')\n",
    "    f.write('hi~~~~3')\n",
    "    "
   ]
  },
  {
   "cell_type": "code",
   "execution_count": 35,
   "metadata": {
    "code_folding": []
   },
   "outputs": [
    {
     "name": "stdout",
     "output_type": "stream",
     "text": [
      "hi~~~~1hi~~~~2hi~~~~3\n"
     ]
    }
   ],
   "source": [
    "!type hello.txt"
   ]
  },
  {
   "cell_type": "code",
   "execution_count": 38,
   "metadata": {},
   "outputs": [],
   "source": [
    "with open('구구단withopen.txt', 'w') as f:\n",
    "    for i in range(2,10):\n",
    "        f.write('2 X %d = %d\\n' %(i, 2*i))"
   ]
  },
  {
   "cell_type": "code",
   "execution_count": 39,
   "metadata": {},
   "outputs": [
    {
     "name": "stdout",
     "output_type": "stream",
     "text": [
      "2 X 2 = 4\n",
      "2 X 3 = 6\n",
      "2 X 4 = 8\n",
      "2 X 5 = 10\n",
      "2 X 6 = 12\n",
      "2 X 7 = 14\n",
      "2 X 8 = 16\n",
      "2 X 9 = 18\n"
     ]
    }
   ],
   "source": [
    "!type 구구단withopen.txt"
   ]
  },
  {
   "cell_type": "code",
   "execution_count": 40,
   "metadata": {},
   "outputs": [
    {
     "name": "stdout",
     "output_type": "stream",
     "text": [
      "hello\tpython\tThis is a test\n"
     ]
    }
   ],
   "source": [
    "with open('hellopython.txt', 'w') as f:\n",
    "    f.write('hello\\t')\n",
    "    f.write('python\\t')\n",
    "    f.write('This is a test')\n",
    "!type hellopython.txt"
   ]
  },
  {
   "cell_type": "markdown",
   "metadata": {},
   "source": [
    "#### 객체를 파일에 저장하는 pickle 모듈\n",
    "    - 파이썬 객체를 파일에 저장하는 과정을 피클링(pickling)이라고 한다.\n",
    "    - 파일에서 객체를 읽어오는 과정을 언피클링(unpickling)이라고 한다. "
   ]
  },
  {
   "cell_type": "markdown",
   "metadata": {},
   "source": [
    "- 파이썬 객체를 파일에 저장하기\n",
    "    +  pickle 모듈의 dump 메서드를 사용한다\n"
   ]
  },
  {
   "cell_type": "code",
   "execution_count": 41,
   "metadata": {},
   "outputs": [],
   "source": [
    "import pickle\n",
    "name= 'kang'\n",
    "phone = '010-1111-1111'\n",
    "address = '경기도'\n",
    "\n",
    "with open('kang.txt', 'wb') as file:  #wb: binary로 쓸것이다\n",
    "    pickle.dump(name, file)  #file에 name을 쓴다\n",
    "    pickle.dump(phone, file) #file에 phone을 쓴다\n",
    "    pickle.dump(address, file) #file에 address를 쓴다\n",
    "    "
   ]
  },
  {
   "cell_type": "code",
   "execution_count": 42,
   "metadata": {},
   "outputs": [
    {
     "name": "stdout",
     "output_type": "stream",
     "text": [
      "�\u0003X\u0004\u0000\u0000\u0000kangq\u0000.�\u0003X\n",
      "\u0000\u0000\u0000010-1111-1111q\u0000.�\u0003X\t\u0000\u0000\u0000寃쎄린�룄q\u0000.\n"
     ]
    }
   ],
   "source": [
    "!type kang.txt"
   ]
  },
  {
   "cell_type": "markdown",
   "metadata": {},
   "source": [
    "- 파일에서 파이썬객체 읽기\n",
    "    - pickle 모듈의 load를 사용한다. "
   ]
  },
  {
   "cell_type": "code",
   "execution_count": 44,
   "metadata": {},
   "outputs": [
    {
     "name": "stdout",
     "output_type": "stream",
     "text": [
      "kang\n",
      "010-1111-1111\n"
     ]
    }
   ],
   "source": [
    "with open('kang.txt', 'rb') as file: #binary 모듈을 read할것이다\n",
    "    name = pickle.load(file) #한개씩,,,\n",
    "    print(name)\n",
    "    phone = pickle.load(file) \n",
    "    print(phone)"
   ]
  },
  {
   "cell_type": "markdown",
   "metadata": {},
   "source": [
    "파일 모드 종류\n",
    "\n",
    "r - 읽기모드 (디폴트)\n",
    "\n",
    "w - 쓰기모드, 파일이 있으면 모든 내용을 삭제\n",
    "\n",
    "x - 쓰기모드, 파일이 있으면 오류 발생\n",
    "\n",
    "a - 쓰기모드, 파일이 있으면 뒤에 내용을 추가\n",
    "\n",
    "+ - 읽기쓰기모드\n",
    "\n",
    "t - 텍스트 모드, 텍스트 문자 기록에 사용 (디폴트)\n",
    "\n",
    "b - 바이너리 모드, 바이트단위 데이터 기록에 사용\n",
    "\n",
    "![파일모드](027004.png)"
   ]
  },
  {
   "cell_type": "markdown",
   "metadata": {},
   "source": [
    "#### 연습문제 \n",
    "\n",
    "1. 단어를 10개 입력받아서 words.txt 파일에 저장하세요. \n",
    "\n",
    "2. 위에서 저장한 words.txt 파일에서 단어가 5자 이하인 단어의 개수를 출력하는 코드를 만들어 보세요. \n",
    "\n",
    "**가능하다면, 두 문제 모두 함수로 정의해 주세요**\n"
   ]
  },
  {
   "cell_type": "code",
   "execution_count": 6,
   "metadata": {
    "scrolled": true
   },
   "outputs": [
    {
     "name": "stdout",
     "output_type": "stream",
     "text": [
      "단어1\n",
      "단어2\n",
      "단어3\n",
      "단어4\n",
      "단어5\n",
      "단어6\n",
      "단어7\n",
      "단어8\n",
      "단어9\n",
      "단어10\n"
     ]
    }
   ],
   "source": [
    "def words_save():\n",
    "    f = open('words.txt', 'w')\n",
    "    for i in range(10):\n",
    "        f.write(input())\n",
    "        f.write('\\n')\n",
    "    f.close()\n",
    "words_save()"
   ]
  },
  {
   "cell_type": "code",
   "execution_count": 7,
   "metadata": {},
   "outputs": [
    {
     "name": "stdout",
     "output_type": "stream",
     "text": [
      "단어1\n",
      "단어2\n",
      "단어3\n",
      "단어4\n",
      "단어5\n",
      "단어6\n",
      "단어7\n",
      "단어8\n",
      "단어9\n",
      "단어10\n"
     ]
    }
   ],
   "source": [
    "!type words.txt"
   ]
  },
  {
   "cell_type": "code",
   "execution_count": 11,
   "metadata": {},
   "outputs": [
    {
     "name": "stdout",
     "output_type": "stream",
     "text": [
      "['단어1\\n', '단어2\\n', '단어3\\n', '단어4\\n', '단어5\\n', '단어6\\n', '단어7\\n', '단어8\\n', '단어9\\n', '단어10\\n']\n",
      "단어1\n",
      "\n",
      "단어2\n",
      "\n",
      "단어3\n",
      "\n",
      "단어4\n",
      "\n",
      "단어5\n",
      "\n",
      "단어6\n",
      "\n",
      "단어7\n",
      "\n",
      "단어8\n",
      "\n",
      "단어9\n",
      "\n",
      "단어10\n",
      "\n"
     ]
    }
   ],
   "source": [
    "def short_words():\n",
    "    with open('words.txt', 'r') as file:\n",
    "        words = file.readlines()\n",
    "        print(words)\n",
    "        for word in words:\n",
    "            if len(word) <= 5:\n",
    "                print(word)\n",
    "short_words()"
   ]
  },
  {
   "cell_type": "code",
   "execution_count": null,
   "metadata": {},
   "outputs": [],
   "source": []
  }
 ],
 "metadata": {
  "anaconda-cloud": {},
  "kernelspec": {
   "display_name": "Python 3",
   "language": "python",
   "name": "python3"
  },
  "language_info": {
   "codemirror_mode": {
    "name": "ipython",
    "version": 3
   },
   "file_extension": ".py",
   "mimetype": "text/x-python",
   "name": "python",
   "nbconvert_exporter": "python",
   "pygments_lexer": "ipython3",
   "version": "3.7.4"
  },
  "latex_envs": {
   "LaTeX_envs_menu_present": false,
   "autoclose": false,
   "autocomplete": false,
   "bibliofile": "biblio.bib",
   "cite_by": "apalike",
   "current_citInitial": 1,
   "eqLabelWithNumbers": false,
   "eqNumInitial": 1,
   "hotkeys": {
    "equation": "Ctrl-E",
    "itemize": "Ctrl-I"
   },
   "labels_anchors": false,
   "latex_user_defs": false,
   "report_style_numbering": false,
   "user_envs_cfg": false
  },
  "nav_menu": {},
  "toc": {
   "nav_menu": {
    "height": "252px",
    "width": "252px"
   },
   "number_sections": false,
   "sideBar": true,
   "skip_h1_title": false,
   "toc_cell": false,
   "toc_position": {
    "height": "545px",
    "left": "0px",
    "right": "984px",
    "top": "111px",
    "width": "382px"
   },
   "toc_section_display": "block",
   "toc_window_display": false
  },
  "toc_position": {
   "height": "533px",
   "left": "0px",
   "right": "1045.17px",
   "top": "107px",
   "width": "207px"
  }
 },
 "nbformat": 4,
 "nbformat_minor": 1
}
