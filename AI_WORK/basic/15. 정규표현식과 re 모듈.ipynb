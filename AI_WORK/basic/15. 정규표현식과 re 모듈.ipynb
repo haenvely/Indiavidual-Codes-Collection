{
 "cells": [
  {
   "cell_type": "markdown",
   "metadata": {},
   "source": [
    "## 학습목표\n",
    " 1. 정규표현식(Regular Expression) 에 대해 이해하고 활용할 수 있다. "
   ]
  },
  {
   "cell_type": "markdown",
   "metadata": {},
   "source": [
    "### 정규표현식 \n",
    " - 일정한 규칙(패턴)을 가진 문자열을 표현하는 방법이다.\n",
    " - 특정한 패턴과 일치하는 문자열를 '검색', '치환', '제거' 하는 기능을 지원한다.\n",
    " - 문자열이 정해진 규칙에 맞는지 판단할 때도 사용된다. "
   ]
  },
  {
   "cell_type": "code",
   "execution_count": 1,
   "metadata": {},
   "outputs": [],
   "source": [
    "import re"
   ]
  },
  {
   "cell_type": "code",
   "execution_count": 5,
   "metadata": {},
   "outputs": [
    {
     "name": "stdout",
     "output_type": "stream",
     "text": [
      "패턴\n"
     ]
    }
   ],
   "source": [
    "text = \"특정한 패턴과 일치하는 문자열를 '검색', '치환', '제거' 하는 기능을 지원한다.\"\n",
    "\n",
    "re.compile('패턴') #객체 자체를 리턴\n",
    "regex = re.compile('오혜인')\n",
    "regex2 = re.compile('패턴')\n",
    "\n",
    "regex.search(text) #'오혜인'을 가진 객체를 text에서 찾음. 없으면 None\n",
    "regex2.search(text) #결과가 있음 : Match Object라는게 리턴됨\n",
    "mo = regex2.search(text)\n",
    "\n",
    "if mo != None:\n",
    "    print(mo.group())  #mo 오브젝트가 가진 group함수를 이용하면 실제 객체를 리턴"
   ]
  },
  {
   "cell_type": "markdown",
   "metadata": {},
   "source": [
    "* **raw string**\n",
    " - 문자열 앞에 r이 붙으면 해당 문자열이 구성된 그대로 문자열로 변환한다.\n",
    " \n",
    "즉, 정규표현식 패턴에 해당하는 문자가 들어가더라도 정규표현식 패턴으로 해석하지 않고 문자열로 인식해줌"
   ]
  },
  {
   "cell_type": "code",
   "execution_count": 6,
   "metadata": {
    "scrolled": true
   },
   "outputs": [
    {
     "name": "stdout",
     "output_type": "stream",
     "text": [
      "이것은문자열입니다\t이것은문자열입니다\t또문자열입니다\n",
      "이것은문자열입니다\\t이것은문자열입니다\\t또문자열입니다\n"
     ]
    }
   ],
   "source": [
    "a = '이것은문자열입니다\\t이것은문자열입니다\\t또문자열입니다'\n",
    "print(a)\n",
    "\n",
    "b = r'이것은문자열입니다\\t이것은문자열입니다\\t또문자열입니다'\n",
    "print(b)"
   ]
  },
  {
   "cell_type": "markdown",
   "metadata": {},
   "source": [
    "| 패턴  | 설명 | 예제         |\n",
    "| :------------ | :-----------: |:------------------- |\n",
    "|^     | 이 패턴으로 종료되어야 함         | ^abc: (abcd,abccc,abc13 등) |\n",
    "| &#36;| 이 패턴으로 종료 되어야 함      | xyz&#36;:   (123xyz, strxyz 등)|\n",
    "| &#124;    | 두 패턴 중 하나이어야 함 (OR 기능)|a &#124; b : a 또는 b 이어야 함|\n",
    "| ?     | 앞 패턴이 없거나 하나이어야 함 (Optional 패턴을 정의할 때 사용)|\\d? : 숫자가 하나 있거나 없어야 함|\n",
    "|+    |앞 패턴이 하나 이상이어야 함            |\\d+ : 숫자가 하나 이상이어야 함|\n",
    "|*    |앞 패턴이 0개 이상이어야 함            |\\d* : 숫자가 없거나 하나 이상이어야 함|\n",
    "|[문자들]    |문자들 중에 하나이어야 함. 가능한 문자들의 집합을 정의함.|[Pp]ython : \"Python\" 혹은 \"python\"|\n",
    "|[^문자들]   |[문자들]의 반대로 피해야할 문자들의 집합을 정의함.|[^aeiou] : 소문자 모음이 아닌 문자들|\n",
    "|패턴{n}   |앞 패턴이 n번 반복해서 나타나는 경우           |\\d{3} : 숫자가 3개 있어야 함|\n",
    "|패턴{n, m}   |앞 패턴이 최소 n번, 최대 m 번 반복해서 나타나는 경우 (n 또는 m 은 생략 가능)      |\\d{3,5} : 숫자가 3개, 4개 혹은 5개 있어야 함|\n",
    "|\\d   |숫자 0 ~ 9       |\\d\\d\\d : 0 ~ 9 범위의 숫자가 3개를 의미 (123, 000 등)|\n",
    "|\\w |문자를 의미       |\\w\\w\\w : 문자가 3개를 의미 (xyz, ABC 등)|\n",
    "|\\s |화이트 스페이스를 의미하는데, [\\t\\n\\r\\f] 와 동일       |\\s\\s : 화이트 스페이스 문자 2개 의미 (\\r\\n, \\t\\t 등)|\n",
    "|.   |뉴라인(\\n) 을 제외한 모든 문자를 의미 |.{3}: 문자 3개 (c1#,9x0,공백 등)|\n",
    "\n",
    "\n",
    "\n",
    "\n",
    " - 자세한 내용은 링크 참조 https://docs.python.org/3/library/re.html"
   ]
  },
  {
   "cell_type": "code",
   "execution_count": 12,
   "metadata": {},
   "outputs": [
    {
     "name": "stdout",
     "output_type": "stream",
     "text": [
      "['ab 1111', 'ab 2']\n",
      "<re.Match object; span=(0, 7), match='ab 1111'>\n",
      "ab 1111\n"
     ]
    }
   ],
   "source": [
    "text = 'ab 1111 : 안녕 abdkfjdk 111 ab9999 ab 2 cd 232 ab    35'\n",
    "regex = re.compile('ab\\s\\d+')  #ab+공백+숫자복수개\n",
    "mo = regex.findall(text)\n",
    "print(mo)\n",
    "mo2 = regex.search(text)  #첫번째꺼만 리턴함\n",
    "print(mo2)\n",
    "print(mo2.group())"
   ]
  },
  {
   "cell_type": "code",
   "execution_count": 67,
   "metadata": {},
   "outputs": [
    {
     "name": "stdout",
     "output_type": "stream",
     "text": [
      "['ab 1111', 'ab9999', 'ab 2']\n",
      "<re.Match object; span=(0, 7), match='ab 1111'>\n",
      "ab 1111\n"
     ]
    }
   ],
   "source": [
    "text = 'ab 1111 : 안녕 abdkfjdk 111 ab9999 ab 2 cd 232 ab    35'\n",
    "regex = re.compile('ab.\\d+') #ab모든문자(1개)숫자(여러개)\n",
    "mo = regex.findall(text) #모두 리스트로 반환\n",
    "print(mo)\n",
    "mo2 = regex.search(text)  #첫번째꺼만 리턴함\n",
    "print(mo2)\n",
    "print(mo2.group())"
   ]
  },
  {
   "cell_type": "markdown",
   "metadata": {},
   "source": [
    "#### **search method**\n",
    " - 첫번째로 패턴을 찾으면 match 객체를 반환한다.\n",
    " - 패턴을 찾지 못하면 None 반환한다.\n",
    " \n",
    " - re.search(패턴 문자열, 전체 문자열)\n",
    " - 객체에 할당한뒤, 객체.group()\n",
    " \n",
    " OR\n",
    " \n",
    " - 객체 = re.compile(패턴) 한 뒤 객체.search()"
   ]
  },
  {
   "cell_type": "code",
   "execution_count": 14,
   "metadata": {},
   "outputs": [],
   "source": [
    "re.search(r'abc', '13232324231asdfwert') #None이라서 아무것도 리턴 안됨. None."
   ]
  },
  {
   "cell_type": "code",
   "execution_count": 23,
   "metadata": {},
   "outputs": [
    {
     "name": "stdout",
     "output_type": "stream",
     "text": [
      "<re.Match object; span=(0, 12), match='13232324231a'>\n",
      "13232324231a\n"
     ]
    }
   ],
   "source": [
    "m1 = re.search(r'\\d+\\w', '13232324231asdfwert fdq')\n",
    "print(m1)\n",
    "print(m1.group())"
   ]
  },
  {
   "cell_type": "code",
   "execution_count": 21,
   "metadata": {},
   "outputs": [
    {
     "name": "stdout",
     "output_type": "stream",
     "text": [
      "13\n"
     ]
    }
   ],
   "source": [
    "# 아니면 패턴을 컴파일해서 패턴.search 형태로\n",
    "regex = re.compile(r'\\d\\w')\n",
    "m2 = regex.search('13232324231asdfwert fdq')\n",
    "print(m2.group())"
   ]
  },
  {
   "cell_type": "code",
   "execution_count": null,
   "metadata": {},
   "outputs": [],
   "source": []
  },
  {
   "cell_type": "markdown",
   "metadata": {},
   "source": [
    "#### **metacharacters (메타 캐릭터)**"
   ]
  },
  {
   "cell_type": "markdown",
   "metadata": {},
   "source": [
    "#### **[]** 문자들의 범위를 나타내기 위해 사용한다.\n",
    "   - [] 내부의 메타 캐릭터는 캐릭터 자체를 나타낸다.\n",
    "  \n",
    "   - [abck] : a or b or c or k\n",
    "   - [abc.^] : a or b or c or . or ^\n",
    "   - [a-d]  : -와 함께 사용되면 해당 문자 사이의 범위에 속하는 문자 중 하나\n",
    "   - [0-9]  : 모든 숫자\n",
    "   - [a-z]  : 모든 소문자\n",
    "   - [A-Z]  : 모든 대문자\n",
    "   - [a-zA-Z0-9] : 모든 알파벳 문자 및 숫자\n",
    "   - [^0-9] : ^가 맨 앞에 사용 되는 경우 해당 문자 패턴이 아닌 것과 매칭"
   ]
  },
  {
   "cell_type": "code",
   "execution_count": 24,
   "metadata": {},
   "outputs": [],
   "source": [
    "re.search(r'[0-5]at', '8at') #012345까지만"
   ]
  },
  {
   "cell_type": "code",
   "execution_count": 25,
   "metadata": {},
   "outputs": [],
   "source": [
    "re.search(r'[cbm]at', 'fat')"
   ]
  },
  {
   "cell_type": "code",
   "execution_count": 26,
   "metadata": {},
   "outputs": [],
   "source": [
    "re.search(r'[abc.^]at', 'tat')"
   ]
  },
  {
   "cell_type": "code",
   "execution_count": 27,
   "metadata": {},
   "outputs": [
    {
     "data": {
      "text/plain": [
       "<re.Match object; span=(0, 3), match='fat'>"
      ]
     },
     "execution_count": 27,
     "metadata": {},
     "output_type": "execute_result"
    }
   ],
   "source": [
    "re.search(r'[^0-9]at','fat')"
   ]
  },
  {
   "cell_type": "markdown",
   "metadata": {},
   "source": [
    "#### **\\** \n",
    " 1. 다른 문자와 함께 사용되어 특수한 의미를 지님\n",
    "   - \\d : 숫자를          [0-9]와 동일\n",
    "   - \\D : 숫자가 아닌 문자  [^0-9]와 동일\n",
    "   - \\s : 공백 문자(띄어쓰기, 탭, 엔터 등)\n",
    "   - \\S : 공백이 아닌 문자\n",
    "   - \\w : 알파벳대소문자, 숫자 [0-9a-zA-Z]와 동일\n",
    "   - \\W : non alpha-numeric 문자 [^0-9a-zA-Z]와 동일\n",
    " 2. 메타 캐릭터가 캐릭터 자체를 표현하도록 할 경우 사용\n",
    "   - \\\\. , \\\\\\\n"
   ]
  },
  {
   "cell_type": "code",
   "execution_count": 28,
   "metadata": {},
   "outputs": [
    {
     "data": {
      "text/plain": [
       "<re.Match object; span=(6, 10), match='bana'>"
      ]
     },
     "execution_count": 28,
     "metadata": {},
     "output_type": "execute_result"
    }
   ],
   "source": [
    "re.search(r'\\Sana', 'apple banana anana land')"
   ]
  },
  {
   "cell_type": "code",
   "execution_count": 29,
   "metadata": {},
   "outputs": [
    {
     "data": {
      "text/plain": [
       "<re.Match object; span=(12, 16), match=' ana'>"
      ]
     },
     "execution_count": 29,
     "metadata": {},
     "output_type": "execute_result"
    }
   ],
   "source": [
    "re.search(r'\\sana', 'apple banana anana land')"
   ]
  },
  {
   "cell_type": "code",
   "execution_count": 31,
   "metadata": {},
   "outputs": [
    {
     "data": {
      "text/plain": [
       "<re.Match object; span=(6, 10), match='bana'>"
      ]
     },
     "execution_count": 31,
     "metadata": {},
     "output_type": "execute_result"
    }
   ],
   "source": [
    "re.search(r'.ana', 'apple banana anana land')  # .은 모든 문자 의미"
   ]
  },
  {
   "cell_type": "code",
   "execution_count": 32,
   "metadata": {},
   "outputs": [
    {
     "data": {
      "text/plain": [
       "<re.Match object; span=(6, 10), match=' ana'>"
      ]
     },
     "execution_count": 32,
     "metadata": {},
     "output_type": "execute_result"
    }
   ],
   "source": [
    "re.search(r'.ana', 'apple  ananana banana anana land')  # .은 모든 문자 의미"
   ]
  },
  {
   "cell_type": "code",
   "execution_count": 33,
   "metadata": {},
   "outputs": [
    {
     "data": {
      "text/plain": [
       "<re.Match object; span=(24, 29), match='b.ana'>"
      ]
     },
     "execution_count": 33,
     "metadata": {},
     "output_type": "execute_result"
    }
   ],
   "source": [
    "re.search(r'b\\.ana', 'apple banana anana land b.ana')  # .은 모든 문자 의미"
   ]
  },
  {
   "cell_type": "markdown",
   "metadata": {},
   "source": []
  },
  {
   "cell_type": "markdown",
   "metadata": {},
   "source": [
    "#### **반복패턴**\n",
    " - 패턴 뒤에 위치하는 *, +, ?는 해당 패턴이 반복적으로 존재하는지 검사한다. \n",
    "   - '+' -> 1번 이상의 패턴이 발생\n",
    "   - '*' -> 0번 이상의 패턴이 발생\n",
    "   - '?' -> 0 혹은 1번의 패턴이 발생"
   ]
  },
  {
   "cell_type": "code",
   "execution_count": 39,
   "metadata": {},
   "outputs": [
    {
     "data": {
      "text/plain": [
       "['a', 'anana', 'anana', 'an']"
      ]
     },
     "execution_count": 39,
     "metadata": {},
     "output_type": "execute_result"
    }
   ],
   "source": [
    "re.search(r'a[na]*', 'apple banana anana land') \n",
    "\n",
    "re.findall(r'a[na]*', 'apple banana anana land') "
   ]
  },
  {
   "cell_type": "code",
   "execution_count": 36,
   "metadata": {},
   "outputs": [
    {
     "data": {
      "text/plain": [
       "<re.Match object; span=(0, 8), match='abcbcbcb'>"
      ]
     },
     "execution_count": 36,
     "metadata": {},
     "output_type": "execute_result"
    }
   ],
   "source": [
    "re.search(r'a[bc]+b', 'abcbcbcb')"
   ]
  },
  {
   "cell_type": "code",
   "execution_count": 38,
   "metadata": {},
   "outputs": [
    {
     "name": "stdout",
     "output_type": "stream",
     "text": [
      "d\n"
     ]
    }
   ],
   "source": [
    "m1 = re.search(r'a?d', 'abcd') #a가 있거나 없거나.\n",
    "print(m1.group())"
   ]
  },
  {
   "cell_type": "code",
   "execution_count": 40,
   "metadata": {},
   "outputs": [
    {
     "data": {
      "text/plain": [
       "<re.Match object; span=(0, 2), match='ab'>"
      ]
     },
     "execution_count": 40,
     "metadata": {},
     "output_type": "execute_result"
    }
   ],
   "source": [
    "re.search(r'a+b', 'abc')"
   ]
  },
  {
   "cell_type": "code",
   "execution_count": 41,
   "metadata": {},
   "outputs": [
    {
     "data": {
      "text/plain": [
       "<re.Match object; span=(0, 5), match='https'>"
      ]
     },
     "execution_count": 41,
     "metadata": {},
     "output_type": "execute_result"
    }
   ],
   "source": [
    "re.search(r'https?', 'https://www.naver.com/')"
   ]
  },
  {
   "cell_type": "code",
   "execution_count": null,
   "metadata": {},
   "outputs": [],
   "source": []
  },
  {
   "cell_type": "markdown",
   "metadata": {},
   "source": [
    "#### **^**, **$**\n",
    " - ^  문자열의 맨 앞부터 일치하는 경우 검색\n",
    " - \\$  문자열의 맨 뒤부터 일치하는 경우 검색"
   ]
  },
  {
   "cell_type": "code",
   "execution_count": 42,
   "metadata": {},
   "outputs": [
    {
     "data": {
      "text/plain": [
       "<re.Match object; span=(1, 12), match='bcbcbcbcbca'>"
      ]
     },
     "execution_count": 42,
     "metadata": {},
     "output_type": "execute_result"
    }
   ],
   "source": [
    "re.search(r'b\\w+a', 'abcbcbcbcbcacb') #b로 시작해서 문자열여러개 + a"
   ]
  },
  {
   "cell_type": "code",
   "execution_count": 44,
   "metadata": {},
   "outputs": [],
   "source": [
    "re.search(r'^b\\w+a', 'abcbcbcacb bcwera') #a로 시작한 문자열임"
   ]
  },
  {
   "cell_type": "code",
   "execution_count": 47,
   "metadata": {},
   "outputs": [
    {
     "data": {
      "text/plain": [
       "<re.Match object; span=(0, 11), match='bcbcbcacbra'>"
      ]
     },
     "execution_count": 47,
     "metadata": {},
     "output_type": "execute_result"
    }
   ],
   "source": [
    "re.search(r'^b\\w+a$', 'bcbcbcacbra') #끝나는게 a로 안끝나면 안됨"
   ]
  },
  {
   "cell_type": "code",
   "execution_count": 48,
   "metadata": {},
   "outputs": [
    {
     "data": {
      "text/plain": [
       "<re.Match object; span=(0, 17), match='test123@gmail.com'>"
      ]
     },
     "execution_count": 48,
     "metadata": {},
     "output_type": "execute_result"
    }
   ],
   "source": [
    "#이메일 찾기\n",
    "\n",
    "re.search(r'[0-9a-zA-Z]+@.+','test123@gmail.com')"
   ]
  },
  {
   "cell_type": "code",
   "execution_count": null,
   "metadata": {},
   "outputs": [],
   "source": []
  },
  {
   "cell_type": "markdown",
   "metadata": {},
   "source": [
    " #### **grouping**\n",
    "  - ()을 사용하여 그루핑한다.\n",
    "  - 매칭 결과를 각 그룹별로 분리 가능하다.\n",
    "  - 패턴 명시 할 때, 각 그룹을 괄호() 안에 넣어 분리하여 사용한다."
   ]
  },
  {
   "cell_type": "code",
   "execution_count": 51,
   "metadata": {},
   "outputs": [
    {
     "name": "stdout",
     "output_type": "stream",
     "text": [
      "test123\n",
      "gmail.com\n",
      "test123@gmail.com\n",
      "test123@gmail.com\n"
     ]
    }
   ],
   "source": [
    "m = re.search(r'(\\w+)@(.+)','test123@gmail.com')\n",
    "print(m.group(1))   #첫번째 그룹\n",
    "print(m.group(2)) #두번째 그룹\n",
    "print(m.group()) #전체 리턴\n",
    "print(m.group(0))  #전체"
   ]
  },
  {
   "cell_type": "markdown",
   "metadata": {},
   "source": [
    "연습문제\n",
    "#여기서 전화번호를 빼오자\n",
    "#이동통신사 번호 OR 지역번호 따로따로\n",
    "#전화번호를 각각 값을 얻고 싶을 때!\n"
   ]
  },
  {
   "cell_type": "code",
   "execution_count": 52,
   "metadata": {},
   "outputs": [],
   "source": [
    "text = '잘 이해가 되지 않거나, 궁금한 내용이 있다면 010-2222-3333으로 연락주세요.'\n",
    "text2 = '잘 이해가 되지 않거나, 궁금한 내용이 있다면 031-965-3333으로 연락주세요.'\n",
    "\n",
    "#여기서 전화번호를 빼오자\n",
    "\n",
    "#이동통신사 번호 OR 지역번호 따로따로\n",
    "# 전화번호를 각각 값을 얻고 싶을 때!"
   ]
  },
  {
   "cell_type": "code",
   "execution_count": 56,
   "metadata": {},
   "outputs": [
    {
     "name": "stdout",
     "output_type": "stream",
     "text": [
      "010\n",
      "2222\n"
     ]
    }
   ],
   "source": [
    "m = re.search(r'([0-9]+)-([0-9]+)-([0-9]+)',text)\n",
    "print(m.group(1))\n",
    "print(m.group(2))"
   ]
  },
  {
   "cell_type": "code",
   "execution_count": 55,
   "metadata": {},
   "outputs": [
    {
     "name": "stdout",
     "output_type": "stream",
     "text": [
      "010\n",
      "2222-3333\n"
     ]
    }
   ],
   "source": [
    "m = re.search(r'(\\d+)-(\\d+\\-\\d+)', text)\n",
    "print(m.group(1))\n",
    "print(m.group(2))"
   ]
  },
  {
   "cell_type": "markdown",
   "metadata": {},
   "source": [
    " #### **{}**\n",
    "  - *, +, ?을 사용하여 반복적인 패턴을 찾는 것이 가능하나, 반복의 횟수 제한은 불가능하다.\n",
    "  - 패턴뒤에 위치하는 중괄호{}에 숫자를 명시하면 해당 숫자 만큼의 반복인 경우에만 매칭한다.\n",
    "  - {5} - 5번 반복\n",
    "  - {3,7} - 3 ~ 7번 반복"
   ]
  },
  {
   "cell_type": "code",
   "execution_count": 59,
   "metadata": {},
   "outputs": [],
   "source": [
    "text = '잘 이해가 되지 않거나, 궁금한 내용이 있다면 010-2222-3333으로 연락주세요.'\n",
    "text2 = '잘 이해가 되지 않거나, 궁금한 내용이 있다면 031-965-3333으로 연락주세요.'"
   ]
  },
  {
   "cell_type": "code",
   "execution_count": 60,
   "metadata": {},
   "outputs": [
    {
     "name": "stdout",
     "output_type": "stream",
     "text": [
      "010\n",
      "2222-3333\n"
     ]
    }
   ],
   "source": [
    "m = re.search('(\\d{3})-(\\d{3,4}-\\d{4})', text)\n",
    "print(m.group(1))\n",
    "print(m.group(2))"
   ]
  },
  {
   "cell_type": "code",
   "execution_count": 61,
   "metadata": {},
   "outputs": [
    {
     "name": "stdout",
     "output_type": "stream",
     "text": [
      "031\n",
      "965-3333\n"
     ]
    }
   ],
   "source": [
    "m = re.search('(\\d{2,3})-(\\d{3,4}-\\d{4})', text2)\n",
    "print(m.group(1))\n",
    "print(m.group(2))"
   ]
  },
  {
   "cell_type": "markdown",
   "metadata": {},
   "source": [
    "###### (?P<그룹명>패턴~~)\n",
    "group(1) 처럼 n번째 그룹으로 소환하는 대신 \n",
    "\n",
    "group('그룹명')으로 소환할 수 있다"
   ]
  },
  {
   "cell_type": "code",
   "execution_count": 64,
   "metadata": {},
   "outputs": [
    {
     "name": "stdout",
     "output_type": "stream",
     "text": [
      "010\n",
      "2222-3333\n"
     ]
    }
   ],
   "source": [
    "m = re.search('(?P<이동통신사번호>\\d{3})-(?P<전화번호>\\d{3,4}-\\d{4})', text)\n",
    "print(m.group('이동통신사번호'))\n",
    "print(m.group('전화번호'))"
   ]
  },
  {
   "cell_type": "code",
   "execution_count": 63,
   "metadata": {},
   "outputs": [
    {
     "name": "stdout",
     "output_type": "stream",
     "text": [
      "031\n",
      "965-3333\n"
     ]
    }
   ],
   "source": [
    "m = re.search('(?P<지역번호>\\d{2,3})-(?P<전화번호>\\d{3,4}-\\d{4})', text2)\n",
    "print(m.group('지역번호'))\n",
    "print(m.group('전화번호'))"
   ]
  },
  {
   "cell_type": "markdown",
   "metadata": {},
   "source": [
    "#### **findall**\n",
    " - search가 최초로 매칭되는 패턴만 반환한다면, findall은 매칭되는 전체의 패턴을 반환한다.\n",
    " - 매칭되는 모든 결과를 리스트 형태로 반환한다."
   ]
  },
  {
   "cell_type": "code",
   "execution_count": null,
   "metadata": {},
   "outputs": [],
   "source": []
  },
  {
   "cell_type": "code",
   "execution_count": null,
   "metadata": {},
   "outputs": [],
   "source": []
  },
  {
   "cell_type": "code",
   "execution_count": null,
   "metadata": {},
   "outputs": [],
   "source": []
  }
 ],
 "metadata": {
  "kernelspec": {
   "display_name": "Python 3",
   "language": "python",
   "name": "python3"
  },
  "language_info": {
   "codemirror_mode": {
    "name": "ipython",
    "version": 3
   },
   "file_extension": ".py",
   "mimetype": "text/x-python",
   "name": "python",
   "nbconvert_exporter": "python",
   "pygments_lexer": "ipython3",
   "version": "3.7.4"
  }
 },
 "nbformat": 4,
 "nbformat_minor": 1
}
