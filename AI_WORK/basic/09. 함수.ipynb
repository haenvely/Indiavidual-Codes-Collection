{
 "cells": [
  {
   "cell_type": "markdown",
   "metadata": {},
   "source": [
    "### 학습목표\n",
    " 1. 함수를 이해하고 활용 할 수 있다."
   ]
  },
  {
   "cell_type": "markdown",
   "metadata": {},
   "source": [
    "### 함수란?\n",
    "* 지금까지 무심코 코드에서 사용된 많은 함수들이 존재 한다.\n",
    "* 예를들면, sum, len, range 같은 함수 등이 있다. \n",
    "* 함수란 우리가 알고있는 개념처럼 주어진 입력(input)에 대해서 의도된 출력(output)를 전달하는 역할을 한다.\n",
    "\n",
    "* python 내부에 이미 정의(구현)된 함수를 내장함수(built-in function)이라고 한다."
   ]
  },
  {
   "cell_type": "code",
   "execution_count": 1,
   "metadata": {},
   "outputs": [
    {
     "data": {
      "text/plain": [
       "4"
      ]
     },
     "execution_count": 1,
     "metadata": {},
     "output_type": "execute_result"
    }
   ],
   "source": [
    "a  = [1,2,3,4]\n",
    "length = len(a)\n",
    "length"
   ]
  },
  {
   "cell_type": "markdown",
   "metadata": {},
   "source": [
    "#### **함수의 정의**\n",
    "\n",
    "```\n",
    "def 함수명(매개변수):\n",
    "    수행할문장들..\n",
    "    \n",
    "```\n",
    "  + def 키워드 사용한다.\n",
    "  + 매개변수란 함수에 입력으로 전달하는 값을 의미한다.parameter라고 한다.\n",
    "  + : (콜론) \n",
    "  + body (함수의 구현 부분, 함수 역시 코드 블록이기 때문에 들여쓰기 된 부분까지 함수의 코드블록으로 인지 함)\n",
    "    - 함수를 호출한 코드 (caller)로 함수가 해당 기능을 수행하고 완료된 값(output)을 전달하기 위해 return 키워드 사용한다.\n",
    "    - 즉, return 이후에 오는 값을 caller로 전달한다.\n",
    "  + 함수의 네이밍 무척 중요하다.\n",
    "    - 즉, 어떤 기능을 하는 함수인지 이름으로 최대한 나타날 수 있게 해야한다."
   ]
  },
  {
   "cell_type": "code",
   "execution_count": 2,
   "metadata": {},
   "outputs": [],
   "source": [
    "def add(x, y): #매개변수 파라미터. x, y\n",
    "    result = x + y\n",
    "    return result"
   ]
  },
  {
   "cell_type": "markdown",
   "metadata": {},
   "source": [
    "#### **함수의 사용(호출)**\n",
    " + 함수명(argument1, argument2, ... argumentn) 인자 = argument\n",
    " + 위와 같이 정의 된 함수의 이름과 전달되는 argument(인수)를 괄호안에 전달하여 함수를 호출\n",
    " + 함수가 호출되면 실행의 흐름이 호출자(caller)에서 함수(callee)로 변경 된다."
   ]
  },
  {
   "cell_type": "code",
   "execution_count": 4,
   "metadata": {},
   "outputs": [
    {
     "name": "stdout",
     "output_type": "stream",
     "text": [
      "39\n"
     ]
    }
   ],
   "source": [
    "result = add(19, 20) #인자 19, 20\n",
    "print(result)"
   ]
  },
  {
   "cell_type": "code",
   "execution_count": 5,
   "metadata": {},
   "outputs": [
    {
     "data": {
      "text/plain": [
       "9"
      ]
     },
     "execution_count": 5,
     "metadata": {},
     "output_type": "execute_result"
    }
   ],
   "source": [
    "#함수 이름:\n",
    "def minus(x, y):\n",
    "    result = x - y\n",
    "    return result\n",
    "minus(16,7)"
   ]
  },
  {
   "cell_type": "markdown",
   "metadata": {},
   "source": [
    "#### **parameter**\n",
    " + 함수에 전달되는 입력(input)\n",
    " + 입력이 필요하지 않을 수도, 1개의 입력만 있을 수도, 여러개의 입력이 존재할 수 도 있다.\n",
    " + 파라미터로 int, string, float, boolm, list, dict 등등 어떤 파이썬 객체도 전달 가능하다.\n",
    " + <u>심지어, 함수도 함수의 파라미터로 전달 가능하다.</u>\n",
    " \n",
    " + python의 경우, 타입 명시가 없기 때문에, 함수 생성 시, 의도된 파라미터의 타입에 맞게 입력을 전달하는 것이 중요하다.\n",
    " + 또한 파라미터를 전달 할 때, 정의된 순서에 따라 값을 전달하는 것이 중요하다.\n"
   ]
  },
  {
   "cell_type": "code",
   "execution_count": 8,
   "metadata": {},
   "outputs": [
    {
     "name": "stdout",
     "output_type": "stream",
     "text": [
      "hahah\n"
     ]
    }
   ],
   "source": [
    "def show():\n",
    "    print('hahah')\n",
    "\n",
    "show()"
   ]
  },
  {
   "cell_type": "code",
   "execution_count": 12,
   "metadata": {},
   "outputs": [
    {
     "name": "stdout",
     "output_type": "stream",
     "text": [
      "10\n",
      "20\n",
      "30\n",
      "10\n",
      "20\n",
      "30\n",
      "10\n",
      "20\n",
      "30\n"
     ]
    }
   ],
   "source": [
    "def print_num(a, b, c):\n",
    "    print(a)\n",
    "    print(b)\n",
    "    print(c)\n",
    "    \n",
    "print_num(10,20,30)\n",
    "\n",
    "x = [10, 20, 30]\n",
    "\n",
    "#print_num(x) #에러. 안된다.\n",
    "\n",
    "#UNPACKING 언패킹 사용해서 실행하기!!\n",
    "print_num(*x)\n",
    "y =  (10,20,30)\n",
    "print_num(*y)\n",
    "\n",
    "# 주의 할 점은 언패킹했을 때 리스트 내 요소의 갯수와 인자의 갯수가 같아야함!"
   ]
  },
  {
   "cell_type": "markdown",
   "metadata": {},
   "source": [
    "####  Default parameter (기본 인자) \n",
    " + 함수의 파라미터에 기본값 지정 가능하다.\n",
    " + 파라미터를 명시하지 않을 경우, 지정된 기본값으로 대체한다.\n",
    " + 디폴트 파라미터 뒤에 일반 파라미터가 위치할 수 없다. "
   ]
  },
  {
   "cell_type": "code",
   "execution_count": 20,
   "metadata": {},
   "outputs": [
    {
     "name": "stdout",
     "output_type": "stream",
     "text": [
      "60\n",
      "20\n",
      "25\n",
      "25\n"
     ]
    }
   ],
   "source": [
    "#기본값이 정해져있는 것은 인자를 주지 않아도 사용가능하다\n",
    "#인자의 값이 들어오면 default 인자 값은 안씀! \n",
    "def add(x, y=10, z=5):\n",
    "    return x + y + z\n",
    "\n",
    "print(add(10,20,30))\n",
    "print(add(10,5))\n",
    "print(add(10))\n",
    "\n",
    "print(add(10, z = 5))"
   ]
  },
  {
   "cell_type": "code",
   "execution_count": null,
   "metadata": {},
   "outputs": [],
   "source": [
    "#default 인자는 뒤에 존재해야한다.\n",
    "\n",
    "def add(x, y=10, z = 5, i):\n",
    "    return x+y+z\n",
    "#이경우 에러난다. i는 값이 없으니 받아들여야하는데 인자가 쓰일 곳이 없으니 에러남\n",
    "\n",
    "#올바른 예\n",
    "def add(x, i, y=10, z = 5):\n",
    "    return x + y + z\n",
    "add(4,2)"
   ]
  },
  {
   "cell_type": "markdown",
   "metadata": {},
   "source": [
    "* **기본 파라미터의 다른 예**\n",
    " - print 함수\n",
    "   - sep, end, file등 여러 기본 파라미터를 가짐 "
   ]
  },
  {
   "cell_type": "code",
   "execution_count": 17,
   "metadata": {},
   "outputs": [
    {
     "name": "stdout",
     "output_type": "stream",
     "text": [
      "1!!2!!3\n"
     ]
    }
   ],
   "source": [
    "print(1, 2, 3, sep = '!!')"
   ]
  },
  {
   "cell_type": "code",
   "execution_count": 19,
   "metadata": {},
   "outputs": [
    {
     "name": "stdout",
     "output_type": "stream",
     "text": [
      "x:  1\n",
      "y:  2\n",
      "z: 3\n",
      "None\n",
      "x:  2\n",
      "y:  10\n",
      "z: 1\n",
      "None\n"
     ]
    }
   ],
   "source": [
    "def test(x, y, z):\n",
    "    print('x: ',x)\n",
    "    print('y: ',y)\n",
    "    print('z:', z)\n",
    "print(test(1,2,3))\n",
    "\n",
    "print(test(z = 1, x =2, y = 10))"
   ]
  },
  {
   "cell_type": "markdown",
   "metadata": {},
   "source": [
    "#### **keyword parameter (키워드 파라미터)**\n",
    "  * 파이썬의 경우, 파라미터에 값을 전달 할 때, 파라미터의 이름을 명시하여 전달 가능하다.\n",
    "  * 파라미터 이름을 사용하지 않을 경우, 기본적으로 순서에 맞게 전달한다."
   ]
  },
  {
   "cell_type": "code",
   "execution_count": 21,
   "metadata": {},
   "outputs": [
    {
     "name": "stdout",
     "output_type": "stream",
     "text": [
      "이름:  kang\n",
      "전화번호:  010-1111-1111\n",
      "주소:  경기도\n",
      "None\n",
      "이름:  carami\n",
      "전화번호:  010-2222-2222\n",
      "주소:  경기도\n"
     ]
    }
   ],
   "source": [
    "def person_info(name, phone, address):\n",
    "    print('이름: ', name)\n",
    "    print('전화번호: ', phone)\n",
    "    print('주소: ', address)\n",
    "    \n",
    "print(person_info('kang' , '010-1111-1111', '경기도'))\n",
    "\n",
    "person = {'name':'carami', 'phone':'010-2222-2222', 'address':'경기도'}\n",
    "\n",
    "print(person_info(**person))   #딕셔너리는 별을 두개! 해야 value를 언패킹\n",
    "#또, 딕셔너리의 Key가 문자열이어야 함\n"
   ]
  },
  {
   "cell_type": "code",
   "execution_count": 24,
   "metadata": {},
   "outputs": [
    {
     "name": "stdout",
     "output_type": "stream",
     "text": [
      "이름:  carami\n",
      "전화번호:  010-2222-2222\n",
      "주소:  경기도\n"
     ]
    }
   ],
   "source": [
    "person_info(*person.values())"
   ]
  },
  {
   "cell_type": "code",
   "execution_count": 25,
   "metadata": {},
   "outputs": [
    {
     "name": "stdout",
     "output_type": "stream",
     "text": [
      "이름:  name\n",
      "전화번호:  phone\n",
      "주소:  address\n"
     ]
    }
   ],
   "source": [
    "person_info(*person)  #*을 한개만 넣으면 key값으로 인자를 받음"
   ]
  },
  {
   "cell_type": "markdown",
   "metadata": {},
   "source": [
    "#### **return (리턴)**\n",
    " + 함수의 종료를 명시한다.\n",
    "   + return 옆에 값이나 수식이 있다면 해당 값을 호출자(caller)에게 반환(전달)한다.\n",
    "   + return 만 존재하면 None을 반환\n",
    "   + return이 없는 경우, 함수 코드 블록이 종료되면 종료된다. 이때도 None을 반환한다."
   ]
  },
  {
   "cell_type": "code",
   "execution_count": 26,
   "metadata": {},
   "outputs": [
    {
     "name": "stdout",
     "output_type": "stream",
     "text": [
      "x:  1\n",
      "y:  2\n",
      "z: 3\n",
      "None\n"
     ]
    }
   ],
   "source": [
    "#return 할게 없으면 none값 리턴\n",
    "#test(1,2,3)의 경우 return 없이 print만 했기 때문ㅇㅔ none return\n",
    "print(test(1,2,3))"
   ]
  },
  {
   "cell_type": "markdown",
   "metadata": {},
   "source": [
    "#### **multiple return (복수 값 반환)**\n",
    " + tuple반환을 하여 복수개의 값 리턴 가능하다."
   ]
  },
  {
   "cell_type": "code",
   "execution_count": 29,
   "metadata": {},
   "outputs": [
    {
     "name": "stdout",
     "output_type": "stream",
     "text": [
      "(110, 220) <class 'tuple'>\n"
     ]
    }
   ],
   "source": [
    "def add_multiple(x, y):\n",
    "    s = x + 100\n",
    "    m = y + 200\n",
    "    return s, m  #자동으로 튜플로 패킹된 상태~~\n",
    "\n",
    "print(add_multiple(10,20),type(add_multiple(10, 20)))"
   ]
  },
  {
   "cell_type": "code",
   "execution_count": 31,
   "metadata": {},
   "outputs": [],
   "source": [
    "def hello():\n",
    "    pass\n",
    "hello()"
   ]
  },
  {
   "cell_type": "code",
   "execution_count": 32,
   "metadata": {},
   "outputs": [
    {
     "name": "stdout",
     "output_type": "stream",
     "text": [
      "helo\n"
     ]
    }
   ],
   "source": [
    "def my_func(a):\n",
    "    \"\"\"이 함수는 문자열을 출력합니다.\"\"\"\n",
    "    print(a)\n",
    "my_func('helo')"
   ]
  },
  {
   "cell_type": "code",
   "execution_count": 33,
   "metadata": {},
   "outputs": [
    {
     "data": {
      "text/plain": [
       "'이 함수는 문자열을 출력합니다.'"
      ]
     },
     "execution_count": 33,
     "metadata": {},
     "output_type": "execute_result"
    }
   ],
   "source": [
    "my_func.__doc__"
   ]
  },
  {
   "cell_type": "code",
   "execution_count": 34,
   "metadata": {},
   "outputs": [
    {
     "data": {
      "text/plain": [
       "\"str(object='') -> str\\nstr(bytes_or_buffer[, encoding[, errors]]) -> str\\n\\nCreate a new string object from the given object. If encoding or\\nerrors is specified, then the object must expose a data buffer\\nthat will be decoded using the given encoding and error handler.\\nOtherwise, returns the result of object.__str__() (if defined)\\nor repr(object).\\nencoding defaults to sys.getdefaultencoding().\\nerrors defaults to 'strict'.\""
      ]
     },
     "execution_count": 34,
     "metadata": {},
     "output_type": "execute_result"
    }
   ],
   "source": [
    "str.__doc__"
   ]
  },
  {
   "cell_type": "code",
   "execution_count": 35,
   "metadata": {},
   "outputs": [
    {
     "data": {
      "text/plain": [
       "\"print(value, ..., sep=' ', end='\\\\n', file=sys.stdout, flush=False)\\n\\nPrints the values to a stream, or to sys.stdout by default.\\nOptional keyword arguments:\\nfile:  a file-like object (stream); defaults to the current sys.stdout.\\nsep:   string inserted between values, default a space.\\nend:   string appended after the last value, default a newline.\\nflush: whether to forcibly flush the stream.\""
      ]
     },
     "execution_count": 35,
     "metadata": {},
     "output_type": "execute_result"
    }
   ],
   "source": [
    "print.__doc__"
   ]
  },
  {
   "cell_type": "markdown",
   "metadata": {},
   "source": [
    "#### **variable scope (변수의 범위)** \n",
    " + 변수가 참조 가능한 코드상의 범위를 명시한다.\n",
    " + 함수내의 변수는 자신이 속한 코드 블록이 종료되면 소멸된다.\n",
    " + 이렇게 특정 코드 블록에서 선언된 변수를 **지역변수(local variable)** 라고한다.\n",
    " + 반대로 가장 상단에서 정의되어 프로그램 종료 전까지 유지되는 변수를 **전역변수(global variable)**라고한다.\n",
    " + 같은 이름의 지역변수와 전역변수가 존재할 경우, 지역변수의 우선순위가 더 높다."
   ]
  },
  {
   "cell_type": "code",
   "execution_count": 42,
   "metadata": {},
   "outputs": [
    {
     "name": "stdout",
     "output_type": "stream",
     "text": [
      "1\n"
     ]
    }
   ],
   "source": [
    "a = 1 #전역변수\n",
    "def var_test(a): \n",
    "    a = a+1 #지역변수. 가까울 수록 우선순위가 높다\n",
    "    return(a)\n",
    "var_test(a)\n",
    "print(a)"
   ]
  },
  {
   "cell_type": "code",
   "execution_count": 41,
   "metadata": {},
   "outputs": [
    {
     "data": {
      "text/plain": [
       "2"
      ]
     },
     "execution_count": 41,
     "metadata": {},
     "output_type": "execute_result"
    }
   ],
   "source": [
    "var_test(a)"
   ]
  },
  {
   "cell_type": "code",
   "execution_count": 46,
   "metadata": {},
   "outputs": [
    {
     "ename": "SyntaxError",
     "evalue": "name 't' is assigned to before global declaration (<ipython-input-46-c4c1df8ac840>, line 10)",
     "output_type": "error",
     "traceback": [
      "\u001b[1;36m  File \u001b[1;32m\"<ipython-input-46-c4c1df8ac840>\"\u001b[1;36m, line \u001b[1;32m10\u001b[0m\n\u001b[1;33m    print(t)\u001b[0m\n\u001b[1;37m            \n^\u001b[0m\n\u001b[1;31mSyntaxError\u001b[0m\u001b[1;31m:\u001b[0m name 't' is assigned to before global declaration\n"
     ]
    }
   ],
   "source": [
    "# global\n",
    "a = 1\n",
    "def var_test():\n",
    "    global a #전역변수 a말고 global a를 갖고오고 싶다\n",
    "    a = a+ 1 #갖고온걸 재할당\n",
    "    t = a+ 1\n",
    "var_test()\n",
    "print(a)\n",
    "print(t) #안나옴"
   ]
  },
  {
   "cell_type": "markdown",
   "metadata": {},
   "source": [
    "#### **variable length argument (가변길이 인자)**\n",
    " - 전달되는 파라미터의 개수가 가변적일때 사용한다.\n",
    " - 예를들면 print 함수나 format 함수를 생각해 볼 수 있다. \n",
    "     * **args**    : 파라미터를 튜플의 형태로 전달\n",
    "\n",
    "     * **kwargs** : 파리미터를 딕셔너리 형태로 전달(네임드 파라미터)\n",
    "     \n",
    "```\n",
    "    def 함수이름(*매개변수): \n",
    "        수행할 문장\n",
    "    ...\n",
    "```\n",
    "```\n",
    "    def 함수이름(**kwargs): \n",
    "        수행할 문장\n",
    "```"
   ]
  },
  {
   "cell_type": "code",
   "execution_count": 47,
   "metadata": {},
   "outputs": [
    {
     "name": "stdout",
     "output_type": "stream",
     "text": [
      "1\n"
     ]
    }
   ],
   "source": [
    "print(1)"
   ]
  },
  {
   "cell_type": "code",
   "execution_count": 49,
   "metadata": {},
   "outputs": [
    {
     "name": "stdout",
     "output_type": "stream",
     "text": [
      "1 2 3 4\n"
     ]
    }
   ],
   "source": [
    "print(1,2,3,4)"
   ]
  },
  {
   "cell_type": "code",
   "execution_count": 50,
   "metadata": {},
   "outputs": [
    {
     "name": "stdout",
     "output_type": "stream",
     "text": [
      "1\n",
      "2\n",
      "3\n",
      "4\n"
     ]
    }
   ],
   "source": [
    "def test(*인자명): #*args\n",
    "    for item in 인자명:\n",
    "        print(item)\n",
    "test(1,2,3,4)"
   ]
  },
  {
   "cell_type": "code",
   "execution_count": 53,
   "metadata": {},
   "outputs": [
    {
     "data": {
      "text/plain": [
       "55"
      ]
     },
     "execution_count": 53,
     "metadata": {},
     "output_type": "execute_result"
    }
   ],
   "source": [
    "#입력값을 모두 더하는 함수를 구현해 보세요.  \n",
    "def add_all(*args):\n",
    "    total = 0\n",
    "    for value in args:\n",
    "        total += value\n",
    "    return total\n",
    "\n",
    "add_all(1,2,3,4,5,6,7,8,9,10)"
   ]
  },
  {
   "cell_type": "markdown",
   "metadata": {},
   "source": [
    "#### **keyword parameter (키워드 파라미터)**\n",
    " - \\**가 붙은 경우에는 키워드 파라미터로 인식\n",
    " - 즉 함수 호출 시, 파리미터의 이름과 값을 함께 전달 가능"
   ]
  },
  {
   "cell_type": "code",
   "execution_count": 55,
   "metadata": {},
   "outputs": [
    {
     "name": "stdout",
     "output_type": "stream",
     "text": [
      "a 1\n",
      "None\n",
      "name kang\n",
      "age 20\n",
      "None\n"
     ]
    }
   ],
   "source": [
    "def test2(**키워드인자명): #**kwargs\n",
    "    for key, value in 키워드인자명.items():\n",
    "        print(key, value)\n",
    "        \n",
    "print(test2(a = 1))\n",
    "print(test2(name = 'kang', age = 20))"
   ]
  },
  {
   "cell_type": "markdown",
   "metadata": {},
   "source": [
    "#### 위치 인수와 키워드 인수를 함께 사용하기"
   ]
  },
  {
   "cell_type": "code",
   "execution_count": 57,
   "metadata": {},
   "outputs": [
    {
     "name": "stdout",
     "output_type": "stream",
     "text": [
      "1\t2\t3!!!"
     ]
    }
   ],
   "source": [
    "def my_print(*args, **kwargs):\n",
    "    print(*args, **kwargs)\n",
    "\n",
    "    \n",
    "my_print(1,2,3,sep = '\\t', end = \"!!!\")"
   ]
  },
  {
   "cell_type": "markdown",
   "metadata": {},
   "source": [
    "#### 연습문제 \n",
    "\n",
    "1.리스트를 입력받아서 리스트의 요소중 중복된 값은 삭제하고, 유일한 값만 유지하는 리스트를 반환하는 함수를 정의 하세요.  \n",
    "\n",
    "----\n",
    "입력 예 [1,2,2,3,4,5,4]\n",
    "\n",
    "출력 예 [1,2,3,4,5] \n",
    "\n",
    "----\n",
    "\n",
    "1. 문자열 두개를 인자로 전달받아 길이가 더 긴 문자열을 반환하는 함수를 정의하세요. 단, 두개의 길이가 같다면 첫번째 인자를 반환하세요. \n",
    "\n",
    "----\n",
    "입력 예 'test' 'python' \n",
    "출력 예 'python'\n",
    "\n",
    "입력 예 'java' 'test'\n",
    "출력 예 'java'\n",
    "\n",
    "-----\n"
   ]
  },
  {
   "cell_type": "code",
   "execution_count": 60,
   "metadata": {},
   "outputs": [],
   "source": [
    "def del_duplicates(*args) :\n",
    "    result =  list(set(*args))\n",
    "    return result"
   ]
  },
  {
   "cell_type": "code",
   "execution_count": 61,
   "metadata": {},
   "outputs": [
    {
     "data": {
      "text/plain": [
       "[1, 2, 3, 4, 5]"
      ]
     },
     "execution_count": 61,
     "metadata": {},
     "output_type": "execute_result"
    }
   ],
   "source": [
    "del_duplicates([1,2,2,3,4,5,4])"
   ]
  },
  {
   "cell_type": "code",
   "execution_count": 63,
   "metadata": {},
   "outputs": [
    {
     "data": {
      "text/plain": [
       "'python'"
      ]
     },
     "execution_count": 63,
     "metadata": {},
     "output_type": "execute_result"
    }
   ],
   "source": [
    "def bigger_string(x, y):\n",
    "    if len(x) >= len(y):\n",
    "        result = x\n",
    "    else:\n",
    "        result = y\n",
    "    return(result)\n",
    "bigger_string('java', 'python')"
   ]
  },
  {
   "cell_type": "code",
   "execution_count": 66,
   "metadata": {},
   "outputs": [
    {
     "data": {
      "text/plain": [
       "'python'"
      ]
     },
     "execution_count": 66,
     "metadata": {},
     "output_type": "execute_result"
    }
   ],
   "source": [
    "def c(*args):\n",
    "    max=args[0]\n",
    "    for i in args:\n",
    "        if i>max:\n",
    "            max=i\n",
    "        else:\n",
    "            continue\n",
    "    return max\n",
    "c('java', 'python')"
   ]
  }
 ],
 "metadata": {
  "kernelspec": {
   "display_name": "Python 3",
   "language": "python",
   "name": "python3"
  },
  "language_info": {
   "codemirror_mode": {
    "name": "ipython",
    "version": 3
   },
   "file_extension": ".py",
   "mimetype": "text/x-python",
   "name": "python",
   "nbconvert_exporter": "python",
   "pygments_lexer": "ipython3",
   "version": "3.7.4"
  }
 },
 "nbformat": 4,
 "nbformat_minor": 1
}
