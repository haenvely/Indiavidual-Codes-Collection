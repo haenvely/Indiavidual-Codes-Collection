{
 "cells": [
  {
   "cell_type": "markdown",
   "metadata": {},
   "source": [
    "### 학습목표\n",
    "1. 예외와 예외처리가 무엇인지 이해한다.\n",
    "2. 예외처리 문법 이해하고 활용 할 수 있다. "
   ]
  },
  {
   "cell_type": "markdown",
   "metadata": {},
   "source": [
    "### **예외**\n",
    "\n",
    "– 프로그램이 실행되는 동안 발생할 수 있는 비정상적인 조건\n",
    "– 번역시의 에러가 아닌 실행시의 에러를 예외라 한다.\n",
    "\n",
    "### ** 파이썬에서의 예외 처리 **\n",
    "\n",
    "#### **try except 사용하기**\n",
    "\n",
    "- 예외 처리를 하려면 try에 실행할 코드를 넣고 except 에 예외가 발생했을 때 처리할 코드를 넣는다.  \n",
    "\n",
    "``` \n",
    "try : \n",
    "    실행할 코드 (예외가 발생할 수도 있는 코드)\n",
    "except:\n",
    "    예외가 발생했을 때 처리하는 코드 \n",
    "``` \n"
   ]
  },
  {
   "cell_type": "code",
   "execution_count": 7,
   "metadata": {},
   "outputs": [
    {
     "name": "stdout",
     "output_type": "stream",
     "text": [
      "숫자를 입력해주세요. a\n",
      "숫자만 입력 가능합니다. 다시 입력하세요\n",
      "숫자를 입력하세요: a\n",
      "실패\n",
      "5.0\n"
     ]
    }
   ],
   "source": [
    "try:\n",
    "    try:\n",
    "        x = int(input('숫자를 입력해주세요. '))\n",
    "    except ValueError as ve:\n",
    "        print('숫자만 입력 가능합니다. 다시 입력하세요')\n",
    "        try:\n",
    "            x = int(input('숫자를 입력하세요: '))\n",
    "        except:\n",
    "            print('실패')\n",
    "    y = 10/x\n",
    "    print(y)\n",
    "except ZeroDivisionError as zde:\n",
    "    print('0으로 나눌 수 없습니다. 다시 입력하세요')\n",
    "    try:\n",
    "        x = int(input('숫자를 입력해주세요: '))\n",
    "    except:\n",
    "        print('실패')\n",
    "    y = 10/x\n",
    "    print(y)"
   ]
  },
  {
   "cell_type": "code",
   "execution_count": 9,
   "metadata": {},
   "outputs": [
    {
     "name": "stdout",
     "output_type": "stream",
     "text": [
      "숫자 입력: 11\n",
      "except::  10.0\n",
      "end\n"
     ]
    }
   ],
   "source": [
    "#문제는 0으로 나눈 에러뿐 아니라 리스트에 없는 수를 넣어도 여기 할당됨.\n",
    "# 원하는 예외를 할당해주는 필요성\n",
    "lista = [10,20,30]\n",
    "x = int(input('숫자 입력: '))\n",
    "try:\n",
    "    print(lista[x])\n",
    "    y = 10/x\n",
    "    print('try::', y)\n",
    "except:  \n",
    "    y = 10/1\n",
    "    print('except:: ', y)\n",
    "print('end')"
   ]
  },
  {
   "cell_type": "markdown",
   "metadata": {},
   "source": [
    "#### **원하는 예외만 처리하기**\n",
    "- except 구문에 예외 이름을 지정하면 지정된 예외가 발생했을 때만 처리한다. \n",
    "\n",
    "```\n",
    "try:\n",
    "    실행할코드\n",
    "except 예외이름:\n",
    "    예외가 발생했을 때 처리하는 코드 \n",
    "```\n",
    "- 예외의 에러 메시지를 받아 올 수 있다. \n",
    "```\n",
    "try:\n",
    "    실행할코드\n",
    "except 예외이름 as 변수:\n",
    "    예외가 발생했을 때 처리하는 코드\n",
    "    print(변수) \n",
    "```\n",
    "\n",
    "- 모든 예외의 에러 메시지를 출력하고 싶다면 Exception을 이용한다. \n",
    "\n",
    "```\n",
    "except Exception as e:    \n",
    "    print('예외가 발생했습니다.', e)\n",
    "```\n",
    "  --> exception의 자손들도 모두 받아낼 수 있음.(상속의 개념)\n",
    "  ----> ex) Exception의 하위클래스인 NameError, ImportError 등등\n",
    "\n",
    "[예외계층](https://docs.python.org/3/library/exceptions.html#exception-hierarchy)"
   ]
  },
  {
   "cell_type": "code",
   "execution_count": 10,
   "metadata": {},
   "outputs": [
    {
     "name": "stdout",
     "output_type": "stream",
     "text": [
      "숫자 입력: 3\n",
      "인덱스를 벗어났어요~~!\n",
      "end\n"
     ]
    }
   ],
   "source": [
    "lista = [10,20,30]\n",
    "x = int(input('숫자 입력: '))\n",
    "try:\n",
    "    print(lista[x]) #=> 에러 발생지점. 즉, try 안에 에러 발생할 부분이 들어가야함\n",
    "    y = 10/x\n",
    "    print('try::', y)\n",
    "except ZeroDivisionError:  \n",
    "    y = 10/1\n",
    "    print('except:: ', y)\n",
    "except IndexError:\n",
    "    print('인덱스를 벗어났어요~~!')\n",
    "print('end')"
   ]
  },
  {
   "cell_type": "code",
   "execution_count": 12,
   "metadata": {},
   "outputs": [
    {
     "name": "stdout",
     "output_type": "stream",
     "text": [
      "숫자 입력: 4\n",
      "error발생:: list index out of range\n",
      "end\n"
     ]
    }
   ],
   "source": [
    "lista = [10,20,30]\n",
    "x = int(input('숫자 입력: '))\n",
    "try:\n",
    "    print(lista[x])\n",
    "    y = 10/x\n",
    "    print('try::', y)\n",
    "except Exception as e:  \n",
    "    print('error발생::', e)\n",
    "print('end')"
   ]
  },
  {
   "cell_type": "code",
   "execution_count": 15,
   "metadata": {},
   "outputs": [
    {
     "data": {
      "text/plain": [
       "False"
      ]
     },
     "execution_count": 15,
     "metadata": {},
     "output_type": "execute_result"
    }
   ],
   "source": [
    "class Parent:\n",
    "    pass\n",
    "\n",
    "class Child(Parent):\n",
    "    pass\n",
    "\n",
    "c = Child()\n",
    "isinstance(c, Child) #인스턴스변수, 클래스이름\n",
    "isinstance(c, Parent) #True\n",
    "isinstance(c, object) #True\n",
    "\n",
    "isinstance(c, Exception) #False"
   ]
  },
  {
   "cell_type": "markdown",
   "metadata": {},
   "source": [
    "#### **예외가 발생하지 않았을 때 실행하는 else**\n",
    "\n",
    "- else구문은 예외가 발생하지 않았을 때 실행할 구문을 기술한다. \n",
    "- else는 except 바로뒤에 와야한다.\n",
    "- except를 생략 할 수는 없다.\n",
    "- 예외가 발생하면 else 구문은 실행되지 않는다. \n",
    "\n",
    "```\n",
    "try:\n",
    "    실행할 코드\n",
    "except:\n",
    "    예외가 발생했을 때 처리하는 코드\n",
    "else:\n",
    "    예외가 발생하지 않았을 때 실행할 코드\n",
    "```"
   ]
  },
  {
   "cell_type": "code",
   "execution_count": 17,
   "metadata": {},
   "outputs": [
    {
     "name": "stdout",
     "output_type": "stream",
     "text": [
      "숫자 입력: 0\n",
      "예외발생 \n",
      "end\n"
     ]
    }
   ],
   "source": [
    "x = int(input('숫자 입력: '))\n",
    "try:\n",
    "    y = 10/x\n",
    "except:\n",
    "    y = 10/1\n",
    "    print('예외발생 ')\n",
    "else:\n",
    "    print(y)\n",
    "print('end')"
   ]
  },
  {
   "cell_type": "code",
   "execution_count": 19,
   "metadata": {},
   "outputs": [
    {
     "name": "stdout",
     "output_type": "stream",
     "text": [
      "숫자 입력: 0\n",
      "예외발생  division by zero\n",
      "except 블럭\n",
      "end\n"
     ]
    }
   ],
   "source": [
    "x = int(input('숫자 입력: '))\n",
    "lista = [10,20,30]\n",
    "try:\n",
    "    y = 10/x\n",
    "    print(lista[x])\n",
    "    print('try 블럭!')\n",
    "except ZeroDivisionError as e:\n",
    "    y = 10/1\n",
    "    print('예외발생 ', e)\n",
    "    print('except 블럭')\n",
    "else:\n",
    "    print(y)\n",
    "    print('else블럭!')\n",
    "    \n",
    "print('end')"
   ]
  },
  {
   "cell_type": "markdown",
   "metadata": {},
   "source": [
    "#### **반드시 실행되는 finally블록**\n",
    "- 모든 코드가 반드시 실행된다는 보장은 없다. \n",
    "- 하지만, 예외가 발생했든 발생하지 않았든 \n",
    "예외를 적절히 처리했든 처리하지 못했든 간에 반드시 처리해야하는 코드들이 있다. \n",
    "- finally 블록은 언제든지 실행된다. \n",
    "- finally는 except와 else를 생략할 수 있다.\n",
    "- 무조건 실행되는 코드!\n",
    "\n",
    "```\n",
    "try:\n",
    "    실행할 코드\n",
    "except:\n",
    "    예외가 발생했을 때 처리하는 코드\n",
    "else:\n",
    "    예외가 발생하지 않았을 때 실행할 코드\n",
    "finally:\n",
    "    예외 발생 여부와 상관없이 항상 실행할 코드\n",
    "```\n",
    "\n",
    "\n"
   ]
  },
  {
   "cell_type": "code",
   "execution_count": 20,
   "metadata": {},
   "outputs": [
    {
     "name": "stdout",
     "output_type": "stream",
     "text": [
      "숫자 입력: 5\n",
      "finally 블럭!\n"
     ]
    },
    {
     "ename": "IndexError",
     "evalue": "list index out of range",
     "output_type": "error",
     "traceback": [
      "\u001b[1;31m---------------------------------------------------------------------------\u001b[0m",
      "\u001b[1;31mIndexError\u001b[0m                                Traceback (most recent call last)",
      "\u001b[1;32m<ipython-input-20-bbdcb668babe>\u001b[0m in \u001b[0;36m<module>\u001b[1;34m\u001b[0m\n\u001b[0;32m      3\u001b[0m \u001b[1;32mtry\u001b[0m\u001b[1;33m:\u001b[0m\u001b[1;33m\u001b[0m\u001b[1;33m\u001b[0m\u001b[0m\n\u001b[0;32m      4\u001b[0m     \u001b[0my\u001b[0m \u001b[1;33m=\u001b[0m \u001b[1;36m10\u001b[0m\u001b[1;33m/\u001b[0m\u001b[0mx\u001b[0m\u001b[1;33m\u001b[0m\u001b[1;33m\u001b[0m\u001b[0m\n\u001b[1;32m----> 5\u001b[1;33m     \u001b[0mprint\u001b[0m\u001b[1;33m(\u001b[0m\u001b[0mlista\u001b[0m\u001b[1;33m[\u001b[0m\u001b[0mx\u001b[0m\u001b[1;33m]\u001b[0m\u001b[1;33m)\u001b[0m\u001b[1;33m\u001b[0m\u001b[1;33m\u001b[0m\u001b[0m\n\u001b[0m\u001b[0;32m      6\u001b[0m     \u001b[0mprint\u001b[0m\u001b[1;33m(\u001b[0m\u001b[1;34m'try 블럭!'\u001b[0m\u001b[1;33m)\u001b[0m\u001b[1;33m\u001b[0m\u001b[1;33m\u001b[0m\u001b[0m\n\u001b[0;32m      7\u001b[0m \u001b[1;32mexcept\u001b[0m \u001b[0mZeroDivisionError\u001b[0m \u001b[1;32mas\u001b[0m \u001b[0me\u001b[0m\u001b[1;33m:\u001b[0m\u001b[1;33m\u001b[0m\u001b[1;33m\u001b[0m\u001b[0m\n",
      "\u001b[1;31mIndexError\u001b[0m: list index out of range"
     ]
    }
   ],
   "source": [
    "x = int(input('숫자 입력: '))\n",
    "lista = [10,20,30]\n",
    "try:\n",
    "    y = 10/x\n",
    "    print(lista[x])\n",
    "    print('try 블럭!')\n",
    "except ZeroDivisionError as e:\n",
    "    y = 10/1\n",
    "    print('예외발생 ', e)\n",
    "    print('except 블럭')\n",
    "else:\n",
    "    print(y)\n",
    "    print('else블럭!')\n",
    "finally:\n",
    "    print('finally 블럭!')\n",
    "print('end')"
   ]
  },
  {
   "cell_type": "code",
   "execution_count": 21,
   "metadata": {},
   "outputs": [
    {
     "name": "stdout",
     "output_type": "stream",
     "text": [
      "숫자 입력: 1\n",
      "20\n",
      "try 블럭!\n",
      "10.0\n",
      "else블럭!\n",
      "finally 블럭!\n",
      "end\n"
     ]
    }
   ],
   "source": [
    "x = int(input('숫자 입력: '))\n",
    "lista = [10,20,30]\n",
    "try:\n",
    "    y = 10/x\n",
    "    print(lista[x])\n",
    "    print('try 블럭!')\n",
    "except ZeroDivisionError as e:\n",
    "    y = 10/1\n",
    "    print('예외발생 ', e)\n",
    "    print('except 블럭')\n",
    "else:\n",
    "    print(y)\n",
    "    print('else블럭!')\n",
    "finally:\n",
    "    print('finally 블럭!')\n",
    "print('end')"
   ]
  },
  {
   "cell_type": "code",
   "execution_count": 23,
   "metadata": {},
   "outputs": [
    {
     "name": "stdout",
     "output_type": "stream",
     "text": [
      "숫자 입력::ㅁ\n",
      "에러발생:  invalid literal for int() with base 10: 'ㅁ'\n",
      "파이널리블럭\n"
     ]
    }
   ],
   "source": [
    "try:\n",
    "    x = int(input('숫자 입력::'))\n",
    "except ValueError as e:\n",
    "    print('에러발생: ',e)\n",
    "else:\n",
    "    try:\n",
    "        y = 10/x\n",
    "        print(y)\n",
    "    except Exception as e:\n",
    "        print('에러 발생!', e)\n",
    "finally:\n",
    "    print('파이널리블럭')"
   ]
  },
  {
   "cell_type": "markdown",
   "metadata": {},
   "source": [
    "#### **사용자가 임의로 예외 발생 시키기**\n",
    "\n",
    "- python에서 정해놓은 예외 이외에도 사용자의 조건에 맞게 예외를 정의 할 수있다 \n",
    "- 예외를 발생시킬 때는 raise에 예외를 지정하고, 에러메시지를 넣는다. \n",
    "- 에러메시지는 생략 가능하다.\n",
    "- 예외의 조건을 내가 정할 때!\n",
    "\n",
    "``` \n",
    "raise 예외 ('에러메시지') "
   ]
  },
  {
   "cell_type": "code",
   "execution_count": 26,
   "metadata": {},
   "outputs": [
    {
     "name": "stdout",
     "output_type": "stream",
     "text": [
      "점수 입력: 101\n"
     ]
    },
    {
     "ename": "Exception",
     "evalue": "점수는 100점을 넘을 수 없습니다.",
     "output_type": "error",
     "traceback": [
      "\u001b[1;31m---------------------------------------------------------------------------\u001b[0m",
      "\u001b[1;31mException\u001b[0m                                 Traceback (most recent call last)",
      "\u001b[1;32m<ipython-input-26-96e76497abc8>\u001b[0m in \u001b[0;36m<module>\u001b[1;34m\u001b[0m\n\u001b[0;32m      1\u001b[0m \u001b[0mscore\u001b[0m \u001b[1;33m=\u001b[0m \u001b[0mint\u001b[0m\u001b[1;33m(\u001b[0m\u001b[0minput\u001b[0m\u001b[1;33m(\u001b[0m\u001b[1;34m'점수 입력: '\u001b[0m\u001b[1;33m)\u001b[0m\u001b[1;33m)\u001b[0m\u001b[1;33m\u001b[0m\u001b[1;33m\u001b[0m\u001b[0m\n\u001b[0;32m      2\u001b[0m \u001b[1;32mif\u001b[0m \u001b[0mscore\u001b[0m \u001b[1;33m>\u001b[0m \u001b[1;36m100\u001b[0m\u001b[1;33m:\u001b[0m\u001b[1;33m\u001b[0m\u001b[1;33m\u001b[0m\u001b[0m\n\u001b[1;32m----> 3\u001b[1;33m     \u001b[1;32mraise\u001b[0m \u001b[0mException\u001b[0m\u001b[1;33m(\u001b[0m\u001b[1;34m'점수는 100점을 넘을 수 없습니다.'\u001b[0m\u001b[1;33m)\u001b[0m\u001b[1;33m\u001b[0m\u001b[1;33m\u001b[0m\u001b[0m\n\u001b[0m\u001b[0;32m      4\u001b[0m \u001b[1;32melse\u001b[0m\u001b[1;33m:\u001b[0m\u001b[1;33m\u001b[0m\u001b[1;33m\u001b[0m\u001b[0m\n\u001b[0;32m      5\u001b[0m     \u001b[0my\u001b[0m \u001b[1;33m=\u001b[0m \u001b[0mscore\u001b[0m\u001b[1;33m/\u001b[0m\u001b[1;36m100\u001b[0m\u001b[1;33m\u001b[0m\u001b[1;33m\u001b[0m\u001b[0m\n",
      "\u001b[1;31mException\u001b[0m: 점수는 100점을 넘을 수 없습니다."
     ]
    }
   ],
   "source": [
    "score = int(input('점수 입력: '))\n",
    "if score > 100:\n",
    "    raise Exception('점수는 100점을 넘을 수 없습니다.')\n",
    "else:\n",
    "    y = score/100\n",
    "    print(y)\n",
    "print('당신의 점수는:  ', score)"
   ]
  },
  {
   "cell_type": "code",
   "execution_count": 34,
   "metadata": {},
   "outputs": [
    {
     "name": "stdout",
     "output_type": "stream",
     "text": [
      "점수 입력: 102\n",
      "예외발생!\n",
      "당신의 점수는:   102\n"
     ]
    }
   ],
   "source": [
    "score = int(input('점수 입력: '))\n",
    "try: \n",
    "    if score > 100:\n",
    "        raise Exception('점수는 100점을 넘을 수 없습니다. 현재 입력값은: ', score)\n",
    "    print('당신의 점수는: ', score)\n",
    "except:\n",
    "    print('예외발생!')\n",
    "else:\n",
    "    y = score/100\n",
    "    print(y)\n",
    "finally:\n",
    "    print('당신의 점수는:  ', score)"
   ]
  },
  {
   "cell_type": "code",
   "execution_count": 31,
   "metadata": {},
   "outputs": [
    {
     "name": "stdout",
     "output_type": "stream",
     "text": [
      "점수입력: 102\n",
      "예외 except블록\n",
      "점수는 100점을 넘을 수 없습니다.\n"
     ]
    }
   ],
   "source": [
    "def inputScore():\n",
    "    score = int(input('점수입력: '))\n",
    "    \n",
    "    if score > 100:\n",
    "        raise Exception('점수는 100점을 넘을 수 없습니다.')\n",
    "    print('당신의 점수는 : ', score)\n",
    "\n",
    "try:\n",
    "    inputScore()  #inputscore에서 발생한 Exception에러를 except구문에서 출력\n",
    "except Exception as e:\n",
    "    print('예외 except블록')\n",
    "    print(e)"
   ]
  },
  {
   "cell_type": "markdown",
   "metadata": {},
   "source": []
  },
  {
   "cell_type": "markdown",
   "metadata": {},
   "source": [
    "#### **현재 예외를 다시 발생 시키기** \n",
    "\n",
    "- try except 에서 처리한 예외를 다시 발생 시킬 수 있다. \n",
    "- except 안에서 raise를 사용하면 현재 예외를 다시 발생 시킨다.\n",
    "\n"
   ]
  },
  {
   "cell_type": "code",
   "execution_count": 39,
   "metadata": {},
   "outputs": [
    {
     "name": "stdout",
     "output_type": "stream",
     "text": [
      "점수입력: 102\n"
     ]
    },
    {
     "ename": "Exception",
     "evalue": "점수는 100점을 넘을 수 없습니다.",
     "output_type": "error",
     "traceback": [
      "\u001b[1;31m---------------------------------------------------------------------------\u001b[0m",
      "\u001b[1;31mException\u001b[0m                                 Traceback (most recent call last)",
      "\u001b[1;32m<ipython-input-39-4ce7b12dcb13>\u001b[0m in \u001b[0;36m<module>\u001b[1;34m\u001b[0m\n\u001b[0;32m      6\u001b[0m     \u001b[0mprint\u001b[0m\u001b[1;33m(\u001b[0m\u001b[1;34m'당신의 점수는 : '\u001b[0m\u001b[1;33m,\u001b[0m \u001b[0mscore\u001b[0m\u001b[1;33m)\u001b[0m\u001b[1;33m\u001b[0m\u001b[1;33m\u001b[0m\u001b[0m\n\u001b[0;32m      7\u001b[0m \u001b[1;33m\u001b[0m\u001b[0m\n\u001b[1;32m----> 8\u001b[1;33m \u001b[0minputScore\u001b[0m\u001b[1;33m(\u001b[0m\u001b[1;33m)\u001b[0m\u001b[1;33m\u001b[0m\u001b[1;33m\u001b[0m\u001b[0m\n\u001b[0m",
      "\u001b[1;32m<ipython-input-39-4ce7b12dcb13>\u001b[0m in \u001b[0;36minputScore\u001b[1;34m()\u001b[0m\n\u001b[0;32m      3\u001b[0m     \u001b[0mscore\u001b[0m \u001b[1;33m=\u001b[0m \u001b[0mint\u001b[0m\u001b[1;33m(\u001b[0m\u001b[0minput\u001b[0m\u001b[1;33m(\u001b[0m\u001b[1;34m'점수입력: '\u001b[0m\u001b[1;33m)\u001b[0m\u001b[1;33m)\u001b[0m\u001b[1;33m\u001b[0m\u001b[1;33m\u001b[0m\u001b[0m\n\u001b[0;32m      4\u001b[0m     \u001b[1;32mif\u001b[0m \u001b[0mscore\u001b[0m \u001b[1;33m>\u001b[0m \u001b[1;36m100\u001b[0m\u001b[1;33m:\u001b[0m\u001b[1;33m\u001b[0m\u001b[1;33m\u001b[0m\u001b[0m\n\u001b[1;32m----> 5\u001b[1;33m         \u001b[1;32mraise\u001b[0m \u001b[0mException\u001b[0m\u001b[1;33m(\u001b[0m\u001b[1;34m'점수는 100점을 넘을 수 없습니다.'\u001b[0m\u001b[1;33m)\u001b[0m\u001b[1;33m\u001b[0m\u001b[1;33m\u001b[0m\u001b[0m\n\u001b[0m\u001b[0;32m      6\u001b[0m     \u001b[0mprint\u001b[0m\u001b[1;33m(\u001b[0m\u001b[1;34m'당신의 점수는 : '\u001b[0m\u001b[1;33m,\u001b[0m \u001b[0mscore\u001b[0m\u001b[1;33m)\u001b[0m\u001b[1;33m\u001b[0m\u001b[1;33m\u001b[0m\u001b[0m\n\u001b[0;32m      7\u001b[0m \u001b[1;33m\u001b[0m\u001b[0m\n",
      "\u001b[1;31mException\u001b[0m: 점수는 100점을 넘을 수 없습니다."
     ]
    }
   ],
   "source": [
    "#기본형\n",
    "def inputScore():\n",
    "    score = int(input('점수입력: '))\n",
    "    if score > 100:\n",
    "        raise Exception('점수는 100점을 넘을 수 없습니다.')\n",
    "    print('당신의 점수는 : ', score)\n",
    "    \n",
    "inputScore()"
   ]
  },
  {
   "cell_type": "code",
   "execution_count": 38,
   "metadata": {},
   "outputs": [
    {
     "name": "stdout",
     "output_type": "stream",
     "text": [
      "점수입력: 101\n",
      "점수는 100점을 넘을 수 없습니다.\n"
     ]
    },
    {
     "ename": "Exception",
     "evalue": "점수는 100점을 넘을 수 없습니다.",
     "output_type": "error",
     "traceback": [
      "\u001b[1;31m---------------------------------------------------------------------------\u001b[0m",
      "\u001b[1;31mException\u001b[0m                                 Traceback (most recent call last)",
      "\u001b[1;32m<ipython-input-38-18d36fab7cbc>\u001b[0m in \u001b[0;36m<module>\u001b[1;34m\u001b[0m\n\u001b[0;32m      8\u001b[0m         \u001b[0mprint\u001b[0m\u001b[1;33m(\u001b[0m\u001b[0me\u001b[0m\u001b[1;33m)\u001b[0m\u001b[1;33m\u001b[0m\u001b[1;33m\u001b[0m\u001b[0m\n\u001b[0;32m      9\u001b[0m         \u001b[1;32mraise\u001b[0m \u001b[1;31m#예외를 다시 던짐\u001b[0m\u001b[1;33m\u001b[0m\u001b[1;33m\u001b[0m\u001b[0m\n\u001b[1;32m---> 10\u001b[1;33m \u001b[0minputScore\u001b[0m\u001b[1;33m(\u001b[0m\u001b[1;33m)\u001b[0m\u001b[1;33m\u001b[0m\u001b[1;33m\u001b[0m\u001b[0m\n\u001b[0m",
      "\u001b[1;32m<ipython-input-38-18d36fab7cbc>\u001b[0m in \u001b[0;36minputScore\u001b[1;34m()\u001b[0m\n\u001b[0;32m      3\u001b[0m     \u001b[1;32mtry\u001b[0m\u001b[1;33m:\u001b[0m\u001b[1;33m\u001b[0m\u001b[1;33m\u001b[0m\u001b[0m\n\u001b[0;32m      4\u001b[0m         \u001b[1;32mif\u001b[0m \u001b[0mscore\u001b[0m \u001b[1;33m>\u001b[0m \u001b[1;36m100\u001b[0m\u001b[1;33m:\u001b[0m\u001b[1;33m\u001b[0m\u001b[1;33m\u001b[0m\u001b[0m\n\u001b[1;32m----> 5\u001b[1;33m             \u001b[1;32mraise\u001b[0m \u001b[0mException\u001b[0m\u001b[1;33m(\u001b[0m\u001b[1;34m'점수는 100점을 넘을 수 없습니다.'\u001b[0m\u001b[1;33m)\u001b[0m\u001b[1;33m\u001b[0m\u001b[1;33m\u001b[0m\u001b[0m\n\u001b[0m\u001b[0;32m      6\u001b[0m         \u001b[0mprint\u001b[0m\u001b[1;33m(\u001b[0m\u001b[1;34m'당신의 점수는 : '\u001b[0m\u001b[1;33m,\u001b[0m \u001b[0mscore\u001b[0m\u001b[1;33m)\u001b[0m\u001b[1;33m\u001b[0m\u001b[1;33m\u001b[0m\u001b[0m\n\u001b[0;32m      7\u001b[0m     \u001b[1;32mexcept\u001b[0m \u001b[0mException\u001b[0m \u001b[1;32mas\u001b[0m \u001b[0me\u001b[0m\u001b[1;33m:\u001b[0m\u001b[1;33m\u001b[0m\u001b[1;33m\u001b[0m\u001b[0m\n",
      "\u001b[1;31mException\u001b[0m: 점수는 100점을 넘을 수 없습니다."
     ]
    }
   ],
   "source": [
    "def inputScore():\n",
    "    score = int(input('점수입력: '))\n",
    "    try:\n",
    "        if score > 100:\n",
    "            raise Exception('점수는 100점을 넘을 수 없습니다.')\n",
    "        print('당신의 점수는 : ', score)\n",
    "    except Exception as e:\n",
    "        print(e)\n",
    "        raise #예외를 다시 던짐 즉, raise Exception구문으로 들어가서 출력\n",
    "inputScore()"
   ]
  },
  {
   "cell_type": "code",
   "execution_count": null,
   "metadata": {},
   "outputs": [],
   "source": []
  },
  {
   "cell_type": "markdown",
   "metadata": {},
   "source": [
    "#raise 예외('에러메시지')\n",
    "\n",
    "```\n",
    "        if x % 3 != 0:\n",
    "            raise Exception('3의 배수가 아닙니다.')\n",
    "        print(x)\n",
    "    except Exception as e:\n",
    "        print('three_multiple 함수에서 예외가 발생했습니다.', e)\n",
    "        raise RuntimeError('three_multiple 함수에서 예외가 발생했습니다.')\n",
    "```"
   ]
  },
  {
   "cell_type": "markdown",
   "metadata": {},
   "source": [
    "#### **assert로 예외 발생시키기**\n",
    "\n",
    "- assert는 지정된 조건식이 거짓일 때 assertionError 예외를 발생 시킨다.\n",
    "- 조건식이 참이면 그냥 지나간다. \n",
    "- assert 는 보통 나와서는 안되는 조건을 검사할 때 사용한다. \n",
    "\n"
   ]
  },
  {
   "cell_type": "code",
   "execution_count": 40,
   "metadata": {},
   "outputs": [
    {
     "ename": "AssertionError",
     "evalue": "",
     "output_type": "error",
     "traceback": [
      "\u001b[1;31m---------------------------------------------------------------------------\u001b[0m",
      "\u001b[1;31mAssertionError\u001b[0m                            Traceback (most recent call last)",
      "\u001b[1;32m<ipython-input-40-fac23cb5a389>\u001b[0m in \u001b[0;36m<module>\u001b[1;34m\u001b[0m\n\u001b[0;32m      1\u001b[0m \u001b[0ma\u001b[0m \u001b[1;33m=\u001b[0m \u001b[1;36m1\u001b[0m\u001b[1;33m\u001b[0m\u001b[1;33m\u001b[0m\u001b[0m\n\u001b[1;32m----> 2\u001b[1;33m \u001b[1;32massert\u001b[0m \u001b[0ma\u001b[0m \u001b[1;33m==\u001b[0m\u001b[1;36m2\u001b[0m\u001b[1;33m\u001b[0m\u001b[1;33m\u001b[0m\u001b[0m\n\u001b[0m\u001b[0;32m      3\u001b[0m \u001b[0mprint\u001b[0m\u001b[1;33m(\u001b[0m\u001b[0ma\u001b[0m\u001b[1;33m)\u001b[0m\u001b[1;33m\u001b[0m\u001b[1;33m\u001b[0m\u001b[0m\n",
      "\u001b[1;31mAssertionError\u001b[0m: "
     ]
    }
   ],
   "source": [
    "a = 1\n",
    "assert a ==2\n",
    "print(a)"
   ]
  },
  {
   "cell_type": "markdown",
   "metadata": {},
   "source": [
    "##### 참고 \n",
    "assert는 디버깅 모드에서만 실행됩니다. 특히 파이썬은 기본적으로 디버깅 모드이며(__debug__의 값이 True) assert가 실행되지 않게 하려면 python에 -O 옵션을 붙여서 실행합니다(영문 대문자 O).\n",
    "python -O 스크립트파일.py"
   ]
  },
  {
   "cell_type": "markdown",
   "metadata": {},
   "source": [
    "#### **사용자 정의 예외 만들기**\n",
    "\n",
    "- 프로그래머가 직접 만든 예외를 사용자 정의 예외라고 한다. \n",
    "- 예외를 생성하는 방법은 Exception을 상속받아서 새로운 클래스를 만들면 된다. \n",
    "- 그리고, __init__ 메서드에서 기반 클래스의 __init__ 메서드를 호출한다. \n",
    "- 기반클래스의 __init__메서드를 호출할 때 에러메시지를 넣어준다. \n",
    "\n",
    "```\n",
    "class 예외이름(Exception):\n",
    "    def __init__(self):\n",
    "        super().__init__('에러메시지')\n",
    "        \n",
    "```"
   ]
  },
  {
   "cell_type": "code",
   "execution_count": 41,
   "metadata": {},
   "outputs": [],
   "source": [
    "class MyException(Exception):\n",
    "    def __init__(self):\n",
    "        super().__init__('이것은 내가 정의한 예외입니다')\n",
    "\n",
    "# 이제 내가 만든 MyException이라는 예외가 생김~~"
   ]
  },
  {
   "cell_type": "code",
   "execution_count": 44,
   "metadata": {},
   "outputs": [
    {
     "name": "stdout",
     "output_type": "stream",
     "text": [
      "점수입력: 102\n",
      "이것은 내가 정의한 예외입니다\n"
     ]
    },
    {
     "ename": "MyException",
     "evalue": "이것은 내가 정의한 예외입니다",
     "output_type": "error",
     "traceback": [
      "\u001b[1;31m---------------------------------------------------------------------------\u001b[0m",
      "\u001b[1;31mMyException\u001b[0m                               Traceback (most recent call last)",
      "\u001b[1;32m<ipython-input-44-32e13366063f>\u001b[0m in \u001b[0;36m<module>\u001b[1;34m\u001b[0m\n\u001b[0;32m      9\u001b[0m         \u001b[0mprint\u001b[0m\u001b[1;33m(\u001b[0m\u001b[0me\u001b[0m\u001b[1;33m)\u001b[0m\u001b[1;33m\u001b[0m\u001b[1;33m\u001b[0m\u001b[0m\n\u001b[0;32m     10\u001b[0m         \u001b[1;32mraise\u001b[0m \u001b[1;31m#예외를 다시 던짐 즉, raise Exception구문으로 들어가서 출력\u001b[0m\u001b[1;33m\u001b[0m\u001b[1;33m\u001b[0m\u001b[0m\n\u001b[1;32m---> 11\u001b[1;33m \u001b[0minputScore\u001b[0m\u001b[1;33m(\u001b[0m\u001b[1;33m)\u001b[0m\u001b[1;33m\u001b[0m\u001b[1;33m\u001b[0m\u001b[0m\n\u001b[0m",
      "\u001b[1;32m<ipython-input-44-32e13366063f>\u001b[0m in \u001b[0;36minputScore\u001b[1;34m()\u001b[0m\n\u001b[0;32m      4\u001b[0m     \u001b[1;32mtry\u001b[0m\u001b[1;33m:\u001b[0m\u001b[1;33m\u001b[0m\u001b[1;33m\u001b[0m\u001b[0m\n\u001b[0;32m      5\u001b[0m         \u001b[1;32mif\u001b[0m \u001b[0mscore\u001b[0m \u001b[1;33m>\u001b[0m \u001b[1;36m100\u001b[0m\u001b[1;33m:\u001b[0m\u001b[1;33m\u001b[0m\u001b[1;33m\u001b[0m\u001b[0m\n\u001b[1;32m----> 6\u001b[1;33m             \u001b[1;32mraise\u001b[0m \u001b[0mMyException\u001b[0m\u001b[1;33m(\u001b[0m\u001b[1;33m)\u001b[0m\u001b[1;33m\u001b[0m\u001b[1;33m\u001b[0m\u001b[0m\n\u001b[0m\u001b[0;32m      7\u001b[0m         \u001b[0mprint\u001b[0m\u001b[1;33m(\u001b[0m\u001b[1;34m'당신의 점수는 : '\u001b[0m\u001b[1;33m,\u001b[0m \u001b[0mscore\u001b[0m\u001b[1;33m)\u001b[0m\u001b[1;33m\u001b[0m\u001b[1;33m\u001b[0m\u001b[0m\n\u001b[0;32m      8\u001b[0m     \u001b[1;32mexcept\u001b[0m \u001b[0mException\u001b[0m \u001b[1;32mas\u001b[0m \u001b[0me\u001b[0m\u001b[1;33m:\u001b[0m\u001b[1;33m\u001b[0m\u001b[1;33m\u001b[0m\u001b[0m\n",
      "\u001b[1;31mMyException\u001b[0m: 이것은 내가 정의한 예외입니다"
     ]
    }
   ],
   "source": [
    "#이제 예외가 있는 코드를 실행해보자\n",
    "def inputScore():\n",
    "    score = int(input('점수입력: '))\n",
    "    try:\n",
    "        if score > 100:\n",
    "            raise MyException()\n",
    "        print('당신의 점수는 : ', score)\n",
    "    except Exception as e:\n",
    "        print(e)\n",
    "        raise #예외를 다시 던짐 즉, raise Exception구문으로 들어가서 출력\n",
    "inputScore()"
   ]
  },
  {
   "cell_type": "code",
   "execution_count": 46,
   "metadata": {},
   "outputs": [
    {
     "name": "stdout",
     "output_type": "stream",
     "text": [
      "점수입력: 102\n",
      "1 이것은 내가 정의한 예외입니다\n",
      "이것은 내가 정의한 예외입니다\n"
     ]
    }
   ],
   "source": [
    "#이제 예외가 있는 코드를 실행해보자\n",
    "def inputScore():\n",
    "    score = int(input('점수입력: '))\n",
    "    try:\n",
    "        if score > 100:\n",
    "            raise MyException()\n",
    "        print('당신의 점수는 : ', score)\n",
    "    except Exception as e:\n",
    "        print(1, e)\n",
    "        raise #예외를 다시 던짐 즉, raise Exception구문으로 들어가서 출력\n",
    "try:\n",
    "    inputScore()\n",
    "except Exception as e:\n",
    "    print(e)"
   ]
  }
 ],
 "metadata": {
  "kernelspec": {
   "display_name": "Python 3",
   "language": "python",
   "name": "python3"
  },
  "language_info": {
   "codemirror_mode": {
    "name": "ipython",
    "version": 3
   },
   "file_extension": ".py",
   "mimetype": "text/x-python",
   "name": "python",
   "nbconvert_exporter": "python",
   "pygments_lexer": "ipython3",
   "version": "3.7.4"
  }
 },
 "nbformat": 4,
 "nbformat_minor": 4
}
