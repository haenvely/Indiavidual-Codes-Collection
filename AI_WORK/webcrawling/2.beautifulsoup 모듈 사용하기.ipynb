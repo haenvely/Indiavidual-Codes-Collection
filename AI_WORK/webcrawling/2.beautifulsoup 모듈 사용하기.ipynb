{
 "cells": [
  {
   "cell_type": "markdown",
   "metadata": {},
   "source": [
    "### 학습목표\n",
    "1. beautifulsoup 모듈을 알아본다.\n",
    "1. id, class 속성으로 tag를 찾을 수 있다.\n",
    "1. css 속성을 이용해서 tag를 찾을 수 있다.\n",
    "1. 속성값으로 tag를 찾을 수 있다. "
   ]
  },
  {
   "cell_type": "code",
   "execution_count": 1,
   "metadata": {},
   "outputs": [],
   "source": [
    "from bs4 import BeautifulSoup"
   ]
  },
  {
   "cell_type": "code",
   "execution_count": 44,
   "metadata": {},
   "outputs": [],
   "source": [
    "html = '''\n",
    "<html>\n",
    "    <head>\n",
    "        <title>웹스크래핑</title> \n",
    "    </head>\n",
    "    <body>\n",
    "        <div id='upper' class='carami' custom='good'>\n",
    "            <h3 title='scraping test'>\n",
    "                BeautifulSoup을 이용한 웹 스크래핑 연습!!\n",
    "            </h3>\n",
    "        </div>\n",
    "        <div id='lower' class='carami a'> #클래스 두개\n",
    "            <p>carami hahaha</p>\n",
    "            <p>carami hahaha 222222</p>\n",
    "            <p>carami hahaha 333333</p>\n",
    "        </div>\n",
    "        <div class='a'>\n",
    "            <p>aaaaa</p>\n",
    "            <p>bbbbb</p>\n",
    "            <p>ccccc</p>\n",
    "        </div>\n",
    "    </body>\n",
    "</html>\n",
    "'''"
   ]
  },
  {
   "cell_type": "markdown",
   "metadata": {},
   "source": [
    "\n",
    "#<태그> <엘리먼트> 컨텐츠 형식\n",
    "#하나의 태그는 여러개의 속성을 가질 수 있다.\n",
    "값을 전달할 때, 컨텐츠에 값을 줄수도 있지만 태그의 속성에 값을 줄 수도 있다.\n"
   ]
  },
  {
   "cell_type": "code",
   "execution_count": 45,
   "metadata": {},
   "outputs": [
    {
     "data": {
      "text/plain": [
       "<html>\n",
       "<head>\n",
       "<title>웹스크래핑</title>\n",
       "</head>\n",
       "<body>\n",
       "<div class=\"carami\" custom=\"good\" id=\"upper\">\n",
       "<h3 title=\"scraping test\">\n",
       "                BeautifulSoup을 이용한 웹 스크래핑 연습!!\n",
       "            </h3>\n",
       "</div>\n",
       "<div class=\"carami a\" id=\"lower\"> #클래스 두개\n",
       "            <p>carami hahaha</p>\n",
       "<p>carami hahaha 222222</p>\n",
       "<p>carami hahaha 333333</p>\n",
       "</div>\n",
       "<div class=\"a\">\n",
       "<p>aaaaa</p>\n",
       "<p>bbbbb</p>\n",
       "<p>ccccc</p>\n",
       "</div>\n",
       "</body>\n",
       "</html>"
      ]
     },
     "execution_count": 45,
     "metadata": {},
     "output_type": "execute_result"
    }
   ],
   "source": [
    "BeautifulSoup(html)"
   ]
  },
  {
   "cell_type": "code",
   "execution_count": 46,
   "metadata": {},
   "outputs": [],
   "source": [
    "bs = BeautifulSoup(html)"
   ]
  },
  {
   "cell_type": "markdown",
   "metadata": {},
   "source": [
    "#### find \n",
    " - 특정 html tag를 검색한다.\n",
    " - 검색 조건을 명시하여 찾고자하는 tag를 검색한다."
   ]
  },
  {
   "cell_type": "code",
   "execution_count": 8,
   "metadata": {},
   "outputs": [
    {
     "name": "stdout",
     "output_type": "stream",
     "text": [
      "<h3 title=\"scraping test\">\n",
      "                BeautifulSoup을 이용한 웹 스크래핑 연습!!\n",
      "            </h3>\n",
      "\n",
      "                BeautifulSoup을 이용한 웹 스크래핑 연습!!\n",
      "            \n"
     ]
    }
   ],
   "source": [
    "print(bs.find('h3')) #h3 태그\n",
    "h3_element = bs.find('h3')\n",
    "print(h3_element.get_text())"
   ]
  },
  {
   "cell_type": "code",
   "execution_count": 9,
   "metadata": {},
   "outputs": [
    {
     "data": {
      "text/plain": [
       "'웹스크래핑'"
      ]
     },
     "execution_count": 9,
     "metadata": {},
     "output_type": "execute_result"
    }
   ],
   "source": [
    "bs.find('title').get_text()"
   ]
  },
  {
   "cell_type": "code",
   "execution_count": 11,
   "metadata": {},
   "outputs": [
    {
     "data": {
      "text/plain": [
       "<div class=\"carami\" custom=\"good\" id=\"upper\"> #하나의 태그는 여러개의 속성을 가질 수 있다.\n",
       "            <h3 title=\"scraping test\">\n",
       "                BeautifulSoup을 이용한 웹 스크래핑 연습!!\n",
       "            </h3>\n",
       "</div>"
      ]
     },
     "execution_count": 11,
     "metadata": {},
     "output_type": "execute_result"
    }
   ],
   "source": [
    "bs.find('div') #여러개div가 존재해도 첫번째 div만 return해줌.."
   ]
  },
  {
   "cell_type": "code",
   "execution_count": 14,
   "metadata": {},
   "outputs": [
    {
     "name": "stdout",
     "output_type": "stream",
     "text": [
      "<div class=\"a\">\n",
      "<p>aaaaa</p>\n",
      "<p>bbbbb</p>\n",
      "<p>ccccc</p>\n",
      "</div>\n"
     ]
    },
    {
     "data": {
      "text/plain": [
       "'\\naaaaa\\nbbbbb\\nccccc\\n'"
      ]
     },
     "execution_count": 14,
     "metadata": {},
     "output_type": "execute_result"
    }
   ],
   "source": [
    "#특정 div를 리턴해주고 싶다면?\n",
    "#속성을 이용해보자.\n",
    "print(bs.find('div', class_='a'))#클래스가 예약어이기 때문에 언더바 써준다.\n",
    "bs.find('div', class_='a').get_text() #태그 다 떼고 안에 컨텐츠만 나열"
   ]
  },
  {
   "cell_type": "code",
   "execution_count": 17,
   "metadata": {},
   "outputs": [
    {
     "data": {
      "text/plain": [
       "<div class=\"carami\" id=\"lower\">\n",
       "<p>carami hahaha</p>\n",
       "<p>carami hahaha 222222</p>\n",
       "<p>carami hahaha 333333</p>\n",
       "</div>"
      ]
     },
     "execution_count": 17,
     "metadata": {},
     "output_type": "execute_result"
    }
   ],
   "source": [
    "# 속성 여러개일 때 이걸 이용하고 싶다면?\n",
    "myattrs = {'id':'lower', 'class':'carami'}\n",
    "\n",
    "bs.find('div', attrs = myattrs) #속성 딕셔너리 부여"
   ]
  },
  {
   "cell_type": "code",
   "execution_count": 18,
   "metadata": {},
   "outputs": [
    {
     "data": {
      "text/plain": [
       "<div class=\"carami\" custom=\"good\" id=\"upper\"> #하나의 태그는 여러개의 속성을 가질 수 있다.\n",
       "            <h3 title=\"scraping test\">\n",
       "                BeautifulSoup을 이용한 웹 스크래핑 연습!!\n",
       "            </h3>\n",
       "</div>"
      ]
     },
     "execution_count": 18,
     "metadata": {},
     "output_type": "execute_result"
    }
   ],
   "source": [
    "# class = carami, custom = good\n",
    "myattrs = {'class':'carami', 'custom':'good'}\n",
    "bs.find('div', attrs = myattrs)"
   ]
  },
  {
   "cell_type": "markdown",
   "metadata": {},
   "source": [
    "#### find_all \n",
    " - 조건에 맞는 모든 tag를 리스트로 반환한다."
   ]
  },
  {
   "cell_type": "code",
   "execution_count": 19,
   "metadata": {},
   "outputs": [
    {
     "data": {
      "text/plain": [
       "[<div class=\"carami\" custom=\"good\" id=\"upper\"> #하나의 태그는 여러개의 속성을 가질 수 있다.\n",
       "             <h3 title=\"scraping test\">\n",
       "                 BeautifulSoup을 이용한 웹 스크래핑 연습!!\n",
       "             </h3>\n",
       " </div>, <div class=\"carami\" id=\"lower\">\n",
       " <p>carami hahaha</p>\n",
       " <p>carami hahaha 222222</p>\n",
       " <p>carami hahaha 333333</p>\n",
       " </div>, <div class=\"a\">\n",
       " <p>aaaaa</p>\n",
       " <p>bbbbb</p>\n",
       " <p>ccccc</p>\n",
       " </div>]"
      ]
     },
     "execution_count": 19,
     "metadata": {},
     "output_type": "execute_result"
    }
   ],
   "source": [
    "bs.find_all('div')  # div 여러개 전부를 받아서 한개의 리스트로 반환"
   ]
  },
  {
   "cell_type": "code",
   "execution_count": 23,
   "metadata": {},
   "outputs": [
    {
     "data": {
      "text/plain": [
       "[<p>carami hahaha</p>,\n",
       " <p>carami hahaha 222222</p>,\n",
       " <p>carami hahaha 333333</p>,\n",
       " <p>aaaaa</p>,\n",
       " <p>bbbbb</p>,\n",
       " <p>ccccc</p>]"
      ]
     },
     "execution_count": 23,
     "metadata": {},
     "output_type": "execute_result"
    }
   ],
   "source": [
    "bs.find_all('p')"
   ]
  },
  {
   "cell_type": "code",
   "execution_count": 24,
   "metadata": {},
   "outputs": [
    {
     "data": {
      "text/plain": [
       "[<div class=\"carami\" custom=\"good\" id=\"upper\">\n",
       " <h3 title=\"scraping test\">\n",
       "                 BeautifulSoup을 이용한 웹 스크래핑 연습!!\n",
       "             </h3>\n",
       " </div>, <div class=\"carami\" id=\"lower\">\n",
       " <p>carami hahaha</p>\n",
       " <p>carami hahaha 222222</p>\n",
       " <p>carami hahaha 333333</p>\n",
       " </div>]"
      ]
     },
     "execution_count": 24,
     "metadata": {},
     "output_type": "execute_result"
    }
   ],
   "source": [
    "bs.find_all('div', class_ = 'carami') #shift + tab으로 확인"
   ]
  },
  {
   "cell_type": "code",
   "execution_count": 25,
   "metadata": {},
   "outputs": [
    {
     "data": {
      "text/plain": [
       "<head>\n",
       "<title>웹스크래핑</title>\n",
       "</head>"
      ]
     },
     "execution_count": 25,
     "metadata": {},
     "output_type": "execute_result"
    }
   ],
   "source": [
    "bs.head #바로 태그 이름으로 접근"
   ]
  },
  {
   "cell_type": "code",
   "execution_count": 26,
   "metadata": {},
   "outputs": [
    {
     "data": {
      "text/plain": [
       "<div class=\"carami\" custom=\"good\" id=\"upper\">\n",
       "<h3 title=\"scraping test\">\n",
       "                BeautifulSoup을 이용한 웹 스크래핑 연습!!\n",
       "            </h3>\n",
       "</div>"
      ]
     },
     "execution_count": 26,
     "metadata": {},
     "output_type": "execute_result"
    }
   ],
   "source": [
    "bs.div"
   ]
  },
  {
   "cell_type": "code",
   "execution_count": 27,
   "metadata": {},
   "outputs": [
    {
     "data": {
      "text/plain": [
       "<h3 title=\"scraping test\">\n",
       "                BeautifulSoup을 이용한 웹 스크래핑 연습!!\n",
       "            </h3>"
      ]
     },
     "execution_count": 27,
     "metadata": {},
     "output_type": "execute_result"
    }
   ],
   "source": [
    "bs.body.div.h3"
   ]
  },
  {
   "cell_type": "code",
   "execution_count": 28,
   "metadata": {},
   "outputs": [
    {
     "data": {
      "text/plain": [
       "<html>\n",
       "<head>\n",
       "<title>웹스크래핑</title>\n",
       "</head>\n",
       "<body>\n",
       "<div class=\"carami\" custom=\"good\" id=\"upper\">\n",
       "<h3 title=\"scraping test\">\n",
       "                BeautifulSoup을 이용한 웹 스크래핑 연습!!\n",
       "            </h3>\n",
       "</div>\n",
       "<div class=\"carami\" id=\"lower\">\n",
       "<p>carami hahaha</p>\n",
       "<p>carami hahaha 222222</p>\n",
       "<p>carami hahaha 333333</p>\n",
       "</div>\n",
       "<div class=\"a\">\n",
       "<p>aaaaa</p>\n",
       "<p>bbbbb</p>\n",
       "<p>ccccc</p>\n",
       "</div>\n",
       "</body>\n",
       "</html>"
      ]
     },
     "execution_count": 28,
     "metadata": {},
     "output_type": "execute_result"
    }
   ],
   "source": [
    "bs"
   ]
  },
  {
   "cell_type": "markdown",
   "metadata": {},
   "source": [
    "#### get_text\n",
    " - tag안의 value를 추출한다.\n",
    " - 부모tag의 경우, 모든 자식 tag의 value를 추출한다."
   ]
  },
  {
   "cell_type": "code",
   "execution_count": 30,
   "metadata": {},
   "outputs": [
    {
     "data": {
      "text/plain": [
       "'\\n                BeautifulSoup을 이용한 웹 스크래핑 연습!!\\n            '"
      ]
     },
     "execution_count": 30,
     "metadata": {},
     "output_type": "execute_result"
    }
   ],
   "source": [
    "bs.find('h3').get_text()"
   ]
  },
  {
   "cell_type": "code",
   "execution_count": 31,
   "metadata": {},
   "outputs": [],
   "source": [
    "#find_all은 리스트기 때문에 get_text 안된닷."
   ]
  },
  {
   "cell_type": "code",
   "execution_count": 32,
   "metadata": {},
   "outputs": [
    {
     "data": {
      "text/plain": [
       "'BeautifulSoup을 이용한 웹 스크래핑 연습!!'"
      ]
     },
     "execution_count": 32,
     "metadata": {},
     "output_type": "execute_result"
    }
   ],
   "source": [
    "bs.find('h3').get_text().strip()"
   ]
  },
  {
   "cell_type": "markdown",
   "metadata": {},
   "source": [
    "#### attribute 값 추출하기\n",
    " - 검색한 tag에 attribute 명을 [ ]안에 넣어서 추출가능하다.\n"
   ]
  },
  {
   "cell_type": "code",
   "execution_count": 33,
   "metadata": {},
   "outputs": [
    {
     "data": {
      "text/plain": [
       "'upper'"
      ]
     },
     "execution_count": 33,
     "metadata": {},
     "output_type": "execute_result"
    }
   ],
   "source": [
    "div_value = bs.find('div')\n",
    "div_value['id'] #속성 값을 꺼내올 수 있다."
   ]
  },
  {
   "cell_type": "code",
   "execution_count": 47,
   "metadata": {},
   "outputs": [
    {
     "data": {
      "text/plain": [
       "['carami', 'a']"
      ]
     },
     "execution_count": 47,
     "metadata": {},
     "output_type": "execute_result"
    }
   ],
   "source": [
    "div_value = bs.find('div', id='lower')\n",
    "div_value['class'] #클래스의 경우엔 여러번 중복 사용 가능, 여러개 가질 수 있지만 id는 단일값이라서\n",
    "#클래스의 값은 리스트로 반환되고, id의 결과는 문자열로 반환"
   ]
  },
  {
   "cell_type": "markdown",
   "metadata": {},
   "source": [
    "css에서\n",
    ".: 클래스\n",
    "#: 아이디\n",
    "태그{클래스나 아이디} 이런구조\n",
    "태그.클래스 ex) p.subtitle\n",
    "<p class = 'subTitle'>"
   ]
  },
  {
   "cell_type": "code",
   "execution_count": 48,
   "metadata": {},
   "outputs": [
    {
     "data": {
      "text/plain": [
       "[<div class=\"carami\" custom=\"good\" id=\"upper\">\n",
       " <h3 title=\"scraping test\">\n",
       "                 BeautifulSoup을 이용한 웹 스크래핑 연습!!\n",
       "             </h3>\n",
       " </div>]"
      ]
     },
     "execution_count": 48,
     "metadata": {},
     "output_type": "execute_result"
    }
   ],
   "source": [
    "bs.select('div#upper')   #css 선택자를 쓸 수 있음. div 태그의 upper아이디 찾기"
   ]
  },
  {
   "cell_type": "markdown",
   "metadata": {},
   "source": [
    "css창 console에서 직접 테스트 가능하다.\n",
    "##############\n",
    "\n",
    "document.querySelector('p.subTitle')\n",
    "\n",
    "콘텐츠만 뽑으려면\n",
    "\n",
    ".text(혹은 textContent)"
   ]
  },
  {
   "cell_type": "markdown",
   "metadata": {},
   "source": [
    "#####  실습\n",
    "\n",
    "1. 뉴스기사에서 제목, 작성자, 작성일, 댓글 개수을 얻어온다.\n"
   ]
  },
  {
   "cell_type": "code",
   "execution_count": 121,
   "metadata": {},
   "outputs": [
    {
     "name": "stdout",
     "output_type": "stream",
     "text": [
      "﻿ \r\n",
      "\r\n",
      "\r\n",
      "\r\n",
      "\r\n",
      "\r\n",
      "\r\n",
      "\r\n",
      "\r\n",
      "<!DOCTYPE html>\r\n",
      "<html lang=\"ko\">\r\n",
      "<head>\r\n",
      "    <!---액션 태그 매핑:start-->\r\n",
      "    <meta charset=\"utf-8\">\r\n",
      "    <meta http-equiv=\"X-UA-Compatible\" content=\"IE=edge\">\r\n",
      "    <meta  http-equiv=\"Expires\" content=\"-1\">\r\n",
      "    <meta  http-equiv=\"Pragma\" content=\"no-cache\">\r\n",
      "    <meta  http-equiv=\"Cache-Control\" content=\"no-cache\">  \r\n",
      "    <meta name=\"viewport\" content=\"width=device-width,initial-scale=1.0,minimum-scale=1.0,maximum-scale=1.0,user-scalable=no\">\r\n",
      "    <meta name=\"depth\" content=\"3\">\r\n",
      "    <title>서울동부구치소 관련 확진자 792명…오늘 4차 전수조사</title>\r\n",
      "    <meta name=\"title\" content=\"서울동부구치소 관련 확진자 792명…오늘 4차 전수조사\">\r\n",
      "    <meta name=\"url\" content=\"https://imnews.imbc.com/news/2020/society/article/6042702_32633.html\">\r\n",
      "    <meta name=\"author\" content=\"윤수한\">\r\n",
      "    <meta name=\"description\" content=\"코로나19 집단감염이 발생한 서울동부구치소와 관련해 추가 감염 사례가 속출하면서 누적 확진자 수가 800명에 육박했습니다. 법무부는 오늘 0시 기준 동부구치소 관련 코로나19 누적...\">\r\n",
      "    <meta name=\"keywords\" content=\"동부구치소, 코로나19\">\r\n",
      "\r\n",
      "    <meta property=\"og:url\" content=\"https://imnews.imbc.com/news/2020/society/article/6042702_32633.html\">\r\n",
      "    <meta property=\"og:title\" content=\"서울동부구치소 관련 확진자 792명…오늘 4차 전수조사\">\r\n",
      "    <meta property=\"og:description\" content=\"코로나19 집단감염이 발생한 서울동부구치소와 관련해 추가 감염 사례가 속출하면서 누적 확진자 수가 800명에 육박했습니다. 법무부는 오늘 0시 기준 동부구치소 관련 코로나19 누적...\">\r\n",
      "    <meta property=\"og:site_name\" content=\"MBC NEWS\">\r\n",
      "  \t<meta property=\"og:image\" content=\"https://image.imnews.imbc.com/news/2020/society/article/__icsFiles/afieldfile/2020/12/30/hh2020123007.jpg\">\r\n",
      "    <meta property=\"article:publisher\" content=\"https://www.facebook.com/MBCnews\">\r\n",
      "    <meta property=\"og:type\" content=\"article\">\r\n",
      "    <meta property=\"og:locale\" content=\"ko_KR\">\r\n",
      "    <meta property=\"fb:app_id\" content=\"692275414241491\">\r\n",
      "\r\n",
      "    <meta name=\"twitter:card\" content=\"summary_large_image\">\r\n",
      "    <meta name=\"twitter:domain\" content=\"imnews.imbc.com\">\r\n",
      "    <meta name=\"twitter:site\" content=\"@mbcnews\">\r\n",
      "    <meta name=\"twitter:title\" content=\"서울동부구치소 관련 확진자 792명…오늘 4차 전수조사\">\r\n",
      "    <meta name=\"twitter:creator\" content=\"윤수한\">\r\n",
      "    <meta name=\"twitter:image\" content=\"https://image.imnews.imbc.com/news/2020/society/article/__icsFiles/afieldfile/2020/12/30/hh2020123007.jpg\">\r\n",
      "    <meta name=\"twitter:image:alt\" content=\"서울동부구치소 관련 확진자 792명…오늘 4차 전수조사\" />\r\n",
      "    <meta name=\"twitter:description\" content=\"코로나19 집단감염이 발생한 서울동부구치소와 관련해 추가 감염 사례가 속출하면서 누적 확진자 수가 800명에 육박했습니다. 법무부는 오늘 0시 기준 동부구치소 관련 코로나19 누적...\">\r\n",
      "\r\n",
      "    <meta itemprop=\"name\" content=\"서울동부구치소 관련 확진자 792명…오늘 4차 전수조사\">\r\n",
      "    <meta itemprop=\"description\" content=\"코로나19 집단감염이 발생한 서울동부구치소와 관련해 추가 감염 사례가 속출하면서 누적 확진자 수가 800명에 육박했습니다. 법무부는 오늘 0시 기준 동부구치소 관련 코로나19 누적...\">\r\n",
      "    <meta itemprop=\"image\" content=\"https://image.imnews.imbc.com/news/2020/society/article/__icsFiles/afieldfile/2020/12/30/hh2020123007.jpg\">\r\n",
      "\r\n",
      "    <meta name=\"referrer\" content=\"no-referrer-when-downgrade\">                                         \r\n",
      "                                                             \r\n",
      "    <meta name=\"nextweb:catId\" id=\"catId\" content=\"mbcnews_n20_02\">\r\n",
      "    <meta name=\"nextweb:artId\" id=\"artId\" content=\"6042702\">\r\n",
      "    <meta name=\"nextweb:artUrl\" id=\"artUrl\" content=\"https://imnews.imbc.com/news/2020/society/article/6042702_32633.html\">\r\n",
      "    <meta name=\"nextweb:imgUrl\" id=\"imgUrl\" content=\"https://image.imnews.imbc.com/news/2020/society/article/__icsFiles/afieldfile/2020/12/30/hh2020123007.jpg\">\r\n",
      "    <meta name=\"nextweb:artSubject\" id=\"artSubject\" content=\"서울동부구치소 관련 확진자 792명…오늘 4차 전수조사\">\r\n",
      "    <meta name=\"nextweb:keyword\" id=\"keyword\" content=\"동부구치소, 코로나19\">\r\n",
      "    <meta name=\"nextweb:location\" id=\"location\" content=\" 분야별 뉴스 > 사회\">\r\n",
      "    <meta name=\"nextweb:email\" id=\"email\" content=\"belifact@mbc.co.kr\">\r\n",
      "    <meta name=\"nextweb:reporter\" id=\"reporter\" content=\"윤수한\">\r\n",
      "    <meta name=\"nextweb:createDate\" id=\"createDate\" content=\"2020-12-30 10:36\">\r\n",
      "    <meta name=\"nextweb:modDate\" id=\"modDate\" content=\"2020-12-30 10:41\">\r\n",
      "    <meta name=\"nextweb:sysModDate\" id=\"sysModDate\" content=\"2020-12-30 10:41\">\r\n",
      "    \r\n",
      "  <meta name=\"nextweb:vodYN\" id=\"vodYN\" content=\"N\">\r\n",
      "    \r\n",
      "\r\n",
      "\t<meta name=\"nextweb:description\" id=\"description\" content=\"코로나19 집단감염이 발생한 서울동부구치소와 관련해 추가 감염 사례가 속출하면서 누적 확진자 수가 800명에 육박했습니다. 법무부는 오늘 0시 기준 동부구치소 관련 코로나19 누적...\">\r\n",
      "    <meta name=\"nextweb:section\" id=\"section\" content=\"사회\">\r\n",
      "    <meta name=\"nextweb:pname\" id=\"pname\" content=\"\">\r\n",
      "    <meta name=\"nextweb:runno\" id=\"runno\" content=\"1\">\r\n",
      "    <meta name=\"nextweb:vsequen\" id=\"vsequen\" content=\"2\">\r\n",
      "    <meta name=\"nextweb:corner\" id=\"corner\" content=\"\">\r\n",
      "\r\n",
      "    <meta property=\"dable:item_id\" content=\"6042702\">\r\n",
      "    <meta property=\"dable:author\" content=\"윤수한\">\r\n",
      "    <meta property=\"article:section\" content=\"사회\">\r\n",
      "    <meta property=\"article:section2\" content=\"분야별 뉴스\">\r\n",
      "    <meta property=\"article:published_time\" content=\"2020-12-30T10:36:33+09:00\">\r\n",
      "\r\n",
      "    \r\n",
      "    \r\n",
      "    \r\n",
      "    \r\n",
      "  \t<link rel=\"canonical\" href=\"https://imnews.imbc.com/news/2020/society/article/6042702_32633.html\"/>   <!-- 현재 HTML -->\r\n",
      "    <!-- 구글 amp -->\r\n",
      "    <link rel=\"amphtml\" href=\"https://imnews.imbc.com/news/2020/society/article/6042702_32634.html\">\r\n",
      "\r\n",
      "    <link rel=\"alternate\" href=\"https://imnews.imbc.com/news/2020/society/article/6042702_32633.html\"> <!-- 현재 HTML -->\r\n",
      "    <!---액션 태그 매핑:end-->\r\n",
      "    <link rel=\"shortcut icon\" type=\"image/x-icon\" href=\"//image.imnews.imbc.com/page/include/images/favicon.ico\" />\r\n",
      "    <link rel=\"stylesheet\" type=\"text/css\" href=\"https://imnews.imbc.com/page/include/css/common.css\">\r\n",
      "    <link type=\"text/css\" rel=\"stylesheet\" href=\"https://imnews.imbc.com/page/include/css/m/m_common.css\">\r\n",
      "    <link rel=\"stylesheet\" type=\"text/css\" href=\"https://imnews.imbc.com/page/include/css/slick.css\">\r\n",
      "    <link rel=\"stylesheet\" type=\"text/css\" href=\"https://imnews.imbc.com/page/include/css/font.css\">\r\n",
      "    <link rel=\"stylesheet\" type=\"text/css\" href=\"https://imnews.imbc.com/page/include/css/pc/pc_gnb.css\">\r\n",
      "    <link rel=\"stylesheet\" type=\"text/css\" href=\"https://imnews.imbc.com/page/include/css/sub_common.css\">\r\n",
      "    <link rel=\"stylesheet\" type=\"text/css\" href=\"https://imnews.imbc.com/page/include/css/view.css\">\r\n",
      "    <script src=\"https://imnews.imbc.com/page/include/js/lib/jquery-1.12.3.min.js\" type=\"text/javascript\"></script>\r\n",
      "    <script src=\"https://imnews.imbc.com/page/include/js/lib/slick.min.js\" type=\"text/javascript\"></script>\r\n",
      "    <script src=\"https://imnews.imbc.com/page/include/js/pc/pc_gnb.js\" type=\"text/javascript\"></script>\r\n",
      "    <script src=\"https://imnews.imbc.com/page/include/js/common.js\" type=\"text/javascript\"></script>\r\n",
      "    <script src=\"https://imnews.imbc.com/page/include/js/view.js\" type=\"text/javascript\"></script>\r\n",
      "    <!--[if lt IE 9]>\r\n",
      "    <script src=\"https://imnews.imbc.com/page/include/js/lib/html5shiv.min.js\" type=\"text/javascript\"></script>\r\n",
      "    <![endif]-->\r\n",
      "    <script src=\"https://developers.kakao.com/sdk/js/kakao.min.js\"></script>\r\n",
      "    <script src=\"https://imnews.imbc.com/page/include/js/common/bundle.min.js?v20200415\" type=\"text/javascript\"></script> \r\n",
      "    <script src=\"https://imnews.imbc.com/page/include/js/view_util.js?v20200415\" type=\"text/javascript\"></script> \r\n",
      "    <script type=\"text/javascript\" src=\"/page/player/dist/mbcplayer.min.js?v20200106\"></script>\r\n",
      "    <script type=\"text/javascript\" src=\"/page/player/lib/news_util.js\"></script>\r\n",
      "\r\n",
      "    <script data-ad-client=\"ca-pub-2961722781524256\" async src=\"https://pagead2.googlesyndication.com/pagead/js/adsbygoogle.js\"></script>\r\n",
      "\r\n",
      "<!---액션 태그 매핑:start-->\r\n",
      "<script type=\"application/ld+json\">\r\n",
      "    {\r\n",
      "        \"@context\": \"http://schema.org\",\r\n",
      "        \"@type\": \"NewsArticle\",\r\n",
      "        \"mainEntityOfPage\" : {\r\n",
      "            \"@type\": \"WebPage\",\r\n",
      "            \"@id\": \"https://imnews.imbc.com/news/2020/society/article/6042702_32633.html\"\r\n",
      "        },\r\n",
      "        \"headline\": \"서울동부구치소 관련 확진자 792명…오늘 4차 전수조사\",\r\n",
      "        \"description\": \" 코로나19 집단감염이 발생한 서울동부구치소와 관련해 추가 감염 사례가 속출하면서 누적 확진자 수가 800명에 육박했습니다. 법무부는 오늘 0시 기준 동부구치소 관련 코로나19 누적...\",\r\n",
      "        \"datePublished\": \"2020-12-30T10:36:33+09:00\",\t// pubdate 를 yyyy-mm-ddTHH:MM:SS 형식으로\r\n",
      "        \"dateModified\":\"2020-12-30T10:41:04+09:00\",\t// 수정일자 를 yyyy-mm-ddTHH:MM:SS 형식으로\r\n",
      "        \"author\": {\r\n",
      "            \"@type\": \"Person\",\r\n",
      "            \"name\": \"윤수한\"\r\n",
      "        },\r\n",
      "        \"image\": {\r\n",
      "            \"@type\": \"ImageObject\",\r\n",
      "            \"url\": \"//image.imnews.imbc.com/news/2020/society/article/__icsFiles/afieldfile/2020/12/30/hh2020123007.jpg\",\r\n",
      "            \"width\": \"640\",\r\n",
      "            \"height\": \"360\"\r\n",
      "        },\r\n",
      "        \"keywords\":\"동부구치소,코로나19\",\r\n",
      "    \"publisher\": {\r\n",
      "    \"@type\": \"Organization\",\r\n",
      "    \"name\": \"MBC 뉴스\",\r\n",
      "    \"alternateName\": \"MBC NEWS\",\r\n",
      "    \"logo\": {\r\n",
      "    \"@type\": \"ImageObject\",\r\n",
      "    \"url\": \"http://image.imnews.imbc.com/page/include/images/amp_mbc_logo.png\",\r\n",
      "    \"width\": 600,\r\n",
      "    \"height\": 60\r\n",
      "    }\r\n",
      "    },\r\n",
      "        \"sameAs\":[\r\n",
      "        \"https://www.facebook.com/MBCnews\",\r\n",
      "        \"https://twitter.com/mbcnews\",\r\n",
      "        \"https://www.youtube.com/mbcnews11\",\r\n",
      "        \"https://www.instagram.com/mbcnews_official/\",\r\n",
      "        \"https://band.us/@mbcnewsofficial\",\r\n",
      "        \"https://post.naver.com/mbcnews_official\"\r\n",
      "\r\n",
      "        ]\r\n",
      "    }\r\n",
      "</script>\r\n",
      "    \r\n",
      "    \r\n",
      "    \r\n",
      "    \r\n",
      "    \r\n",
      "<script type=\"application/ld+json\">\r\n",
      "    {\r\n",
      "        \"@context\": \"http://schema.org\",\r\n",
      "        \"@type\": \"BreadcrumbList\",\r\n",
      "        \"itemListElement\": [\r\n",
      "            {\r\n",
      "                \"@type\": \"ListItem\",\r\n",
      "                \"position\": 1,\r\n",
      "                \"name\": \"MBC 뉴스\",\r\n",
      "                \"item\": \"http://imnews.imbc.com\"  //고정\r\n",
      "            },\r\n",
      "            {\r\n",
      "                \"@type\": \"ListItem\",    //view의 list내용\r\n",
      "                \"position\": 2,\r\n",
      "                \"name\": \"사회\",\r\n",
      "                \"item\": \"https://imnews.imbc.com/news/2020/society/6042253_32628.html\"\r\n",
      "            }\r\n",
      "        ]\r\n",
      "    }\r\n",
      "</script>\r\n",
      "<!---액션 태그 매핑:end-->\r\n",
      "</head>\r\n",
      "<body>\r\n",
      "<div id=\"wrap\" class=\"sub \">\r\n",
      "    <!-- 스킵 내비게이션 -->\r\n",
      "    <div id=\"u_skip\">\r\n",
      "        <a href=\"#content\">본문 바로가기</a>\r\n",
      "        <a href=\"#navi\">메뉴 바로가기</a>\r\n",
      "    </div>\r\n",
      "    <!-- //스킵 내비게이션 -->\r\n",
      "    <!-- 헤더 -->\r\n",
      "    <header id=\"header\">\r\n",
      "        <div class=\"pc_header\">\r\n",
      "            <!-- 특별 프로모션 이미지 -->\r\n",
      "            <div class=\"link_special\"></div>\r\n",
      "            <!-- pc헤더 pc_gnb.js-->\r\n",
      "        </div>\r\n",
      "        <div class=\"m_header\">\r\n",
      "            <!-- 모바일 m_gnb -->\r\n",
      "        </div>\r\n",
      "    </header>\r\n",
      "    <!-- //헤더 -->\r\n",
      "    <nav id=\"navi\">\r\n",
      "        <div class=\"wrap_pc_nav\">\r\n",
      "            <div class=\"pc_nav\">\r\n",
      "                <!-- PC 네비게이션 -->\r\n",
      "            </div>\r\n",
      "            <div class=\"nav_d2\" tabindex=\"-1\">\r\n",
      "                <!-- PC 네이게이션 더보기 -->\r\n",
      "            </div>\r\n",
      "            <div class=\"progress_container\">\r\n",
      "                <div class=\"progress_bar\" id=\"progressBar\"></div>\r\n",
      "            </div>\r\n",
      "        </div>\r\n",
      "        <!-- 모바일 m_navi -->\r\n",
      "    </nav>\r\n",
      "    <!-- 모바일 m_gnb.js -->\r\n",
      "    <script type=\"text/javascript\" src=\"https://imnews.imbc.com/page/include/js/m/m_gnb.js\"></script>\r\n",
      "    <!-- // 모바일 m_gnb.js -->\r\n",
      "    <!-- container -->\r\n",
      "    <div id=\"container\">\r\n",
      "        <!-- content -->\r\n",
      "        <div id=\"content\">\r\n",
      "            <div class=\"wrap_view\">\r\n",
      "                <div class=\"bg_dim\"></div>\r\n",
      "                <section class=\"wrap_article\">\r\n",
      "                    <article class=\"cont_left\">\r\n",
      "                        <div class=\"wrap_title\">\r\n",
      "                            <div class=\"info_art\">\r\n",
      "                                <!---액션 태그 매핑:start-->\r\n",
      "                                \r\n",
      "                                \r\n",
      "                                <span class=\"sort\">사회</span>\r\n",
      "                                <div class=\"reporter\">\r\n",
      "                                    \r\n",
      "                                    <span class=\"writer_img\"><img src=\"//image.imnews.imbc.com//page/include/images/writer_default.png\"  alt=\"기자이미지\" ></span>\r\n",
      "                                    <span class=\"writer\">윤수한</span>\r\n",
      "                                     \r\n",
      "                                </div>\r\n",
      "                            </div>\r\n",
      "                            <h2 class=\"art_title\">서울동부구치소 관련 확진자 792명…오늘 4차 전수조사</h2>\r\n",
      "                            <!-- 모바일 상단 fix 흘러가는 제목 -->\r\n",
      "                            <div class=\"m_top_title\"><span class=\"ellipsis\">서울동부구치소 관련 확진자 792명…오늘 4차 전수조사</span></div>\r\n",
      "                            <!---액션 태그 매핑:end-->\r\n",
      "                            <div class=\"ui_article\">\r\n",
      "                                <!---액션 태그 매핑:start-->\r\n",
      "                                <div class=\"date\">\r\n",
      "                                     <span class=\"input\">입력 2020-12-30 10:36</span> |\r\n",
      "                                    <span class=\"input\">수정 2020-12-30 10:41</span>\r\n",
      "                                </div>\r\n",
      "                                <!---액션 태그 매핑:end-->\r\n",
      "                                <div class=\"ui_link\">\r\n",
      "                                    <video id=\"audio\" style=\"display:none\"></video>\r\n",
      "                                    <a href=\"#commentBox\" title=\"댓글\" class=\"comment\"></a>\r\n",
      "                                    <button type=\"button\" title=\"글자 크기\" class=\"font\"></button>\r\n",
      "                                    <button type=\"button\" title=\"북마크\" class=\"bookmark\"></button>\r\n",
      "                                    <button type=\"button\" title=\"공유\" class=\"share\"></button>\r\n",
      "                                    <button type=\"button\" title=\"음성\" class=\"voice\"></button>\r\n",
      "                                    <button type=\"button\" title=\"인쇄\" class=\"print\"></button>\r\n",
      "                                    <!-- 폰트사이즈 레이어-->\r\n",
      "                                    <div class=\"mini_layer layer_fontsize\">\r\n",
      "                                        <ul>\r\n",
      "                                            <li class=\"font1\">가</li>\r\n",
      "                                            <li class=\"font2 on\">가</li>\r\n",
      "                                            <li class=\"font3\">가</li>\r\n",
      "                                        </ul>\r\n",
      "                                    </div>\r\n",
      "                                    <!-- 북마크 레이어-->\r\n",
      "                                    <div class=\"mini_layer layer_bookmark\">\r\n",
      "                                        <div class=\"text\">해당 기사를 북마크했습니다.</div>\r\n",
      "                                        <div class=\"link_bm\">\r\n",
      "                                            <button type=\"button\" class=\"btn_confirm\">확인</button>\r\n",
      "                                            <a href=\"#\">내 북마크 보기</a>\r\n",
      "                                        </div>\r\n",
      "                                    </div>\r\n",
      "                                    <!-- 공유 레이어-->\r\n",
      "                                    <div class=\"layer_share\">\r\n",
      "                                        <ul>\r\n",
      "                                            <li><button class=\"share_fb\" id=\"facebook\"></button><span>페이스북</span></li>\r\n",
      "                                            <li><button class=\"share_tw\" id=\"twitter\"></button><span>트위터</span></li>\r\n",
      "                                            <li><button class=\"share_story\" id=\"ks\"></button><span>카카오 스토리</span></li>\r\n",
      "                                            <li><button class=\"share_kko\" id=\"kt\"></button><span>카카오톡</span></li>\r\n",
      "                                            <li><button class=\"share_band\" id=\"nb\"></button><span>밴드</span></li>\r\n",
      "                                            <li><button class=\"share_url\" id=\"url\"></button><span>링크 복사</span></li>\r\n",
      "                                            <li><button class=\"share_copy\" id=\"copy\"></button><span>본문 복사</span></li>\r\n",
      "                                        </ul>\r\n",
      "                                        <button type=\"button\" class=\"btn_close_layer\">레이어 닫기</button>\r\n",
      "                                    </div>\r\n",
      "                                </div>\r\n",
      "                            </div>\r\n",
      "                        </div>\r\n",
      "                        <div class=\"news_cont\">\r\n",
      "\r\n",
      "                                        \r\n",
      "                                \r\n",
      "\t\t\t\t\t\t\t\t\r\n",
      "\t\t\t\t\t\t\t\t\r\n",
      "                                \r\n",
      "                                \r\n",
      "                           \r\n",
      "                            <!---액션 태그 매핑:end-->\r\n",
      "                            <!-- 다음 뉴스 슬라이드 -->\r\n",
      "                            <div class=\"wrap_next_news\">\r\n",
      "                                <div class=\"s_slider\">\r\n",
      "                                    <div class=\"news_slide\">\r\n",
      "                                    </div>\r\n",
      "                                    <button class=\"slick-arrow slick-prev\" aria-label=\"Previous\" type=\"button\">Previous</button>\r\n",
      "                                    <button class=\"slick-arrow slick-next\" aria-label=\"Next\" type=\"button\">Next</button>\r\n",
      "                                </div>\r\n",
      "                            </div>\r\n",
      "                            <!-- // 다음 뉴스 슬라이드 -->\r\n",
      "                            <!-- 전체재생  -->\r\n",
      "                            <div class=\"wrap_playall\">\r\n",
      "                                <button type=\"button\" class=\"open_layer\">전체재생</button>\r\n",
      "                            </div>\r\n",
      "                            <!-- // 전체재생  -->\r\n",
      "                            <!-- 전체재생 레이어 -->\r\n",
      "                            <div class=\"layer_popup\">\r\n",
      "                                <div class=\"vod_left\">\r\n",
      "                                    <div class=\"vod_info\">\r\n",
      "                                        <span class=\"program\"></span>\r\n",
      "                                        <span class=\"news_date\"></span>\r\n",
      "                                    </div>\r\n",
      "                                    <div class=\"player\"></div>\r\n",
      "                                    <div class=\"vod_title\"></div>\r\n",
      "                                    <a href=\"#\" class=\"ico_comment\"></a>\r\n",
      "                                    <a href=\"#\" class=\"link_detail\">상세 기사보기</a>\r\n",
      "                                </div>\r\n",
      "                                <div class=\"vod_right\">\r\n",
      "                                    <div class=\"tit\"><span>재생목록</span><span class=\"number\"></span></div>\r\n",
      "                                    <button type=\"button\" class=\"btn_repeat\">연속재생</button>\r\n",
      "                                    <div class=\"vod_list\">\r\n",
      "                                        <div class=\"s_slider\">\r\n",
      "                                            <ul></ul>\r\n",
      "                                        </div>\r\n",
      "                                    </div>\r\n",
      "                                </div>\r\n",
      "                                <button type=\"button\" class=\"btn_vod_close\">닫기</button>\r\n",
      "                            </div>\r\n",
      "                            <!-- // 전체재생 레이어 -->\r\n",
      "                                 <div class=\"news_txt\" itemprop=\"articleBody\">\r\n",
      "                                   <div class=\"news_img\"><img src=\"//image.imnews.imbc.com/news/2020/society/article/__icsFiles/afieldfile/2020/12/30/hh2020123007.jpg\" alt=\"서울동부구치소 관련 확진자 792명…오늘 4차 전수조사\" onerror=\"ImUtil.SetErrorImage(this);\"></div>코로나19 집단감염이 발생한  서울동부구치소와 관련해 추가 감염 사례가 속출하면서 누적 확진자 수가 800명에 육박했습니다.\r",
      "<br>\r",
      "<br>법무부는 오늘 0시 기준 동부구치소 관련 코로나19 누적 확진자가 직원 21명, 출소자를 포함한 수용자 771명 등  모두 792명으로 집계됐다고 밝혔습니다.\r",
      "<br>\r",
      "<br>확진된 수용자 중 현재 동부구치소에 남아 있는 수용자는 409명이며 어제보다 28명이 늘어난 수치입니다.\r",
      "<br>\r",
      "<br>동부구치소에서 서울남부교도소와 강원북부교도소로 이송된 뒤 각각 추가로 확진된 수용자 16명과 1명도 누적 확진자 수에 포함됐습니다.\r",
      "<br>\r",
      "<br>관련 확진자가 계속 늘어나면서 교정당국과 방역당국은 오늘 동부구치소 직원과 수용자를 대상으로 4차 전수조사를 실시할 예정입니다.\r",
      "<br>\r",
      "<br>한편 동부구치소를 포함해 전국 교정시설에서 코로나19 확진 판정을 받은 수용자와 직원은 37명 늘어 모두 837명으로 집계됐습니다.\r\n",
      "                      </div>\r\n",
      "                        </div>\r\n",
      "                      <script>\r\n",
      "                        $(document).ready(function(){\r\n",
      "                          var filter = \"win16|win32|win64|mac|macintel\";\r\n",
      "\r\n",
      "                          if(navigator.platform){\r\n",
      "                            if(0 > filter.indexOf(navigator.platform.toLowerCase())){\r\n",
      "                              // alert(\"Mobile\");\r\n",
      "                            }else{\r\n",
      "                              var corona19img = '<img src=\"https://image.imnews.imbc.com/newszoomin/groupnews/groupnews_9/corona19_inthum.png\" style=\"display:block; margin:30px auto;\" alt=\"코로나19 예방법\">';\r\n",
      "                              $('.news_txt').append(corona19img);\r\n",
      "                              // alert(\"PC\");\r\n",
      "                            }\r\n",
      "                          }\r\n",
      "                        });\r\n",
      "                      </script>\r\n",
      "                        <div class=\"section_mid\">\r\n",
      "                            <div class=\"hashtag\">\r\n",
      "                                <!---액션 태그 매핑:start-->\r\n",
      "                                \r\n",
      "                                \r\n",
      "                                \r\n",
      "                                \r\n",
      "                                <a href=\"#\">#동부구치소</a>\r\n",
      "                                \r\n",
      "                                \r\n",
      "                                \r\n",
      "                                \r\n",
      "                                <a href=\"#\">#코로나19</a>\r\n",
      "                                \r\n",
      "                                \r\n",
      "                            </div>\r\n",
      "\r\n",
      "                            <!---액션 태그 매핑:end-->\r\n",
      "                            <div class=\"ui_link\">\r\n",
      "                                <a href=\"#commentBox\" title=\"댓글\" class=\"comment\"></a>\r\n",
      "                                <button type=\"button\" title=\"글자 크기\" class=\"font\"></button>\r\n",
      "                                <button type=\"button\" title=\"북마크\" class=\"bookmark\"></button>\r\n",
      "                                <button type=\"button\" title=\"공유\" class=\"share\"></button>\r\n",
      "                                <button type=\"button\" title=\"음성\" class=\"voice\"></button>\r\n",
      "                                <button type=\"button\" title=\"인쇄\" class=\"print\"></button>\r\n",
      "                                <!-- 폰트사이즈 레이어-->\r\n",
      "                                <div class=\"mini_layer layer_fontsize\">\r\n",
      "                                    <ul>\r\n",
      "                                        <li class=\"font1\">가</li>\r\n",
      "                                        <li class=\"font2 on\">가</li>\r\n",
      "                                        <li class=\"font3\">가</li>\r\n",
      "                                    </ul>\r\n",
      "                                </div>\r\n",
      "                                <!-- 북마크 레이어-->\r\n",
      "                                <div class=\"mini_layer layer_bookmark\">\r\n",
      "                                    <div class=\"text\">해당 기사를 북마크했습니다.</div>\r\n",
      "                                    <div class=\"link_bm\">\r\n",
      "                                        <button type=\"button\" class=\"btn_confirm\">확인</button>\r\n",
      "                                        <a href=\"#\">내 북마크 보기</a>\r\n",
      "                                    </div>\r\n",
      "                                </div>\r\n",
      "                                <!-- 공유 레이어-->\r\n",
      "                                <div class=\"layer_share\">\r\n",
      "                                    <ul>\r\n",
      "                                        <li><button class=\"share_fb\"></button><span>페이스북</span></li>\r\n",
      "                                        <li><button class=\"share_tw\"></button><span>트위터</span></li>\r\n",
      "                                        <li><button class=\"share_story\"></button><span>카카오 스토리</span></li>\r\n",
      "                                        <li><button class=\"share_kko\"></button><span>카카오톡</span></li>\r\n",
      "                                        <li><button class=\"share_band\"></button><span>밴드</span></li>\r\n",
      "                                        <li><button class=\"share_url\"></button><span>링크 복사</span></li>\r\n",
      "                                        <li><button class=\"share_copy\"></button><span>본문 복사</span></li>\r\n",
      "                                    </ul>\r\n",
      "                                    <button type=\"button\" class=\"btn_close_layer\">레이어 닫기</button>\r\n",
      "                                </div>\r\n",
      "                            </div>\r\n",
      "                        </div>\r\n",
      "                        <div class=\"imoji\">\r\n",
      "                            <h3 class=\"sub_tit\">이 기사 어땠나요?</h3>\r\n",
      "                            <ul>\r\n",
      "                                <li class=\"good\"><a href=\"#none\"><span class=\"btn_feel\">좋아요</span><span class=\"count\"></span></a></li>\r\n",
      "                                <li class=\"great\"><a href=\"#none\"><span class=\"btn_feel\">훌륭해요</span><span class=\"count\"></span></a></li>\r\n",
      "                                <li class=\"sad\"><a href=\"#none\"><span class=\"btn_feel\">슬퍼요</span><span class=\"count\"></span></a></li>\r\n",
      "                                <li class=\"angry\"><a href=\"#none\"><span class=\"btn_feel\">화나요</span><span class=\"count\"></span></a></li>\r\n",
      "                                <li class=\"news\"><a href=\"#none\"><span class=\"btn_feel\">후속요청</span><span class=\"count\"></span></a></li>\r\n",
      "                            </ul>\r\n",
      "                        </div>\r\n",
      "                        <div class=\"wrap_comment\" id=\"commentBox\">\r\n",
      "                            <h3 class=\"sub_tit\">당신의 의견을 남겨주세요</h3>\r\n",
      "                            <div class=\"comment_numb\"></div>\r\n",
      "                            <div class=\"write_comment\">\r\n",
      "                                <div class=\"wrap_input\">\r\n",
      "                                    <div class=\"login_id\">\r\n",
      "                                        <span class=\"id\"></span>\r\n",
      "                                        <span class=\"string\"><em>0</em>/300</span>\r\n",
      "                                    </div>\r\n",
      "                                    <textarea id=\"cmt_cont\" placeholder=\"의견을 작성하려면 로그인해주세요\" title=\"댓글 작성란\"></textarea>\r\n",
      "                                    <button type=\"submit\" class=\"btn_submit\"><span>등록</span></button>\r\n",
      "                                </div>\r\n",
      "                                <span class=\"login_alert\" style=\"display:none;background-color:red\"></span>\r\n",
      "                            </div>\r\n",
      "                            <div class=\"sort_comment\">\r\n",
      "                                <div class=\"sort_comment_btn\">\r\n",
      "                                    <a href=\"#none\" class=\"on\">최신순</a>\r\n",
      "                                    <a href=\"#none\">공감순</a>\r\n",
      "                                    <a href=\"#none\">반대순</a>\r\n",
      "                                </div>\r\n",
      "                            </div>\r\n",
      "                            <div class=\"list_comment\">\r\n",
      "                                <ul></ul>\r\n",
      "                                <div class=\"wrap_more\">\r\n",
      "                                    <button type=\"button\" class=\"ui_button btn_more\"><span>더보기</span></button>\r\n",
      "                                </div>\r\n",
      "                            </div>\r\n",
      "                        </div>\r\n",
      "                    </article>\r\n",
      "                    <aside class=\"wrap_aside cont_right\">\r\n",
      "                      \t<!-- 우측 패널 데이블 광고 영역 -->\r\n",
      "                        <div class=\"s_dable\"></div>\r\n",
      "                      \t<!-- //우측 패널 데이블 광고 영역 -->\r\n",
      "                        <!-- PC광고 네이버배너 -->\r\n",
      "                        <div class=\"ad_banner\"></div>\r\n",
      "                        <!-- 모바일 광고 영역 -->\r\n",
      "                        <div class=\"section s_ad\"></div>\r\n",
      "                        <div class=\"news_list\">\r\n",
      "                            <h3>이시각 주요뉴스</h3>\r\n",
      "                            <ul class=\"thumb_type list_thumb_r\"></ul>\r\n",
      "                            <ul class=\"thumb_type list_thumb_r\"></ul>\r\n",
      "                        </div>\r\n",
      "                        <!-- 우측 패널 데이블 광고 영역 -->\r\n",
      "                        <div class=\"s_dable2\"></div>\r\n",
      "                      \t<!-- //우측 패널 데이블 광고 영역 -->\r\n",
      "                        <!-- //광고 영역 -->\r\n",
      "                        <div class=\"s_hits\">\r\n",
      "                            <h3>많이 본 뉴스</h3>\r\n",
      "                            <div class=\"tabs\">\r\n",
      "                                <ul>\r\n",
      "                                    <li id=\"im\"><span>MBC</span></li>\r\n",
      "                                    <li id=\"pt\"><span>포털</span></li>\r\n",
      "                                    <li id=\"sns\"><span>SNS</span></li>\r\n",
      "                                    <li id=\"vod\"><span>유튜브</span></li>\r\n",
      "                                </ul>\r\n",
      "                            </div>\r\n",
      "                            <div class=\"hits_list\">\r\n",
      "                                <ul class=\"list_text wrapper\"></ul>\r\n",
      "                            </div>\r\n",
      "                        </div>\r\n",
      "                        <div class=\"n_banner\">\r\n",
      "\r\n",
      "                        </div>\r\n",
      "                      \t<!-- google adsense 영역 -->\r\n",
      "                        <div class=\"ad_banner\"></div>\r\n",
      "                      \t<!-- // google adsense 영역 -->\r\n",
      "                        <div class=\"recom\">\r\n",
      "                            <h3>분야별 추천 뉴스</h3>\r\n",
      "                            <ul></ul>\r\n",
      "                            <ul></ul>\r\n",
      "                            <ul></ul>\r\n",
      "                        </div>\r\n",
      "                    </aside>\r\n",
      "                </section>\r\n",
      "                <!-- PC 취재플러스 하단 데이블 광고 영역 -->  \r\n",
      "                <div class=\"section_bottom_dable\"></div>\r\n",
      "                <!-- PC 취재플러스 하단 데이블 광고 영역 -->  \r\n",
      "                <section class=\"section_bottom\">\r\n",
      "                    <div class=\"wrap_pan bottom_roll\">\r\n",
      "                        <div class=\"roll_pan\">\r\n",
      "                            <div class=\"cont_left news_related\">\r\n",
      "                                <h3> <strong></strong>관련 뉴스</h3>\r\n",
      "                                <div class=\"s_slider\">\r\n",
      "                                    <ul class=\"thumb_type\"></ul>\r\n",
      "                                </div>\r\n",
      "                            </div>\r\n",
      "                            <div class=\"cont_right\">\r\n",
      "                                <h3>인기 키워드</h3>\r\n",
      "                                <div class=\"keyword\">\r\n",
      "                                    <ul></ul>\r\n",
      "                                </div>\r\n",
      "                            </div>\r\n",
      "                        </div>\r\n",
      "                        <div class=\"roll_pan\">\r\n",
      "                            <div class=\"news_plus\">\r\n",
      "                                <h3>취재플러스</h3>\r\n",
      "                                <div class=\"wrap_plus\">\r\n",
      "                                    <ul class=\"thumbnail\"></ul>\r\n",
      "                                </div>\r\n",
      "                                <div class=\"list_hori\">\r\n",
      "                                    <ul></ul>\r\n",
      "                                    <ul></ul>\r\n",
      "                                </div>\r\n",
      "                            </div>\r\n",
      "                        </div>\r\n",
      "                        <div class=\"roll_pan\">\r\n",
      "                            <div class=\"cont_left 14f\">\r\n",
      "                                <h3>14F</h3>\r\n",
      "                                <div class=\"s_slider\">\r\n",
      "                                    <ul class=\"thumb_type\"></ul>\r\n",
      "                                </div>\r\n",
      "                            </div>\r\n",
      "                            <div class=\"cont_right\">\r\n",
      "                                <div class=\"wrap_mbig\">\r\n",
      "                                    <h3>엠빅뉴스</h3>\r\n",
      "                                    <ul class=\"thumb_type list_thumb_r\"></ul>\r\n",
      "                                </div>\r\n",
      "                            </div>\r\n",
      "                        </div>\r\n",
      "                    </div>\r\n",
      "                    <ul class=\"slick-dots\"></ul>\r\n",
      "                </section>\r\n",
      "                <!-- PC 취재플러스 하단 데이블 광고 2 영역 -->  \r\n",
      "                <div class=\"section_bottom_dable2\"></div>\r\n",
      "                <!-- //PC 취재플러스 하단 데이블 광고 2 영역 --> \r\n",
      "                <!-- 광고 영역 -->\r\n",
      "                <div class=\"section s_ad\"></div>\r\n",
      "                <!-- //광고 영역 -->\r\n",
      "            </div>\r\n",
      "        </div>\r\n",
      "        <!-- //content -->\r\n",
      "    </div>\r\n",
      "    <!-- //container -->\r\n",
      "    <footer id=\"footer\">\r\n",
      "        <!-- PC footer -->\r\n",
      "        <div class=\"pc_footer\">\r\n",
      "            <div class=\"program_list\">\r\n",
      "            </div>\r\n",
      "            <div class=\"wrap_corp\">\r\n",
      "            </div>\r\n",
      "        </div>\r\n",
      "        <!-- // PC footer -->\r\n",
      "        <!-- 모바일 m_footer.js -->\r\n",
      "        <div class=\"m_footer\">\r\n",
      "            <script type=\"text/javascript\" src=\"https://imnews.imbc.com/page/include/js/m/m_footer.js\"></script>\r\n",
      "        </div>\r\n",
      "        <!-- // 모바일 m_footer.js -->\r\n",
      "    </footer>\r\n",
      "</div>\r\n",
      "</body>\r\n",
      "</html>\n"
     ]
    }
   ],
   "source": [
    "import requests\n",
    "url = 'https://imnews.imbc.com/news/2020/society/article/6042702_32633.html'\n",
    "resp = requests.get(url)\n",
    "if resp.status_code == 200: #요청을 정상으로 처리했다면\n",
    "    print(resp.text)\n",
    "    html = resp.text\n",
    "    \n",
    "else:\n",
    "    print('error')"
   ]
  },
  {
   "cell_type": "code",
   "execution_count": 69,
   "metadata": {},
   "outputs": [],
   "source": [
    "bs = BeautifulSoup(html)"
   ]
  },
  {
   "cell_type": "code",
   "execution_count": 86,
   "metadata": {},
   "outputs": [],
   "source": [
    "title = bs.find('title').get_text()"
   ]
  },
  {
   "cell_type": "code",
   "execution_count": 87,
   "metadata": {},
   "outputs": [],
   "source": [
    "writer = bs.find('span', class_ = 'writer').get_text()"
   ]
  },
  {
   "cell_type": "code",
   "execution_count": 88,
   "metadata": {},
   "outputs": [],
   "source": [
    "written_date = bs.find('span', class_ = 'input').get_text()"
   ]
  },
  {
   "cell_type": "code",
   "execution_count": 114,
   "metadata": {},
   "outputs": [
    {
     "name": "stdout",
     "output_type": "stream",
     "text": [
      "None\n"
     ]
    }
   ],
   "source": [
    "comments = bs.find('div', class_ = 'u_comment_box')\n",
    "print(comments)  #댓글 숫자는 크롤링되지 않는가 왜...\n",
    "#댓글의 경우 그냥 달릴뿐 페이지 새로고침으로 바뀌지 않는다 않기 때문에 0으로 해놓고 계속 호출하는것..."
   ]
  },
  {
   "cell_type": "code",
   "execution_count": 100,
   "metadata": {},
   "outputs": [
    {
     "name": "stdout",
     "output_type": "stream",
     "text": [
      "서울동부구치소 관련 확진자 792명…오늘 4차 전수조사\n",
      "윤수한\n",
      "입력 2020-12-30 10:36\n",
      "\n"
     ]
    }
   ],
   "source": [
    "print(title)\n",
    "print(writer)\n",
    "print(written_date)\n",
    "print(comments)"
   ]
  },
  {
   "cell_type": "code",
   "execution_count": 119,
   "metadata": {
    "scrolled": true
   },
   "outputs": [
    {
     "data": {
      "text/plain": [
       "[]"
      ]
     },
     "execution_count": 119,
     "metadata": {},
     "output_type": "execute_result"
    }
   ],
   "source": [
    "bs.select('div#user_text')"
   ]
  },
  {
   "cell_type": "markdown",
   "metadata": {},
   "source": [
    "그래서.....selenium으로 가본다..!!!!"
   ]
  },
  {
   "cell_type": "code",
   "execution_count": null,
   "metadata": {},
   "outputs": [],
   "source": []
  },
  {
   "cell_type": "code",
   "execution_count": null,
   "metadata": {},
   "outputs": [],
   "source": []
  },
  {
   "cell_type": "code",
   "execution_count": null,
   "metadata": {},
   "outputs": [],
   "source": []
  }
 ],
 "metadata": {
  "kernelspec": {
   "display_name": "Python 3",
   "language": "python",
   "name": "python3"
  },
  "language_info": {
   "codemirror_mode": {
    "name": "ipython",
    "version": 3
   },
   "file_extension": ".py",
   "mimetype": "text/x-python",
   "name": "python",
   "nbconvert_exporter": "python",
   "pygments_lexer": "ipython3",
   "version": "3.7.4"
  }
 },
 "nbformat": 4,
 "nbformat_minor": 2
}
