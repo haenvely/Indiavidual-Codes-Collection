{
 "cells": [
  {
   "cell_type": "markdown",
   "metadata": {},
   "source": [
    "### 아래 데이터를 이용해서 문제를 해결하세요."
   ]
  },
  {
   "cell_type": "code",
   "execution_count": 1,
   "metadata": {},
   "outputs": [],
   "source": [
    "import numpy as np\n",
    "import pandas as pd"
   ]
  },
  {
   "cell_type": "code",
   "execution_count": 2,
   "metadata": {},
   "outputs": [
    {
     "data": {
      "text/html": [
       "<div>\n",
       "<style scoped>\n",
       "    .dataframe tbody tr th:only-of-type {\n",
       "        vertical-align: middle;\n",
       "    }\n",
       "\n",
       "    .dataframe tbody tr th {\n",
       "        vertical-align: top;\n",
       "    }\n",
       "\n",
       "    .dataframe thead th {\n",
       "        text-align: right;\n",
       "    }\n",
       "</style>\n",
       "<table border=\"1\" class=\"dataframe\">\n",
       "  <thead>\n",
       "    <tr style=\"text-align: right;\">\n",
       "      <th></th>\n",
       "      <th>PassengerId</th>\n",
       "      <th>Survived</th>\n",
       "      <th>Pclass</th>\n",
       "      <th>Name</th>\n",
       "      <th>Sex</th>\n",
       "      <th>Age</th>\n",
       "      <th>SibSp</th>\n",
       "      <th>Parch</th>\n",
       "      <th>Ticket</th>\n",
       "      <th>Fare</th>\n",
       "      <th>Cabin</th>\n",
       "      <th>Embarked</th>\n",
       "    </tr>\n",
       "  </thead>\n",
       "  <tbody>\n",
       "    <tr>\n",
       "      <td>0</td>\n",
       "      <td>1</td>\n",
       "      <td>0</td>\n",
       "      <td>3</td>\n",
       "      <td>Braund, Mr. Owen Harris</td>\n",
       "      <td>male</td>\n",
       "      <td>22.0</td>\n",
       "      <td>1</td>\n",
       "      <td>0</td>\n",
       "      <td>A/5 21171</td>\n",
       "      <td>7.2500</td>\n",
       "      <td>NaN</td>\n",
       "      <td>S</td>\n",
       "    </tr>\n",
       "    <tr>\n",
       "      <td>1</td>\n",
       "      <td>2</td>\n",
       "      <td>1</td>\n",
       "      <td>1</td>\n",
       "      <td>Cumings, Mrs. John Bradley (Florence Briggs Th...</td>\n",
       "      <td>female</td>\n",
       "      <td>38.0</td>\n",
       "      <td>1</td>\n",
       "      <td>0</td>\n",
       "      <td>PC 17599</td>\n",
       "      <td>71.2833</td>\n",
       "      <td>C85</td>\n",
       "      <td>C</td>\n",
       "    </tr>\n",
       "    <tr>\n",
       "      <td>2</td>\n",
       "      <td>3</td>\n",
       "      <td>1</td>\n",
       "      <td>3</td>\n",
       "      <td>Heikkinen, Miss. Laina</td>\n",
       "      <td>female</td>\n",
       "      <td>26.0</td>\n",
       "      <td>0</td>\n",
       "      <td>0</td>\n",
       "      <td>STON/O2. 3101282</td>\n",
       "      <td>7.9250</td>\n",
       "      <td>NaN</td>\n",
       "      <td>S</td>\n",
       "    </tr>\n",
       "    <tr>\n",
       "      <td>3</td>\n",
       "      <td>4</td>\n",
       "      <td>1</td>\n",
       "      <td>1</td>\n",
       "      <td>Futrelle, Mrs. Jacques Heath (Lily May Peel)</td>\n",
       "      <td>female</td>\n",
       "      <td>35.0</td>\n",
       "      <td>1</td>\n",
       "      <td>0</td>\n",
       "      <td>113803</td>\n",
       "      <td>53.1000</td>\n",
       "      <td>C123</td>\n",
       "      <td>S</td>\n",
       "    </tr>\n",
       "    <tr>\n",
       "      <td>4</td>\n",
       "      <td>5</td>\n",
       "      <td>0</td>\n",
       "      <td>3</td>\n",
       "      <td>Allen, Mr. William Henry</td>\n",
       "      <td>male</td>\n",
       "      <td>35.0</td>\n",
       "      <td>0</td>\n",
       "      <td>0</td>\n",
       "      <td>373450</td>\n",
       "      <td>8.0500</td>\n",
       "      <td>NaN</td>\n",
       "      <td>S</td>\n",
       "    </tr>\n",
       "    <tr>\n",
       "      <td>...</td>\n",
       "      <td>...</td>\n",
       "      <td>...</td>\n",
       "      <td>...</td>\n",
       "      <td>...</td>\n",
       "      <td>...</td>\n",
       "      <td>...</td>\n",
       "      <td>...</td>\n",
       "      <td>...</td>\n",
       "      <td>...</td>\n",
       "      <td>...</td>\n",
       "      <td>...</td>\n",
       "      <td>...</td>\n",
       "    </tr>\n",
       "    <tr>\n",
       "      <td>886</td>\n",
       "      <td>887</td>\n",
       "      <td>0</td>\n",
       "      <td>2</td>\n",
       "      <td>Montvila, Rev. Juozas</td>\n",
       "      <td>male</td>\n",
       "      <td>27.0</td>\n",
       "      <td>0</td>\n",
       "      <td>0</td>\n",
       "      <td>211536</td>\n",
       "      <td>13.0000</td>\n",
       "      <td>NaN</td>\n",
       "      <td>S</td>\n",
       "    </tr>\n",
       "    <tr>\n",
       "      <td>887</td>\n",
       "      <td>888</td>\n",
       "      <td>1</td>\n",
       "      <td>1</td>\n",
       "      <td>Graham, Miss. Margaret Edith</td>\n",
       "      <td>female</td>\n",
       "      <td>19.0</td>\n",
       "      <td>0</td>\n",
       "      <td>0</td>\n",
       "      <td>112053</td>\n",
       "      <td>30.0000</td>\n",
       "      <td>B42</td>\n",
       "      <td>S</td>\n",
       "    </tr>\n",
       "    <tr>\n",
       "      <td>888</td>\n",
       "      <td>889</td>\n",
       "      <td>0</td>\n",
       "      <td>3</td>\n",
       "      <td>Johnston, Miss. Catherine Helen \"Carrie\"</td>\n",
       "      <td>female</td>\n",
       "      <td>NaN</td>\n",
       "      <td>1</td>\n",
       "      <td>2</td>\n",
       "      <td>W./C. 6607</td>\n",
       "      <td>23.4500</td>\n",
       "      <td>NaN</td>\n",
       "      <td>S</td>\n",
       "    </tr>\n",
       "    <tr>\n",
       "      <td>889</td>\n",
       "      <td>890</td>\n",
       "      <td>1</td>\n",
       "      <td>1</td>\n",
       "      <td>Behr, Mr. Karl Howell</td>\n",
       "      <td>male</td>\n",
       "      <td>26.0</td>\n",
       "      <td>0</td>\n",
       "      <td>0</td>\n",
       "      <td>111369</td>\n",
       "      <td>30.0000</td>\n",
       "      <td>C148</td>\n",
       "      <td>C</td>\n",
       "    </tr>\n",
       "    <tr>\n",
       "      <td>890</td>\n",
       "      <td>891</td>\n",
       "      <td>0</td>\n",
       "      <td>3</td>\n",
       "      <td>Dooley, Mr. Patrick</td>\n",
       "      <td>male</td>\n",
       "      <td>32.0</td>\n",
       "      <td>0</td>\n",
       "      <td>0</td>\n",
       "      <td>370376</td>\n",
       "      <td>7.7500</td>\n",
       "      <td>NaN</td>\n",
       "      <td>Q</td>\n",
       "    </tr>\n",
       "  </tbody>\n",
       "</table>\n",
       "<p>891 rows × 12 columns</p>\n",
       "</div>"
      ],
      "text/plain": [
       "     PassengerId  Survived  Pclass  \\\n",
       "0              1         0       3   \n",
       "1              2         1       1   \n",
       "2              3         1       3   \n",
       "3              4         1       1   \n",
       "4              5         0       3   \n",
       "..           ...       ...     ...   \n",
       "886          887         0       2   \n",
       "887          888         1       1   \n",
       "888          889         0       3   \n",
       "889          890         1       1   \n",
       "890          891         0       3   \n",
       "\n",
       "                                                  Name     Sex   Age  SibSp  \\\n",
       "0                              Braund, Mr. Owen Harris    male  22.0      1   \n",
       "1    Cumings, Mrs. John Bradley (Florence Briggs Th...  female  38.0      1   \n",
       "2                               Heikkinen, Miss. Laina  female  26.0      0   \n",
       "3         Futrelle, Mrs. Jacques Heath (Lily May Peel)  female  35.0      1   \n",
       "4                             Allen, Mr. William Henry    male  35.0      0   \n",
       "..                                                 ...     ...   ...    ...   \n",
       "886                              Montvila, Rev. Juozas    male  27.0      0   \n",
       "887                       Graham, Miss. Margaret Edith  female  19.0      0   \n",
       "888           Johnston, Miss. Catherine Helen \"Carrie\"  female   NaN      1   \n",
       "889                              Behr, Mr. Karl Howell    male  26.0      0   \n",
       "890                                Dooley, Mr. Patrick    male  32.0      0   \n",
       "\n",
       "     Parch            Ticket     Fare Cabin Embarked  \n",
       "0        0         A/5 21171   7.2500   NaN        S  \n",
       "1        0          PC 17599  71.2833   C85        C  \n",
       "2        0  STON/O2. 3101282   7.9250   NaN        S  \n",
       "3        0            113803  53.1000  C123        S  \n",
       "4        0            373450   8.0500   NaN        S  \n",
       "..     ...               ...      ...   ...      ...  \n",
       "886      0            211536  13.0000   NaN        S  \n",
       "887      0            112053  30.0000   B42        S  \n",
       "888      2        W./C. 6607  23.4500   NaN        S  \n",
       "889      0            111369  30.0000  C148        C  \n",
       "890      0            370376   7.7500   NaN        Q  \n",
       "\n",
       "[891 rows x 12 columns]"
      ]
     },
     "execution_count": 2,
     "metadata": {},
     "output_type": "execute_result"
    }
   ],
   "source": [
    "train_data = pd.read_csv('./train.csv')\n",
    "train_data"
   ]
  },
  {
   "cell_type": "code",
   "execution_count": 3,
   "metadata": {},
   "outputs": [
    {
     "data": {
      "text/plain": [
       "(204, 12)"
      ]
     },
     "execution_count": 3,
     "metadata": {},
     "output_type": "execute_result"
    }
   ],
   "source": [
    "train_data.dropna(subset = ['Age', 'Cabin']).shape  #두 컬럼중에서 nan 가진 것을 모두 삭제~~"
   ]
  },
  {
   "cell_type": "code",
   "execution_count": 6,
   "metadata": {},
   "outputs": [],
   "source": [
    "class_group = train_data.groupby('Pclass')"
   ]
  },
  {
   "cell_type": "code",
   "execution_count": 7,
   "metadata": {},
   "outputs": [
    {
     "data": {
      "text/plain": [
       "Pclass\n",
       "1    38.233441\n",
       "2    29.877630\n",
       "3    25.140620\n",
       "Name: Age, dtype: float64"
      ]
     },
     "execution_count": 7,
     "metadata": {},
     "output_type": "execute_result"
    }
   ],
   "source": [
    "class_group.mean()['Age']"
   ]
  },
  {
   "cell_type": "code",
   "execution_count": 8,
   "metadata": {},
   "outputs": [
    {
     "data": {
      "text/plain": [
       "Pclass\n",
       "1    0.629630\n",
       "2    0.472826\n",
       "3    0.242363\n",
       "Name: Survived, dtype: float64"
      ]
     },
     "execution_count": 8,
     "metadata": {},
     "output_type": "execute_result"
    }
   ],
   "source": [
    "class_group.mean()['Survived']"
   ]
  },
  {
   "cell_type": "code",
   "execution_count": 9,
   "metadata": {},
   "outputs": [
    {
     "data": {
      "text/plain": [
       "Sex\n",
       "female    0.742038\n",
       "male      0.188908\n",
       "Name: Survived, dtype: float64"
      ]
     },
     "execution_count": 9,
     "metadata": {},
     "output_type": "execute_result"
    }
   ],
   "source": [
    "#성별에 따른 생존율\n",
    "sex_group = train_data.groupby('Sex')\n",
    "sex_group.mean()['Survived']"
   ]
  },
  {
   "cell_type": "code",
   "execution_count": 12,
   "metadata": {},
   "outputs": [
    {
     "data": {
      "text/plain": [
       "{0.42: Int64Index([803], dtype='int64'),\n",
       " 0.67: Int64Index([755], dtype='int64'),\n",
       " 0.75: Int64Index([469, 644], dtype='int64'),\n",
       " 0.83: Int64Index([78, 831], dtype='int64'),\n",
       " 0.92: Int64Index([305], dtype='int64'),\n",
       " 1.0: Int64Index([164, 172, 183, 381, 386, 788, 827], dtype='int64'),\n",
       " 2.0: Int64Index([7, 16, 119, 205, 297, 340, 479, 530, 642, 824], dtype='int64'),\n",
       " 3.0: Int64Index([43, 193, 261, 348, 374, 407], dtype='int64'),\n",
       " 4.0: Int64Index([10, 63, 171, 184, 445, 618, 691, 750, 850, 869], dtype='int64'),\n",
       " 5.0: Int64Index([58, 233, 448, 777], dtype='int64'),\n",
       " 6.0: Int64Index([720, 751, 813], dtype='int64'),\n",
       " 7.0: Int64Index([50, 278, 535], dtype='int64'),\n",
       " 8.0: Int64Index([24, 237, 549, 787], dtype='int64'),\n",
       " 9.0: Int64Index([147, 165, 182, 480, 489, 541, 634, 852], dtype='int64'),\n",
       " 10.0: Int64Index([419, 819], dtype='int64'),\n",
       " 11.0: Int64Index([59, 542, 731, 802], dtype='int64'),\n",
       " 12.0: Int64Index([125], dtype='int64'),\n",
       " 13.0: Int64Index([446, 780], dtype='int64'),\n",
       " 14.0: Int64Index([9, 14, 39, 435, 683, 686], dtype='int64'),\n",
       " 14.5: Int64Index([111], dtype='int64'),\n",
       " 15.0: Int64Index([22, 352, 689, 830, 875], dtype='int64'),\n",
       " 16.0: Int64Index([ 71,  86, 138, 156, 208, 220, 266, 282, 329, 333, 504, 574, 746,\n",
       "             764, 791, 841, 853],\n",
       "            dtype='int64'),\n",
       " 17.0: Int64Index([68, 84, 114, 163, 307, 389, 433, 500, 532, 550, 721, 781, 844], dtype='int64'),\n",
       " 18.0: Int64Index([ 38,  49, 144, 175, 204, 228, 311, 371, 385, 417, 424, 505, 585,\n",
       "             651, 654, 675, 677, 688, 700, 702, 757, 775, 786, 807, 834, 855],\n",
       "            dtype='int64'),\n",
       " 19.0: Int64Index([ 27,  44,  67, 136, 143, 145, 191, 192, 226, 238, 283, 291, 302,\n",
       "             372, 379, 427, 546, 566, 575, 646, 687, 715, 748, 877, 887],\n",
       "            dtype='int64'),\n",
       " 20.0: Int64Index([12, 91, 113, 131, 378, 404, 441, 622, 640, 664, 682, 725, 762, 840,\n",
       "             876],\n",
       "            dtype='int64'),\n",
       " 20.5: Int64Index([227], dtype='int64'),\n",
       " 21.0: Int64Index([ 37,  51,  56,  72, 102, 106, 115, 120, 173, 391, 402, 408, 421,\n",
       "             436, 491, 494, 501, 623, 624, 627, 652, 742, 836, 861],\n",
       "            dtype='int64'),\n",
       " 22.0: Int64Index([  0,  60,  80, 112, 141, 151, 212, 225, 243, 287, 289, 320, 323,\n",
       "             356, 373, 376, 395, 474, 478, 521, 539, 553, 554, 588, 608, 708,\n",
       "             882],\n",
       "            dtype='int64'),\n",
       " 23.0: Int64Index([88, 97, 135, 350, 393, 398, 473, 529, 649, 658, 733, 734, 753, 816,\n",
       "             833],\n",
       "            dtype='int64'),\n",
       " 23.5: Int64Index([296], dtype='int64'),\n",
       " 24.0: Int64Index([ 89, 118, 127, 139, 142, 199, 210, 234, 247, 293, 294, 310, 316,\n",
       "             341, 345, 369, 394, 437, 499, 514, 565, 600, 615, 641, 655, 710,\n",
       "             743, 770, 858, 864],\n",
       "            dtype='int64'),\n",
       " 24.5: Int64Index([676], dtype='int64'),\n",
       " 25.0: Int64Index([ 75, 134, 246, 267, 271, 343, 353, 370, 442, 484, 498, 580, 666,\n",
       "             685, 693, 703, 728, 729, 784, 785, 794, 880, 884],\n",
       "            dtype='int64'),\n",
       " 26.0: Int64Index([  2,  69,  73,  93, 162, 207, 290, 312, 315, 401, 509, 617, 619,\n",
       "             628, 704, 810, 870, 889],\n",
       "            dtype='int64'),\n",
       " 27.0: Int64Index([  8,  41, 146, 216, 221, 321, 377, 551, 607, 620, 681, 717, 724,\n",
       "             804, 821, 823, 866, 886],\n",
       "            dtype='int64'),\n",
       " 28.0: Int64Index([ 23,  34,  83, 100, 105, 169, 200, 281, 313, 342, 355, 392, 399,\n",
       "             403, 423, 426, 430, 443, 508, 562, 635, 756, 848, 874, 883],\n",
       "            dtype='int64'),\n",
       " 28.5: Int64Index([57, 735], dtype='int64'),\n",
       " 29.0: Int64Index([ 53,  66,  81,  90, 117, 133, 231, 242, 251, 255, 336, 361, 422,\n",
       "             455, 477, 510, 567, 713, 730, 782],\n",
       "            dtype='int64'),\n",
       " 30.0: Int64Index([ 79, 157, 178, 213, 219, 244, 253, 257, 286, 308, 309, 322, 365,\n",
       "             418, 452, 488, 520, 534, 537, 606, 726, 747, 798, 799, 842],\n",
       "            dtype='int64'),\n",
       " 30.5: Int64Index([767, 814], dtype='int64'),\n",
       " 31.0: Int64Index([ 18, 215, 318, 328, 396, 439, 637, 671, 673, 690, 744, 749, 797,\n",
       "             801, 805, 817, 867],\n",
       "            dtype='int64'),\n",
       " 32.0: Int64Index([ 70,  74, 190, 206, 218, 382, 429, 519, 543, 569, 579, 632, 636,\n",
       "             657, 665, 769, 838, 890],\n",
       "            dtype='int64'),\n",
       " 32.5: Int64Index([122, 123], dtype='int64'),\n",
       " 33.0: Int64Index([85, 103, 130, 239, 285, 412, 472, 506, 548, 719, 752, 759, 809,\n",
       "             872, 881],\n",
       "            dtype='int64'),\n",
       " 34.0: Int64Index([21, 98, 99, 202, 405, 416, 447, 461, 476, 516, 576, 616, 722, 758,\n",
       "             800],\n",
       "            dtype='int64'),\n",
       " 34.5: Int64Index([843], dtype='int64'),\n",
       " 35.0: Int64Index([  3,   4,  20, 211, 230, 258, 269, 279, 363, 383, 486, 590, 604,\n",
       "             614, 701, 737, 812, 847],\n",
       "            dtype='int64'),\n",
       " 36.0: Int64Index([179, 189, 265, 292, 325, 327, 344, 387, 390, 450, 512, 518, 540,\n",
       "             559, 572, 583, 595, 605, 663, 679, 741, 763],\n",
       "            dtype='int64'),\n",
       " 36.5: Int64Index([148], dtype='int64'),\n",
       " 37.0: Int64Index([104, 137, 248, 273, 503, 594], dtype='int64'),\n",
       " 38.0: Int64Index([1, 25, 61, 108, 224, 332, 357, 465, 471, 716, 822], dtype='int64'),\n",
       " 39.0: Int64Index([13, 400, 528, 558, 577, 581, 610, 705, 795, 806, 808, 811, 835,\n",
       "             885],\n",
       "            dtype='int64'),\n",
       " 40.0: Int64Index([30, 40, 161, 188, 209, 263, 319, 346, 360, 561, 609, 661, 670], dtype='int64'),\n",
       " 40.5: Int64Index([153, 525], dtype='int64'),\n",
       " 41.0: Int64Index([254, 272, 337, 638, 761, 860], dtype='int64'),\n",
       " 42.0: Int64Index([35, 149, 197, 217, 288, 349, 380, 432, 621, 699, 707, 845, 865], dtype='int64'),\n",
       " 43.0: Int64Index([314, 668, 678, 779, 818], dtype='int64'),\n",
       " 44.0: Int64Index([160, 194, 236, 245, 414, 523, 603, 696, 854], dtype='int64'),\n",
       " 45.0: Int64Index([62, 129, 167, 187, 276, 338, 339, 362, 440, 536, 706, 856], dtype='int64'),\n",
       " 45.5: Int64Index([203, 331], dtype='int64'),\n",
       " 46.0: Int64Index([92, 397, 789], dtype='int64'),\n",
       " 47.0: Int64Index([110, 132, 462, 515, 586, 592, 662, 871, 873], dtype='int64'),\n",
       " 48.0: Int64Index([460, 463, 556, 645, 712, 736, 754, 771, 862], dtype='int64'),\n",
       " 49.0: Int64Index([52, 453, 597, 599, 698, 796], dtype='int64'),\n",
       " 50.0: Int64Index([177, 259, 299, 434, 458, 482, 526, 544, 660, 723], dtype='int64'),\n",
       " 51.0: Int64Index([150, 155, 222, 406, 631, 765, 857], dtype='int64'),\n",
       " 52.0: Int64Index([262, 449, 591, 695, 714, 820], dtype='int64'),\n",
       " 53.0: Int64Index([571], dtype='int64'),\n",
       " 54.0: Int64Index([6, 124, 249, 317, 496, 513, 582, 774], dtype='int64'),\n",
       " 55.0: Int64Index([15, 492], dtype='int64'),\n",
       " 55.5: Int64Index([152], dtype='int64'),\n",
       " 56.0: Int64Index([174, 467, 647, 879], dtype='int64'),\n",
       " 57.0: Int64Index([626, 772], dtype='int64'),\n",
       " 58.0: Int64Index([11, 195, 268, 487, 659], dtype='int64'),\n",
       " 59.0: Int64Index([94, 232], dtype='int64'),\n",
       " 60.0: Int64Index([366, 587, 684, 694], dtype='int64'),\n",
       " 61.0: Int64Index([170, 326, 625], dtype='int64'),\n",
       " 62.0: Int64Index([252, 555, 570, 829], dtype='int64'),\n",
       " 63.0: Int64Index([275, 483], dtype='int64'),\n",
       " 64.0: Int64Index([438, 545], dtype='int64'),\n",
       " 65.0: Int64Index([54, 280, 456], dtype='int64'),\n",
       " 66.0: Int64Index([33], dtype='int64'),\n",
       " 70.0: Int64Index([672, 745], dtype='int64'),\n",
       " 70.5: Int64Index([116], dtype='int64'),\n",
       " 71.0: Int64Index([96, 493], dtype='int64'),\n",
       " 74.0: Int64Index([851], dtype='int64'),\n",
       " 80.0: Int64Index([630], dtype='int64')}"
      ]
     },
     "execution_count": 12,
     "metadata": {},
     "output_type": "execute_result"
    }
   ],
   "source": [
    "# 인덱스를 부여한 후, 인덱스를 기준으로 그루핑하고 싶을 때.\n",
    "# 나이를 기준으로 그루핑하고 싶을 때.\n",
    "age_group = train_data.groupby('Age')\n",
    "age_group.groups"
   ]
  },
  {
   "cell_type": "code",
   "execution_count": 21,
   "metadata": {},
   "outputs": [
    {
     "data": {
      "text/plain": [
       "20"
      ]
     },
     "execution_count": 21,
     "metadata": {},
     "output_type": "execute_result"
    }
   ],
   "source": [
    "import math\n",
    "def age_category(age):\n",
    "    if math.isnan(age):\n",
    "        return -1\n",
    "    return math.floor(age/10)*10 \n",
    "age_category(28.0)"
   ]
  },
  {
   "cell_type": "code",
   "execution_count": 22,
   "metadata": {},
   "outputs": [
    {
     "data": {
      "text/plain": [
       "-1     0.293785\n",
       " 0     0.612903\n",
       " 10    0.401961\n",
       " 20    0.350000\n",
       " 30    0.437126\n",
       " 40    0.382022\n",
       " 50    0.416667\n",
       " 60    0.315789\n",
       " 70    0.000000\n",
       " 80    1.000000\n",
       "Name: Survived, dtype: float64"
      ]
     },
     "execution_count": 22,
     "metadata": {},
     "output_type": "execute_result"
    }
   ],
   "source": [
    "train_data.set_index('Age').groupby(age_category).mean()['Survived']"
   ]
  },
  {
   "cell_type": "markdown",
   "metadata": {},
   "source": [
    "1. 20대이면서 1등석에 탄사람을 조회하세요."
   ]
  },
  {
   "cell_type": "code",
   "execution_count": null,
   "metadata": {},
   "outputs": [],
   "source": []
  },
  {
   "cell_type": "markdown",
   "metadata": {},
   "source": [
    "2. train_data의 Age컬럼에 * 2 한 값을 가진 Age_double 컬럼을 추가하세요. "
   ]
  },
  {
   "cell_type": "code",
   "execution_count": null,
   "metadata": {},
   "outputs": [],
   "source": []
  },
  {
   "cell_type": "markdown",
   "metadata": {},
   "source": [
    "3. 2에서 생성한 Age_double 컬럼을 삭제하고, Age 다음에 다시 추가해 주세요. "
   ]
  },
  {
   "cell_type": "code",
   "execution_count": null,
   "metadata": {},
   "outputs": [],
   "source": []
  },
  {
   "cell_type": "markdown",
   "metadata": {},
   "source": [
    "4. 결측치를 확인해보세요. "
   ]
  },
  {
   "cell_type": "code",
   "execution_count": null,
   "metadata": {},
   "outputs": [],
   "source": []
  },
  {
   "cell_type": "code",
   "execution_count": null,
   "metadata": {},
   "outputs": [],
   "source": []
  },
  {
   "cell_type": "markdown",
   "metadata": {},
   "source": [
    "5.'Age', 'Cabin' 컬럼에 결측치가 있다면, 결측치가 존해하는 행을 모두 삭제해 주세요."
   ]
  },
  {
   "cell_type": "code",
   "execution_count": null,
   "metadata": {},
   "outputs": [],
   "source": []
  },
  {
   "cell_type": "code",
   "execution_count": null,
   "metadata": {},
   "outputs": [],
   "source": []
  },
  {
   "cell_type": "markdown",
   "metadata": {},
   "source": [
    "6. Age 컬럼의 결측치를 사망자는 사망자의 평균나이, 생존자는 생존자의 평균 나이로 대체하세요. "
   ]
  },
  {
   "cell_type": "code",
   "execution_count": null,
   "metadata": {},
   "outputs": [],
   "source": []
  },
  {
   "cell_type": "code",
   "execution_count": null,
   "metadata": {},
   "outputs": [],
   "source": []
  },
  {
   "cell_type": "code",
   "execution_count": null,
   "metadata": {},
   "outputs": [],
   "source": []
  }
 ],
 "metadata": {
  "kernelspec": {
   "display_name": "Python 3",
   "language": "python",
   "name": "python3"
  },
  "language_info": {
   "codemirror_mode": {
    "name": "ipython",
    "version": 3
   },
   "file_extension": ".py",
   "mimetype": "text/x-python",
   "name": "python",
   "nbconvert_exporter": "python",
   "pygments_lexer": "ipython3",
   "version": "3.7.4"
  }
 },
 "nbformat": 4,
 "nbformat_minor": 4
}
