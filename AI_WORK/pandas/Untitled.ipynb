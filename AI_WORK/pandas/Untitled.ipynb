{
 "cells": [
  {
   "cell_type": "code",
   "execution_count": 1,
   "metadata": {},
   "outputs": [],
   "source": [
    "import numpy as np\n",
    "import pandas as pd"
   ]
  },
  {
   "cell_type": "code",
   "execution_count": 2,
   "metadata": {},
   "outputs": [
    {
     "name": "stdout",
     "output_type": "stream",
     "text": [
      "[[10. 10. 10.]\n",
      " [20. 20. 20.]]\n"
     ]
    }
   ],
   "source": [
    "x = np.ones((2,3))    \n",
    "y = np.array([[10],[20]])    \n",
    "print(x * y )"
   ]
  },
  {
   "cell_type": "code",
   "execution_count": 3,
   "metadata": {},
   "outputs": [
    {
     "data": {
      "text/plain": [
       "array([[0., 0., 0.],\n",
       "       [0., 0., 0.]])"
      ]
     },
     "execution_count": 3,
     "metadata": {},
     "output_type": "execute_result"
    }
   ],
   "source": [
    "np.zeros(shape=(2, 3))"
   ]
  },
  {
   "cell_type": "code",
   "execution_count": 4,
   "metadata": {},
   "outputs": [
    {
     "data": {
      "text/plain": [
       "array([ 1.,  2.,  3.,  4.,  5.,  6.,  7.,  8.,  9., 10.])"
      ]
     },
     "execution_count": 4,
     "metadata": {},
     "output_type": "execute_result"
    }
   ],
   "source": [
    "np.linspace(1, 10, 10)"
   ]
  },
  {
   "cell_type": "code",
   "execution_count": 6,
   "metadata": {},
   "outputs": [
    {
     "data": {
      "text/plain": [
       "{'거주지': '서울', '나이': 25, '신체정보': {'몸무게': 71.2, '키': 175.4}}"
      ]
     },
     "execution_count": 6,
     "metadata": {},
     "output_type": "execute_result"
    }
   ],
   "source": [
    "json_dict = {\n",
    "     \"거주지\": \"서울\",\n",
    "     \"나이\": 25,\n",
    "     \"신체정보\": {\n",
    "        \"몸무게\": 71.2,\n",
    "        \"키\": 175.4\n",
    "     }  }\n",
    "json_dict"
   ]
  },
  {
   "cell_type": "code",
   "execution_count": 8,
   "metadata": {},
   "outputs": [
    {
     "data": {
      "text/plain": [
       "71.2"
      ]
     },
     "execution_count": 8,
     "metadata": {},
     "output_type": "execute_result"
    }
   ],
   "source": [
    "json_dict['신체정보']['몸무게']"
   ]
  },
  {
   "cell_type": "code",
   "execution_count": 9,
   "metadata": {},
   "outputs": [
    {
     "data": {
      "text/plain": [
       "array([[7, 9, 7, 7],\n",
       "       [6, 5, 0, 6],\n",
       "       [8, 6, 0, 9]])"
      ]
     },
     "execution_count": 9,
     "metadata": {},
     "output_type": "execute_result"
    }
   ],
   "source": [
    "np.random.randint(10, size=(3, 4))"
   ]
  },
  {
   "cell_type": "code",
   "execution_count": 10,
   "metadata": {},
   "outputs": [
    {
     "data": {
      "text/html": [
       "<div>\n",
       "<style scoped>\n",
       "    .dataframe tbody tr th:only-of-type {\n",
       "        vertical-align: middle;\n",
       "    }\n",
       "\n",
       "    .dataframe tbody tr th {\n",
       "        vertical-align: top;\n",
       "    }\n",
       "\n",
       "    .dataframe thead th {\n",
       "        text-align: right;\n",
       "    }\n",
       "</style>\n",
       "<table border=\"1\" class=\"dataframe\">\n",
       "  <thead>\n",
       "    <tr style=\"text-align: right;\">\n",
       "      <th></th>\n",
       "      <th>Unnamed: 0</th>\n",
       "      <th>EMPLOYEE_ID</th>\n",
       "      <th>FIRST_NAME</th>\n",
       "      <th>LAST_NAME</th>\n",
       "      <th>EMAIL</th>\n",
       "      <th>PHONE_NUMBER</th>\n",
       "      <th>HIRE_DATE</th>\n",
       "      <th>JOB_ID</th>\n",
       "      <th>SALARY</th>\n",
       "      <th>COMMISSION_PCT</th>\n",
       "      <th>MANAGER_ID</th>\n",
       "      <th>DEPARTMENT_ID</th>\n",
       "    </tr>\n",
       "  </thead>\n",
       "  <tbody>\n",
       "    <tr>\n",
       "      <th>0</th>\n",
       "      <td>0</td>\n",
       "      <td>100</td>\n",
       "      <td>Steven</td>\n",
       "      <td>King</td>\n",
       "      <td>SKING</td>\n",
       "      <td>515.123.4567</td>\n",
       "      <td>2003-06-17</td>\n",
       "      <td>AD_PRES</td>\n",
       "      <td>24000.0</td>\n",
       "      <td>NaN</td>\n",
       "      <td>NaN</td>\n",
       "      <td>90.0</td>\n",
       "    </tr>\n",
       "    <tr>\n",
       "      <th>1</th>\n",
       "      <td>1</td>\n",
       "      <td>101</td>\n",
       "      <td>Neena</td>\n",
       "      <td>Kochhar</td>\n",
       "      <td>NKOCHHAR</td>\n",
       "      <td>515.123.4568</td>\n",
       "      <td>2005-09-21</td>\n",
       "      <td>AD_VP</td>\n",
       "      <td>17000.0</td>\n",
       "      <td>NaN</td>\n",
       "      <td>100.0</td>\n",
       "      <td>90.0</td>\n",
       "    </tr>\n",
       "    <tr>\n",
       "      <th>2</th>\n",
       "      <td>2</td>\n",
       "      <td>102</td>\n",
       "      <td>Lex</td>\n",
       "      <td>De Haan</td>\n",
       "      <td>LDEHAAN</td>\n",
       "      <td>515.123.4569</td>\n",
       "      <td>2001-01-13</td>\n",
       "      <td>AD_VP</td>\n",
       "      <td>17000.0</td>\n",
       "      <td>NaN</td>\n",
       "      <td>100.0</td>\n",
       "      <td>90.0</td>\n",
       "    </tr>\n",
       "    <tr>\n",
       "      <th>3</th>\n",
       "      <td>3</td>\n",
       "      <td>103</td>\n",
       "      <td>Alexander</td>\n",
       "      <td>Hunold</td>\n",
       "      <td>AHUNOLD</td>\n",
       "      <td>590.423.4567</td>\n",
       "      <td>2006-01-03</td>\n",
       "      <td>IT_PROG</td>\n",
       "      <td>9000.0</td>\n",
       "      <td>NaN</td>\n",
       "      <td>102.0</td>\n",
       "      <td>60.0</td>\n",
       "    </tr>\n",
       "    <tr>\n",
       "      <th>4</th>\n",
       "      <td>4</td>\n",
       "      <td>104</td>\n",
       "      <td>Bruce</td>\n",
       "      <td>Ernst</td>\n",
       "      <td>BERNST</td>\n",
       "      <td>590.423.4568</td>\n",
       "      <td>2007-05-21</td>\n",
       "      <td>IT_PROG</td>\n",
       "      <td>6000.0</td>\n",
       "      <td>NaN</td>\n",
       "      <td>103.0</td>\n",
       "      <td>60.0</td>\n",
       "    </tr>\n",
       "  </tbody>\n",
       "</table>\n",
       "</div>"
      ],
      "text/plain": [
       "   Unnamed: 0  EMPLOYEE_ID FIRST_NAME LAST_NAME     EMAIL  PHONE_NUMBER  \\\n",
       "0           0          100     Steven      King     SKING  515.123.4567   \n",
       "1           1          101      Neena   Kochhar  NKOCHHAR  515.123.4568   \n",
       "2           2          102        Lex   De Haan   LDEHAAN  515.123.4569   \n",
       "3           3          103  Alexander    Hunold   AHUNOLD  590.423.4567   \n",
       "4           4          104      Bruce     Ernst    BERNST  590.423.4568   \n",
       "\n",
       "    HIRE_DATE   JOB_ID   SALARY  COMMISSION_PCT  MANAGER_ID  DEPARTMENT_ID  \n",
       "0  2003-06-17  AD_PRES  24000.0             NaN         NaN           90.0  \n",
       "1  2005-09-21    AD_VP  17000.0             NaN       100.0           90.0  \n",
       "2  2001-01-13    AD_VP  17000.0             NaN       100.0           90.0  \n",
       "3  2006-01-03  IT_PROG   9000.0             NaN       102.0           60.0  \n",
       "4  2007-05-21  IT_PROG   6000.0             NaN       103.0           60.0  "
      ]
     },
     "execution_count": 10,
     "metadata": {},
     "output_type": "execute_result"
    }
   ],
   "source": [
    "df = pd.read_csv('employees.csv')\n",
    "df.head()"
   ]
  },
  {
   "cell_type": "code",
   "execution_count": 11,
   "metadata": {},
   "outputs": [
    {
     "data": {
      "text/html": [
       "<div>\n",
       "<style scoped>\n",
       "    .dataframe tbody tr th:only-of-type {\n",
       "        vertical-align: middle;\n",
       "    }\n",
       "\n",
       "    .dataframe tbody tr th {\n",
       "        vertical-align: top;\n",
       "    }\n",
       "\n",
       "    .dataframe thead th {\n",
       "        text-align: right;\n",
       "    }\n",
       "</style>\n",
       "<table border=\"1\" class=\"dataframe\">\n",
       "  <thead>\n",
       "    <tr style=\"text-align: right;\">\n",
       "      <th></th>\n",
       "      <th>Unnamed: 0</th>\n",
       "      <th>EMPLOYEE_ID</th>\n",
       "      <th>FIRST_NAME</th>\n",
       "      <th>LAST_NAME</th>\n",
       "      <th>EMAIL</th>\n",
       "      <th>PHONE_NUMBER</th>\n",
       "      <th>HIRE_DATE</th>\n",
       "      <th>JOB_ID</th>\n",
       "      <th>SALARY</th>\n",
       "      <th>COMMISSION_PCT</th>\n",
       "      <th>MANAGER_ID</th>\n",
       "      <th>DEPARTMENT_ID</th>\n",
       "    </tr>\n",
       "  </thead>\n",
       "  <tbody>\n",
       "    <tr>\n",
       "      <th>10</th>\n",
       "      <td>10</td>\n",
       "      <td>110</td>\n",
       "      <td>John</td>\n",
       "      <td>Chen</td>\n",
       "      <td>JCHEN</td>\n",
       "      <td>515.124.4269</td>\n",
       "      <td>2005-09-28</td>\n",
       "      <td>FI_ACCOUNT</td>\n",
       "      <td>8200.0</td>\n",
       "      <td>NaN</td>\n",
       "      <td>108.0</td>\n",
       "      <td>100.0</td>\n",
       "    </tr>\n",
       "    <tr>\n",
       "      <th>30</th>\n",
       "      <td>30</td>\n",
       "      <td>130</td>\n",
       "      <td>Mozhe</td>\n",
       "      <td>Atkinson</td>\n",
       "      <td>MATKINSO</td>\n",
       "      <td>650.124.6234</td>\n",
       "      <td>2005-10-30</td>\n",
       "      <td>ST_CLERK</td>\n",
       "      <td>2800.0</td>\n",
       "      <td>NaN</td>\n",
       "      <td>121.0</td>\n",
       "      <td>50.0</td>\n",
       "    </tr>\n",
       "    <tr>\n",
       "      <th>100</th>\n",
       "      <td>100</td>\n",
       "      <td>200</td>\n",
       "      <td>Jennifer</td>\n",
       "      <td>Whalen</td>\n",
       "      <td>JWHALEN</td>\n",
       "      <td>515.123.4444</td>\n",
       "      <td>2003-09-17</td>\n",
       "      <td>AD_ASST</td>\n",
       "      <td>4400.0</td>\n",
       "      <td>NaN</td>\n",
       "      <td>101.0</td>\n",
       "      <td>10.0</td>\n",
       "    </tr>\n",
       "  </tbody>\n",
       "</table>\n",
       "</div>"
      ],
      "text/plain": [
       "     Unnamed: 0  EMPLOYEE_ID FIRST_NAME LAST_NAME     EMAIL  PHONE_NUMBER  \\\n",
       "10           10          110       John      Chen     JCHEN  515.124.4269   \n",
       "30           30          130      Mozhe  Atkinson  MATKINSO  650.124.6234   \n",
       "100         100          200   Jennifer    Whalen   JWHALEN  515.123.4444   \n",
       "\n",
       "      HIRE_DATE      JOB_ID  SALARY  COMMISSION_PCT  MANAGER_ID  DEPARTMENT_ID  \n",
       "10   2005-09-28  FI_ACCOUNT  8200.0             NaN       108.0          100.0  \n",
       "30   2005-10-30    ST_CLERK  2800.0             NaN       121.0           50.0  \n",
       "100  2003-09-17     AD_ASST  4400.0             NaN       101.0           10.0  "
      ]
     },
     "execution_count": 11,
     "metadata": {},
     "output_type": "execute_result"
    }
   ],
   "source": [
    "df.iloc[[10, 30, 100]]"
   ]
  },
  {
   "cell_type": "code",
   "execution_count": 12,
   "metadata": {},
   "outputs": [
    {
     "ename": "NameError",
     "evalue": "name 'grade_df' is not defined",
     "output_type": "error",
     "traceback": [
      "\u001b[1;31m---------------------------------------------------------------------------\u001b[0m",
      "\u001b[1;31mNameError\u001b[0m                                 Traceback (most recent call last)",
      "\u001b[1;32m<ipython-input-12-ed6dfc72de60>\u001b[0m in \u001b[0;36m<module>\u001b[1;34m\u001b[0m\n\u001b[1;32m----> 1\u001b[1;33m \u001b[0mgrade_df\u001b[0m\u001b[1;33m[\u001b[0m\u001b[0mgrade_df\u001b[0m\u001b[1;33m[\u001b[0m\u001b[1;34m'영어점수'\u001b[0m\u001b[1;33m]\u001b[0m \u001b[1;33m>=\u001b[0m \u001b[1;36m80\u001b[0m\u001b[1;33m]\u001b[0m\u001b[1;33m\u001b[0m\u001b[1;33m\u001b[0m\u001b[0m\n\u001b[0m",
      "\u001b[1;31mNameError\u001b[0m: name 'grade_df' is not defined"
     ]
    }
   ],
   "source": [
    "grade_df[grade_df['영어점수'] >= 80]"
   ]
  },
  {
   "cell_type": "code",
   "execution_count": 20,
   "metadata": {},
   "outputs": [],
   "source": [
    "import requests\n",
    "from bs4 import BeautifulSoup as bs\n",
    "url = 'https://www.python.org/static/img/python-logo.png'\n",
    "html_image = requests.get(url)"
   ]
  },
  {
   "cell_type": "code",
   "execution_count": 26,
   "metadata": {},
   "outputs": [
    {
     "data": {
      "text/plain": [
       "'�PNG\\r\\n\\x1a\\n\\x00\\x00\\x00\\rIHDR\\x00\\x00\\x01\"\\x00\\x00\\x00R\\x08\\x06\\x00\\x00\\x00����\\x00\\x00\\x00\\tpHYs\\x00\\x00\\x0b\\x13\\x00\\x00\\x0b\\x13\\x01\\x00��\\x18\\x00\\x00 \\x00IDATx��w|\\x14e��?���M�(�@�\\x10�4��4��\\x05E \\x12\\x08\\x02�(\\x1eV\\x10<�;��g9ς����x\\x16H \\x10�!x (��D !�\\x00*ǅ\"\\x08\\x04R����<�?6�L6[�.\\x01�w^�ڙ��g������!�R((((�\\'L{\\x17@AAAA\\x11\"\\x05\\x05�vG\\x11\"\\x05\\x05�vG\\x11\"\\x05\\x05�vG\\x11\"\\x05\\x05�vG\\x11\"\\x05\\x05�vG\\x11\"\\x05\\x05�vG\\x11\"���w;w�l�B(\\\\:(B�\\x10v\\x08!�����u���:r��\\x7f(��3f�����R�tP]��H焈�H&����]�\\x1d���v�+%�#�4�Rh)�R*�A�\\x05�\\u058b g\\x18�=~|念\\\\��_\\x1b�W��b�W!4lݺu�m��V ���j�B\\x14E�t:��˥p�\\x10v!\"��!�����\\\\�o��y�$�\"\\x1f\\x0f\\n-�\\x14����\\x02���\\x14�k\\x14\\x14\"��|�R��\\'�\\x02���\\\\p�|�zY���.�5?6���\\n��j��\\t��5���%�=ˣp�\\x11V!J�<wب7�\\x17��\\x11���\\x0e��\\x04@&:p�C\\x14]ǴY����\\x14\\x14�b\\x0c��\\x0c��O\\x1e<d�K��s�cO\\x1c���\\x0f�,�Bh\\x10EQ��-\\x00(�\\x1b\\x15�\\t��(e��\\x03~�1�K°�vK\\x13,\\x16\\x0b�v\\x1e\\x16�\\x07/�\\x00�\\x16\\x0f\\\\�\\x04�u\\x04�(A��\\x00Q\\x14చ@\\x18��u��M�e��p�_!���L�\\x14\\x14$�b\\x11\\x11BȨ���E�T\\x17-�\\x02\\x1c���\\x1e�H�\\uf01aF+��w\\x12f�\\x1d,C�?�\\x00���+���R��K�D\\x11vSC�U�o�4�o��ƟJΆ�\\x1e\\n\\n�\"\\t\\t\\t\\x11�:u����Z�F��h4\\nuuu��{���R��-;;[SXXhoϲ\\x06JX��C��kԺ��vK\\x138��[��\\nώM��q\\x1a`�:��{�\\x0b\"\\x08�Jp��s�~Q)D��w��;�\\x01�\\x1f�z(x�\\x10�<��C7���\\x1f*--=\\x19H\\x1c�k\\x16:�M�6����J�ׯ_����#\\r\\r\\r\\x07���,j��.B�}�Ra�ƍ\\x0f\\x16\\x16\\x16�\\r`b{�7\\x10��5�5B\\x17A\\x14:R\\x00\\x0c\\x01�n��\\x12!\\x00\\x18r]g��5\\x06��w\\x13\\x1cx������s0^�k,!D��\\x10f\\x08!��ɓ�\\x7f��WsO�<���O?�6**�\\x7f{���\\x1f�������?�eY��������xs���\\x11QQQ#����\\x00@JJ�$��rM{�5P�b\\x111�jA)���f��:�\\x12��\\x91DȟU��(Be�\\ue338�E\\x00h\\x0cG]\\x14�lٲe�\\x1dw��5�qz��\\x06���q�#���E\\x14\\x16\\x1cj��\\x00�J��\\x00|���u�]w�e\\u07bcy�����v._��ϒ�\\x14�\\x00ϋ�w��\\x16��:^�\\x03��A�\\x127�\\x11=\\x0bN�s�\\x08#\\n\\x02�`g�V\\x0f\\x05\\x00��j���lz��\\x04��\\x12\\x13A\\x10\\x14gu�\\x11\\x04A���w7�xc�\\x0f?�pLyy�N\\x00��\\\\��\\x08��XhU\\x0c6�\\x1d��k��u�\\t,��g�PX\\x0c3�pf.\\x1b�w�bJ�p��\\\\\"\\x04�(\\x1ad�W\\x08;� \\\\6\\x1f��\\x10:�e\\x19\\x00����(--���ɓ����\\t�����z}L{\\x170P�6�H.\\x1c\\x0c\\x01��w\\x02[*��R\\n5C�bda\\\\�#�y\\x11�V¥��^4.�{�t�B϶m۶7666\\x00@qqq��l>��m߾}��n�z���tנA�ڻ�\\x01\\x11\\x1e!R�\\x08܄B�b@)\\t|�ާ�\\x08�k�$\\u074b�\"D�\\x16\\x19\\x19\\x19��۷\\x0f\\x00��?��P����x�\\t\\x00x�=��\\x16�3�H�<��,�(PIx@)�\\'�i�9-RQ�v�\\x1e��r��}��t���\\x10)(\\\\�E��UW��_��\\x06B\\x18�J�\\x00��[`�\\x1d\\x13zݘ\\x19\\x1fDu�;Ztp\\x1eG�<YFNQ\\x12I8�\\x11J\\x06\\x0c\\x18\\x10ò�\\x1e�C�ј����~#\\x05@�>}��\\x0e\\x1d�B��/x��\\x02-�\\x19��\\x12P\\x1dDQ��,����\\x08��\\x10��<c4\\x1a�;v쨻�y�t:[QQQm��\\\\h�\\x10Eu�ۑQ�3,1��[|�x\"�\\x0c\\x18�ˏ��ӧ�uOE���\\x00\\x1c\\x00D�m���gw\\r\\x00\\x15��t|�>���t��\\x01\\x0e��Rg)\\x08O\\x18�J��n�s�T[�\\x1a,7�tS��������!����7�xc�\\x1d;v�\\x10B�\\x00\\x1c,�Z�\\x1f?^SQQ�}��嫗/_^\\x19L��\\x06\\r�jҤI�ddd�|��\\x07;\\x11�NB\\x08���/�t8\\x1cq�R��jIqq�/��·�p��͋\\x1f<x� ��jONNN�X,��Y,\\x16���[�֬YӍa\\x185\\x00h�ZRTTT��+�\\x1c\\r�<\\x12C�\\x0e�ܵk��N�ڛ㸮�\\x10\\x03�ԢV�\\x7f���+-,,�nK�\\x12��\\x7f\\x7fjNNΘ���[JJJ�\\x08�\\x10\\x01�aY�z���\\x15\\x15\\x15�G�\\x1cٰp����B�\\'O��4iҤT�燦���+))�(�I)�Y��ڲ������\\x1bV�Z����\\x7f��]�M��uJ�8�����\\x1f���w0�kEP�@xYM/�����\\x12\\x1c\\x1c���|@����aX�Ὃ\\x1e�c�}���I\\\\\\x02��\\x19�\\x0c�e߾S\\x1b����K[�\\x1c\\x0bh&p[���N�={��\\x01\\x03\\x06�-\\x08B<�\\x1c���Z��`Y\\x16:�\\x0e,�Z+**>�3g���~����j�u��\\'%%�\\x11E��N�����\\x17�\\x1b7����\\x10\\x88�x�l6�\\x05\\x00�шM�6m��{n��۴i���#G.6�Ͱ�lp\\x1f8k.���h4b�ƍ��F�ʗ�[�v�w�y�g�����\\x08q�С����e�\\x10���;2555\\'55u� \\x08�=��a�s���+�y晗v��y&��N�<���\\x05\\x0b^���\\x19+\\x08��S]d�\\x03�����W�~m�̙���\\x07\\x00����rss�ONN��ԩS� \\x08\\x1a\\x00\\x1e�\\x0f8߆:��`aa�˓\\'O^\\x11l�W\\x02\\x01[D�O\\x1fmƄ\\x17���֬\\'y��:,&��%4����xI[z�Vދn��\\x1a���V�d���bQ��x�M\\x10`�\\x03f\\x0fs�(�xC�G6䏻��ۺ����\\x13?���\\x00\\x00YYY]�~��\\x17?���\\x07�v����\\x01��\\x0f��`�\\x01��i��\\t���l6�L&\\x00�\\'$$<�v�ڛF�\\x18��u�V��D�^�b��ӧ�={6�Y-\\n\\x00���hjj�H\\x16\\x0e�\\x14V��U7K��x��\\x13̜ yX��Ŕ�\\x14�����8y��_���o�������J��N�\\x03����!!!�u�������e������@����\\x7f`�ҥ\\x0b���b��E��\\x02��H\\x04\\x00jA\\x10��\\x01�J����\\x0f�:s��?�\\x0e\\x1d�t �\\x11!D�����e˞��l�m6\\x1b�����;�~�V{�R�\\x11B\\x0c\\x00:J?PR��L�볲�\\n�-[vݔ)S^\\x0e�Q� \\x02\\x12\"B�j���?c��IvI��s|d\\x7f�-=�C�ҙ���tE�\\x0euOǃ\\x00Av� \\x7fP\\x11�\\x08�xhդￖg.�Ȉ\\x1f�m[uk3�\\r���\\x0f/((��b��hhh��\\x07*��eee_\\x17\\x17\\x17o)((�f\\x18��a\\x18ڥK��ٳgg���>e2�z\\x08����&h�ڴ�˗�HOO\\x1fQRRb��f�V��\\x0c :\\x14e�GYYY)!��\\x1c����������l�yp�a\\x18���\\x14466V\\x03`\\x01@�ղ�w��7j�(���f�w�YĲ�V��1�L��t���:s��٪�۷W\\x03Ц��\\'���%�L&\\x10B�v���SO\\x15\\x0e\\x1d:t�?�(//����\\x0fjjj\\x08�z\"\"\"̻v����dZ�|�������ĉ\\x13��t�M����d���\\x0e<ϣ��\\x01Z�������>}�L�%F\\x0b\\x17.\\x1cx��ɿGDD�r��Y)\\x1f���|�{���%K��9v��i��mZ�֘��}���\\x03ǧ��N3�L\\x11� �\\x10���Z�\\x1f?�����#999K��[�7\\x01\\t��˞a��I\\x0e���PP7�p�ˇ�ݬ%�~\\x1f�k�ӁK�|A�}H\\x14��<�(tQ���T��\\x00\\u07bf��{�w�\\x7f��\\'�8{�l\\x14������\\x1f\\x0b\\n\\n^��������a�С�={�<�Q\\x00e����\\x17,X�B���*\\x08\\x028�CDDĠ�\\x0b\\x17�\\x04`��Z���\\x1bH:����\\x0b`/\\x00�Z��֑#GfKV�^��3�<����b�<�7\\x11��G\\x08�X��\\x0c�ٝ���+ݽ{�Gyyy_\\x15\\x16\\x16\\x1e�ѣ�+\\\\~~~NVVֻuuuF\\x00R;]?\\x7f���\\x030�[�����0a�{���\\x04\\x004\\x1a\\rl6[��ŋ\\x1f�={v)\\x00�\\x193F\\n^\\x01`�)Sޞ?\\x7f�?t:�\\x08��\\x0e���h�۱c�;\\x00\\x1e��ϢE��1c��s��\\x19M&\\x13X�\\x05�q{\\n\\n\\n�o֬Y�{��ѣGˣ�\\x008\\x02`ǢE�\\n233�k��x�\\U000abb6dEvv��III\\x1b*++��@�T�;�:����c���\\x13o5;m\\x10�>\\x1bɉ���\\x0c��xN��|\"�P\\x11�B�5��.\\x1d�l�\\x187�O\\x1f��u\\x1e,�z��f�Z��s�NG�z�i�f�ZZRR��+naa�ٳg�\\x18���R}�����������.�la@/owJ)\\x0c\\x06��Gx�PJ�0\\x0c��⎭_�~����>d��ы\\x0b\\x0b\\x0b����O�2��U�V=b4\\x1a\\x05y;%\\'\\'�dee��~vv��\\x13\\'N�����\\x05 �C�I�FI\"�e˖\\x1d�6m�X��vJ�/��`0\\x18\\x1e�����\\x14�gϞ}�f�Q\\x12\\x12�NGgϞ���Y�6�k��3g�Z�v�$��h����f�\\x7f衇n�\\x17�J¯\\x10u\\x1bv�$��q�\\x08��ÿ(��v>\\x0e\\x10�ڲ�y��P�н\\x08Ⲃ$\\x0b��\\x12�\\x12$�GlGM�G��^h�q\\x1c\\'�Օ\\x1e9r�c��\\x13k֬������:��U/��43g�|�[\\x1c�P8�\\x14b\\x1b�Q��Ga�\\x03�^k�,\\x0cK\\x1fz�\\x1bsrr���\\x07��������+�e]�\\n�\\x10�����)�̙3�d2�zHe6\\x1a���+W�ؾ}{���n\\u07bc�<cƌ�\\x06��I��d2a\\x84\\t��s�=Q���v���3p���\\x1bg֬Y���ݻB�\\x0cH����>��q%�S�\\x08!$����\\x04�-(�p\\n\\x0c�XA��s�����\\'�u\\x00�\\x05Q�:o\\t\\tha\\x15��\\x04���n�=\\x14\\r�^\\x1f�V\\x1b�\\x02���\\x7f�P�V�H�V+RSSG���z�¡�b�/�@\\x04�B��k�\\x1a^_�|��@�X��S�/���Hq\\x0f7iҤkSRR\\x1e�Z�.����ӛ�~��\\x1d��v�ڃ���K���l�>\\x0f?�p��}<-����A�k۳g�ZId���n��\\x0f�ho|\\nѸ�G�V\\x19��\\x13\\x05>H+\\x08A���5�VB�\\x06!\\x0c8S�1J)����\\x1f�\\\\x\\x048-#7a�\\x00X\\x1dHH�\\x1b\\x16�&\\r����S555{\\x18�V)� t��ͽb�����cǎ\\x05խ[�dI�(�-�z��vt\\x0f����)\\x08B�t���PZZ�,�2.X�`\\t�0�\\x11I�ł��Ԝp�}�bŊc��\\x16ý\\x0c�\\\\د�e��F�v���T\\x14:Kb\\x01���\\x17�@� �\\x1c����0���k��9zx\\x05!��\\x0e��fX9��\\t�|Cn�\\x11�#������bb=&\\x1c\\x04��Pv�ڵ[�\\u05f7H��k��-��B�5\\x0b�졲�(�P��A�gY�\\x16�\\x19��[%2`��Q�5��>�\\x15+V�\\r*3\\x00���U��\\x1f�t\\x04A@\\\\\\\\\\\\JZZZ����\\x01�(�vy\\x1a���\\x0e|\\n��S�\\x1b@i��E&\\x14\\x1e��7@&\\x1e^����\\x05:��\\x0e!\\x0c\\x04�Ry��w�,~}�H\\x08|\\x7f�\\u0590����Ʈ\"\\x1e\\'�\\x05C(�H��\\x1e��~,\\x16\\x0bRRR\\x12\\t!�L�Pu��}M�\\x10J!jCy\\x1d�(���\\x10BZ$4`���\\x0e\\x1d:\\\\\\'�D)\\x05˲�\\x1c:t(�I���ն������ \\x08Q��\\x7f\\x7f�\\x07C�➄�^��\\x14\"���u5�߭8d\\r�6L��\\r���\\x10\\x80�G�:������N���\\x06�v��O��1���.X�B��\\x15+~��\\x0b��N�:u\\x1e6l�e��L�\\x11\\x04�\\x00��{��t]\\x04A�J:gY\\x16gϞ=WQQa�\\x15�\\x1bgΜ9$�9\\x0e\\x00�{��ۖ�\\x14|��!F�{�Ry\\x17\\x0f�]s��\\x14 \\x04�J\\x03if�H�+�[�\\x17[\\\\s�\\x10\\x06v���\\x03;�=��[����c�z5\\x12�IV���!�|\"�1�a��2z\\x1c�\\r\\x14�//�l\\x0f�#��S]\\x1c>|�L)�)�����|��n�\\x01�b.�{~m�=\\x1d\\x7fiy�k��\\x1d�Rܶ��{\\x1a\\x1e��Q\\x00\\x0cR\\x18�N�����w��A�\\x05\\x00,˞�,G)O��~�<��\\x05����o\\r�BD)���ğ�x\\x16%\\x11\\x00\\x03F�\\x02%��\\\\_m���@AEPJD��!\\x02\"\\x05h�#@��k�!�\\x00��N\\x0f[kk6���ۑs��Q�㏬�����\\x1c\\x1e��ű|H�9m;�w\\x0ey��\\x01�a8J)\\x07�����\\x17�*\\x04\\x08��->ϔR0\\x0cs!3�==�G�\\'a��\\x10�Z�\\x05�f\\x19y��D0j\\x1d\\x1cV���E_-8���o(=\\x11�\\x1c\\x1bod�ӥS���O毘2\\x07f{\\x0f��p\\n��д\\x12$�k\"\\x00J#.�<�P�Q����c\\x15\\x04�_�>�`�\"�{:��I\\x10B��uA\\x10ڼ�9��x�\\x1c[��\\x0bE�\\x02���h�XDh�\\x1clm\\x05\\x01�nNOJA�\\x08V\\x1b�������k�x\\x03�����6j����R�5\\x144�y\\x16\\x14\\x00\\x04\\x10B)\\x15�fpZ�΅+\\'����F\\x1bZ\\x08�Wk�[W���\\x05\\x12�\\x0f!�0,����\\x17EQ\\x10E���I(M�`?�m�;T�\\x11�K�Rj��\\n�R\\x16p\\x0e����E�)3gzF\\x0fy��1\\x7f1�v��kV/\\t�������h��e�y��\\x17\\x0b>�����\\x1f�\\x7f�[�<:8\\x11B\\x10_|*�\\x16\\x10�\\x1dh����\\x04�\\x13�_��S\\x10�691����q0�<�G�ݚlh�s\\\\��kk:\\x17�w(�-\\x17KOi�T�:Q\\x14�\\x01t\\x00�~�\\x0e\\x1d:D\\x13BX*{\\x02j��<�ѽ�,˶zDO(�\\x16��z��kF��.\\x11r[\\t�b�\\x0cp�3*5�\\x1f^t��\\x05��[2*{��ay��i�\\x18�>S\\x1e�:>,\\x1a�B�G�(\\x03\\r+^��D��%�8qb\\x07�\\x1b A\\x08�s8\\x1c�v�\\x0b�/��\\x136\\x10ڻk�/�S�N�bY�\\x14���tM\\x10�����:\\x03��U\\x04?t�ر��h��,((�i\\x84\\tA�+\\x10~�\\x16��%\\x1e*�O��\\x14 x�+$��\\x08�:Q�u�K�c{���I�\\'�Z5\\x10\\x02iX���\\x7f�\\'$z\\x1a~w_�!��e�+����#��^H��G�<�,\\x02�gϞ�����0\\x0cΞ={�����=�{~�\\x06�������2�|�[!�����p�NVWW�JJJ�k�Zy���w��3ؼ\\x08!Lzzzo��HBȩC�\\x0e\\x1d��\\x0b�3�|��Jǧ\\x10�O�8\\x10X��iy0*5j����\\x1e��{��7?\\x0f�#����\\x02�Vk�|�\\x0b�!4�\\'86\\x1f�\"@Ć\\x7f��� !\\n\\x15���C�3i�Z-���w\\x05\\x12��yc�\\n�?����+����fZ>Y��0a��`�������k�)˲hllܳo߾���)\\x04�O!:�g�a\\nr\\x1abk\\x11j}\\x0e�\\x10�����A}:Dݐ��v��}Pi`��Kt�=�\\x080\"��q\\x07�Tڎ�.�\\x7f.��p�ȑq\\x03\\x07\\x0e\\x1c&��e\\x18��8qb�{X�J%��H�p6�\\r���mZ�\\x1dl�ݬ\\x0cPJ\\x11\\x1f\\x1f\\x1fp��a\\x11yJgݺu[\\x08!5�6JII�\"�\\x045z���}+!$FJ�`0`�����\\x86�n�5|\\n��\\x15��ʙ�~\\x06��hhw���!Eʟ\\u07bf�(\\x1bC�C�W�Κ\\x06&4m\\x16)�s\\\\*\\x02Z���~\\x13m�\\x03�\\x1f\\x0e����\\x13�<����\\x1cǹV�3\\x0c�����9s���\\x1eV�R5�,�ڞ��y��ť�\\x1a5�G0yRJEBHP�\\x7fuuu���4i�%7�����Tyyy^�V���:��W_��m�\\x0cB\\x08INN����k�=ٷhѢ\\x7f���\\n>��RJ\\x1b�����4^��V�\\x02\\x08+0\"�{�1\\x7f�˅\\x08�W\\x1fSs8Q\\x00�`�tݙu�h@y\\x1b\\x08�@���z\\x06\\x1aw̘1�SRR���lp��]H�\\x13\\x1c[PTTd-//���_d�X��~��\\x17�)snnn\\x17��c��\\x15.((��N\\\\��f��\\x17.?�7\\x16/^���`�U\\nc6�IVV�+\\x19\\x19\\x19\\x01�\\x1b[�x�����aR����\\x0b\\'N��\\x07�fO��چ�-\\r~���_\\x04�<���\"�\\x1a\\x16\\'<�4\\rLt\\x02:�\"4^EJ�Q�\\x1b��\\x7fqz\\x7f(\\x1aP�\\x0eV�����\\x7f�ۼy�\\x1b��٭Vi���Ύ\\x7f�7V���ke]2���\\x7f��s�y�\\x02\\x00@YY�?�j�+O���j\\x1fܺu�;��h����\\x1f}��\\x13\\x0b\\x16,��f��\\x0e惯��\\x0f\\x13B�˻<\\x03\\x07\\x0e\\x1c�7b3\\x17�˺f͚_֬Y3�`0��(��?�$##C�+��>�hDff�B�ɹ7�Z�FSS�\\'s���ץP�+\\x15�B�th�~�ռ\\x12�8\\x05�Ű�\\\\��\\x01[�x\\x05�\\x05�6Z�A�|9��,\\n�8����Y�f�9�����\\x85\\x0bK�lْ��k��KKK�>99�szzz�����-[����w�ݩ�h\\x06K\\x0e_J)���N͙3�q�7��g�}vkcc㧒\\x18\\x01��L���7kѢE?�\\\\�rVVVVjrrr��<{���\\x19�7o~cÆ\\r�w�}�����Au�\\x00��������@�厉��c���/\\'$$\\\\�\\x0c�P3}��e\\x07\\x0f\\x1e�\\x1f\\x1d\\x1d\\rJ)8��J�����\\x0f7���k������Bd���6o�<��{�����.J\\x12!���]VV֬���o��v��\\\\����r^Ȱ�\\x1a���*|�6\\x1dT>Ǩ\\x15Ұ�$\\x10�y=����x�&š~��!�\\x01�f���/��;���/���\\u05ee�/���j-\\x00\"\\x1b\\x1b\\x1b����s�\\r7����\\x01������.�(2�����b\\x18\\x06QQQ5�W���~��\\x1f��G�\\x0c\\x192c�ҥqF�1SzV��l�^�O\\x18:t�;C�\\x0e\\x15)�g\\x08!vJi$!$V\\x14E466B�R�`0��\\x16�\\x0b\\x12E�����>�ZAAA�F���n��l6��#Gλ��{�7l���j�_\\\\\\\\���7߬��N\\x17j5���3����>w˖-4!!��\\x16�E\\x12�ṹ��N�:���/�����^HII����^��|�ԞF�\\x11\\x16���S�N}������ەF@���\\x1d�y�D�\\x7f�g���0�\\x1a�Q4�-=�o��O\\'\\x18+\\x06\\x1e,�69��o��\\x05\\'�U\\x13\\x1e��d��!B���{�M)++{=**��a\\x18�l6��f��b�n�Z�Z,\\x16F�\\t1\\x0c���H8\\x1c�m\\x1f\\x7f��m�=�ط��STTd��̜�\\x7f���EFF��\\x11-A\\x10`�X`�X\\x18��z��b�n�Xb\\x05A���a�Xv\\x7f���O���\\x16ʇ�\\t!~��%%%\\r�<��X�����Hh�ZX�V455�MJJz���o\\x7f+==�f�xZ�Vm0\\x18 {1,�\\x06��!����ĕ�Nz\\x00�\\x17(��;\\ue61b��\\x7f?��?FEEI�-455%\\'&&�\\x1a>|�\\x18�N7���)�n��`0 22�����������{,�F��\\u0ea9T*�`0\\x18��\\x16��q�9\\x01�{p��E�7�\\x18�k��\\x19���C\\x05��y\\x1f�\\x08�R0*�\\x16T��\\t\\x1e�\\x16���ɺa(�%\\x00\\x188�.�ñda\\x118����w��?ٱ��\\x0c9]����^?8�\\x1d�g�z�}k\\x0c�^�nܸ�\\x7fo��憬��\\x0f���2\\x13\\x13\\x133���\\x13EQ�\\x07��0̉���ʥK�.�;w�Z�a1�/����\\x00����\\\\��c��>11q�(��(�F8[�J\\x08ibY�LII�\\x7f-\\x16�w���?�]��\"11\\x11�\\x7f�y�\\x11#F�b�Hu\\x08h���m�N\\x01\\x18��믏LNN�����,\\x08Bg8W�SBH�{���҃��e\\x1c��\\x10��h���\\x1a�\\x1b���8����_/�8�\\x1b������l��,gO̙3ge�\\u07bd�z��G3G�\\x1e=>**�zQ\\x14�\\x06`��B���X�����=\\\\RR�~Ŋ\\x15�\\u05ed[w����3\\x1cKKK�\\x00\\\\P\\x01\\x7f\\t�\\x00\\x00\\x07\\x1cIDAT�\\x1a\\x1b\\x1b�����v�]G)�Z�VU^^^\\x11Hݮ\\x14�~�4\\x00DtN��Ո=EB[�\"\\x11\"��\\x1f,����)�~�@\\x11̜\\x07Ar\\x13&�\\x1b�#(�}�����\\nj��RJ\"�Tò��\\x19�-��\\x02��\\x10��w{,ǃ��\\x1f>���F�\\x18�Uzb��`\\x10Ǎ\\x1b7�����#kRSS�Q���H\"!��I�R�صkW�&�%$$h\\x0c\\x06C7Q\\x14�ͫЭ�(6���z�R,]����ÇO�X,0\\x18\\x0cضm��S�N}(�|����<�wfYVϲ�x�ĉS�F�.%���b�j��*��H�Kk�v��LEEEP��V\\x08\\x1dmzR��L�)\\x00������]��]*ok��}=\\x04\\x00=����\\t:\\x1a�i�\\x13)��b/-���R��Eii�I\\x00\\x17���\\x17�\\x16��\\x02\\r/\\x08B�\\x1f\\x11B��.�7JJJ\\x1c\\x00N�%n{�������\\x0b/\\x07��Ȓ\\x16>�\\x00\\x1c�\\x16��IѯV��\\x05P�����\\x02&ȯ\\x13\\x18�\\x01��m+�k�.�b\\x10\\nGe{СC�Nn�{B�eUP\\x08�0>;I�`�2��.R\\x025��\\x1b|����\\x19\\x13�\\x0bm[�\\x19\\n.G!\"���G��J�����e�V#]\\n\\n\\x17��?�Ʌߙ��Q0o�eRx+ ��_67�\\x13/����8\\t\\t\\t���sJ)�jժ��u\\n\\n�&L\\x16\\x11�6��{��&��h\\x03t�\\x01�w9��o\\x04,�\\x01�\\tOу�r��Ə\\x1f�\\x0c��T^�a�WUU)B��n\\\\\\x1c\\x1f���2�]5\\n�\\x1c��\\x05t�;�F;Ӎ�\\x03�~\\x12�\\x1d�d��rcܸqO[�V\\x028W��۷o��Ç[m���p�\\x08K\\u05cc\\x08���}ɻj\\x1e&2���(8�(j�y\\x11\\x02\\x006�i\\x1dI\\x0b�U\\x0cu\\x18\\x1a�屘�\\\\�y����\\x0f^6\\x1a�#����jq�\\u07bd\\x1f�w�\\x14~ۄ�GDȯ B�_�\\thf��eW�\\x08�\\x04ug\\x1d5�w�\\x14�z\\x04��\"D�F��QQQ��ȑ#��fH�ʫ���~�\\x17\\x02ڄMA!\\\\�E���9}��h�\\x16���iþC�\\x00��\\x00�l���4а\\t *��b���5�Z�q����z��/�<bÆ\\r���{�*��AiU��`��b�����\\\\{�SA!,>\"J���W������o�9G4�m(ރo���H\\x05p����@����\\x1b�\\x00�j@�\\x07g��_}���\\x1bs�Q������\\x05\\x05\\x05����\\x01\\x0c��OLL�f͚�� \\\\#\\x08\\x02���\\x008}Bj�����\\x03��\\x1e=z�\"�\\n�\\x02asV������>\\x1e<)s|�<��:��0\"�k��\\x04�\\x02�\\x11��\\x07�\\x1ci\\x00g\\x15��{�r��]���6],4\\x1a\\rc0\\x18`�� �s������1lذ�8���f��\\x9feY\\x18\\x0c\\x06\\x10B\\x1a����|��\\'\\x0b֯_����SAA\"|�\\x00dN�a�\\x03\\x0f\\x7fw3���\\x11�8���j��\\x07?�;D\\r0z@o\\x04���}\\x07͋F=X���\\x1d�?�������J����V�ugDD\\x04���^y\\x1dJN�>��eYPJ��j���Z,�mEEE��̙3p�ر�֯_\\x1f�M�\\x14\\x14BE�\\x16���\\x7f��8����\\x07�����\\x17z8gR\\x0b�U&DrX\\x02h��4�`�\\x03��M\\x1b��������\\x1d�(�\\x0e��c�\\x0e�<y�]�?���C�\\x0e\\x1dn�2\\x0c\\x192���?�$�q�\\x1a��իW\\x1f9v�Xuyy�e�\\x16L��E\\x13\"�����\\x03�&��0\\x0c�` �CҢ��\\x17�\\x00�\\x01ʀ�\\x07�4�;���Pi:\\x04\\x16�>Yu�������ՓO\\x15\\x14\\x14.\\x7f.�\\x10y���X�\\x01D�@dxЦ&t\\x1a�nC�\\n\\n\\n\\x17�KC�\\x14\\x14\\x14~Ӵ�cUAAAA\"�ۀ��\\x10\"ߦ#�-;\\\\&\\x1bU�7\\x05�+�\\x0b��D�y�h0^�=� �\\x0b�D����K�r�����eH�B�,<��x{�^�{\\x13\\'9�DG��\\x12�\\\\�^T\\x11&\\x05�K����\\x10�Ml�\\x00_�\\x02%�\\x12��\"r\\x17\\x1fA�\\x1eȫ�H)K\\x19\\x14\\x14.]\\x02�\\x11�Dț��d\\uf78e��y��\\x00ϖ�\\x00�9�B�ˮ�\\x1f3��D�\\x0eB\\x08\\x141RP�4\\t������\\x1fK��-�/\\x7f������V\\x06\\x05\\x05�˄���R*�\\x06�<�pX8�\\x0f\\x15�[&�v͚��\\x08Ȏ���-&��X�)(\\\\��Y�z9\\x0e��Z�r�8�\\x15\\x14.3B5|/��\\'��5��J��=��{OC����\\x08���eHؗx����ͧ�^(eR���\\x15���LAA��Q֚)((�;�\\x0f���c�R.�\\x00\\x00\\x00\\x00IEND�B`�'"
      ]
     },
     "execution_count": 26,
     "metadata": {},
     "output_type": "execute_result"
    }
   ],
   "source": [
    "html_image.text"
   ]
  },
  {
   "cell_type": "code",
   "execution_count": 34,
   "metadata": {},
   "outputs": [],
   "source": [
    "soup = bs(html_image.text)\n",
    "soup  = soup.find('image')"
   ]
  },
  {
   "cell_type": "code",
   "execution_count": 35,
   "metadata": {},
   "outputs": [],
   "source": [
    "soup"
   ]
  },
  {
   "cell_type": "code",
   "execution_count": 25,
   "metadata": {},
   "outputs": [
    {
     "data": {
      "text/plain": [
       "array([10, 80])"
      ]
     },
     "execution_count": 25,
     "metadata": {},
     "output_type": "execute_result"
    }
   ],
   "source": [
    "a2 = np.array([[10, 20, 30], [47, 57, 67], [70, 80, 95]])\n",
    "a2[[0, 2], [0, 1]]"
   ]
  },
  {
   "cell_type": "code",
   "execution_count": null,
   "metadata": {},
   "outputs": [],
   "source": []
  },
  {
   "cell_type": "code",
   "execution_count": 37,
   "metadata": {},
   "outputs": [
    {
     "data": {
      "text/plain": [
       "array([[20, 30],\n",
       "       [50, 60],\n",
       "       [80, 90]])"
      ]
     },
     "execution_count": 37,
     "metadata": {},
     "output_type": "execute_result"
    }
   ],
   "source": [
    "b2 =  np.array([[10, 20, 30], [40, 50, 60], [70, 80, 90]])  \n",
    "b2[:3, 1:] "
   ]
  },
  {
   "cell_type": "code",
   "execution_count": 39,
   "metadata": {},
   "outputs": [
    {
     "data": {
      "text/plain": [
       "array([10, 30, 40])"
      ]
     },
     "execution_count": 39,
     "metadata": {},
     "output_type": "execute_result"
    }
   ],
   "source": [
    "a1 = np.array( [ 0, 10, 20, 30, 40, 50 ] ) \n",
    "a1[[1,3,4]]"
   ]
  },
  {
   "cell_type": "code",
   "execution_count": 46,
   "metadata": {},
   "outputs": [
    {
     "ename": "ValueError",
     "evalue": "Shape of passed values is (2, 1), indices imply (2, 2)",
     "output_type": "error",
     "traceback": [
      "\u001b[1;31m---------------------------------------------------------------------------\u001b[0m",
      "\u001b[1;31mValueError\u001b[0m                                Traceback (most recent call last)",
      "\u001b[1;32m~\\Anaconda3\\lib\\site-packages\\pandas\\core\\internals\\managers.py\u001b[0m in \u001b[0;36mcreate_block_manager_from_blocks\u001b[1;34m(blocks, axes)\u001b[0m\n\u001b[0;32m   1653\u001b[0m                 blocks = [\n\u001b[1;32m-> 1654\u001b[1;33m                     \u001b[0mmake_block\u001b[0m\u001b[1;33m(\u001b[0m\u001b[0mvalues\u001b[0m\u001b[1;33m=\u001b[0m\u001b[0mblocks\u001b[0m\u001b[1;33m[\u001b[0m\u001b[1;36m0\u001b[0m\u001b[1;33m]\u001b[0m\u001b[1;33m,\u001b[0m \u001b[0mplacement\u001b[0m\u001b[1;33m=\u001b[0m\u001b[0mslice\u001b[0m\u001b[1;33m(\u001b[0m\u001b[1;36m0\u001b[0m\u001b[1;33m,\u001b[0m \u001b[0mlen\u001b[0m\u001b[1;33m(\u001b[0m\u001b[0maxes\u001b[0m\u001b[1;33m[\u001b[0m\u001b[1;36m0\u001b[0m\u001b[1;33m]\u001b[0m\u001b[1;33m)\u001b[0m\u001b[1;33m)\u001b[0m\u001b[1;33m)\u001b[0m\u001b[1;33m\u001b[0m\u001b[1;33m\u001b[0m\u001b[0m\n\u001b[0m\u001b[0;32m   1655\u001b[0m                 ]\n",
      "\u001b[1;32m~\\Anaconda3\\lib\\site-packages\\pandas\\core\\internals\\blocks.py\u001b[0m in \u001b[0;36mmake_block\u001b[1;34m(values, placement, klass, ndim, dtype)\u001b[0m\n\u001b[0;32m   3046\u001b[0m \u001b[1;33m\u001b[0m\u001b[0m\n\u001b[1;32m-> 3047\u001b[1;33m     \u001b[1;32mreturn\u001b[0m \u001b[0mklass\u001b[0m\u001b[1;33m(\u001b[0m\u001b[0mvalues\u001b[0m\u001b[1;33m,\u001b[0m \u001b[0mndim\u001b[0m\u001b[1;33m=\u001b[0m\u001b[0mndim\u001b[0m\u001b[1;33m,\u001b[0m \u001b[0mplacement\u001b[0m\u001b[1;33m=\u001b[0m\u001b[0mplacement\u001b[0m\u001b[1;33m)\u001b[0m\u001b[1;33m\u001b[0m\u001b[1;33m\u001b[0m\u001b[0m\n\u001b[0m\u001b[0;32m   3048\u001b[0m \u001b[1;33m\u001b[0m\u001b[0m\n",
      "\u001b[1;32m~\\Anaconda3\\lib\\site-packages\\pandas\\core\\internals\\blocks.py\u001b[0m in \u001b[0;36m__init__\u001b[1;34m(self, values, placement, ndim)\u001b[0m\n\u001b[0;32m   2594\u001b[0m \u001b[1;33m\u001b[0m\u001b[0m\n\u001b[1;32m-> 2595\u001b[1;33m         \u001b[0msuper\u001b[0m\u001b[1;33m(\u001b[0m\u001b[1;33m)\u001b[0m\u001b[1;33m.\u001b[0m\u001b[0m__init__\u001b[0m\u001b[1;33m(\u001b[0m\u001b[0mvalues\u001b[0m\u001b[1;33m,\u001b[0m \u001b[0mndim\u001b[0m\u001b[1;33m=\u001b[0m\u001b[0mndim\u001b[0m\u001b[1;33m,\u001b[0m \u001b[0mplacement\u001b[0m\u001b[1;33m=\u001b[0m\u001b[0mplacement\u001b[0m\u001b[1;33m)\u001b[0m\u001b[1;33m\u001b[0m\u001b[1;33m\u001b[0m\u001b[0m\n\u001b[0m\u001b[0;32m   2596\u001b[0m \u001b[1;33m\u001b[0m\u001b[0m\n",
      "\u001b[1;32m~\\Anaconda3\\lib\\site-packages\\pandas\\core\\internals\\blocks.py\u001b[0m in \u001b[0;36m__init__\u001b[1;34m(self, values, placement, ndim)\u001b[0m\n\u001b[0;32m    124\u001b[0m             raise ValueError(\n\u001b[1;32m--> 125\u001b[1;33m                 \u001b[1;34mf\"Wrong number of items passed {len(self.values)}, \"\u001b[0m\u001b[1;33m\u001b[0m\u001b[1;33m\u001b[0m\u001b[0m\n\u001b[0m\u001b[0;32m    126\u001b[0m                 \u001b[1;34mf\"placement implies {len(self.mgr_locs)}\"\u001b[0m\u001b[1;33m\u001b[0m\u001b[1;33m\u001b[0m\u001b[0m\n",
      "\u001b[1;31mValueError\u001b[0m: Wrong number of items passed 1, placement implies 2",
      "\nDuring handling of the above exception, another exception occurred:\n",
      "\u001b[1;31mValueError\u001b[0m                                Traceback (most recent call last)",
      "\u001b[1;32m<ipython-input-46-7607c432d9b6>\u001b[0m in \u001b[0;36m<module>\u001b[1;34m\u001b[0m\n\u001b[1;32m----> 1\u001b[1;33m \u001b[0mdf_left\u001b[0m \u001b[1;33m=\u001b[0m \u001b[0mpd\u001b[0m\u001b[1;33m.\u001b[0m\u001b[0mDataFrame\u001b[0m\u001b[1;33m(\u001b[0m\u001b[1;33m[\u001b[0m\u001b[1;34m'A'\u001b[0m\u001b[1;33m,\u001b[0m\u001b[1;36m1\u001b[0m\u001b[1;33m]\u001b[0m\u001b[1;33m,\u001b[0m\u001b[1;33m[\u001b[0m \u001b[1;34m'B'\u001b[0m\u001b[1;33m,\u001b[0m\u001b[1;36m2\u001b[0m\u001b[1;33m]\u001b[0m\u001b[1;33m,\u001b[0m \u001b[1;33m[\u001b[0m\u001b[1;34m'C'\u001b[0m\u001b[1;33m,\u001b[0m\u001b[1;36m3\u001b[0m\u001b[1;33m]\u001b[0m\u001b[1;33m)\u001b[0m\u001b[1;33m\u001b[0m\u001b[1;33m\u001b[0m\u001b[0m\n\u001b[0m\u001b[0;32m      2\u001b[0m \u001b[0mdf_left\u001b[0m\u001b[1;33m\u001b[0m\u001b[1;33m\u001b[0m\u001b[0m\n",
      "\u001b[1;32m~\\Anaconda3\\lib\\site-packages\\pandas\\core\\frame.py\u001b[0m in \u001b[0;36m__init__\u001b[1;34m(self, data, index, columns, dtype, copy)\u001b[0m\n\u001b[0;32m    486\u001b[0m                     \u001b[0mmgr\u001b[0m \u001b[1;33m=\u001b[0m \u001b[0marrays_to_mgr\u001b[0m\u001b[1;33m(\u001b[0m\u001b[0marrays\u001b[0m\u001b[1;33m,\u001b[0m \u001b[0mcolumns\u001b[0m\u001b[1;33m,\u001b[0m \u001b[0mindex\u001b[0m\u001b[1;33m,\u001b[0m \u001b[0mcolumns\u001b[0m\u001b[1;33m,\u001b[0m \u001b[0mdtype\u001b[0m\u001b[1;33m=\u001b[0m\u001b[0mdtype\u001b[0m\u001b[1;33m)\u001b[0m\u001b[1;33m\u001b[0m\u001b[1;33m\u001b[0m\u001b[0m\n\u001b[0;32m    487\u001b[0m                 \u001b[1;32melse\u001b[0m\u001b[1;33m:\u001b[0m\u001b[1;33m\u001b[0m\u001b[1;33m\u001b[0m\u001b[0m\n\u001b[1;32m--> 488\u001b[1;33m                     \u001b[0mmgr\u001b[0m \u001b[1;33m=\u001b[0m \u001b[0minit_ndarray\u001b[0m\u001b[1;33m(\u001b[0m\u001b[0mdata\u001b[0m\u001b[1;33m,\u001b[0m \u001b[0mindex\u001b[0m\u001b[1;33m,\u001b[0m \u001b[0mcolumns\u001b[0m\u001b[1;33m,\u001b[0m \u001b[0mdtype\u001b[0m\u001b[1;33m=\u001b[0m\u001b[0mdtype\u001b[0m\u001b[1;33m,\u001b[0m \u001b[0mcopy\u001b[0m\u001b[1;33m=\u001b[0m\u001b[0mcopy\u001b[0m\u001b[1;33m)\u001b[0m\u001b[1;33m\u001b[0m\u001b[1;33m\u001b[0m\u001b[0m\n\u001b[0m\u001b[0;32m    489\u001b[0m             \u001b[1;32melse\u001b[0m\u001b[1;33m:\u001b[0m\u001b[1;33m\u001b[0m\u001b[1;33m\u001b[0m\u001b[0m\n\u001b[0;32m    490\u001b[0m                 \u001b[0mmgr\u001b[0m \u001b[1;33m=\u001b[0m \u001b[0minit_dict\u001b[0m\u001b[1;33m(\u001b[0m\u001b[1;33m{\u001b[0m\u001b[1;33m}\u001b[0m\u001b[1;33m,\u001b[0m \u001b[0mindex\u001b[0m\u001b[1;33m,\u001b[0m \u001b[0mcolumns\u001b[0m\u001b[1;33m,\u001b[0m \u001b[0mdtype\u001b[0m\u001b[1;33m=\u001b[0m\u001b[0mdtype\u001b[0m\u001b[1;33m)\u001b[0m\u001b[1;33m\u001b[0m\u001b[1;33m\u001b[0m\u001b[0m\n",
      "\u001b[1;32m~\\Anaconda3\\lib\\site-packages\\pandas\\core\\internals\\construction.py\u001b[0m in \u001b[0;36minit_ndarray\u001b[1;34m(values, index, columns, dtype, copy)\u001b[0m\n\u001b[0;32m    208\u001b[0m         \u001b[0mblock_values\u001b[0m \u001b[1;33m=\u001b[0m \u001b[1;33m[\u001b[0m\u001b[0mvalues\u001b[0m\u001b[1;33m]\u001b[0m\u001b[1;33m\u001b[0m\u001b[1;33m\u001b[0m\u001b[0m\n\u001b[0;32m    209\u001b[0m \u001b[1;33m\u001b[0m\u001b[0m\n\u001b[1;32m--> 210\u001b[1;33m     \u001b[1;32mreturn\u001b[0m \u001b[0mcreate_block_manager_from_blocks\u001b[0m\u001b[1;33m(\u001b[0m\u001b[0mblock_values\u001b[0m\u001b[1;33m,\u001b[0m \u001b[1;33m[\u001b[0m\u001b[0mcolumns\u001b[0m\u001b[1;33m,\u001b[0m \u001b[0mindex\u001b[0m\u001b[1;33m]\u001b[0m\u001b[1;33m)\u001b[0m\u001b[1;33m\u001b[0m\u001b[1;33m\u001b[0m\u001b[0m\n\u001b[0m\u001b[0;32m    211\u001b[0m \u001b[1;33m\u001b[0m\u001b[0m\n\u001b[0;32m    212\u001b[0m \u001b[1;33m\u001b[0m\u001b[0m\n",
      "\u001b[1;32m~\\Anaconda3\\lib\\site-packages\\pandas\\core\\internals\\managers.py\u001b[0m in \u001b[0;36mcreate_block_manager_from_blocks\u001b[1;34m(blocks, axes)\u001b[0m\n\u001b[0;32m   1662\u001b[0m         \u001b[0mblocks\u001b[0m \u001b[1;33m=\u001b[0m \u001b[1;33m[\u001b[0m\u001b[0mgetattr\u001b[0m\u001b[1;33m(\u001b[0m\u001b[0mb\u001b[0m\u001b[1;33m,\u001b[0m \u001b[1;34m\"values\"\u001b[0m\u001b[1;33m,\u001b[0m \u001b[0mb\u001b[0m\u001b[1;33m)\u001b[0m \u001b[1;32mfor\u001b[0m \u001b[0mb\u001b[0m \u001b[1;32min\u001b[0m \u001b[0mblocks\u001b[0m\u001b[1;33m]\u001b[0m\u001b[1;33m\u001b[0m\u001b[1;33m\u001b[0m\u001b[0m\n\u001b[0;32m   1663\u001b[0m         \u001b[0mtot_items\u001b[0m \u001b[1;33m=\u001b[0m \u001b[0msum\u001b[0m\u001b[1;33m(\u001b[0m\u001b[0mb\u001b[0m\u001b[1;33m.\u001b[0m\u001b[0mshape\u001b[0m\u001b[1;33m[\u001b[0m\u001b[1;36m0\u001b[0m\u001b[1;33m]\u001b[0m \u001b[1;32mfor\u001b[0m \u001b[0mb\u001b[0m \u001b[1;32min\u001b[0m \u001b[0mblocks\u001b[0m\u001b[1;33m)\u001b[0m\u001b[1;33m\u001b[0m\u001b[1;33m\u001b[0m\u001b[0m\n\u001b[1;32m-> 1664\u001b[1;33m         \u001b[0mconstruction_error\u001b[0m\u001b[1;33m(\u001b[0m\u001b[0mtot_items\u001b[0m\u001b[1;33m,\u001b[0m \u001b[0mblocks\u001b[0m\u001b[1;33m[\u001b[0m\u001b[1;36m0\u001b[0m\u001b[1;33m]\u001b[0m\u001b[1;33m.\u001b[0m\u001b[0mshape\u001b[0m\u001b[1;33m[\u001b[0m\u001b[1;36m1\u001b[0m\u001b[1;33m:\u001b[0m\u001b[1;33m]\u001b[0m\u001b[1;33m,\u001b[0m \u001b[0maxes\u001b[0m\u001b[1;33m,\u001b[0m \u001b[0me\u001b[0m\u001b[1;33m)\u001b[0m\u001b[1;33m\u001b[0m\u001b[1;33m\u001b[0m\u001b[0m\n\u001b[0m\u001b[0;32m   1665\u001b[0m \u001b[1;33m\u001b[0m\u001b[0m\n\u001b[0;32m   1666\u001b[0m \u001b[1;33m\u001b[0m\u001b[0m\n",
      "\u001b[1;32m~\\Anaconda3\\lib\\site-packages\\pandas\\core\\internals\\managers.py\u001b[0m in \u001b[0;36mconstruction_error\u001b[1;34m(tot_items, block_shape, axes, e)\u001b[0m\n\u001b[0;32m   1692\u001b[0m     \u001b[1;32mif\u001b[0m \u001b[0mblock_shape\u001b[0m\u001b[1;33m[\u001b[0m\u001b[1;36m0\u001b[0m\u001b[1;33m]\u001b[0m \u001b[1;33m==\u001b[0m \u001b[1;36m0\u001b[0m\u001b[1;33m:\u001b[0m\u001b[1;33m\u001b[0m\u001b[1;33m\u001b[0m\u001b[0m\n\u001b[0;32m   1693\u001b[0m         \u001b[1;32mraise\u001b[0m \u001b[0mValueError\u001b[0m\u001b[1;33m(\u001b[0m\u001b[1;34m\"Empty data passed with indices specified.\"\u001b[0m\u001b[1;33m)\u001b[0m\u001b[1;33m\u001b[0m\u001b[1;33m\u001b[0m\u001b[0m\n\u001b[1;32m-> 1694\u001b[1;33m     \u001b[1;32mraise\u001b[0m \u001b[0mValueError\u001b[0m\u001b[1;33m(\u001b[0m\u001b[1;34mf\"Shape of passed values is {passed}, indices imply {implied}\"\u001b[0m\u001b[1;33m)\u001b[0m\u001b[1;33m\u001b[0m\u001b[1;33m\u001b[0m\u001b[0m\n\u001b[0m\u001b[0;32m   1695\u001b[0m \u001b[1;33m\u001b[0m\u001b[0m\n\u001b[0;32m   1696\u001b[0m \u001b[1;33m\u001b[0m\u001b[0m\n",
      "\u001b[1;31mValueError\u001b[0m: Shape of passed values is (2, 1), indices imply (2, 2)"
     ]
    }
   ],
   "source": [
    "df_left = pd.DataFrame(['A',1],[ 'B',2], ['C',3])\n",
    "df_left"
   ]
  }
 ],
 "metadata": {
  "kernelspec": {
   "display_name": "Python 3",
   "language": "python",
   "name": "python3"
  },
  "language_info": {
   "codemirror_mode": {
    "name": "ipython",
    "version": 3
   },
   "file_extension": ".py",
   "mimetype": "text/x-python",
   "name": "python",
   "nbconvert_exporter": "python",
   "pygments_lexer": "ipython3",
   "version": "3.7.4"
  }
 },
 "nbformat": 4,
 "nbformat_minor": 2
}
