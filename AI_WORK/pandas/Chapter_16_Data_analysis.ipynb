{
 "cells": [
  {
   "cell_type": "markdown",
   "metadata": {
    "toc-hr-collapsed": false
   },
   "source": [
    "# 16장 실전 데이터 분석 프로젝트"
   ]
  },
  {
   "cell_type": "markdown",
   "metadata": {},
   "source": [
    "## 16.1 데이터 분석 프로세스"
   ]
  },
  {
   "cell_type": "markdown",
   "metadata": {
    "toc-hr-collapsed": false
   },
   "source": [
    "## 16.2 데이터 획득, 처리, 시각화 심화"
   ]
  },
  {
   "cell_type": "markdown",
   "metadata": {},
   "source": [
    "### 깃허브에서 파일 다운로드"
   ]
  },
  {
   "cell_type": "markdown",
   "metadata": {
    "toc-hr-collapsed": false
   },
   "source": [
    "### 데이터에서 결측치 확인 및 처리"
   ]
  },
  {
   "cell_type": "markdown",
   "metadata": {},
   "source": [
    "#### 결측치 확인"
   ]
  },
  {
   "cell_type": "code",
   "execution_count": 1,
   "metadata": {},
   "outputs": [
    {
     "name": "stdout",
     "output_type": "stream",
     "text": [
      "연도,제품1,제품2,제품3,제품4\n",
      "2015,250,150,,\n",
      "2016,200,160,170,\n",
      "2017,150,200,100,150\n",
      "2018,120,230,130,170\n",
      "2019,,250,140,\n"
     ]
    }
   ],
   "source": [
    "!type data\\missing_data_test.csv"
   ]
  },
  {
   "cell_type": "markdown",
   "metadata": {},
   "source": [
    "**[16장: 535페이지]**"
   ]
  },
  {
   "cell_type": "code",
   "execution_count": 101,
   "metadata": {},
   "outputs": [
    {
     "data": {
      "text/html": [
       "<div>\n",
       "<style scoped>\n",
       "    .dataframe tbody tr th:only-of-type {\n",
       "        vertical-align: middle;\n",
       "    }\n",
       "\n",
       "    .dataframe tbody tr th {\n",
       "        vertical-align: top;\n",
       "    }\n",
       "\n",
       "    .dataframe thead th {\n",
       "        text-align: right;\n",
       "    }\n",
       "</style>\n",
       "<table border=\"1\" class=\"dataframe\">\n",
       "  <thead>\n",
       "    <tr style=\"text-align: right;\">\n",
       "      <th></th>\n",
       "      <th>제품1</th>\n",
       "      <th>제품2</th>\n",
       "      <th>제품3</th>\n",
       "      <th>제품4</th>\n",
       "    </tr>\n",
       "    <tr>\n",
       "      <th>연도</th>\n",
       "      <th></th>\n",
       "      <th></th>\n",
       "      <th></th>\n",
       "      <th></th>\n",
       "    </tr>\n",
       "  </thead>\n",
       "  <tbody>\n",
       "    <tr>\n",
       "      <th>2015</th>\n",
       "      <td>250.0</td>\n",
       "      <td>150</td>\n",
       "      <td>NaN</td>\n",
       "      <td>NaN</td>\n",
       "    </tr>\n",
       "    <tr>\n",
       "      <th>2016</th>\n",
       "      <td>200.0</td>\n",
       "      <td>160</td>\n",
       "      <td>170.0</td>\n",
       "      <td>NaN</td>\n",
       "    </tr>\n",
       "    <tr>\n",
       "      <th>2017</th>\n",
       "      <td>150.0</td>\n",
       "      <td>200</td>\n",
       "      <td>100.0</td>\n",
       "      <td>150.0</td>\n",
       "    </tr>\n",
       "    <tr>\n",
       "      <th>2018</th>\n",
       "      <td>120.0</td>\n",
       "      <td>230</td>\n",
       "      <td>130.0</td>\n",
       "      <td>170.0</td>\n",
       "    </tr>\n",
       "    <tr>\n",
       "      <th>2019</th>\n",
       "      <td>NaN</td>\n",
       "      <td>250</td>\n",
       "      <td>140.0</td>\n",
       "      <td>NaN</td>\n",
       "    </tr>\n",
       "  </tbody>\n",
       "</table>\n",
       "</div>"
      ],
      "text/plain": [
       "        제품1  제품2    제품3    제품4\n",
       "연도                            \n",
       "2015  250.0  150    NaN    NaN\n",
       "2016  200.0  160  170.0    NaN\n",
       "2017  150.0  200  100.0  150.0\n",
       "2018  120.0  230  130.0  170.0\n",
       "2019    NaN  250  140.0    NaN"
      ]
     },
     "execution_count": 101,
     "metadata": {},
     "output_type": "execute_result"
    }
   ],
   "source": [
    "import pandas as pd\n",
    "\n",
    "data_file = \"data/missing_data_test.csv\"\n",
    "\n",
    "df = pd.read_csv(data_file, encoding = \"cp949\", index_col = \"연도\")\n",
    "\n",
    "df"
   ]
  },
  {
   "cell_type": "markdown",
   "metadata": {},
   "source": [
    "**[16장: 535페이지]**"
   ]
  },
  {
   "cell_type": "code",
   "execution_count": 6,
   "metadata": {},
   "outputs": [
    {
     "data": {
      "text/html": [
       "<div>\n",
       "<style scoped>\n",
       "    .dataframe tbody tr th:only-of-type {\n",
       "        vertical-align: middle;\n",
       "    }\n",
       "\n",
       "    .dataframe tbody tr th {\n",
       "        vertical-align: top;\n",
       "    }\n",
       "\n",
       "    .dataframe thead th {\n",
       "        text-align: right;\n",
       "    }\n",
       "</style>\n",
       "<table border=\"1\" class=\"dataframe\">\n",
       "  <thead>\n",
       "    <tr style=\"text-align: right;\">\n",
       "      <th></th>\n",
       "      <th>제품1</th>\n",
       "      <th>제품2</th>\n",
       "      <th>제품3</th>\n",
       "      <th>제품4</th>\n",
       "    </tr>\n",
       "    <tr>\n",
       "      <th>연도</th>\n",
       "      <th></th>\n",
       "      <th></th>\n",
       "      <th></th>\n",
       "      <th></th>\n",
       "    </tr>\n",
       "  </thead>\n",
       "  <tbody>\n",
       "    <tr>\n",
       "      <th>2015</th>\n",
       "      <td>False</td>\n",
       "      <td>False</td>\n",
       "      <td>True</td>\n",
       "      <td>True</td>\n",
       "    </tr>\n",
       "    <tr>\n",
       "      <th>2016</th>\n",
       "      <td>False</td>\n",
       "      <td>False</td>\n",
       "      <td>False</td>\n",
       "      <td>True</td>\n",
       "    </tr>\n",
       "    <tr>\n",
       "      <th>2017</th>\n",
       "      <td>False</td>\n",
       "      <td>False</td>\n",
       "      <td>False</td>\n",
       "      <td>False</td>\n",
       "    </tr>\n",
       "    <tr>\n",
       "      <th>2018</th>\n",
       "      <td>False</td>\n",
       "      <td>False</td>\n",
       "      <td>False</td>\n",
       "      <td>False</td>\n",
       "    </tr>\n",
       "    <tr>\n",
       "      <th>2019</th>\n",
       "      <td>True</td>\n",
       "      <td>False</td>\n",
       "      <td>False</td>\n",
       "      <td>True</td>\n",
       "    </tr>\n",
       "  </tbody>\n",
       "</table>\n",
       "</div>"
      ],
      "text/plain": [
       "        제품1    제품2    제품3    제품4\n",
       "연도                              \n",
       "2015  False  False   True   True\n",
       "2016  False  False  False   True\n",
       "2017  False  False  False  False\n",
       "2018  False  False  False  False\n",
       "2019   True  False  False   True"
      ]
     },
     "execution_count": 6,
     "metadata": {},
     "output_type": "execute_result"
    }
   ],
   "source": [
    "df.isnull()"
   ]
  },
  {
   "cell_type": "markdown",
   "metadata": {},
   "source": [
    "**[16장: 536페이지]**"
   ]
  },
  {
   "cell_type": "code",
   "execution_count": 7,
   "metadata": {},
   "outputs": [
    {
     "data": {
      "text/plain": [
       "제품1    1\n",
       "제품2    0\n",
       "제품3    1\n",
       "제품4    3\n",
       "dtype: int64"
      ]
     },
     "execution_count": 7,
     "metadata": {},
     "output_type": "execute_result"
    }
   ],
   "source": [
    "df.isnull().sum()"
   ]
  },
  {
   "cell_type": "markdown",
   "metadata": {},
   "source": [
    "#### 결측치 처리"
   ]
  },
  {
   "cell_type": "markdown",
   "metadata": {},
   "source": [
    "**[16장: 537페이지]**"
   ]
  },
  {
   "cell_type": "code",
   "execution_count": 9,
   "metadata": {},
   "outputs": [
    {
     "data": {
      "text/html": [
       "<div>\n",
       "<style scoped>\n",
       "    .dataframe tbody tr th:only-of-type {\n",
       "        vertical-align: middle;\n",
       "    }\n",
       "\n",
       "    .dataframe tbody tr th {\n",
       "        vertical-align: top;\n",
       "    }\n",
       "\n",
       "    .dataframe thead th {\n",
       "        text-align: right;\n",
       "    }\n",
       "</style>\n",
       "<table border=\"1\" class=\"dataframe\">\n",
       "  <thead>\n",
       "    <tr style=\"text-align: right;\">\n",
       "      <th></th>\n",
       "      <th>제품1</th>\n",
       "      <th>제품2</th>\n",
       "      <th>제품3</th>\n",
       "      <th>제품4</th>\n",
       "    </tr>\n",
       "    <tr>\n",
       "      <th>연도</th>\n",
       "      <th></th>\n",
       "      <th></th>\n",
       "      <th></th>\n",
       "      <th></th>\n",
       "    </tr>\n",
       "  </thead>\n",
       "  <tbody>\n",
       "    <tr>\n",
       "      <th>2015</th>\n",
       "      <td>250.0</td>\n",
       "      <td>150</td>\n",
       "      <td>NaN</td>\n",
       "      <td>NaN</td>\n",
       "    </tr>\n",
       "    <tr>\n",
       "      <th>2016</th>\n",
       "      <td>200.0</td>\n",
       "      <td>160</td>\n",
       "      <td>170.0</td>\n",
       "      <td>NaN</td>\n",
       "    </tr>\n",
       "    <tr>\n",
       "      <th>2017</th>\n",
       "      <td>150.0</td>\n",
       "      <td>200</td>\n",
       "      <td>100.0</td>\n",
       "      <td>150.0</td>\n",
       "    </tr>\n",
       "    <tr>\n",
       "      <th>2018</th>\n",
       "      <td>120.0</td>\n",
       "      <td>230</td>\n",
       "      <td>130.0</td>\n",
       "      <td>170.0</td>\n",
       "    </tr>\n",
       "  </tbody>\n",
       "</table>\n",
       "</div>"
      ],
      "text/plain": [
       "        제품1  제품2    제품3    제품4\n",
       "연도                            \n",
       "2015  250.0  150    NaN    NaN\n",
       "2016  200.0  160  170.0    NaN\n",
       "2017  150.0  200  100.0  150.0\n",
       "2018  120.0  230  130.0  170.0"
      ]
     },
     "execution_count": 9,
     "metadata": {},
     "output_type": "execute_result"
    }
   ],
   "source": [
    "df.drop(index=[2019])"
   ]
  },
  {
   "cell_type": "markdown",
   "metadata": {},
   "source": [
    "**[16장: 537페이지]**"
   ]
  },
  {
   "cell_type": "code",
   "execution_count": 10,
   "metadata": {},
   "outputs": [
    {
     "data": {
      "text/html": [
       "<div>\n",
       "<style scoped>\n",
       "    .dataframe tbody tr th:only-of-type {\n",
       "        vertical-align: middle;\n",
       "    }\n",
       "\n",
       "    .dataframe tbody tr th {\n",
       "        vertical-align: top;\n",
       "    }\n",
       "\n",
       "    .dataframe thead th {\n",
       "        text-align: right;\n",
       "    }\n",
       "</style>\n",
       "<table border=\"1\" class=\"dataframe\">\n",
       "  <thead>\n",
       "    <tr style=\"text-align: right;\">\n",
       "      <th></th>\n",
       "      <th>제품1</th>\n",
       "      <th>제품2</th>\n",
       "    </tr>\n",
       "    <tr>\n",
       "      <th>연도</th>\n",
       "      <th></th>\n",
       "      <th></th>\n",
       "    </tr>\n",
       "  </thead>\n",
       "  <tbody>\n",
       "    <tr>\n",
       "      <th>2015</th>\n",
       "      <td>250.0</td>\n",
       "      <td>150</td>\n",
       "    </tr>\n",
       "    <tr>\n",
       "      <th>2016</th>\n",
       "      <td>200.0</td>\n",
       "      <td>160</td>\n",
       "    </tr>\n",
       "    <tr>\n",
       "      <th>2017</th>\n",
       "      <td>150.0</td>\n",
       "      <td>200</td>\n",
       "    </tr>\n",
       "    <tr>\n",
       "      <th>2018</th>\n",
       "      <td>120.0</td>\n",
       "      <td>230</td>\n",
       "    </tr>\n",
       "    <tr>\n",
       "      <th>2019</th>\n",
       "      <td>NaN</td>\n",
       "      <td>250</td>\n",
       "    </tr>\n",
       "  </tbody>\n",
       "</table>\n",
       "</div>"
      ],
      "text/plain": [
       "        제품1  제품2\n",
       "연도              \n",
       "2015  250.0  150\n",
       "2016  200.0  160\n",
       "2017  150.0  200\n",
       "2018  120.0  230\n",
       "2019    NaN  250"
      ]
     },
     "execution_count": 10,
     "metadata": {},
     "output_type": "execute_result"
    }
   ],
   "source": [
    "df.drop(columns=['제품3', '제품4'])"
   ]
  },
  {
   "cell_type": "markdown",
   "metadata": {},
   "source": [
    "**[16장: 538페이지]** "
   ]
  },
  {
   "cell_type": "code",
   "execution_count": 11,
   "metadata": {},
   "outputs": [
    {
     "data": {
      "text/html": [
       "<div>\n",
       "<style scoped>\n",
       "    .dataframe tbody tr th:only-of-type {\n",
       "        vertical-align: middle;\n",
       "    }\n",
       "\n",
       "    .dataframe tbody tr th {\n",
       "        vertical-align: top;\n",
       "    }\n",
       "\n",
       "    .dataframe thead th {\n",
       "        text-align: right;\n",
       "    }\n",
       "</style>\n",
       "<table border=\"1\" class=\"dataframe\">\n",
       "  <thead>\n",
       "    <tr style=\"text-align: right;\">\n",
       "      <th></th>\n",
       "      <th>제품1</th>\n",
       "      <th>제품2</th>\n",
       "    </tr>\n",
       "    <tr>\n",
       "      <th>연도</th>\n",
       "      <th></th>\n",
       "      <th></th>\n",
       "    </tr>\n",
       "  </thead>\n",
       "  <tbody>\n",
       "    <tr>\n",
       "      <th>2015</th>\n",
       "      <td>250.0</td>\n",
       "      <td>150</td>\n",
       "    </tr>\n",
       "    <tr>\n",
       "      <th>2016</th>\n",
       "      <td>200.0</td>\n",
       "      <td>160</td>\n",
       "    </tr>\n",
       "    <tr>\n",
       "      <th>2017</th>\n",
       "      <td>150.0</td>\n",
       "      <td>200</td>\n",
       "    </tr>\n",
       "  </tbody>\n",
       "</table>\n",
       "</div>"
      ],
      "text/plain": [
       "        제품1  제품2\n",
       "연도              \n",
       "2015  250.0  150\n",
       "2016  200.0  160\n",
       "2017  150.0  200"
      ]
     },
     "execution_count": 11,
     "metadata": {},
     "output_type": "execute_result"
    }
   ],
   "source": [
    "df.drop(index=[2018, 2019], columns=['제품3', '제품4'])"
   ]
  },
  {
   "cell_type": "markdown",
   "metadata": {},
   "source": [
    "**[16장: 538페이지]** "
   ]
  },
  {
   "cell_type": "code",
   "execution_count": 102,
   "metadata": {},
   "outputs": [
    {
     "data": {
      "text/html": [
       "<div>\n",
       "<style scoped>\n",
       "    .dataframe tbody tr th:only-of-type {\n",
       "        vertical-align: middle;\n",
       "    }\n",
       "\n",
       "    .dataframe tbody tr th {\n",
       "        vertical-align: top;\n",
       "    }\n",
       "\n",
       "    .dataframe thead th {\n",
       "        text-align: right;\n",
       "    }\n",
       "</style>\n",
       "<table border=\"1\" class=\"dataframe\">\n",
       "  <thead>\n",
       "    <tr style=\"text-align: right;\">\n",
       "      <th></th>\n",
       "      <th>제품1</th>\n",
       "      <th>제품2</th>\n",
       "      <th>제품3</th>\n",
       "      <th>제품4</th>\n",
       "    </tr>\n",
       "    <tr>\n",
       "      <th>연도</th>\n",
       "      <th></th>\n",
       "      <th></th>\n",
       "      <th></th>\n",
       "      <th></th>\n",
       "    </tr>\n",
       "  </thead>\n",
       "  <tbody>\n",
       "    <tr>\n",
       "      <th>2017</th>\n",
       "      <td>150.0</td>\n",
       "      <td>200</td>\n",
       "      <td>100.0</td>\n",
       "      <td>150.0</td>\n",
       "    </tr>\n",
       "    <tr>\n",
       "      <th>2018</th>\n",
       "      <td>120.0</td>\n",
       "      <td>230</td>\n",
       "      <td>130.0</td>\n",
       "      <td>170.0</td>\n",
       "    </tr>\n",
       "  </tbody>\n",
       "</table>\n",
       "</div>"
      ],
      "text/plain": [
       "        제품1  제품2    제품3    제품4\n",
       "연도                            \n",
       "2017  150.0  200  100.0  150.0\n",
       "2018  120.0  230  130.0  170.0"
      ]
     },
     "execution_count": 102,
     "metadata": {},
     "output_type": "execute_result"
    }
   ],
   "source": [
    "df.dropna() #df.dropna(axis=0)도 결과는 같습니다."
   ]
  },
  {
   "cell_type": "markdown",
   "metadata": {},
   "source": [
    "**[16장: 539페이지]** "
   ]
  },
  {
   "cell_type": "code",
   "execution_count": 103,
   "metadata": {},
   "outputs": [
    {
     "data": {
      "text/html": [
       "<div>\n",
       "<style scoped>\n",
       "    .dataframe tbody tr th:only-of-type {\n",
       "        vertical-align: middle;\n",
       "    }\n",
       "\n",
       "    .dataframe tbody tr th {\n",
       "        vertical-align: top;\n",
       "    }\n",
       "\n",
       "    .dataframe thead th {\n",
       "        text-align: right;\n",
       "    }\n",
       "</style>\n",
       "<table border=\"1\" class=\"dataframe\">\n",
       "  <thead>\n",
       "    <tr style=\"text-align: right;\">\n",
       "      <th></th>\n",
       "      <th>제품1</th>\n",
       "      <th>제품2</th>\n",
       "      <th>제품3</th>\n",
       "      <th>제품4</th>\n",
       "    </tr>\n",
       "    <tr>\n",
       "      <th>연도</th>\n",
       "      <th></th>\n",
       "      <th></th>\n",
       "      <th></th>\n",
       "      <th></th>\n",
       "    </tr>\n",
       "  </thead>\n",
       "  <tbody>\n",
       "    <tr>\n",
       "      <th>2015</th>\n",
       "      <td>250.0</td>\n",
       "      <td>150</td>\n",
       "      <td>NaN</td>\n",
       "      <td>NaN</td>\n",
       "    </tr>\n",
       "    <tr>\n",
       "      <th>2016</th>\n",
       "      <td>200.0</td>\n",
       "      <td>160</td>\n",
       "      <td>170.0</td>\n",
       "      <td>NaN</td>\n",
       "    </tr>\n",
       "    <tr>\n",
       "      <th>2017</th>\n",
       "      <td>150.0</td>\n",
       "      <td>200</td>\n",
       "      <td>100.0</td>\n",
       "      <td>150.0</td>\n",
       "    </tr>\n",
       "    <tr>\n",
       "      <th>2018</th>\n",
       "      <td>120.0</td>\n",
       "      <td>230</td>\n",
       "      <td>130.0</td>\n",
       "      <td>170.0</td>\n",
       "    </tr>\n",
       "  </tbody>\n",
       "</table>\n",
       "</div>"
      ],
      "text/plain": [
       "        제품1  제품2    제품3    제품4\n",
       "연도                            \n",
       "2015  250.0  150    NaN    NaN\n",
       "2016  200.0  160  170.0    NaN\n",
       "2017  150.0  200  100.0  150.0\n",
       "2018  120.0  230  130.0  170.0"
      ]
     },
     "execution_count": 103,
     "metadata": {},
     "output_type": "execute_result"
    }
   ],
   "source": [
    "df.dropna(axis=0, subset=['제품1'])"
   ]
  },
  {
   "cell_type": "markdown",
   "metadata": {},
   "source": [
    "**[16장: 539페이지]** "
   ]
  },
  {
   "cell_type": "code",
   "execution_count": 14,
   "metadata": {},
   "outputs": [
    {
     "data": {
      "text/html": [
       "<div>\n",
       "<style scoped>\n",
       "    .dataframe tbody tr th:only-of-type {\n",
       "        vertical-align: middle;\n",
       "    }\n",
       "\n",
       "    .dataframe tbody tr th {\n",
       "        vertical-align: top;\n",
       "    }\n",
       "\n",
       "    .dataframe thead th {\n",
       "        text-align: right;\n",
       "    }\n",
       "</style>\n",
       "<table border=\"1\" class=\"dataframe\">\n",
       "  <thead>\n",
       "    <tr style=\"text-align: right;\">\n",
       "      <th></th>\n",
       "      <th>제품2</th>\n",
       "    </tr>\n",
       "    <tr>\n",
       "      <th>연도</th>\n",
       "      <th></th>\n",
       "    </tr>\n",
       "  </thead>\n",
       "  <tbody>\n",
       "    <tr>\n",
       "      <th>2015</th>\n",
       "      <td>150</td>\n",
       "    </tr>\n",
       "    <tr>\n",
       "      <th>2016</th>\n",
       "      <td>160</td>\n",
       "    </tr>\n",
       "    <tr>\n",
       "      <th>2017</th>\n",
       "      <td>200</td>\n",
       "    </tr>\n",
       "    <tr>\n",
       "      <th>2018</th>\n",
       "      <td>230</td>\n",
       "    </tr>\n",
       "    <tr>\n",
       "      <th>2019</th>\n",
       "      <td>250</td>\n",
       "    </tr>\n",
       "  </tbody>\n",
       "</table>\n",
       "</div>"
      ],
      "text/plain": [
       "      제품2\n",
       "연도       \n",
       "2015  150\n",
       "2016  160\n",
       "2017  200\n",
       "2018  230\n",
       "2019  250"
      ]
     },
     "execution_count": 14,
     "metadata": {},
     "output_type": "execute_result"
    }
   ],
   "source": [
    "df.dropna(axis=1)"
   ]
  },
  {
   "cell_type": "markdown",
   "metadata": {},
   "source": [
    "**[16장: 539페이지]** "
   ]
  },
  {
   "cell_type": "code",
   "execution_count": 15,
   "metadata": {},
   "outputs": [
    {
     "data": {
      "text/html": [
       "<div>\n",
       "<style scoped>\n",
       "    .dataframe tbody tr th:only-of-type {\n",
       "        vertical-align: middle;\n",
       "    }\n",
       "\n",
       "    .dataframe tbody tr th {\n",
       "        vertical-align: top;\n",
       "    }\n",
       "\n",
       "    .dataframe thead th {\n",
       "        text-align: right;\n",
       "    }\n",
       "</style>\n",
       "<table border=\"1\" class=\"dataframe\">\n",
       "  <thead>\n",
       "    <tr style=\"text-align: right;\">\n",
       "      <th></th>\n",
       "      <th>제품1</th>\n",
       "      <th>제품2</th>\n",
       "    </tr>\n",
       "    <tr>\n",
       "      <th>연도</th>\n",
       "      <th></th>\n",
       "      <th></th>\n",
       "    </tr>\n",
       "  </thead>\n",
       "  <tbody>\n",
       "    <tr>\n",
       "      <th>2015</th>\n",
       "      <td>250.0</td>\n",
       "      <td>150</td>\n",
       "    </tr>\n",
       "    <tr>\n",
       "      <th>2016</th>\n",
       "      <td>200.0</td>\n",
       "      <td>160</td>\n",
       "    </tr>\n",
       "    <tr>\n",
       "      <th>2017</th>\n",
       "      <td>150.0</td>\n",
       "      <td>200</td>\n",
       "    </tr>\n",
       "    <tr>\n",
       "      <th>2018</th>\n",
       "      <td>120.0</td>\n",
       "      <td>230</td>\n",
       "    </tr>\n",
       "    <tr>\n",
       "      <th>2019</th>\n",
       "      <td>NaN</td>\n",
       "      <td>250</td>\n",
       "    </tr>\n",
       "  </tbody>\n",
       "</table>\n",
       "</div>"
      ],
      "text/plain": [
       "        제품1  제품2\n",
       "연도              \n",
       "2015  250.0  150\n",
       "2016  200.0  160\n",
       "2017  150.0  200\n",
       "2018  120.0  230\n",
       "2019    NaN  250"
      ]
     },
     "execution_count": 15,
     "metadata": {},
     "output_type": "execute_result"
    }
   ],
   "source": [
    "df.dropna(axis=1, subset=[2015])"
   ]
  },
  {
   "cell_type": "markdown",
   "metadata": {},
   "source": [
    "**[16장: 540페이지]** "
   ]
  },
  {
   "cell_type": "code",
   "execution_count": 16,
   "metadata": {},
   "outputs": [
    {
     "data": {
      "text/html": [
       "<div>\n",
       "<style scoped>\n",
       "    .dataframe tbody tr th:only-of-type {\n",
       "        vertical-align: middle;\n",
       "    }\n",
       "\n",
       "    .dataframe tbody tr th {\n",
       "        vertical-align: top;\n",
       "    }\n",
       "\n",
       "    .dataframe thead th {\n",
       "        text-align: right;\n",
       "    }\n",
       "</style>\n",
       "<table border=\"1\" class=\"dataframe\">\n",
       "  <thead>\n",
       "    <tr style=\"text-align: right;\">\n",
       "      <th></th>\n",
       "      <th>제품2</th>\n",
       "      <th>제품3</th>\n",
       "    </tr>\n",
       "    <tr>\n",
       "      <th>연도</th>\n",
       "      <th></th>\n",
       "      <th></th>\n",
       "    </tr>\n",
       "  </thead>\n",
       "  <tbody>\n",
       "    <tr>\n",
       "      <th>2015</th>\n",
       "      <td>150</td>\n",
       "      <td>NaN</td>\n",
       "    </tr>\n",
       "    <tr>\n",
       "      <th>2016</th>\n",
       "      <td>160</td>\n",
       "      <td>170.0</td>\n",
       "    </tr>\n",
       "    <tr>\n",
       "      <th>2017</th>\n",
       "      <td>200</td>\n",
       "      <td>100.0</td>\n",
       "    </tr>\n",
       "    <tr>\n",
       "      <th>2018</th>\n",
       "      <td>230</td>\n",
       "      <td>130.0</td>\n",
       "    </tr>\n",
       "    <tr>\n",
       "      <th>2019</th>\n",
       "      <td>250</td>\n",
       "      <td>140.0</td>\n",
       "    </tr>\n",
       "  </tbody>\n",
       "</table>\n",
       "</div>"
      ],
      "text/plain": [
       "      제품2    제품3\n",
       "연도              \n",
       "2015  150    NaN\n",
       "2016  160  170.0\n",
       "2017  200  100.0\n",
       "2018  230  130.0\n",
       "2019  250  140.0"
      ]
     },
     "execution_count": 16,
     "metadata": {},
     "output_type": "execute_result"
    }
   ],
   "source": [
    "df.dropna(axis=1, subset=[2016, 2019])"
   ]
  },
  {
   "cell_type": "markdown",
   "metadata": {},
   "source": [
    "**[16장: 541페이지]**"
   ]
  },
  {
   "cell_type": "code",
   "execution_count": 17,
   "metadata": {},
   "outputs": [
    {
     "data": {
      "text/html": [
       "<div>\n",
       "<style scoped>\n",
       "    .dataframe tbody tr th:only-of-type {\n",
       "        vertical-align: middle;\n",
       "    }\n",
       "\n",
       "    .dataframe tbody tr th {\n",
       "        vertical-align: top;\n",
       "    }\n",
       "\n",
       "    .dataframe thead th {\n",
       "        text-align: right;\n",
       "    }\n",
       "</style>\n",
       "<table border=\"1\" class=\"dataframe\">\n",
       "  <thead>\n",
       "    <tr style=\"text-align: right;\">\n",
       "      <th></th>\n",
       "      <th>제품1</th>\n",
       "      <th>제품2</th>\n",
       "      <th>제품3</th>\n",
       "      <th>제품4</th>\n",
       "    </tr>\n",
       "    <tr>\n",
       "      <th>연도</th>\n",
       "      <th></th>\n",
       "      <th></th>\n",
       "      <th></th>\n",
       "      <th></th>\n",
       "    </tr>\n",
       "  </thead>\n",
       "  <tbody>\n",
       "    <tr>\n",
       "      <th>2015</th>\n",
       "      <td>250.0</td>\n",
       "      <td>150</td>\n",
       "      <td>0.0</td>\n",
       "      <td>0.0</td>\n",
       "    </tr>\n",
       "    <tr>\n",
       "      <th>2016</th>\n",
       "      <td>200.0</td>\n",
       "      <td>160</td>\n",
       "      <td>170.0</td>\n",
       "      <td>0.0</td>\n",
       "    </tr>\n",
       "    <tr>\n",
       "      <th>2017</th>\n",
       "      <td>150.0</td>\n",
       "      <td>200</td>\n",
       "      <td>100.0</td>\n",
       "      <td>150.0</td>\n",
       "    </tr>\n",
       "    <tr>\n",
       "      <th>2018</th>\n",
       "      <td>120.0</td>\n",
       "      <td>230</td>\n",
       "      <td>130.0</td>\n",
       "      <td>170.0</td>\n",
       "    </tr>\n",
       "    <tr>\n",
       "      <th>2019</th>\n",
       "      <td>0.0</td>\n",
       "      <td>250</td>\n",
       "      <td>140.0</td>\n",
       "      <td>0.0</td>\n",
       "    </tr>\n",
       "  </tbody>\n",
       "</table>\n",
       "</div>"
      ],
      "text/plain": [
       "        제품1  제품2    제품3    제품4\n",
       "연도                            \n",
       "2015  250.0  150    0.0    0.0\n",
       "2016  200.0  160  170.0    0.0\n",
       "2017  150.0  200  100.0  150.0\n",
       "2018  120.0  230  130.0  170.0\n",
       "2019    0.0  250  140.0    0.0"
      ]
     },
     "execution_count": 17,
     "metadata": {},
     "output_type": "execute_result"
    }
   ],
   "source": [
    "df.fillna(0)"
   ]
  },
  {
   "cell_type": "markdown",
   "metadata": {},
   "source": [
    "**[16장: 541페이지]**"
   ]
  },
  {
   "cell_type": "code",
   "execution_count": 105,
   "metadata": {},
   "outputs": [
    {
     "data": {
      "text/html": [
       "<div>\n",
       "<style scoped>\n",
       "    .dataframe tbody tr th:only-of-type {\n",
       "        vertical-align: middle;\n",
       "    }\n",
       "\n",
       "    .dataframe tbody tr th {\n",
       "        vertical-align: top;\n",
       "    }\n",
       "\n",
       "    .dataframe thead th {\n",
       "        text-align: right;\n",
       "    }\n",
       "</style>\n",
       "<table border=\"1\" class=\"dataframe\">\n",
       "  <thead>\n",
       "    <tr style=\"text-align: right;\">\n",
       "      <th></th>\n",
       "      <th>제품1</th>\n",
       "      <th>제품2</th>\n",
       "      <th>제품3</th>\n",
       "      <th>제품4</th>\n",
       "    </tr>\n",
       "    <tr>\n",
       "      <th>연도</th>\n",
       "      <th></th>\n",
       "      <th></th>\n",
       "      <th></th>\n",
       "      <th></th>\n",
       "    </tr>\n",
       "  </thead>\n",
       "  <tbody>\n",
       "    <tr>\n",
       "      <th>2015</th>\n",
       "      <td>250.0</td>\n",
       "      <td>150</td>\n",
       "      <td>NaN</td>\n",
       "      <td>NaN</td>\n",
       "    </tr>\n",
       "    <tr>\n",
       "      <th>2016</th>\n",
       "      <td>200.0</td>\n",
       "      <td>160</td>\n",
       "      <td>170.0</td>\n",
       "      <td>NaN</td>\n",
       "    </tr>\n",
       "    <tr>\n",
       "      <th>2017</th>\n",
       "      <td>150.0</td>\n",
       "      <td>200</td>\n",
       "      <td>100.0</td>\n",
       "      <td>150.0</td>\n",
       "    </tr>\n",
       "    <tr>\n",
       "      <th>2018</th>\n",
       "      <td>120.0</td>\n",
       "      <td>230</td>\n",
       "      <td>130.0</td>\n",
       "      <td>170.0</td>\n",
       "    </tr>\n",
       "    <tr>\n",
       "      <th>2019</th>\n",
       "      <td>NaN</td>\n",
       "      <td>250</td>\n",
       "      <td>140.0</td>\n",
       "      <td>NaN</td>\n",
       "    </tr>\n",
       "  </tbody>\n",
       "</table>\n",
       "</div>"
      ],
      "text/plain": [
       "        제품1  제품2    제품3    제품4\n",
       "연도                            \n",
       "2015  250.0  150    NaN    NaN\n",
       "2016  200.0  160  170.0    NaN\n",
       "2017  150.0  200  100.0  150.0\n",
       "2018  120.0  230  130.0  170.0\n",
       "2019    NaN  250  140.0    NaN"
      ]
     },
     "execution_count": 105,
     "metadata": {},
     "output_type": "execute_result"
    }
   ],
   "source": [
    "df"
   ]
  },
  {
   "cell_type": "code",
   "execution_count": 104,
   "metadata": {
    "scrolled": true
   },
   "outputs": [
    {
     "data": {
      "text/html": [
       "<div>\n",
       "<style scoped>\n",
       "    .dataframe tbody tr th:only-of-type {\n",
       "        vertical-align: middle;\n",
       "    }\n",
       "\n",
       "    .dataframe tbody tr th {\n",
       "        vertical-align: top;\n",
       "    }\n",
       "\n",
       "    .dataframe thead th {\n",
       "        text-align: right;\n",
       "    }\n",
       "</style>\n",
       "<table border=\"1\" class=\"dataframe\">\n",
       "  <thead>\n",
       "    <tr style=\"text-align: right;\">\n",
       "      <th></th>\n",
       "      <th>제품1</th>\n",
       "      <th>제품2</th>\n",
       "      <th>제품3</th>\n",
       "      <th>제품4</th>\n",
       "    </tr>\n",
       "    <tr>\n",
       "      <th>연도</th>\n",
       "      <th></th>\n",
       "      <th></th>\n",
       "      <th></th>\n",
       "      <th></th>\n",
       "    </tr>\n",
       "  </thead>\n",
       "  <tbody>\n",
       "    <tr>\n",
       "      <th>2015</th>\n",
       "      <td>250.0</td>\n",
       "      <td>150</td>\n",
       "      <td>170.0</td>\n",
       "      <td>150.0</td>\n",
       "    </tr>\n",
       "    <tr>\n",
       "      <th>2016</th>\n",
       "      <td>200.0</td>\n",
       "      <td>160</td>\n",
       "      <td>170.0</td>\n",
       "      <td>150.0</td>\n",
       "    </tr>\n",
       "    <tr>\n",
       "      <th>2017</th>\n",
       "      <td>150.0</td>\n",
       "      <td>200</td>\n",
       "      <td>100.0</td>\n",
       "      <td>150.0</td>\n",
       "    </tr>\n",
       "    <tr>\n",
       "      <th>2018</th>\n",
       "      <td>120.0</td>\n",
       "      <td>230</td>\n",
       "      <td>130.0</td>\n",
       "      <td>170.0</td>\n",
       "    </tr>\n",
       "    <tr>\n",
       "      <th>2019</th>\n",
       "      <td>NaN</td>\n",
       "      <td>250</td>\n",
       "      <td>140.0</td>\n",
       "      <td>NaN</td>\n",
       "    </tr>\n",
       "  </tbody>\n",
       "</table>\n",
       "</div>"
      ],
      "text/plain": [
       "        제품1  제품2    제품3    제품4\n",
       "연도                            \n",
       "2015  250.0  150  170.0  150.0\n",
       "2016  200.0  160  170.0  150.0\n",
       "2017  150.0  200  100.0  150.0\n",
       "2018  120.0  230  130.0  170.0\n",
       "2019    NaN  250  140.0    NaN"
      ]
     },
     "execution_count": 104,
     "metadata": {},
     "output_type": "execute_result"
    }
   ],
   "source": [
    "df.fillna(method='bfill')"
   ]
  },
  {
   "cell_type": "markdown",
   "metadata": {},
   "source": [
    "**[16장: 541페이지]**"
   ]
  },
  {
   "cell_type": "code",
   "execution_count": 106,
   "metadata": {},
   "outputs": [
    {
     "data": {
      "text/html": [
       "<div>\n",
       "<style scoped>\n",
       "    .dataframe tbody tr th:only-of-type {\n",
       "        vertical-align: middle;\n",
       "    }\n",
       "\n",
       "    .dataframe tbody tr th {\n",
       "        vertical-align: top;\n",
       "    }\n",
       "\n",
       "    .dataframe thead th {\n",
       "        text-align: right;\n",
       "    }\n",
       "</style>\n",
       "<table border=\"1\" class=\"dataframe\">\n",
       "  <thead>\n",
       "    <tr style=\"text-align: right;\">\n",
       "      <th></th>\n",
       "      <th>제품1</th>\n",
       "      <th>제품2</th>\n",
       "      <th>제품3</th>\n",
       "      <th>제품4</th>\n",
       "    </tr>\n",
       "    <tr>\n",
       "      <th>연도</th>\n",
       "      <th></th>\n",
       "      <th></th>\n",
       "      <th></th>\n",
       "      <th></th>\n",
       "    </tr>\n",
       "  </thead>\n",
       "  <tbody>\n",
       "    <tr>\n",
       "      <th>2015</th>\n",
       "      <td>250.0</td>\n",
       "      <td>150</td>\n",
       "      <td>NaN</td>\n",
       "      <td>NaN</td>\n",
       "    </tr>\n",
       "    <tr>\n",
       "      <th>2016</th>\n",
       "      <td>200.0</td>\n",
       "      <td>160</td>\n",
       "      <td>170.0</td>\n",
       "      <td>NaN</td>\n",
       "    </tr>\n",
       "    <tr>\n",
       "      <th>2017</th>\n",
       "      <td>150.0</td>\n",
       "      <td>200</td>\n",
       "      <td>100.0</td>\n",
       "      <td>150.0</td>\n",
       "    </tr>\n",
       "    <tr>\n",
       "      <th>2018</th>\n",
       "      <td>120.0</td>\n",
       "      <td>230</td>\n",
       "      <td>130.0</td>\n",
       "      <td>170.0</td>\n",
       "    </tr>\n",
       "    <tr>\n",
       "      <th>2019</th>\n",
       "      <td>120.0</td>\n",
       "      <td>250</td>\n",
       "      <td>140.0</td>\n",
       "      <td>170.0</td>\n",
       "    </tr>\n",
       "  </tbody>\n",
       "</table>\n",
       "</div>"
      ],
      "text/plain": [
       "        제품1  제품2    제품3    제품4\n",
       "연도                            \n",
       "2015  250.0  150    NaN    NaN\n",
       "2016  200.0  160  170.0    NaN\n",
       "2017  150.0  200  100.0  150.0\n",
       "2018  120.0  230  130.0  170.0\n",
       "2019  120.0  250  140.0  170.0"
      ]
     },
     "execution_count": 106,
     "metadata": {},
     "output_type": "execute_result"
    }
   ],
   "source": [
    "df.fillna(method='ffill')"
   ]
  },
  {
   "cell_type": "markdown",
   "metadata": {},
   "source": [
    "**[16장: 542페이지]**"
   ]
  },
  {
   "cell_type": "code",
   "execution_count": 107,
   "metadata": {},
   "outputs": [
    {
     "data": {
      "text/html": [
       "<div>\n",
       "<style scoped>\n",
       "    .dataframe tbody tr th:only-of-type {\n",
       "        vertical-align: middle;\n",
       "    }\n",
       "\n",
       "    .dataframe tbody tr th {\n",
       "        vertical-align: top;\n",
       "    }\n",
       "\n",
       "    .dataframe thead th {\n",
       "        text-align: right;\n",
       "    }\n",
       "</style>\n",
       "<table border=\"1\" class=\"dataframe\">\n",
       "  <thead>\n",
       "    <tr style=\"text-align: right;\">\n",
       "      <th></th>\n",
       "      <th>제품1</th>\n",
       "      <th>제품2</th>\n",
       "      <th>제품3</th>\n",
       "      <th>제품4</th>\n",
       "    </tr>\n",
       "    <tr>\n",
       "      <th>연도</th>\n",
       "      <th></th>\n",
       "      <th></th>\n",
       "      <th></th>\n",
       "      <th></th>\n",
       "    </tr>\n",
       "  </thead>\n",
       "  <tbody>\n",
       "    <tr>\n",
       "      <th>2015</th>\n",
       "      <td>250.0</td>\n",
       "      <td>150</td>\n",
       "      <td>NaN</td>\n",
       "      <td>400.0</td>\n",
       "    </tr>\n",
       "    <tr>\n",
       "      <th>2016</th>\n",
       "      <td>200.0</td>\n",
       "      <td>160</td>\n",
       "      <td>170.0</td>\n",
       "      <td>400.0</td>\n",
       "    </tr>\n",
       "    <tr>\n",
       "      <th>2017</th>\n",
       "      <td>150.0</td>\n",
       "      <td>200</td>\n",
       "      <td>100.0</td>\n",
       "      <td>150.0</td>\n",
       "    </tr>\n",
       "    <tr>\n",
       "      <th>2018</th>\n",
       "      <td>120.0</td>\n",
       "      <td>230</td>\n",
       "      <td>130.0</td>\n",
       "      <td>170.0</td>\n",
       "    </tr>\n",
       "    <tr>\n",
       "      <th>2019</th>\n",
       "      <td>100.0</td>\n",
       "      <td>250</td>\n",
       "      <td>140.0</td>\n",
       "      <td>400.0</td>\n",
       "    </tr>\n",
       "  </tbody>\n",
       "</table>\n",
       "</div>"
      ],
      "text/plain": [
       "        제품1  제품2    제품3    제품4\n",
       "연도                            \n",
       "2015  250.0  150    NaN  400.0\n",
       "2016  200.0  160  170.0  400.0\n",
       "2017  150.0  200  100.0  150.0\n",
       "2018  120.0  230  130.0  170.0\n",
       "2019  100.0  250  140.0  400.0"
      ]
     },
     "execution_count": 107,
     "metadata": {},
     "output_type": "execute_result"
    }
   ],
   "source": [
    "values = {'제품1': 100,  '제품4': 400}\n",
    "df.fillna(value=values)"
   ]
  },
  {
   "cell_type": "markdown",
   "metadata": {},
   "source": [
    "### 데이터의 요약 및 재구성"
   ]
  },
  {
   "cell_type": "markdown",
   "metadata": {},
   "source": [
    "#### 데이터의 구조 살펴보기"
   ]
  },
  {
   "cell_type": "markdown",
   "metadata": {},
   "source": [
    "**[16장: 543페이지]**"
   ]
  },
  {
   "cell_type": "code",
   "execution_count": 108,
   "metadata": {},
   "outputs": [
    {
     "data": {
      "text/html": [
       "<div>\n",
       "<style scoped>\n",
       "    .dataframe tbody tr th:only-of-type {\n",
       "        vertical-align: middle;\n",
       "    }\n",
       "\n",
       "    .dataframe tbody tr th {\n",
       "        vertical-align: top;\n",
       "    }\n",
       "\n",
       "    .dataframe thead th {\n",
       "        text-align: right;\n",
       "    }\n",
       "</style>\n",
       "<table border=\"1\" class=\"dataframe\">\n",
       "  <thead>\n",
       "    <tr style=\"text-align: right;\">\n",
       "      <th></th>\n",
       "      <th>매장명</th>\n",
       "      <th>제품종류</th>\n",
       "      <th>모델명</th>\n",
       "      <th>판매</th>\n",
       "      <th>재고</th>\n",
       "    </tr>\n",
       "  </thead>\n",
       "  <tbody>\n",
       "    <tr>\n",
       "      <th>0</th>\n",
       "      <td>A</td>\n",
       "      <td>스마트폰</td>\n",
       "      <td>S1</td>\n",
       "      <td>1</td>\n",
       "      <td>2</td>\n",
       "    </tr>\n",
       "    <tr>\n",
       "      <th>1</th>\n",
       "      <td>A</td>\n",
       "      <td>스마트폰</td>\n",
       "      <td>S2</td>\n",
       "      <td>2</td>\n",
       "      <td>5</td>\n",
       "    </tr>\n",
       "    <tr>\n",
       "      <th>2</th>\n",
       "      <td>A</td>\n",
       "      <td>TV</td>\n",
       "      <td>V1</td>\n",
       "      <td>3</td>\n",
       "      <td>5</td>\n",
       "    </tr>\n",
       "    <tr>\n",
       "      <th>3</th>\n",
       "      <td>B</td>\n",
       "      <td>스마트폰</td>\n",
       "      <td>S2</td>\n",
       "      <td>4</td>\n",
       "      <td>6</td>\n",
       "    </tr>\n",
       "    <tr>\n",
       "      <th>4</th>\n",
       "      <td>B</td>\n",
       "      <td>스마트폰</td>\n",
       "      <td>S1</td>\n",
       "      <td>5</td>\n",
       "      <td>8</td>\n",
       "    </tr>\n",
       "    <tr>\n",
       "      <th>5</th>\n",
       "      <td>B</td>\n",
       "      <td>TV</td>\n",
       "      <td>V1</td>\n",
       "      <td>6</td>\n",
       "      <td>9</td>\n",
       "    </tr>\n",
       "    <tr>\n",
       "      <th>6</th>\n",
       "      <td>C</td>\n",
       "      <td>스마트폰</td>\n",
       "      <td>S2</td>\n",
       "      <td>2</td>\n",
       "      <td>4</td>\n",
       "    </tr>\n",
       "    <tr>\n",
       "      <th>7</th>\n",
       "      <td>C</td>\n",
       "      <td>TV</td>\n",
       "      <td>V1</td>\n",
       "      <td>3</td>\n",
       "      <td>6</td>\n",
       "    </tr>\n",
       "    <tr>\n",
       "      <th>8</th>\n",
       "      <td>C</td>\n",
       "      <td>TV</td>\n",
       "      <td>V2</td>\n",
       "      <td>7</td>\n",
       "      <td>9</td>\n",
       "    </tr>\n",
       "  </tbody>\n",
       "</table>\n",
       "</div>"
      ],
      "text/plain": [
       "  매장명  제품종류 모델명  판매  재고\n",
       "0   A  스마트폰  S1   1   2\n",
       "1   A  스마트폰  S2   2   5\n",
       "2   A    TV  V1   3   5\n",
       "3   B  스마트폰  S2   4   6\n",
       "4   B  스마트폰  S1   5   8\n",
       "5   B    TV  V1   6   9\n",
       "6   C  스마트폰  S2   2   4\n",
       "7   C    TV  V1   3   6\n",
       "8   C    TV  V2   7   9"
      ]
     },
     "execution_count": 108,
     "metadata": {},
     "output_type": "execute_result"
    }
   ],
   "source": [
    "import pandas as pd\n",
    "\n",
    "data_file = \"data/total_sales_data.csv\"\n",
    "\n",
    "df_sales = pd.read_csv(data_file)\n",
    "df_sales"
   ]
  },
  {
   "cell_type": "markdown",
   "metadata": {},
   "source": [
    "**[16장: 543페이지]**"
   ]
  },
  {
   "cell_type": "code",
   "execution_count": 109,
   "metadata": {},
   "outputs": [
    {
     "name": "stdout",
     "output_type": "stream",
     "text": [
      "<class 'pandas.core.frame.DataFrame'>\n",
      "RangeIndex: 9 entries, 0 to 8\n",
      "Data columns (total 5 columns):\n",
      " #   Column  Non-Null Count  Dtype \n",
      "---  ------  --------------  ----- \n",
      " 0   매장명     9 non-null      object\n",
      " 1   제품종류    9 non-null      object\n",
      " 2   모델명     9 non-null      object\n",
      " 3   판매      9 non-null      int64 \n",
      " 4   재고      9 non-null      int64 \n",
      "dtypes: int64(2), object(3)\n",
      "memory usage: 488.0+ bytes\n"
     ]
    }
   ],
   "source": [
    "df_sales.info()"
   ]
  },
  {
   "cell_type": "markdown",
   "metadata": {},
   "source": [
    "**[16장: 544페이지]**"
   ]
  },
  {
   "cell_type": "code",
   "execution_count": 23,
   "metadata": {},
   "outputs": [
    {
     "data": {
      "text/plain": [
       "C    3\n",
       "A    3\n",
       "B    3\n",
       "Name: 매장명, dtype: int64"
      ]
     },
     "execution_count": 23,
     "metadata": {},
     "output_type": "execute_result"
    }
   ],
   "source": [
    "df_sales['매장명'].value_counts()"
   ]
  },
  {
   "cell_type": "markdown",
   "metadata": {},
   "source": [
    "**[16장: 545페이지]**"
   ]
  },
  {
   "cell_type": "code",
   "execution_count": 24,
   "metadata": {},
   "outputs": [
    {
     "data": {
      "text/plain": [
       "스마트폰    5\n",
       "TV      4\n",
       "Name: 제품종류, dtype: int64"
      ]
     },
     "execution_count": 24,
     "metadata": {},
     "output_type": "execute_result"
    }
   ],
   "source": [
    "df_sales['제품종류'].value_counts()"
   ]
  },
  {
   "cell_type": "markdown",
   "metadata": {},
   "source": [
    "#### 피벗 테이블로 데이터 재구성하기"
   ]
  },
  {
   "cell_type": "markdown",
   "metadata": {},
   "source": [
    "**[16장: 546페이지]**"
   ]
  },
  {
   "cell_type": "code",
   "execution_count": 25,
   "metadata": {},
   "outputs": [
    {
     "data": {
      "text/html": [
       "<div>\n",
       "<style scoped>\n",
       "    .dataframe tbody tr th:only-of-type {\n",
       "        vertical-align: middle;\n",
       "    }\n",
       "\n",
       "    .dataframe tbody tr th {\n",
       "        vertical-align: top;\n",
       "    }\n",
       "\n",
       "    .dataframe thead th {\n",
       "        text-align: right;\n",
       "    }\n",
       "</style>\n",
       "<table border=\"1\" class=\"dataframe\">\n",
       "  <thead>\n",
       "    <tr style=\"text-align: right;\">\n",
       "      <th></th>\n",
       "      <th>매장명</th>\n",
       "      <th>제품종류</th>\n",
       "      <th>모델명</th>\n",
       "      <th>판매</th>\n",
       "      <th>재고</th>\n",
       "    </tr>\n",
       "  </thead>\n",
       "  <tbody>\n",
       "    <tr>\n",
       "      <th>0</th>\n",
       "      <td>A</td>\n",
       "      <td>스마트폰</td>\n",
       "      <td>S1</td>\n",
       "      <td>1</td>\n",
       "      <td>2</td>\n",
       "    </tr>\n",
       "    <tr>\n",
       "      <th>1</th>\n",
       "      <td>A</td>\n",
       "      <td>스마트폰</td>\n",
       "      <td>S2</td>\n",
       "      <td>2</td>\n",
       "      <td>5</td>\n",
       "    </tr>\n",
       "    <tr>\n",
       "      <th>2</th>\n",
       "      <td>A</td>\n",
       "      <td>TV</td>\n",
       "      <td>V1</td>\n",
       "      <td>3</td>\n",
       "      <td>5</td>\n",
       "    </tr>\n",
       "    <tr>\n",
       "      <th>3</th>\n",
       "      <td>B</td>\n",
       "      <td>스마트폰</td>\n",
       "      <td>S2</td>\n",
       "      <td>4</td>\n",
       "      <td>6</td>\n",
       "    </tr>\n",
       "    <tr>\n",
       "      <th>4</th>\n",
       "      <td>B</td>\n",
       "      <td>스마트폰</td>\n",
       "      <td>S1</td>\n",
       "      <td>5</td>\n",
       "      <td>8</td>\n",
       "    </tr>\n",
       "    <tr>\n",
       "      <th>5</th>\n",
       "      <td>B</td>\n",
       "      <td>TV</td>\n",
       "      <td>V1</td>\n",
       "      <td>6</td>\n",
       "      <td>9</td>\n",
       "    </tr>\n",
       "    <tr>\n",
       "      <th>6</th>\n",
       "      <td>C</td>\n",
       "      <td>스마트폰</td>\n",
       "      <td>S2</td>\n",
       "      <td>2</td>\n",
       "      <td>4</td>\n",
       "    </tr>\n",
       "    <tr>\n",
       "      <th>7</th>\n",
       "      <td>C</td>\n",
       "      <td>TV</td>\n",
       "      <td>V1</td>\n",
       "      <td>3</td>\n",
       "      <td>6</td>\n",
       "    </tr>\n",
       "    <tr>\n",
       "      <th>8</th>\n",
       "      <td>C</td>\n",
       "      <td>TV</td>\n",
       "      <td>V2</td>\n",
       "      <td>7</td>\n",
       "      <td>9</td>\n",
       "    </tr>\n",
       "  </tbody>\n",
       "</table>\n",
       "</div>"
      ],
      "text/plain": [
       "  매장명  제품종류 모델명  판매  재고\n",
       "0   A  스마트폰  S1   1   2\n",
       "1   A  스마트폰  S2   2   5\n",
       "2   A    TV  V1   3   5\n",
       "3   B  스마트폰  S2   4   6\n",
       "4   B  스마트폰  S1   5   8\n",
       "5   B    TV  V1   6   9\n",
       "6   C  스마트폰  S2   2   4\n",
       "7   C    TV  V1   3   6\n",
       "8   C    TV  V2   7   9"
      ]
     },
     "execution_count": 25,
     "metadata": {},
     "output_type": "execute_result"
    }
   ],
   "source": [
    "df_sales"
   ]
  },
  {
   "cell_type": "markdown",
   "metadata": {},
   "source": [
    "**[16장: 546페이지]**"
   ]
  },
  {
   "cell_type": "code",
   "execution_count": 110,
   "metadata": {},
   "outputs": [
    {
     "data": {
      "text/html": [
       "<div>\n",
       "<style scoped>\n",
       "    .dataframe tbody tr th:only-of-type {\n",
       "        vertical-align: middle;\n",
       "    }\n",
       "\n",
       "    .dataframe tbody tr th {\n",
       "        vertical-align: top;\n",
       "    }\n",
       "\n",
       "    .dataframe thead th {\n",
       "        text-align: right;\n",
       "    }\n",
       "</style>\n",
       "<table border=\"1\" class=\"dataframe\">\n",
       "  <thead>\n",
       "    <tr style=\"text-align: right;\">\n",
       "      <th></th>\n",
       "      <th></th>\n",
       "      <th></th>\n",
       "      <th>재고</th>\n",
       "      <th>판매</th>\n",
       "    </tr>\n",
       "    <tr>\n",
       "      <th>매장명</th>\n",
       "      <th>제품종류</th>\n",
       "      <th>모델명</th>\n",
       "      <th></th>\n",
       "      <th></th>\n",
       "    </tr>\n",
       "  </thead>\n",
       "  <tbody>\n",
       "    <tr>\n",
       "      <th rowspan=\"3\" valign=\"top\">A</th>\n",
       "      <th>TV</th>\n",
       "      <th>V1</th>\n",
       "      <td>5</td>\n",
       "      <td>3</td>\n",
       "    </tr>\n",
       "    <tr>\n",
       "      <th rowspan=\"2\" valign=\"top\">스마트폰</th>\n",
       "      <th>S1</th>\n",
       "      <td>2</td>\n",
       "      <td>1</td>\n",
       "    </tr>\n",
       "    <tr>\n",
       "      <th>S2</th>\n",
       "      <td>5</td>\n",
       "      <td>2</td>\n",
       "    </tr>\n",
       "    <tr>\n",
       "      <th rowspan=\"3\" valign=\"top\">B</th>\n",
       "      <th>TV</th>\n",
       "      <th>V1</th>\n",
       "      <td>9</td>\n",
       "      <td>6</td>\n",
       "    </tr>\n",
       "    <tr>\n",
       "      <th rowspan=\"2\" valign=\"top\">스마트폰</th>\n",
       "      <th>S1</th>\n",
       "      <td>8</td>\n",
       "      <td>5</td>\n",
       "    </tr>\n",
       "    <tr>\n",
       "      <th>S2</th>\n",
       "      <td>6</td>\n",
       "      <td>4</td>\n",
       "    </tr>\n",
       "    <tr>\n",
       "      <th rowspan=\"3\" valign=\"top\">C</th>\n",
       "      <th rowspan=\"2\" valign=\"top\">TV</th>\n",
       "      <th>V1</th>\n",
       "      <td>6</td>\n",
       "      <td>3</td>\n",
       "    </tr>\n",
       "    <tr>\n",
       "      <th>V2</th>\n",
       "      <td>9</td>\n",
       "      <td>7</td>\n",
       "    </tr>\n",
       "    <tr>\n",
       "      <th>스마트폰</th>\n",
       "      <th>S2</th>\n",
       "      <td>4</td>\n",
       "      <td>2</td>\n",
       "    </tr>\n",
       "  </tbody>\n",
       "</table>\n",
       "</div>"
      ],
      "text/plain": [
       "              재고  판매\n",
       "매장명 제품종류 모델명        \n",
       "A   TV   V1    5   3\n",
       "    스마트폰 S1    2   1\n",
       "         S2    5   2\n",
       "B   TV   V1    9   6\n",
       "    스마트폰 S1    8   5\n",
       "         S2    6   4\n",
       "C   TV   V1    6   3\n",
       "         V2    9   7\n",
       "    스마트폰 S2    4   2"
      ]
     },
     "execution_count": 110,
     "metadata": {},
     "output_type": "execute_result"
    }
   ],
   "source": [
    "df_sales.pivot_table(index=[\"매장명\", \"제품종류\", \"모델명\"],\n",
    "                     values =[\"판매\",\"재고\"], aggfunc='sum')"
   ]
  },
  {
   "cell_type": "markdown",
   "metadata": {},
   "source": [
    "**[16장: 547페이지]**"
   ]
  },
  {
   "cell_type": "code",
   "execution_count": 111,
   "metadata": {},
   "outputs": [
    {
     "data": {
      "text/html": [
       "<div>\n",
       "<style scoped>\n",
       "    .dataframe tbody tr th:only-of-type {\n",
       "        vertical-align: middle;\n",
       "    }\n",
       "\n",
       "    .dataframe tbody tr th {\n",
       "        vertical-align: top;\n",
       "    }\n",
       "\n",
       "    .dataframe thead tr th {\n",
       "        text-align: left;\n",
       "    }\n",
       "\n",
       "    .dataframe thead tr:last-of-type th {\n",
       "        text-align: right;\n",
       "    }\n",
       "</style>\n",
       "<table border=\"1\" class=\"dataframe\">\n",
       "  <thead>\n",
       "    <tr>\n",
       "      <th></th>\n",
       "      <th colspan=\"2\" halign=\"left\">재고</th>\n",
       "      <th colspan=\"2\" halign=\"left\">판매</th>\n",
       "    </tr>\n",
       "    <tr>\n",
       "      <th>제품종류</th>\n",
       "      <th>TV</th>\n",
       "      <th>스마트폰</th>\n",
       "      <th>TV</th>\n",
       "      <th>스마트폰</th>\n",
       "    </tr>\n",
       "    <tr>\n",
       "      <th>매장명</th>\n",
       "      <th></th>\n",
       "      <th></th>\n",
       "      <th></th>\n",
       "      <th></th>\n",
       "    </tr>\n",
       "  </thead>\n",
       "  <tbody>\n",
       "    <tr>\n",
       "      <th>A</th>\n",
       "      <td>5</td>\n",
       "      <td>7</td>\n",
       "      <td>3</td>\n",
       "      <td>3</td>\n",
       "    </tr>\n",
       "    <tr>\n",
       "      <th>B</th>\n",
       "      <td>9</td>\n",
       "      <td>14</td>\n",
       "      <td>6</td>\n",
       "      <td>9</td>\n",
       "    </tr>\n",
       "    <tr>\n",
       "      <th>C</th>\n",
       "      <td>15</td>\n",
       "      <td>4</td>\n",
       "      <td>10</td>\n",
       "      <td>2</td>\n",
       "    </tr>\n",
       "  </tbody>\n",
       "</table>\n",
       "</div>"
      ],
      "text/plain": [
       "      재고       판매     \n",
       "제품종류  TV 스마트폰  TV 스마트폰\n",
       "매장명                   \n",
       "A      5    7   3    3\n",
       "B      9   14   6    9\n",
       "C     15    4  10    2"
      ]
     },
     "execution_count": 111,
     "metadata": {},
     "output_type": "execute_result"
    }
   ],
   "source": [
    "df_sales.pivot_table(index=[\"매장명\"], columns = [\"제품종류\"],\n",
    "                     values =[\"판매\",\"재고\"], aggfunc='sum')"
   ]
  },
  {
   "cell_type": "markdown",
   "metadata": {},
   "source": [
    "**[16장: 547페이지]**"
   ]
  },
  {
   "cell_type": "code",
   "execution_count": 112,
   "metadata": {},
   "outputs": [
    {
     "data": {
      "text/html": [
       "<div>\n",
       "<style scoped>\n",
       "    .dataframe tbody tr th:only-of-type {\n",
       "        vertical-align: middle;\n",
       "    }\n",
       "\n",
       "    .dataframe tbody tr th {\n",
       "        vertical-align: top;\n",
       "    }\n",
       "\n",
       "    .dataframe thead tr th {\n",
       "        text-align: left;\n",
       "    }\n",
       "\n",
       "    .dataframe thead tr:last-of-type th {\n",
       "        text-align: right;\n",
       "    }\n",
       "</style>\n",
       "<table border=\"1\" class=\"dataframe\">\n",
       "  <thead>\n",
       "    <tr>\n",
       "      <th></th>\n",
       "      <th colspan=\"2\" halign=\"left\">재고</th>\n",
       "      <th colspan=\"2\" halign=\"left\">판매</th>\n",
       "    </tr>\n",
       "    <tr>\n",
       "      <th>제품종류</th>\n",
       "      <th>TV</th>\n",
       "      <th>스마트폰</th>\n",
       "      <th>TV</th>\n",
       "      <th>스마트폰</th>\n",
       "    </tr>\n",
       "    <tr>\n",
       "      <th>매장명</th>\n",
       "      <th></th>\n",
       "      <th></th>\n",
       "      <th></th>\n",
       "      <th></th>\n",
       "    </tr>\n",
       "  </thead>\n",
       "  <tbody>\n",
       "    <tr>\n",
       "      <th>A</th>\n",
       "      <td>1</td>\n",
       "      <td>2</td>\n",
       "      <td>1</td>\n",
       "      <td>2</td>\n",
       "    </tr>\n",
       "    <tr>\n",
       "      <th>B</th>\n",
       "      <td>1</td>\n",
       "      <td>2</td>\n",
       "      <td>1</td>\n",
       "      <td>2</td>\n",
       "    </tr>\n",
       "    <tr>\n",
       "      <th>C</th>\n",
       "      <td>2</td>\n",
       "      <td>1</td>\n",
       "      <td>2</td>\n",
       "      <td>1</td>\n",
       "    </tr>\n",
       "  </tbody>\n",
       "</table>\n",
       "</div>"
      ],
      "text/plain": [
       "     재고      판매     \n",
       "제품종류 TV 스마트폰 TV 스마트폰\n",
       "매장명                 \n",
       "A     1    2  1    2\n",
       "B     1    2  1    2\n",
       "C     2    1  2    1"
      ]
     },
     "execution_count": 112,
     "metadata": {},
     "output_type": "execute_result"
    }
   ],
   "source": [
    "df_sales.pivot_table(index=[\"매장명\"], columns = [\"제품종류\"],\n",
    "                     values =[\"판매\",\"재고\"], aggfunc='count')"
   ]
  },
  {
   "cell_type": "markdown",
   "metadata": {},
   "source": [
    "### 워드 클라우드를 이용한 데이터 시각화"
   ]
  },
  {
   "cell_type": "markdown",
   "metadata": {},
   "source": [
    "**[16장: 549~550페이지]**"
   ]
  },
  {
   "cell_type": "code",
   "execution_count": 31,
   "metadata": {},
   "outputs": [
    {
     "name": "stdout",
     "output_type": "stream",
     "text": [
      "Collecting wordcloud\n",
      "  Downloading wordcloud-1.8.1-cp37-cp37m-win_amd64.whl (154 kB)\n",
      "Requirement already satisfied: pillow in c:\\programdata\\anaconda3\\lib\\site-packages (from wordcloud) (7.0.0)\n",
      "Requirement already satisfied: numpy>=1.6.1 in c:\\programdata\\anaconda3\\lib\\site-packages (from wordcloud) (1.18.1)\n",
      "Requirement already satisfied: matplotlib in c:\\programdata\\anaconda3\\lib\\site-packages (from wordcloud) (3.1.3)\n",
      "Requirement already satisfied: kiwisolver>=1.0.1 in c:\\programdata\\anaconda3\\lib\\site-packages (from matplotlib->wordcloud) (1.1.0)\n",
      "Requirement already satisfied: pyparsing!=2.0.4,!=2.1.2,!=2.1.6,>=2.0.1 in c:\\programdata\\anaconda3\\lib\\site-packages (from matplotlib->wordcloud) (2.4.6)\n",
      "Requirement already satisfied: python-dateutil>=2.1 in c:\\programdata\\anaconda3\\lib\\site-packages (from matplotlib->wordcloud) (2.8.1)\n",
      "Requirement already satisfied: cycler>=0.10 in c:\\programdata\\anaconda3\\lib\\site-packages (from matplotlib->wordcloud) (0.10.0)\n",
      "Requirement already satisfied: setuptools in c:\\programdata\\anaconda3\\lib\\site-packages (from kiwisolver>=1.0.1->matplotlib->wordcloud) (45.2.0.post20200210)\n",
      "Requirement already satisfied: six>=1.5 in c:\\users\\carami\\appdata\\roaming\\python\\python37\\site-packages (from python-dateutil>=2.1->matplotlib->wordcloud) (1.12.0)\n",
      "Installing collected packages: wordcloud\n",
      "Successfully installed wordcloud-1.8.1\n"
     ]
    }
   ],
   "source": [
    "!pip install wordcloud\n"
   ]
  },
  {
   "cell_type": "code",
   "execution_count": 113,
   "metadata": {},
   "outputs": [
    {
     "data": {
      "image/png": "[encoded data removed]",
      "text/plain": [
       "<Figure size 432x288 with 1 Axes>"
      ]
     },
     "metadata": {
      "needs_background": "light"
     },
     "output_type": "display_data"
    }
   ],
   "source": [
    "from wordcloud import WordCloud\n",
    "import matplotlib.pyplot as plt\n",
    "\n",
    "file_name = 'data/littleprince_djvu.txt'\n",
    "\n",
    "with open(file_name) as f: # 파일을 읽기 모드로 열기\n",
    "    text = f.read() # 파일의 내용 읽어오기\n",
    "\n",
    "# 워드 클라우드의 이미지를 생성합니다.\n",
    "wordcloud_image = WordCloud().generate(text)\n",
    "\n",
    "# 생성한 워드 클라우드 이미지를 화면에 표시합니다.\n",
    "plt.imshow(wordcloud_image, interpolation='bilinear')\n",
    "plt.axis(\"off\")\n",
    "plt.show()"
   ]
  },
  {
   "cell_type": "markdown",
   "metadata": {},
   "source": [
    "**[16장: 550페이지]**"
   ]
  },
  {
   "cell_type": "code",
   "execution_count": 33,
   "metadata": {},
   "outputs": [
    {
     "data": {
      "image/png": "[encoded data removed]",
      "text/plain": [
       "<Figure size 432x288 with 1 Axes>"
      ]
     },
     "metadata": {
      "needs_background": "light"
     },
     "output_type": "display_data"
    }
   ],
   "source": [
    "wordcloud_image = WordCloud(background_color='white', max_font_size=300, width=800, height=400).generate(text)\n",
    "\n",
    "plt.imshow(wordcloud_image, interpolation=\"bilinear\")\n",
    "plt.axis(\"off\")\n",
    "plt.show()"
   ]
  },
  {
   "cell_type": "markdown",
   "metadata": {},
   "source": [
    "**[16장: 551페이지]**"
   ]
  },
  {
   "cell_type": "code",
   "execution_count": 114,
   "metadata": {},
   "outputs": [],
   "source": [
    "image_file_name = 'data/little_prince.png'\n",
    "\n",
    "wordcloud_image.to_file(image_file_name)\n",
    "plt.show()"
   ]
  },
  {
   "cell_type": "markdown",
   "metadata": {},
   "source": [
    "**[16장: 551페이지]**"
   ]
  },
  {
   "cell_type": "code",
   "execution_count": 5,
   "metadata": {},
   "outputs": [
    {
     "data": {
      "text/html": [
       "<div>\n",
       "<style scoped>\n",
       "    .dataframe tbody tr th:only-of-type {\n",
       "        vertical-align: middle;\n",
       "    }\n",
       "\n",
       "    .dataframe tbody tr th {\n",
       "        vertical-align: top;\n",
       "    }\n",
       "\n",
       "    .dataframe thead th {\n",
       "        text-align: right;\n",
       "    }\n",
       "</style>\n",
       "<table border=\"1\" class=\"dataframe\">\n",
       "  <thead>\n",
       "    <tr style=\"text-align: right;\">\n",
       "      <th></th>\n",
       "      <th>빈도</th>\n",
       "    </tr>\n",
       "    <tr>\n",
       "      <th>단어</th>\n",
       "      <th></th>\n",
       "    </tr>\n",
       "  </thead>\n",
       "  <tbody>\n",
       "    <tr>\n",
       "      <td>산업혁명</td>\n",
       "      <td>1662</td>\n",
       "    </tr>\n",
       "    <tr>\n",
       "      <td>기술</td>\n",
       "      <td>1223</td>\n",
       "    </tr>\n",
       "    <tr>\n",
       "      <td>사업</td>\n",
       "      <td>1126</td>\n",
       "    </tr>\n",
       "    <tr>\n",
       "      <td>혁신</td>\n",
       "      <td>1084</td>\n",
       "    </tr>\n",
       "    <tr>\n",
       "      <td>경제</td>\n",
       "      <td>1000</td>\n",
       "    </tr>\n",
       "  </tbody>\n",
       "</table>\n",
       "</div>"
      ],
      "text/plain": [
       "        빈도\n",
       "단어        \n",
       "산업혁명  1662\n",
       "기술    1223\n",
       "사업    1126\n",
       "혁신    1084\n",
       "경제    1000"
      ]
     },
     "execution_count": 5,
     "metadata": {},
     "output_type": "execute_result"
    }
   ],
   "source": [
    "import pandas as pd\n",
    "\n",
    "word_count_file = \"data/word_count.csv\"\n",
    "word_count = pd.read_csv(word_count_file, index_col = '단어')\n",
    "word_count.head(5)"
   ]
  },
  {
   "cell_type": "markdown",
   "metadata": {},
   "source": [
    "**[16장: 552페이지]**"
   ]
  },
  {
   "cell_type": "code",
   "execution_count": 36,
   "metadata": {},
   "outputs": [
    {
     "data": {
      "text/plain": [
       "단어\n",
       "산업혁명    1662\n",
       "기술      1223\n",
       "사업      1126\n",
       "혁신      1084\n",
       "경제      1000\n",
       "Name: 빈도, dtype: int64"
      ]
     },
     "execution_count": 36,
     "metadata": {},
     "output_type": "execute_result"
    }
   ],
   "source": [
    "word_count['빈도'][0:5]"
   ]
  },
  {
   "cell_type": "markdown",
   "metadata": {},
   "source": [
    "**[16장: 552페이지]**"
   ]
  },
  {
   "cell_type": "code",
   "execution_count": 37,
   "metadata": {},
   "outputs": [
    {
     "data": {
      "text/plain": [
       "pandas.core.series.Series"
      ]
     },
     "execution_count": 37,
     "metadata": {},
     "output_type": "execute_result"
    }
   ],
   "source": [
    "type(word_count['빈도'])"
   ]
  },
  {
   "cell_type": "markdown",
   "metadata": {},
   "source": [
    "**[16장: 553페이지]**"
   ]
  },
  {
   "cell_type": "code",
   "execution_count": 38,
   "metadata": {},
   "outputs": [
    {
     "data": {
      "image/png": "[encoded data removed]",
      "text/plain": [
       "<Figure size 432x288 with 1 Axes>"
      ]
     },
     "metadata": {
      "needs_background": "light"
     },
     "output_type": "display_data"
    }
   ],
   "source": [
    "from wordcloud import WordCloud\n",
    "import matplotlib.pyplot as plt\n",
    "\n",
    "korean_font_path = 'C:/Windows/Fonts/malgun.ttf' # 한글 폰트(맑은 고딕) 파일명\n",
    "\n",
    "# 워드 클라우드 이미지 생성\n",
    "wc = WordCloud(font_path=korean_font_path, background_color='white')\n",
    "\n",
    "frequencies = word_count['빈도'] # pandas의 Series 형식이 됨\n",
    "wordcloud_image = wc.generate_from_frequencies(frequencies)\n",
    "\n",
    "# 생성한 워드 클라우드 이미지를 화면에 표시\n",
    "plt.imshow(wordcloud_image, interpolation=\"bilinear\")\n",
    "plt.axis(\"off\")\n",
    "plt.show()"
   ]
  },
  {
   "cell_type": "markdown",
   "metadata": {},
   "source": [
    "## 16.3 실전 데이터(서울시 업무추진비) 분석"
   ]
  },
  {
   "cell_type": "markdown",
   "metadata": {},
   "source": [
    "### 데이터 분석의 주제 선정"
   ]
  },
  {
   "cell_type": "markdown",
   "metadata": {},
   "source": [
    "### 데이터 수집"
   ]
  },
  {
   "cell_type": "markdown",
   "metadata": {},
   "source": [
    "**[16장: 557~558페이지]**"
   ]
  },
  {
   "cell_type": "code",
   "execution_count": 2,
   "metadata": {},
   "outputs": [],
   "source": [
    "import requests\n",
    "import os\n",
    "import pathlib\n",
    "\n",
    "#인자: 확장자, 연도, 내려받을 폴더\n",
    "def get_seoul_expense_list(extension, year, data_folder): \n",
    "\n",
    "    # 깃허브의 데이터 위치 지정\n",
    "    # ex) 'https://github.com/seoul-opengov/opengov/raw/master/expense_list2020/'\n",
    "    expense_list_year_url = 'https://github.com/seoul-opengov/opengov/raw/master/expense_list' + str(year) + '/'\n",
    "\n",
    "    # 데이터를 내려받을 폴더 지정\n",
    "    # ex) 'data/seoul_expense/2016/'\n",
    "    expense_list_year_dir = data_folder + str(year) + '/'\n",
    "    \n",
    "    # 내려받을 폴더가 없다면 폴더 생성\n",
    "    if(os.path.isdir(expense_list_year_dir)):\n",
    "        print(\"데이터 폴더({0})가 이미 있습니다. {0}년 데이터의 다운로드를 시작합니다.\".format(year))\n",
    "    else:\n",
    "        print(\"데이터 폴더({0})가 없어서 생성했습니다. {0}년 데이터의 다운로드를 시작합니다.\".format(year))\n",
    "        # 폴더 생성\n",
    "        pathlib.Path(expense_list_year_dir).mkdir(parents=True, exist_ok=True) \n",
    "        \n",
    "    # 지정한 폴더로 1월 ~ 12월 업무추진비 파일을 다운로드\n",
    "    for k in range(12):\n",
    "        file_name = '{0}{1:02d}_expense_list.{2}'.format(year, k+1, extension)    \n",
    "        url = expense_list_year_url + file_name\n",
    "        print(url)\n",
    "        r = requests.get(url)\n",
    "        with open(expense_list_year_dir + file_name, 'wb') as f:\n",
    "            f.write(r.content)"
   ]
  },
  {
   "cell_type": "markdown",
   "metadata": {},
   "source": [
    "**[16장: 558~559페이지]**"
   ]
  },
  {
   "cell_type": "code",
   "execution_count": 3,
   "metadata": {},
   "outputs": [
    {
     "name": "stdout",
     "output_type": "stream",
     "text": [
      "데이터 폴더(2020)가 없어서 생성했습니다. 2020년 데이터의 다운로드를 시작합니다.\n",
      "https://github.com/seoul-opengov/opengov/raw/master/expense_list2020/202001_expense_list.csv\n",
      "https://github.com/seoul-opengov/opengov/raw/master/expense_list2020/202002_expense_list.csv\n",
      "https://github.com/seoul-opengov/opengov/raw/master/expense_list2020/202003_expense_list.csv\n",
      "https://github.com/seoul-opengov/opengov/raw/master/expense_list2020/202004_expense_list.csv\n",
      "https://github.com/seoul-opengov/opengov/raw/master/expense_list2020/202005_expense_list.csv\n",
      "https://github.com/seoul-opengov/opengov/raw/master/expense_list2020/202006_expense_list.csv\n",
      "https://github.com/seoul-opengov/opengov/raw/master/expense_list2020/202007_expense_list.csv\n",
      "https://github.com/seoul-opengov/opengov/raw/master/expense_list2020/202008_expense_list.csv\n",
      "https://github.com/seoul-opengov/opengov/raw/master/expense_list2020/202009_expense_list.csv\n",
      "https://github.com/seoul-opengov/opengov/raw/master/expense_list2020/202010_expense_list.csv\n",
      "https://github.com/seoul-opengov/opengov/raw/master/expense_list2020/202011_expense_list.csv\n",
      "https://github.com/seoul-opengov/opengov/raw/master/expense_list2020/202012_expense_list.csv\n"
     ]
    }
   ],
   "source": [
    "# 내려받을 업무추진비 데이터의 파일 형식을 지정\n",
    "extension = \"csv\" \n",
    "\n",
    "# 내려받을 업무추진비 데이터의 연도를 지정\n",
    "year = 2020\n",
    "\n",
    "# 내려받을 업무추진비 데이터의 폴더를 지정\n",
    "data_folder = 'data/seoul_expense/' \n",
    "\n",
    "# 함수를 실행\n",
    "get_seoul_expense_list(extension, year, data_folder)"
   ]
  },
  {
   "cell_type": "markdown",
   "metadata": {},
   "source": [
    "**[16장: 559~560페이지]**"
   ]
  },
  {
   "cell_type": "code",
   "execution_count": 41,
   "metadata": {},
   "outputs": [
    {
     "name": "stdout",
     "output_type": "stream",
     "text": [
      "[폴더 이름] seoul_expense/2020/\n",
      "* CSV 파일: []\n"
     ]
    }
   ],
   "source": [
    "import glob\n",
    "\n",
    "path_name = 'seoul_expense/2020/' # 폴더 이름\n",
    "\n",
    "# 지정 폴더에서 파일명에 list.csv가 포함된 파일만 지정\n",
    "file_name_for_glob = path_name + \"*list.csv\" \n",
    "\n",
    "csv_files = []\n",
    "for csv_file in glob.glob(file_name_for_glob): \n",
    "    # 반환값에서 폴더는 제거하고 파일 이름만 추출\n",
    "    csv_files.append(csv_file.split(\"\\\\\")[-1]) \n",
    "\n",
    "print(\"[폴더 이름]\", path_name) # 폴더명 출력\n",
    "print(\"* CSV 파일:\", csv_files)"
   ]
  },
  {
   "cell_type": "markdown",
   "metadata": {},
   "source": [
    "**[16장: 560페이지]**"
   ]
  },
  {
   "cell_type": "code",
   "execution_count": 4,
   "metadata": {},
   "outputs": [
    {
     "name": "stdout",
     "output_type": "stream",
     "text": [
      "데이터 폴더(2017)가 없어서 생성했습니다. 2017년 데이터의 다운로드를 시작합니다.\n",
      "https://github.com/seoul-opengov/opengov/raw/master/expense_list2017/201701_expense_list.csv\n",
      "https://github.com/seoul-opengov/opengov/raw/master/expense_list2017/201702_expense_list.csv\n",
      "https://github.com/seoul-opengov/opengov/raw/master/expense_list2017/201703_expense_list.csv\n",
      "https://github.com/seoul-opengov/opengov/raw/master/expense_list2017/201704_expense_list.csv\n",
      "https://github.com/seoul-opengov/opengov/raw/master/expense_list2017/201705_expense_list.csv\n",
      "https://github.com/seoul-opengov/opengov/raw/master/expense_list2017/201706_expense_list.csv\n",
      "https://github.com/seoul-opengov/opengov/raw/master/expense_list2017/201707_expense_list.csv\n",
      "https://github.com/seoul-opengov/opengov/raw/master/expense_list2017/201708_expense_list.csv\n",
      "https://github.com/seoul-opengov/opengov/raw/master/expense_list2017/201709_expense_list.csv\n",
      "https://github.com/seoul-opengov/opengov/raw/master/expense_list2017/201710_expense_list.csv\n",
      "https://github.com/seoul-opengov/opengov/raw/master/expense_list2017/201711_expense_list.csv\n",
      "https://github.com/seoul-opengov/opengov/raw/master/expense_list2017/201712_expense_list.csv\n",
      "데이터 폴더(2018)가 없어서 생성했습니다. 2018년 데이터의 다운로드를 시작합니다.\n",
      "https://github.com/seoul-opengov/opengov/raw/master/expense_list2018/201801_expense_list.csv\n",
      "https://github.com/seoul-opengov/opengov/raw/master/expense_list2018/201802_expense_list.csv\n",
      "https://github.com/seoul-opengov/opengov/raw/master/expense_list2018/201803_expense_list.csv\n",
      "https://github.com/seoul-opengov/opengov/raw/master/expense_list2018/201804_expense_list.csv\n",
      "https://github.com/seoul-opengov/opengov/raw/master/expense_list2018/201805_expense_list.csv\n",
      "https://github.com/seoul-opengov/opengov/raw/master/expense_list2018/201806_expense_list.csv\n",
      "https://github.com/seoul-opengov/opengov/raw/master/expense_list2018/201807_expense_list.csv\n",
      "https://github.com/seoul-opengov/opengov/raw/master/expense_list2018/201808_expense_list.csv\n",
      "https://github.com/seoul-opengov/opengov/raw/master/expense_list2018/201809_expense_list.csv\n",
      "https://github.com/seoul-opengov/opengov/raw/master/expense_list2018/201810_expense_list.csv\n",
      "https://github.com/seoul-opengov/opengov/raw/master/expense_list2018/201811_expense_list.csv\n",
      "https://github.com/seoul-opengov/opengov/raw/master/expense_list2018/201812_expense_list.csv\n",
      "데이터 폴더(2019)가 없어서 생성했습니다. 2019년 데이터의 다운로드를 시작합니다.\n",
      "https://github.com/seoul-opengov/opengov/raw/master/expense_list2019/201901_expense_list.csv\n",
      "https://github.com/seoul-opengov/opengov/raw/master/expense_list2019/201902_expense_list.csv\n",
      "https://github.com/seoul-opengov/opengov/raw/master/expense_list2019/201903_expense_list.csv\n",
      "https://github.com/seoul-opengov/opengov/raw/master/expense_list2019/201904_expense_list.csv\n",
      "https://github.com/seoul-opengov/opengov/raw/master/expense_list2019/201905_expense_list.csv\n",
      "https://github.com/seoul-opengov/opengov/raw/master/expense_list2019/201906_expense_list.csv\n",
      "https://github.com/seoul-opengov/opengov/raw/master/expense_list2019/201907_expense_list.csv\n",
      "https://github.com/seoul-opengov/opengov/raw/master/expense_list2019/201908_expense_list.csv\n",
      "https://github.com/seoul-opengov/opengov/raw/master/expense_list2019/201909_expense_list.csv\n",
      "https://github.com/seoul-opengov/opengov/raw/master/expense_list2019/201910_expense_list.csv\n",
      "https://github.com/seoul-opengov/opengov/raw/master/expense_list2019/201911_expense_list.csv\n",
      "https://github.com/seoul-opengov/opengov/raw/master/expense_list2019/201912_expense_list.csv\n",
      "데이터 폴더(2020)가 이미 있습니다. 2020년 데이터의 다운로드를 시작합니다.\n",
      "https://github.com/seoul-opengov/opengov/raw/master/expense_list2020/202001_expense_list.csv\n",
      "https://github.com/seoul-opengov/opengov/raw/master/expense_list2020/202002_expense_list.csv\n",
      "https://github.com/seoul-opengov/opengov/raw/master/expense_list2020/202003_expense_list.csv\n",
      "https://github.com/seoul-opengov/opengov/raw/master/expense_list2020/202004_expense_list.csv\n",
      "https://github.com/seoul-opengov/opengov/raw/master/expense_list2020/202005_expense_list.csv\n",
      "https://github.com/seoul-opengov/opengov/raw/master/expense_list2020/202006_expense_list.csv\n",
      "https://github.com/seoul-opengov/opengov/raw/master/expense_list2020/202007_expense_list.csv\n",
      "https://github.com/seoul-opengov/opengov/raw/master/expense_list2020/202008_expense_list.csv\n",
      "https://github.com/seoul-opengov/opengov/raw/master/expense_list2020/202009_expense_list.csv\n",
      "https://github.com/seoul-opengov/opengov/raw/master/expense_list2020/202010_expense_list.csv\n",
      "https://github.com/seoul-opengov/opengov/raw/master/expense_list2020/202011_expense_list.csv\n",
      "https://github.com/seoul-opengov/opengov/raw/master/expense_list2020/202012_expense_list.csv\n",
      "모든 데이터를 다운로드 받았습니다.\n"
     ]
    }
   ],
   "source": [
    "data_folder = 'data/seoul_expense/'\n",
    "\n",
    "years = [2017, 2018,2019,2020] # 다운로드받을 연도를 지정\n",
    "\n",
    "extension = \"csv\"\n",
    "# extension = \"xlsx\"\n",
    "# extension = \"xml\"\n",
    "#extension = \"json\"\n",
    "\n",
    "for year in years:\n",
    "    get_seoul_expense_list(extension, year, data_folder)\n",
    "\n",
    "print(\"모든 데이터를 다운로드 받았습니다.\")"
   ]
  },
  {
   "cell_type": "markdown",
   "metadata": {},
   "source": [
    "**[16장: 561페이지]**"
   ]
  },
  {
   "cell_type": "code",
   "execution_count": 119,
   "metadata": {},
   "outputs": [
    {
     "name": "stdout",
     "output_type": "stream",
     "text": [
      "[폴더 이름] data/seoul_expense/2017/\n",
      "* CSV 파일: ['201701_expense_list.csv', '201702_expense_list.csv', '201703_expense_list.csv', '201704_expense_list.csv', '201705_expense_list.csv', '201706_expense_list.csv', '201707_expense_list.csv', '201708_expense_list.csv', '201709_expense_list.csv', '201710_expense_list.csv', '201711_expense_list.csv', '201712_expense_list.csv']\n",
      "[폴더 이름] data/seoul_expense/2018/\n",
      "* CSV 파일: ['201801_expense_list.csv', '201802_expense_list.csv', '201803_expense_list.csv', '201804_expense_list.csv', '201805_expense_list.csv', '201806_expense_list.csv', '201807_expense_list.csv', '201808_expense_list.csv', '201809_expense_list.csv', '201810_expense_list.csv', '201811_expense_list.csv', '201812_expense_list.csv']\n",
      "[폴더 이름] data/seoul_expense/2019/\n",
      "* CSV 파일: ['201901_expense_list.csv', '201902_expense_list.csv', '201903_expense_list.csv', '201904_expense_list.csv', '201905_expense_list.csv', '201906_expense_list.csv', '201907_expense_list.csv', '201908_expense_list.csv', '201909_expense_list.csv', '201910_expense_list.csv', '201911_expense_list.csv', '201912_expense_list.csv']\n",
      "[폴더 이름] data/seoul_expense/2020/\n",
      "* CSV 파일: ['202001_expense_list.csv', '202002_expense_list.csv', '202003_expense_list.csv', '202004_expense_list.csv', '202005_expense_list.csv', '202006_expense_list.csv', '202007_expense_list.csv', '202008_expense_list.csv', '202009_expense_list.csv', '202010_expense_list.csv', '202011_expense_list.csv', '202012_expense_list.csv']\n"
     ]
    }
   ],
   "source": [
    "import glob\n",
    "\n",
    "data_folder = 'data/seoul_expense/'\n",
    "\n",
    "years = [2017, 2018,2019,2020] # 다운로드받을 연도를 지정\n",
    "\n",
    "for year in years:\n",
    "    path_name = data_folder + str(year) + \"/\" # 연도별 폴더명을 지정\n",
    "    \n",
    "    # 지정 폴더에서 파일명에 list.csv가 포함된 파일만 지정\n",
    "    file_name_for_glob = path_name + \"*list.csv\"\n",
    "    \n",
    "    csv_files = []\n",
    "    for csv_file in glob.glob(file_name_for_glob): \n",
    "        # 반환값에서 폴더는 제거하고 파일명만 추출\n",
    "        csv_files.append(csv_file.split(\"\\\\\")[-1]) \n",
    "\n",
    "    print(\"[폴더 이름]\", path_name) # 폴더명 출력\n",
    "    print(\"* CSV 파일:\", csv_files)"
   ]
  },
  {
   "cell_type": "markdown",
   "metadata": {},
   "source": [
    "### 데이터 처리"
   ]
  },
  {
   "cell_type": "markdown",
   "metadata": {},
   "source": [
    "#### 수집된 데이터 파일의 구조 분석"
   ]
  },
  {
   "cell_type": "markdown",
   "metadata": {},
   "source": [
    "**[16장: 562페이지]**"
   ]
  },
  {
   "cell_type": "code",
   "execution_count": 120,
   "metadata": {},
   "outputs": [
    {
     "name": "stdout",
     "output_type": "stream",
     "text": [
      "﻿nid,title,url,dept_nm_lvl_1,dept_nm_lvl_2,dept_nm_lvl_3,dept_nm_lvl_4,dept_nm_lvl_5,exec_yr,exec_month,expense_budget,expense_execution,category,dept_nm_full,exec_dt,exec_loc,exec_purpose,target_nm,payment_method,exec_amount\n",
      "\n",
      "21789676,\"2020년 1월 사업소 서울식물원 시설운영과 업무추진비 - 부서운영\",http://opengov.seoul.go.kr/public/21789676,사업소,서울식물원,시설운영과,,,2020,1,,,,\"푸른도시국 서울식물원 시설운영과\",\"2020-01-22 10:25\",\"코코호도마곡나루역점(강서구 마곡중앙5로 6)\",\"부서 전출직원 간담회 비용\",\"이형선 외 3인\",카드,30000\n",
      "\n",
      "21762080,\"2020년 1월 사업소 상수도사업본부 남부수도사업소 행정지원과 업무추진비 - 부서운영\",http://opengov.seoul.go.kr/public/21762080,사업소,상수도사업본부,남부수도사업소,행정지원과,,2020,1,,,,\"남부수도사업소 행정지원과\",\"2020-01-29 08:55\",\"㈜한국문화진흥(강남구 강남대로 636, 두원빌딩2층)\",\"2020년도 1월 생일자 격려상품 구매\",\"1월 직원 생일자 12명\",카드,216720\n",
      "\n"
     ]
    }
   ],
   "source": [
    "data_file = 'data/seoul_expense/2020/202001_expense_list.csv'\n",
    "\n",
    "with open(data_file, encoding='utf-8') as f:\n",
    "    line1 = f.readline()\n",
    "    line2 = f.readline()\n",
    "    line3 = f.readline()\n",
    "\n",
    "    print(line1)\n",
    "    print(line2)\n",
    "    print(line3)"
   ]
  },
  {
   "cell_type": "markdown",
   "metadata": {},
   "source": [
    "**[16장: 563페이지]**"
   ]
  },
  {
   "cell_type": "code",
   "execution_count": 121,
   "metadata": {},
   "outputs": [
    {
     "name": "stdout",
     "output_type": "stream",
     "text": [
      "[각 줄의 데이터값의 개수]\n",
      "첫째 줄:20, 둘째 줄:20, 셋째 줄:21\n"
     ]
    }
   ],
   "source": [
    "line1_len = len(line1.split(','))\n",
    "line2_len = len(line2.split(','))\n",
    "line3_len = len(line3.split(','))\n",
    "\n",
    "print(\"[각 줄의 데이터값의 개수]\")\n",
    "print(\"첫째 줄:{}, 둘째 줄:{}, 셋째 줄:{}\".format(line1_len, line2_len, line3_len))"
   ]
  },
  {
   "cell_type": "markdown",
   "metadata": {},
   "source": [
    "**[16장: 563페이지]**"
   ]
  },
  {
   "cell_type": "code",
   "execution_count": 122,
   "metadata": {},
   "outputs": [],
   "source": [
    "def get_value_count(line):\n",
    "    \n",
    "    line_rep_list = []\n",
    "    for k, x in enumerate(line.split('\"')):\n",
    "        if(k % 2 != 0):\n",
    "            x = x.replace(',', '')\n",
    "        line_rep_list.append(x)\n",
    "        \n",
    "    line_rep_str = ''.join(line_rep_list) \n",
    "           \n",
    "    return len(line_rep_str.split(','))"
   ]
  },
  {
   "cell_type": "markdown",
   "metadata": {},
   "source": [
    "**[16장: 564페이지]**"
   ]
  },
  {
   "cell_type": "code",
   "execution_count": 123,
   "metadata": {},
   "outputs": [
    {
     "name": "stdout",
     "output_type": "stream",
     "text": [
      "[각 줄의 데이터값의 개수]\n",
      "첫째 줄:20, 둘째 줄:20, 셋째 줄:20\n"
     ]
    }
   ],
   "source": [
    "line1_len = get_value_count(line1)\n",
    "line2_len = get_value_count(line2)\n",
    "line3_len = get_value_count(line3)\n",
    "\n",
    "print(\"[각 줄의 데이터값의 개수]\")\n",
    "print(\"첫째 줄:{}, 둘째 줄:{}, 셋째 줄:{}\".format(line1_len, line2_len, line3_len))"
   ]
  },
  {
   "cell_type": "markdown",
   "metadata": {},
   "source": [
    "#### 첫 번째 줄의 열 이름과 개수 변경"
   ]
  },
  {
   "cell_type": "markdown",
   "metadata": {},
   "source": [
    "**[16장: 565페이지]**"
   ]
  },
  {
   "cell_type": "code",
   "execution_count": 124,
   "metadata": {},
   "outputs": [],
   "source": [
    "def change_csv_file_first_line_value(old_file_name, new_file_name):\n",
    "    with open(old_file_name, encoding='utf-8') as f:  # 파일을 읽기 모드로 열기\n",
    "        # 전체 데이터를 읽어서 한 줄씩 lines 리스트의 각 요소에 할당\n",
    "        lines = f.read().splitlines()\n",
    "    \n",
    "    # 첫째 줄의 내용을 변경할 열 이름을 지정해서 변경\n",
    "    lines[0] = 'nid,제목,url,부서레벨1,부서레벨2,부서레벨3,부서레벨4,부서레벨5,\\\n",
    "집행연도,집행월,예산,집행,구분,부서명,집행일시,집행장소,집행목적,대상인원,결제방법,집행금액'\n",
    "    \n",
    "    with open(new_file_name, 'w', encoding='utf-8') as f:  # 파일을 쓰기 모드로 열기\n",
    "        # 리스트 내의 각 요소를 개행문자(\\n)로 연결해서 파일로 저장\n",
    "        f.write('\\n'.join(lines))"
   ]
  },
  {
   "cell_type": "markdown",
   "metadata": {},
   "source": [
    "**[16장: 565페이지]**"
   ]
  },
  {
   "cell_type": "code",
   "execution_count": 125,
   "metadata": {},
   "outputs": [],
   "source": [
    "# 기존의 파일\n",
    "old_file_name = 'data/seoul_expense/2020/202001_expense_list.csv'\n",
    "\n",
    "# 새로운 파일\n",
    "new_file_name = 'data/seoul_expense/2020/202001_expense_list_new.csv' \n",
    "\n",
    "# 첫째 줄의 내용을 변경한 새로운 파일 생성\n",
    "change_csv_file_first_line_value(old_file_name, new_file_name)"
   ]
  },
  {
   "cell_type": "markdown",
   "metadata": {},
   "source": [
    "**[16장: 565페이지]**"
   ]
  },
  {
   "cell_type": "code",
   "execution_count": 126,
   "metadata": {},
   "outputs": [
    {
     "name": "stdout",
     "output_type": "stream",
     "text": [
      "nid,제목,url,부서레벨1,부서레벨2,부서레벨3,부서레벨4,부서레벨5,집행연도,집행월,예산,집행,구분,부서명,집행일시,집행장소,집행목적,대상인원,결제방법,집행금액\n",
      "\n",
      "21789676,\"2020년 1월 사업소 서울식물원 시설운영과 업무추진비 - 부서운영\",http://opengov.seoul.go.kr/public/21789676,사업소,서울식물원,시설운영과,,,2020,1,,,,\"푸른도시국 서울식물원 시설운영과\",\"2020-01-22 10:25\",\"코코호도마곡나루역점(강서구 마곡중앙5로 6)\",\"부서 전출직원 간담회 비용\",\"이형선 외 3인\",카드,30000\n",
      "\n",
      "21762080,\"2020년 1월 사업소 상수도사업본부 남부수도사업소 행정지원과 업무추진비 - 부서운영\",http://opengov.seoul.go.kr/public/21762080,사업소,상수도사업본부,남부수도사업소,행정지원과,,2020,1,,,,\"남부수도사업소 행정지원과\",\"2020-01-29 08:55\",\"㈜한국문화진흥(강남구 강남대로 636, 두원빌딩2층)\",\"2020년도 1월 생일자 격려상품 구매\",\"1월 직원 생일자 12명\",카드,216720\n",
      "\n"
     ]
    }
   ],
   "source": [
    "with open(new_file_name, encoding='utf-8') as f:  # 파일을 읽기 모드로 열기\n",
    "    for k in range(3):\n",
    "        print(f.readline())"
   ]
  },
  {
   "cell_type": "markdown",
   "metadata": {},
   "source": [
    "**[16장: 566페이지]**"
   ]
  },
  {
   "cell_type": "code",
   "execution_count": 127,
   "metadata": {},
   "outputs": [],
   "source": [
    "# 인자: 연도, 데이터 파일이 있는 폴더\n",
    "def change_year_csv_file_first_line_value(year, data_folder): \n",
    "\n",
    "    # 데이터 파일이 있는 폴더 지정\n",
    "    # ex) 'C:/myPyCode/data/seoul_expense/2016/'\n",
    "    expense_list_year_dir = data_folder + str(year) + '/'\n",
    "    \n",
    "    extension = 'csv' # 확장자 이름\n",
    "    \n",
    "    # 지정한 폴더에 있는 월별 업무추진비 파일에서 첫 번째 줄의 열 이름을 변경 \n",
    "    for k in range(12):\n",
    "        # 기존의 파일 이름 지정\n",
    "        old_file_name = expense_list_year_dir + '{0}{1:02d}_expense_list.{2}'.format(year, k+1, extension) \n",
    "        \n",
    "        # 새로운 파일 이름 지정\n",
    "        new_file_name = expense_list_year_dir + '{0}{1:02d}_expense_list_new.{2}'.format(year, k+1, extension) \n",
    "  \n",
    "        # 첫째 줄의 내용을 변경한 새로운 파일 생성\n",
    "        change_csv_file_first_line_value(old_file_name, new_file_name)"
   ]
  },
  {
   "cell_type": "markdown",
   "metadata": {},
   "source": [
    "**[16장: 566 ~ 567페이지]**"
   ]
  },
  {
   "cell_type": "code",
   "execution_count": 128,
   "metadata": {},
   "outputs": [
    {
     "name": "stdout",
     "output_type": "stream",
     "text": [
      "2017년 데이터의 첫 번째 줄의 열 이름을 변경해서 새 파일에 저장합니다.\n",
      "2018년 데이터의 첫 번째 줄의 열 이름을 변경해서 새 파일에 저장합니다.\n",
      "2019년 데이터의 첫 번째 줄의 열 이름을 변경해서 새 파일에 저장합니다.\n",
      "2020년 데이터의 첫 번째 줄의 열 이름을 변경해서 새 파일에 저장합니다.\n",
      "모든 데이터의 첫 번째 줄의 열 이름을 변경해서 새 파일로 저장했습니다.\n"
     ]
    }
   ],
   "source": [
    "data_folder = 'data/seoul_expense/'\n",
    "\n",
    "years = [2017, 2018,2019,2020] # 연도를 지정\n",
    "\n",
    "for year in years:\n",
    "    print(\"{}년 데이터의 첫 번째 줄의 열 이름을 변경해서 새 파일에 저장합니다.\".format(year))\n",
    "    change_year_csv_file_first_line_value(year, data_folder)\n",
    "\n",
    "print(\"모든 데이터의 첫 번째 줄의 열 이름을 변경해서 새 파일로 저장했습니다.\")"
   ]
  },
  {
   "cell_type": "markdown",
   "metadata": {},
   "source": [
    "**[16장: 567페이지]**"
   ]
  },
  {
   "cell_type": "code",
   "execution_count": 129,
   "metadata": {},
   "outputs": [
    {
     "name": "stdout",
     "output_type": "stream",
     "text": [
      "[폴더 이름] data/seoul_expense/2017\n",
      "* 새롭게 생성된 CSV 파일: ['201701_expense_list_new.csv', '201702_expense_list_new.csv', '201703_expense_list_new.csv', '201704_expense_list_new.csv', '201705_expense_list_new.csv', '201706_expense_list_new.csv', '201707_expense_list_new.csv', '201708_expense_list_new.csv', '201709_expense_list_new.csv', '201710_expense_list_new.csv', '201711_expense_list_new.csv', '201712_expense_list_new.csv']\n",
      "[폴더 이름] data/seoul_expense/2018\n",
      "* 새롭게 생성된 CSV 파일: ['201801_expense_list_new.csv', '201802_expense_list_new.csv', '201803_expense_list_new.csv', '201804_expense_list_new.csv', '201805_expense_list_new.csv', '201806_expense_list_new.csv', '201807_expense_list_new.csv', '201808_expense_list_new.csv', '201809_expense_list_new.csv', '201810_expense_list_new.csv', '201811_expense_list_new.csv', '201812_expense_list_new.csv']\n",
      "[폴더 이름] data/seoul_expense/2019\n",
      "* 새롭게 생성된 CSV 파일: ['201901_expense_list_new.csv', '201902_expense_list_new.csv', '201903_expense_list_new.csv', '201904_expense_list_new.csv', '201905_expense_list_new.csv', '201906_expense_list_new.csv', '201907_expense_list_new.csv', '201908_expense_list_new.csv', '201909_expense_list_new.csv', '201910_expense_list_new.csv', '201911_expense_list_new.csv', '201912_expense_list_new.csv']\n",
      "[폴더 이름] data/seoul_expense/2020\n",
      "* 새롭게 생성된 CSV 파일: ['202001_expense_list_new.csv', '202002_expense_list_new.csv', '202003_expense_list_new.csv', '202004_expense_list_new.csv', '202005_expense_list_new.csv', '202006_expense_list_new.csv', '202007_expense_list_new.csv', '202008_expense_list_new.csv', '202009_expense_list_new.csv', '202010_expense_list_new.csv', '202011_expense_list_new.csv', '202012_expense_list_new.csv']\n"
     ]
    }
   ],
   "source": [
    "import glob\n",
    "\n",
    "data_folder = 'data/seoul_expense/'\n",
    "\n",
    "years = [2017, 2018, 2019, 2020] # 연도를 지정\n",
    "\n",
    "for year in years:\n",
    "    path_name = data_folder + str(year) # 폴더명을 지정\n",
    "    print(\"[폴더 이름]\", path_name) # 폴더명 출력\n",
    "\n",
    "    new_csv_files = []\n",
    "    \n",
    "    # 지정 폴더에서 파일명에 _new.csv가 포함된 파일만 지정\n",
    "    file_name_for_glob = path_name + \"/*_new.csv\" \n",
    "    \n",
    "    for new_csv_file in glob.glob(file_name_for_glob): \n",
    "        # 반환값에서 폴더는 제거하고 파일 이름만 추출\n",
    "        new_csv_files.append(new_csv_file.split(\"\\\\\")[-1]) \n",
    "    \n",
    "    print(\"* 새롭게 생성된 CSV 파일:\", new_csv_files)"
   ]
  },
  {
   "cell_type": "markdown",
   "metadata": {},
   "source": [
    "#### 데이터의 구조 및 결측치 살펴보기"
   ]
  },
  {
   "cell_type": "markdown",
   "metadata": {},
   "source": [
    "**[16장: 568페이지]**"
   ]
  },
  {
   "cell_type": "code",
   "execution_count": 130,
   "metadata": {},
   "outputs": [],
   "source": [
    "import pandas as pd\n",
    "\n",
    "expense_list2016_dir = 'data/seoul_expense/2020/'\n",
    "file_name = \"202001_expense_list_new.csv\"\n",
    "\n",
    "df = pd.read_csv(expense_list2016_dir + file_name)"
   ]
  },
  {
   "cell_type": "markdown",
   "metadata": {},
   "source": [
    "**[16장: 568페이지]**"
   ]
  },
  {
   "cell_type": "code",
   "execution_count": 131,
   "metadata": {},
   "outputs": [
    {
     "data": {
      "text/html": [
       "<div>\n",
       "<style scoped>\n",
       "    .dataframe tbody tr th:only-of-type {\n",
       "        vertical-align: middle;\n",
       "    }\n",
       "\n",
       "    .dataframe tbody tr th {\n",
       "        vertical-align: top;\n",
       "    }\n",
       "\n",
       "    .dataframe thead th {\n",
       "        text-align: right;\n",
       "    }\n",
       "</style>\n",
       "<table border=\"1\" class=\"dataframe\">\n",
       "  <thead>\n",
       "    <tr style=\"text-align: right;\">\n",
       "      <th></th>\n",
       "      <th>nid</th>\n",
       "      <th>제목</th>\n",
       "      <th>url</th>\n",
       "      <th>부서레벨1</th>\n",
       "      <th>부서레벨2</th>\n",
       "      <th>부서레벨3</th>\n",
       "      <th>부서레벨4</th>\n",
       "      <th>부서레벨5</th>\n",
       "      <th>집행연도</th>\n",
       "      <th>집행월</th>\n",
       "      <th>예산</th>\n",
       "      <th>집행</th>\n",
       "      <th>구분</th>\n",
       "      <th>부서명</th>\n",
       "      <th>집행일시</th>\n",
       "      <th>집행장소</th>\n",
       "      <th>집행목적</th>\n",
       "      <th>대상인원</th>\n",
       "      <th>결제방법</th>\n",
       "      <th>집행금액</th>\n",
       "    </tr>\n",
       "  </thead>\n",
       "  <tbody>\n",
       "    <tr>\n",
       "      <th>0</th>\n",
       "      <td>21789676</td>\n",
       "      <td>2020년 1월 사업소 서울식물원 시설운영과 업무추진비 - 부서운영</td>\n",
       "      <td>http://opengov.seoul.go.kr/public/21789676</td>\n",
       "      <td>사업소</td>\n",
       "      <td>서울식물원</td>\n",
       "      <td>시설운영과</td>\n",
       "      <td>NaN</td>\n",
       "      <td>NaN</td>\n",
       "      <td>2020</td>\n",
       "      <td>1</td>\n",
       "      <td>NaN</td>\n",
       "      <td>NaN</td>\n",
       "      <td>NaN</td>\n",
       "      <td>푸른도시국 서울식물원 시설운영과</td>\n",
       "      <td>2020-01-22 10:25</td>\n",
       "      <td>코코호도마곡나루역점(강서구 마곡중앙5로 6)</td>\n",
       "      <td>부서 전출직원 간담회 비용</td>\n",
       "      <td>이형선 외 3인</td>\n",
       "      <td>카드</td>\n",
       "      <td>30000</td>\n",
       "    </tr>\n",
       "    <tr>\n",
       "      <th>1</th>\n",
       "      <td>21762080</td>\n",
       "      <td>2020년 1월 사업소 상수도사업본부 남부수도사업소 행정지원과 업무추진비 - 부서운영</td>\n",
       "      <td>http://opengov.seoul.go.kr/public/21762080</td>\n",
       "      <td>사업소</td>\n",
       "      <td>상수도사업본부</td>\n",
       "      <td>남부수도사업소</td>\n",
       "      <td>행정지원과</td>\n",
       "      <td>NaN</td>\n",
       "      <td>2020</td>\n",
       "      <td>1</td>\n",
       "      <td>NaN</td>\n",
       "      <td>NaN</td>\n",
       "      <td>NaN</td>\n",
       "      <td>남부수도사업소 행정지원과</td>\n",
       "      <td>2020-01-29 08:55</td>\n",
       "      <td>㈜한국문화진흥(강남구 강남대로 636, 두원빌딩2층)</td>\n",
       "      <td>2020년도 1월 생일자 격려상품 구매</td>\n",
       "      <td>1월 직원 생일자 12명</td>\n",
       "      <td>카드</td>\n",
       "      <td>216720</td>\n",
       "    </tr>\n",
       "  </tbody>\n",
       "</table>\n",
       "</div>"
      ],
      "text/plain": [
       "        nid                                               제목  \\\n",
       "0  21789676            2020년 1월 사업소 서울식물원 시설운영과 업무추진비 - 부서운영   \n",
       "1  21762080  2020년 1월 사업소 상수도사업본부 남부수도사업소 행정지원과 업무추진비 - 부서운영   \n",
       "\n",
       "                                          url 부서레벨1    부서레벨2    부서레벨3  부서레벨4  \\\n",
       "0  http://opengov.seoul.go.kr/public/21789676   사업소    서울식물원    시설운영과    NaN   \n",
       "1  http://opengov.seoul.go.kr/public/21762080   사업소  상수도사업본부  남부수도사업소  행정지원과   \n",
       "\n",
       "  부서레벨5  집행연도  집행월  예산  집행   구분                부서명              집행일시  \\\n",
       "0   NaN  2020    1 NaN NaN  NaN  푸른도시국 서울식물원 시설운영과  2020-01-22 10:25   \n",
       "1   NaN  2020    1 NaN NaN  NaN      남부수도사업소 행정지원과  2020-01-29 08:55   \n",
       "\n",
       "                            집행장소                   집행목적           대상인원 결제방법  \\\n",
       "0       코코호도마곡나루역점(강서구 마곡중앙5로 6)         부서 전출직원 간담회 비용       이형선 외 3인   카드   \n",
       "1  ㈜한국문화진흥(강남구 강남대로 636, 두원빌딩2층)  2020년도 1월 생일자 격려상품 구매  1월 직원 생일자 12명   카드   \n",
       "\n",
       "     집행금액  \n",
       "0   30000  \n",
       "1  216720  "
      ]
     },
     "execution_count": 131,
     "metadata": {},
     "output_type": "execute_result"
    }
   ],
   "source": [
    "df.head(2)"
   ]
  },
  {
   "cell_type": "markdown",
   "metadata": {},
   "source": [
    "**[16장: 569페이지]**"
   ]
  },
  {
   "cell_type": "code",
   "execution_count": 132,
   "metadata": {},
   "outputs": [],
   "source": [
    "import pandas as pd\n",
    "\n",
    "year = 2020\n",
    "expense_list_year_dir = 'data/seoul_expense/' + str(year) + '/'\n",
    "\n",
    "df_year = pd.DataFrame()\n",
    "for k in range(12):\n",
    "    \n",
    "    # 파일 이름 지정\n",
    "    file_name = \"{0}{1:02d}_expense_list_new.csv\".format(year, k+1)\n",
    "    \n",
    "    # pandas DataFrame 형식으로 csv 데이터 불러오기\n",
    "    df_month = pd.read_csv(expense_list_year_dir + file_name)\n",
    "    \n",
    "    # df_year에 df_month를 세로 방향으로 추가해서 다시 df_year에 할당\n",
    "    # 통합된 dataFrame의 순서대로 index를 할당하기 위해서 `ignore_index = True` 옵션 지정\n",
    "    df_year = df_year.append(df_month, ignore_index = True)"
   ]
  },
  {
   "cell_type": "markdown",
   "metadata": {},
   "source": [
    "**[16장: 569페이지]**"
   ]
  },
  {
   "cell_type": "code",
   "execution_count": 133,
   "metadata": {},
   "outputs": [
    {
     "data": {
      "text/html": [
       "<div>\n",
       "<style scoped>\n",
       "    .dataframe tbody tr th:only-of-type {\n",
       "        vertical-align: middle;\n",
       "    }\n",
       "\n",
       "    .dataframe tbody tr th {\n",
       "        vertical-align: top;\n",
       "    }\n",
       "\n",
       "    .dataframe thead th {\n",
       "        text-align: right;\n",
       "    }\n",
       "</style>\n",
       "<table border=\"1\" class=\"dataframe\">\n",
       "  <thead>\n",
       "    <tr style=\"text-align: right;\">\n",
       "      <th></th>\n",
       "      <th>nid</th>\n",
       "      <th>제목</th>\n",
       "      <th>url</th>\n",
       "      <th>부서레벨1</th>\n",
       "      <th>부서레벨2</th>\n",
       "      <th>부서레벨3</th>\n",
       "      <th>부서레벨4</th>\n",
       "      <th>부서레벨5</th>\n",
       "      <th>집행연도</th>\n",
       "      <th>집행월</th>\n",
       "      <th>예산</th>\n",
       "      <th>집행</th>\n",
       "      <th>구분</th>\n",
       "      <th>부서명</th>\n",
       "      <th>집행일시</th>\n",
       "      <th>집행장소</th>\n",
       "      <th>집행목적</th>\n",
       "      <th>대상인원</th>\n",
       "      <th>결제방법</th>\n",
       "      <th>집행금액</th>\n",
       "    </tr>\n",
       "  </thead>\n",
       "  <tbody>\n",
       "    <tr>\n",
       "      <th>0</th>\n",
       "      <td>21789676</td>\n",
       "      <td>2020년 1월 사업소 서울식물원 시설운영과 업무추진비 - 부서운영</td>\n",
       "      <td>http://opengov.seoul.go.kr/public/21789676</td>\n",
       "      <td>사업소</td>\n",
       "      <td>서울식물원</td>\n",
       "      <td>시설운영과</td>\n",
       "      <td>NaN</td>\n",
       "      <td>NaN</td>\n",
       "      <td>2020</td>\n",
       "      <td>1</td>\n",
       "      <td>NaN</td>\n",
       "      <td>NaN</td>\n",
       "      <td>NaN</td>\n",
       "      <td>푸른도시국 서울식물원 시설운영과</td>\n",
       "      <td>2020-01-22 10:25</td>\n",
       "      <td>코코호도마곡나루역점(강서구 마곡중앙5로 6)</td>\n",
       "      <td>부서 전출직원 간담회 비용</td>\n",
       "      <td>이형선 외 3인</td>\n",
       "      <td>카드</td>\n",
       "      <td>30000</td>\n",
       "    </tr>\n",
       "    <tr>\n",
       "      <th>1</th>\n",
       "      <td>21762080</td>\n",
       "      <td>2020년 1월 사업소 상수도사업본부 남부수도사업소 행정지원과 업무추진비 - 부서운영</td>\n",
       "      <td>http://opengov.seoul.go.kr/public/21762080</td>\n",
       "      <td>사업소</td>\n",
       "      <td>상수도사업본부</td>\n",
       "      <td>남부수도사업소</td>\n",
       "      <td>행정지원과</td>\n",
       "      <td>NaN</td>\n",
       "      <td>2020</td>\n",
       "      <td>1</td>\n",
       "      <td>NaN</td>\n",
       "      <td>NaN</td>\n",
       "      <td>NaN</td>\n",
       "      <td>남부수도사업소 행정지원과</td>\n",
       "      <td>2020-01-29 08:55</td>\n",
       "      <td>㈜한국문화진흥(강남구 강남대로 636, 두원빌딩2층)</td>\n",
       "      <td>2020년도 1월 생일자 격려상품 구매</td>\n",
       "      <td>1월 직원 생일자 12명</td>\n",
       "      <td>카드</td>\n",
       "      <td>216720</td>\n",
       "    </tr>\n",
       "  </tbody>\n",
       "</table>\n",
       "</div>"
      ],
      "text/plain": [
       "        nid                                               제목  \\\n",
       "0  21789676            2020년 1월 사업소 서울식물원 시설운영과 업무추진비 - 부서운영   \n",
       "1  21762080  2020년 1월 사업소 상수도사업본부 남부수도사업소 행정지원과 업무추진비 - 부서운영   \n",
       "\n",
       "                                          url 부서레벨1    부서레벨2    부서레벨3  부서레벨4  \\\n",
       "0  http://opengov.seoul.go.kr/public/21789676   사업소    서울식물원    시설운영과    NaN   \n",
       "1  http://opengov.seoul.go.kr/public/21762080   사업소  상수도사업본부  남부수도사업소  행정지원과   \n",
       "\n",
       "  부서레벨5  집행연도  집행월  예산  집행   구분                부서명              집행일시  \\\n",
       "0   NaN  2020    1 NaN NaN  NaN  푸른도시국 서울식물원 시설운영과  2020-01-22 10:25   \n",
       "1   NaN  2020    1 NaN NaN  NaN      남부수도사업소 행정지원과  2020-01-29 08:55   \n",
       "\n",
       "                            집행장소                   집행목적           대상인원 결제방법  \\\n",
       "0       코코호도마곡나루역점(강서구 마곡중앙5로 6)         부서 전출직원 간담회 비용       이형선 외 3인   카드   \n",
       "1  ㈜한국문화진흥(강남구 강남대로 636, 두원빌딩2층)  2020년도 1월 생일자 격려상품 구매  1월 직원 생일자 12명   카드   \n",
       "\n",
       "     집행금액  \n",
       "0   30000  \n",
       "1  216720  "
      ]
     },
     "execution_count": 133,
     "metadata": {},
     "output_type": "execute_result"
    }
   ],
   "source": [
    "df_year.head(2)"
   ]
  },
  {
   "cell_type": "markdown",
   "metadata": {},
   "source": [
    "**[16장: 569페이지]**"
   ]
  },
  {
   "cell_type": "code",
   "execution_count": 134,
   "metadata": {},
   "outputs": [
    {
     "data": {
      "text/html": [
       "<div>\n",
       "<style scoped>\n",
       "    .dataframe tbody tr th:only-of-type {\n",
       "        vertical-align: middle;\n",
       "    }\n",
       "\n",
       "    .dataframe tbody tr th {\n",
       "        vertical-align: top;\n",
       "    }\n",
       "\n",
       "    .dataframe thead th {\n",
       "        text-align: right;\n",
       "    }\n",
       "</style>\n",
       "<table border=\"1\" class=\"dataframe\">\n",
       "  <thead>\n",
       "    <tr style=\"text-align: right;\">\n",
       "      <th></th>\n",
       "      <th>nid</th>\n",
       "      <th>제목</th>\n",
       "      <th>url</th>\n",
       "      <th>부서레벨1</th>\n",
       "      <th>부서레벨2</th>\n",
       "      <th>부서레벨3</th>\n",
       "      <th>부서레벨4</th>\n",
       "      <th>부서레벨5</th>\n",
       "      <th>집행연도</th>\n",
       "      <th>집행월</th>\n",
       "      <th>예산</th>\n",
       "      <th>집행</th>\n",
       "      <th>구분</th>\n",
       "      <th>부서명</th>\n",
       "      <th>집행일시</th>\n",
       "      <th>집행장소</th>\n",
       "      <th>집행목적</th>\n",
       "      <th>대상인원</th>\n",
       "      <th>결제방법</th>\n",
       "      <th>집행금액</th>\n",
       "    </tr>\n",
       "  </thead>\n",
       "  <tbody>\n",
       "    <tr>\n",
       "      <th>62692</th>\n",
       "      <td>21950640</td>\n",
       "      <td>2020년 12월 서울시본청 청년청 업무추진비 - 기관운영 시책추진 부서운영</td>\n",
       "      <td>http://opengov.seoul.go.kr/public/21950640</td>\n",
       "      <td>서울시본청</td>\n",
       "      <td>청년청</td>\n",
       "      <td>NaN</td>\n",
       "      <td>NaN</td>\n",
       "      <td>NaN</td>\n",
       "      <td>2020</td>\n",
       "      <td>12</td>\n",
       "      <td>NaN</td>\n",
       "      <td>NaN</td>\n",
       "      <td>NaN</td>\n",
       "      <td>청년청</td>\n",
       "      <td>2020-12-01 16:22</td>\n",
       "      <td>카페테리아 마루(중구 서소문로 124)</td>\n",
       "      <td>시의회 정례회 대응 관련 간담회비 지급</td>\n",
       "      <td>청년청(담당관) 외 3명</td>\n",
       "      <td>제로페이</td>\n",
       "      <td>9800</td>\n",
       "    </tr>\n",
       "    <tr>\n",
       "      <th>62693</th>\n",
       "      <td>21950640</td>\n",
       "      <td>2020년 12월 서울시본청 청년청 업무추진비 - 기관운영 시책추진 부서운영</td>\n",
       "      <td>http://opengov.seoul.go.kr/public/21950640</td>\n",
       "      <td>서울시본청</td>\n",
       "      <td>청년청</td>\n",
       "      <td>NaN</td>\n",
       "      <td>NaN</td>\n",
       "      <td>NaN</td>\n",
       "      <td>2020</td>\n",
       "      <td>12</td>\n",
       "      <td>NaN</td>\n",
       "      <td>NaN</td>\n",
       "      <td>NaN</td>\n",
       "      <td>청년청</td>\n",
       "      <td>2020-12-01 09:03</td>\n",
       "      <td>스타벅스(중구 서소문로 120)</td>\n",
       "      <td>청년거버넌스 운영 관련 간담회비 지급</td>\n",
       "      <td>청년청(담당관) 외 5명</td>\n",
       "      <td>카드</td>\n",
       "      <td>43500</td>\n",
       "    </tr>\n",
       "  </tbody>\n",
       "</table>\n",
       "</div>"
      ],
      "text/plain": [
       "            nid                                          제목  \\\n",
       "62692  21950640  2020년 12월 서울시본청 청년청 업무추진비 - 기관운영 시책추진 부서운영   \n",
       "62693  21950640  2020년 12월 서울시본청 청년청 업무추진비 - 기관운영 시책추진 부서운영   \n",
       "\n",
       "                                              url  부서레벨1 부서레벨2 부서레벨3 부서레벨4  \\\n",
       "62692  http://opengov.seoul.go.kr/public/21950640  서울시본청   청년청   NaN   NaN   \n",
       "62693  http://opengov.seoul.go.kr/public/21950640  서울시본청   청년청   NaN   NaN   \n",
       "\n",
       "      부서레벨5  집행연도  집행월  예산  집행   구분  부서명              집행일시  \\\n",
       "62692   NaN  2020   12 NaN NaN  NaN  청년청  2020-12-01 16:22   \n",
       "62693   NaN  2020   12 NaN NaN  NaN  청년청  2020-12-01 09:03   \n",
       "\n",
       "                        집행장소                   집행목적           대상인원  결제방법  \\\n",
       "62692  카페테리아 마루(중구 서소문로 124)  시의회 정례회 대응 관련 간담회비 지급  청년청(담당관) 외 3명  제로페이   \n",
       "62693      스타벅스(중구 서소문로 120)   청년거버넌스 운영 관련 간담회비 지급  청년청(담당관) 외 5명    카드   \n",
       "\n",
       "        집행금액  \n",
       "62692   9800  \n",
       "62693  43500  "
      ]
     },
     "execution_count": 134,
     "metadata": {},
     "output_type": "execute_result"
    }
   ],
   "source": [
    "df_year.tail(2)"
   ]
  },
  {
   "cell_type": "markdown",
   "metadata": {},
   "source": [
    "**[16장: 570페이지]**"
   ]
  },
  {
   "cell_type": "code",
   "execution_count": 135,
   "metadata": {},
   "outputs": [
    {
     "name": "stdout",
     "output_type": "stream",
     "text": [
      "<class 'pandas.core.frame.DataFrame'>\n",
      "RangeIndex: 62694 entries, 0 to 62693\n",
      "Data columns (total 20 columns):\n",
      " #   Column  Non-Null Count  Dtype  \n",
      "---  ------  --------------  -----  \n",
      " 0   nid     62694 non-null  int64  \n",
      " 1   제목      62694 non-null  object \n",
      " 2   url     62694 non-null  object \n",
      " 3   부서레벨1   62694 non-null  object \n",
      " 4   부서레벨2   62694 non-null  object \n",
      " 5   부서레벨3   49428 non-null  object \n",
      " 6   부서레벨4   16759 non-null  object \n",
      " 7   부서레벨5   1283 non-null   object \n",
      " 8   집행연도    62694 non-null  int64  \n",
      " 9   집행월     62694 non-null  int64  \n",
      " 10  예산      1823 non-null   float64\n",
      " 11  집행      1338 non-null   float64\n",
      " 12  구분      1958 non-null   object \n",
      " 13  부서명     62694 non-null  object \n",
      " 14  집행일시    62694 non-null  object \n",
      " 15  집행장소    62151 non-null  object \n",
      " 16  집행목적    62694 non-null  object \n",
      " 17  대상인원    62359 non-null  object \n",
      " 18  결제방법    62694 non-null  object \n",
      " 19  집행금액    62694 non-null  int64  \n",
      "dtypes: float64(2), int64(4), object(14)\n",
      "memory usage: 9.6+ MB\n"
     ]
    }
   ],
   "source": [
    "df_year.info()"
   ]
  },
  {
   "cell_type": "markdown",
   "metadata": {},
   "source": [
    "**[16장: 571페이지]**"
   ]
  },
  {
   "cell_type": "code",
   "execution_count": 136,
   "metadata": {},
   "outputs": [
    {
     "data": {
      "text/plain": [
       "nid          0\n",
       "제목           0\n",
       "url          0\n",
       "부서레벨1        0\n",
       "부서레벨2        0\n",
       "부서레벨3    13266\n",
       "부서레벨4    45935\n",
       "부서레벨5    61411\n",
       "집행연도         0\n",
       "집행월          0\n",
       "예산       60871\n",
       "집행       61356\n",
       "구분       60736\n",
       "부서명          0\n",
       "집행일시         0\n",
       "집행장소       543\n",
       "집행목적         0\n",
       "대상인원       335\n",
       "결제방법         0\n",
       "집행금액         0\n",
       "dtype: int64"
      ]
     },
     "execution_count": 136,
     "metadata": {},
     "output_type": "execute_result"
    }
   ],
   "source": [
    "df_year.isna().sum()"
   ]
  },
  {
   "cell_type": "markdown",
   "metadata": {},
   "source": [
    "**[16장: 572페이지]**"
   ]
  },
  {
   "cell_type": "code",
   "execution_count": 137,
   "metadata": {},
   "outputs": [
    {
     "data": {
      "text/html": [
       "<div>\n",
       "<style scoped>\n",
       "    .dataframe tbody tr th:only-of-type {\n",
       "        vertical-align: middle;\n",
       "    }\n",
       "\n",
       "    .dataframe tbody tr th {\n",
       "        vertical-align: top;\n",
       "    }\n",
       "\n",
       "    .dataframe thead th {\n",
       "        text-align: right;\n",
       "    }\n",
       "</style>\n",
       "<table border=\"1\" class=\"dataframe\">\n",
       "  <thead>\n",
       "    <tr style=\"text-align: right;\">\n",
       "      <th></th>\n",
       "      <th>제목</th>\n",
       "      <th>부서레벨1</th>\n",
       "      <th>부서레벨2</th>\n",
       "      <th>집행연도</th>\n",
       "      <th>집행월</th>\n",
       "      <th>부서명</th>\n",
       "      <th>집행일시</th>\n",
       "      <th>집행장소</th>\n",
       "      <th>집행목적</th>\n",
       "      <th>대상인원</th>\n",
       "      <th>결제방법</th>\n",
       "      <th>집행금액</th>\n",
       "    </tr>\n",
       "  </thead>\n",
       "  <tbody>\n",
       "    <tr>\n",
       "      <th>0</th>\n",
       "      <td>2020년 1월 사업소 서울식물원 시설운영과 업무추진비 - 부서운영</td>\n",
       "      <td>사업소</td>\n",
       "      <td>서울식물원</td>\n",
       "      <td>2020</td>\n",
       "      <td>1</td>\n",
       "      <td>푸른도시국 서울식물원 시설운영과</td>\n",
       "      <td>2020-01-22 10:25</td>\n",
       "      <td>코코호도마곡나루역점(강서구 마곡중앙5로 6)</td>\n",
       "      <td>부서 전출직원 간담회 비용</td>\n",
       "      <td>이형선 외 3인</td>\n",
       "      <td>카드</td>\n",
       "      <td>30000</td>\n",
       "    </tr>\n",
       "    <tr>\n",
       "      <th>1</th>\n",
       "      <td>2020년 1월 사업소 상수도사업본부 남부수도사업소 행정지원과 업무추진비 - 부서운영</td>\n",
       "      <td>사업소</td>\n",
       "      <td>상수도사업본부</td>\n",
       "      <td>2020</td>\n",
       "      <td>1</td>\n",
       "      <td>남부수도사업소 행정지원과</td>\n",
       "      <td>2020-01-29 08:55</td>\n",
       "      <td>㈜한국문화진흥(강남구 강남대로 636, 두원빌딩2층)</td>\n",
       "      <td>2020년도 1월 생일자 격려상품 구매</td>\n",
       "      <td>1월 직원 생일자 12명</td>\n",
       "      <td>카드</td>\n",
       "      <td>216720</td>\n",
       "    </tr>\n",
       "  </tbody>\n",
       "</table>\n",
       "</div>"
      ],
      "text/plain": [
       "                                                제목 부서레벨1    부서레벨2  집행연도  집행월  \\\n",
       "0            2020년 1월 사업소 서울식물원 시설운영과 업무추진비 - 부서운영   사업소    서울식물원  2020    1   \n",
       "1  2020년 1월 사업소 상수도사업본부 남부수도사업소 행정지원과 업무추진비 - 부서운영   사업소  상수도사업본부  2020    1   \n",
       "\n",
       "                 부서명              집행일시                           집행장소  \\\n",
       "0  푸른도시국 서울식물원 시설운영과  2020-01-22 10:25       코코호도마곡나루역점(강서구 마곡중앙5로 6)   \n",
       "1      남부수도사업소 행정지원과  2020-01-29 08:55  ㈜한국문화진흥(강남구 강남대로 636, 두원빌딩2층)   \n",
       "\n",
       "                    집행목적           대상인원 결제방법    집행금액  \n",
       "0         부서 전출직원 간담회 비용       이형선 외 3인   카드   30000  \n",
       "1  2020년도 1월 생일자 격려상품 구매  1월 직원 생일자 12명   카드  216720  "
      ]
     },
     "execution_count": 137,
     "metadata": {},
     "output_type": "execute_result"
    }
   ],
   "source": [
    "df_year_drop = df_year.drop(columns=['nid', 'url', '부서레벨3', '부서레벨4', '부서레벨5', \n",
    "                                     '예산', '집행', '구분'])\n",
    "df_year_drop.head(2)"
   ]
  },
  {
   "cell_type": "markdown",
   "metadata": {},
   "source": [
    "**[16장: 572페이지]**"
   ]
  },
  {
   "cell_type": "code",
   "execution_count": 138,
   "metadata": {},
   "outputs": [],
   "source": [
    "year = 2020\n",
    "expense_list_year_dir = 'data/seoul_expense/' + str(year) + '/'\n",
    "\n",
    "expense_list_tidy_file = \"{}_expense_list_tidy.csv\".format(year)\n",
    "df_year_drop.to_csv(expense_list_year_dir + expense_list_tidy_file, index = False)"
   ]
  },
  {
   "cell_type": "markdown",
   "metadata": {},
   "source": [
    "**[16장: 572페이지]**"
   ]
  },
  {
   "cell_type": "code",
   "execution_count": 139,
   "metadata": {},
   "outputs": [
    {
     "name": "stdout",
     "output_type": "stream",
     "text": [
      "data/seoul_expense/2020/2020_expense_list_tidy.csv\n"
     ]
    },
    {
     "data": {
      "text/plain": [
       "True"
      ]
     },
     "execution_count": 139,
     "metadata": {},
     "output_type": "execute_result"
    }
   ],
   "source": [
    "import os\n",
    "\n",
    "file_name = expense_list_year_dir + expense_list_tidy_file\n",
    "print(file_name)\n",
    "os.path.isfile(file_name)"
   ]
  },
  {
   "cell_type": "markdown",
   "metadata": {},
   "source": [
    "**[16장: 573페이지]**"
   ]
  },
  {
   "cell_type": "code",
   "execution_count": 145,
   "metadata": {},
   "outputs": [],
   "source": [
    "import pandas as pd\n",
    "\n",
    "def select_columns_save_file(year, data_folder, drop_columns_list):\n",
    "    \n",
    "    expense_list_year_dir = data_folder + str(year) + '/'\n",
    "    expense_list_tidy_file = \"{}_expense_list_tidy.csv\".format(year)\n",
    "    df_year = pd.DataFrame()\n",
    "    \n",
    "    for k in range(12):\n",
    "        # 파일 이름 지정\n",
    "        file_name = \"{0}{1:02d}_expense_list_new.csv\".format(year, k+1)\n",
    "        \n",
    "        # aDtaFrame 형식으로 csv 데이터 불러오기\n",
    "        df_month = pd.read_csv(expense_list_year_dir + file_name)\n",
    "        \n",
    "        # fd_year에 df_month를 새로 추가해서 다시 df_year에 할당\n",
    "        # 통합된 adtaFrame의 순서대로 index를 할당하기 위해서 `ignore_index = True` 옵션 지정\n",
    "        df_year = df_year.append(df_month, ignore_index = True)\n",
    "        \n",
    "    df_year_drop = df_year.drop(columns = drop_columns_list)\n",
    "    new_file_name = expense_list_year_dir + expense_list_tidy_file\n",
    "    df_year_drop.to_csv(new_file_name, index = False, encoding='utf-8-sig' )\n",
    "    \n",
    "    print(\"==> {} 파일을 생성했습니다.\".format(expense_list_tidy_file))"
   ]
  },
  {
   "cell_type": "markdown",
   "metadata": {},
   "source": [
    "**[16장: 573페이지]**"
   ]
  },
  {
   "cell_type": "code",
   "execution_count": 146,
   "metadata": {},
   "outputs": [
    {
     "name": "stdout",
     "output_type": "stream",
     "text": [
      "2017년 데이터를 정리해서 저장하고 있습니다.\n",
      "==> 2017_expense_list_tidy.csv 파일을 생성했습니다.\n",
      "2018년 데이터를 정리해서 저장하고 있습니다.\n",
      "==> 2018_expense_list_tidy.csv 파일을 생성했습니다.\n",
      "2019년 데이터를 정리해서 저장하고 있습니다.\n",
      "==> 2019_expense_list_tidy.csv 파일을 생성했습니다.\n",
      "2020년 데이터를 정리해서 저장하고 있습니다.\n",
      "==> 2020_expense_list_tidy.csv 파일을 생성했습니다.\n",
      "모든 연도의 데이터를 정리해서 파일로 저장했습니다.\n"
     ]
    }
   ],
   "source": [
    "data_folder = 'data/seoul_expense/'\n",
    "years = [2017, 2018, 2019,2020]\n",
    "drop_columns_list = ['nid', 'url','부서레벨3', '부서레벨4', '부서레벨5', '예산', '집행', '구분']\n",
    "\n",
    "for year in years:\n",
    "    print(\"{}년 데이터를 정리해서 저장하고 있습니다.\".format(year))\n",
    "    select_columns_save_file(year, data_folder, drop_columns_list)\n",
    "print(\"모든 연도의 데이터를 정리해서 파일로 저장했습니다.\")"
   ]
  },
  {
   "cell_type": "markdown",
   "metadata": {},
   "source": [
    "**[16장: 574페이지]**"
   ]
  },
  {
   "cell_type": "code",
   "execution_count": 147,
   "metadata": {},
   "outputs": [
    {
     "name": "stdout",
     "output_type": "stream",
     "text": [
      "data/seoul_expense/2017/2017_expense_list_tidy.csv ==> True\n",
      "data/seoul_expense/2018/2018_expense_list_tidy.csv ==> True\n",
      "data/seoul_expense/2019/2019_expense_list_tidy.csv ==> True\n",
      "data/seoul_expense/2020/2020_expense_list_tidy.csv ==> True\n"
     ]
    }
   ],
   "source": [
    "import os\n",
    "\n",
    "years = [2017, 2018, 2019,2020]\n",
    "\n",
    "for year in years:\n",
    "    \n",
    "    expense_list_year_dir = data_folder + str(year) + '/'\n",
    "    expense_list_tidy_file = \"{}_expense_list_tidy.csv\".format(year)\n",
    "\n",
    "    file_name = expense_list_year_dir + expense_list_tidy_file\n",
    "    print(file_name, \"==> \", end=\"\")\n",
    "    print(os.path.isfile(file_name))"
   ]
  },
  {
   "cell_type": "markdown",
   "metadata": {},
   "source": [
    "**[16장: 574 ~ 575페이지]**"
   ]
  },
  {
   "cell_type": "code",
   "execution_count": 148,
   "metadata": {},
   "outputs": [],
   "source": [
    "import os\n",
    "from datetime import datetime\n",
    "\n",
    "def get_file_info(year, data_folder):\n",
    "    expense_list_year_dir = data_folder + str(year) + '/'\n",
    "    expense_list_tidy_file = \"{}_expense_list_tidy.csv\".format(year)\n",
    "    \n",
    "    path_file_name = expense_list_year_dir + expense_list_tidy_file\n",
    "    print(path_file_name)\n",
    "    result = os.path.isfile(path_file_name)\n",
    "\n",
    "    # 파일 수정 시간\n",
    "    modified_time = datetime.fromtimestamp(os.path.getmtime(path_file_name))\n",
    "    \n",
    "    # 파일 생성 시간\n",
    "    created_time = datetime.fromtimestamp(os.path.getctime(path_file_name)) \n",
    "    \n",
    "     # 파일 크기\n",
    "    file_size = os.path.getsize(path_file_name)\n",
    "\n",
    "    if(result == True):\n",
    "        print(\"[생성한 CSV 데이터 파일의 정보]\")\n",
    "        print('* 폴더 위치 :', expense_list_year_dir)\n",
    "        print('* 파일 이름 :', expense_list_tidy_file)\n",
    "        print('* 수정 시간 :', modified_time.strftime('%Y-%m-%d %H:%M:%S'))\n",
    "        print('* 생성 시간 :', created_time.strftime('%Y-%m-%d %H:%M:%S'))\n",
    "        print('* 파일 크기 : {0:,} 바이트'.format(file_size))"
   ]
  },
  {
   "cell_type": "markdown",
   "metadata": {},
   "source": [
    "**[16장: 575페이지]**"
   ]
  },
  {
   "cell_type": "code",
   "execution_count": 149,
   "metadata": {},
   "outputs": [
    {
     "name": "stdout",
     "output_type": "stream",
     "text": [
      "data/seoul_expense/2017/2017_expense_list_tidy.csv\n",
      "[생성한 CSV 데이터 파일의 정보]\n",
      "* 폴더 위치 : data/seoul_expense/2017/\n",
      "* 파일 이름 : 2017_expense_list_tidy.csv\n",
      "* 수정 시간 : 2021-01-05 01:38:39\n",
      "* 생성 시간 : 2021-01-05 01:03:02\n",
      "* 파일 크기 : 21,505,568 바이트\n",
      "\n",
      "data/seoul_expense/2018/2018_expense_list_tidy.csv\n",
      "[생성한 CSV 데이터 파일의 정보]\n",
      "* 폴더 위치 : data/seoul_expense/2018/\n",
      "* 파일 이름 : 2018_expense_list_tidy.csv\n",
      "* 수정 시간 : 2021-01-05 01:38:41\n",
      "* 생성 시간 : 2021-01-05 01:03:03\n",
      "* 파일 크기 : 23,012,593 바이트\n",
      "\n",
      "data/seoul_expense/2019/2019_expense_list_tidy.csv\n",
      "[생성한 CSV 데이터 파일의 정보]\n",
      "* 폴더 위치 : data/seoul_expense/2019/\n",
      "* 파일 이름 : 2019_expense_list_tidy.csv\n",
      "* 수정 시간 : 2021-01-05 01:38:42\n",
      "* 생성 시간 : 2021-01-05 01:34:54\n",
      "* 파일 크기 : 24,459,408 바이트\n",
      "\n",
      "data/seoul_expense/2020/2020_expense_list_tidy.csv\n",
      "[생성한 CSV 데이터 파일의 정보]\n",
      "* 폴더 위치 : data/seoul_expense/2020/\n",
      "* 파일 이름 : 2020_expense_list_tidy.csv\n",
      "* 수정 시간 : 2021-01-05 01:38:44\n",
      "* 생성 시간 : 2021-01-05 01:34:12\n",
      "* 파일 크기 : 21,503,534 바이트\n",
      "\n"
     ]
    }
   ],
   "source": [
    "data_folder = 'data/seoul_expense/'\n",
    "years = [2017, 2018, 2019,2020]\n",
    "\n",
    "for year in years:\n",
    "    \n",
    "    get_file_info(year, data_folder)\n",
    "    print(\"\")"
   ]
  },
  {
   "cell_type": "markdown",
   "metadata": {
    "toc-hr-collapsed": false
   },
   "source": [
    "### 데이터 분석"
   ]
  },
  {
   "cell_type": "markdown",
   "metadata": {},
   "source": [
    "**[16장: 576 ~ 577페이지]**"
   ]
  },
  {
   "cell_type": "code",
   "execution_count": 150,
   "metadata": {},
   "outputs": [],
   "source": [
    "import pandas as pd\n",
    "\n",
    "data_folder = 'data/seoul_expense/'\n",
    "years = [2017, 2018, 2019,2020]\n",
    "\n",
    "df_expense_all = pd.DataFrame()\n",
    "\n",
    "for year in years:\n",
    "    expense_list_year_dir = data_folder + str(year) + '/'\n",
    "    expense_list_tidy_file = \"{}_expense_list_tidy.csv\".format(year)\n",
    "    \n",
    "    path_file_name = expense_list_year_dir + expense_list_tidy_file\n",
    "    \n",
    "    df_expense = pd.read_csv(path_file_name)\n",
    "    df_expense_all = df_expense_all.append(df_expense, ignore_index = True) "
   ]
  },
  {
   "cell_type": "markdown",
   "metadata": {},
   "source": [
    "**[16장: 577페이지]**"
   ]
  },
  {
   "cell_type": "code",
   "execution_count": 151,
   "metadata": {},
   "outputs": [
    {
     "name": "stdout",
     "output_type": "stream",
     "text": [
      "<class 'pandas.core.frame.DataFrame'>\n",
      "RangeIndex: 279251 entries, 0 to 279250\n",
      "Data columns (total 12 columns):\n",
      " #   Column  Non-Null Count   Dtype \n",
      "---  ------  --------------   ----- \n",
      " 0   제목      279251 non-null  object\n",
      " 1   부서레벨1   279251 non-null  object\n",
      " 2   부서레벨2   278967 non-null  object\n",
      " 3   집행연도    279251 non-null  int64 \n",
      " 4   집행월     279251 non-null  int64 \n",
      " 5   부서명     279172 non-null  object\n",
      " 6   집행일시    279251 non-null  object\n",
      " 7   집행장소    276552 non-null  object\n",
      " 8   집행목적    279229 non-null  object\n",
      " 9   대상인원    277894 non-null  object\n",
      " 10  결제방법    279048 non-null  object\n",
      " 11  집행금액    279251 non-null  int64 \n",
      "dtypes: int64(3), object(9)\n",
      "memory usage: 25.6+ MB\n"
     ]
    }
   ],
   "source": [
    "df_expense_all.info()"
   ]
  },
  {
   "cell_type": "markdown",
   "metadata": {},
   "source": [
    "**[16장: 578페이지]**"
   ]
  },
  {
   "cell_type": "code",
   "execution_count": 152,
   "metadata": {},
   "outputs": [
    {
     "data": {
      "text/html": [
       "<div>\n",
       "<style scoped>\n",
       "    .dataframe tbody tr th:only-of-type {\n",
       "        vertical-align: middle;\n",
       "    }\n",
       "\n",
       "    .dataframe tbody tr th {\n",
       "        vertical-align: top;\n",
       "    }\n",
       "\n",
       "    .dataframe thead th {\n",
       "        text-align: right;\n",
       "    }\n",
       "</style>\n",
       "<table border=\"1\" class=\"dataframe\">\n",
       "  <thead>\n",
       "    <tr style=\"text-align: right;\">\n",
       "      <th></th>\n",
       "      <th>제목</th>\n",
       "      <th>부서레벨1</th>\n",
       "      <th>부서레벨2</th>\n",
       "      <th>집행연도</th>\n",
       "      <th>집행월</th>\n",
       "      <th>부서명</th>\n",
       "      <th>집행일시</th>\n",
       "      <th>집행장소</th>\n",
       "      <th>집행목적</th>\n",
       "      <th>대상인원</th>\n",
       "      <th>결제방법</th>\n",
       "      <th>집행금액</th>\n",
       "    </tr>\n",
       "  </thead>\n",
       "  <tbody>\n",
       "    <tr>\n",
       "      <th>0</th>\n",
       "      <td>2017년 1월 장애인복지정책과 업무추진비 집행내역</td>\n",
       "      <td>서울시본청</td>\n",
       "      <td>복지본부</td>\n",
       "      <td>2017</td>\n",
       "      <td>1</td>\n",
       "      <td>복지본부 장애인복지정책과</td>\n",
       "      <td>2017-01-26 13:10</td>\n",
       "      <td>동해일식 (중구 무교동)</td>\n",
       "      <td>기본소득과 장애인복지 논의간담회</td>\n",
       "      <td>장애인복지정책팀장 외 2명</td>\n",
       "      <td>카드</td>\n",
       "      <td>76000</td>\n",
       "    </tr>\n",
       "    <tr>\n",
       "      <th>1</th>\n",
       "      <td>2017년 1월 장애인복지정책과 업무추진비 집행내역</td>\n",
       "      <td>서울시본청</td>\n",
       "      <td>복지본부</td>\n",
       "      <td>2017</td>\n",
       "      <td>1</td>\n",
       "      <td>복지본부 장애인복지정책과</td>\n",
       "      <td>2017-01-25 22:41</td>\n",
       "      <td>김앤장 (중구 무교로)</td>\n",
       "      <td>장애인단체 활동지원 논의간담회</td>\n",
       "      <td>장애인복지정책과장 외 3명</td>\n",
       "      <td>카드</td>\n",
       "      <td>102000</td>\n",
       "    </tr>\n",
       "  </tbody>\n",
       "</table>\n",
       "</div>"
      ],
      "text/plain": [
       "                             제목  부서레벨1 부서레벨2  집행연도  집행월            부서명  \\\n",
       "0  2017년 1월 장애인복지정책과 업무추진비 집행내역  서울시본청  복지본부  2017    1  복지본부 장애인복지정책과   \n",
       "1  2017년 1월 장애인복지정책과 업무추진비 집행내역  서울시본청  복지본부  2017    1  복지본부 장애인복지정책과   \n",
       "\n",
       "               집행일시           집행장소               집행목적            대상인원 결제방법  \\\n",
       "0  2017-01-26 13:10  동해일식 (중구 무교동)  기본소득과 장애인복지 논의간담회  장애인복지정책팀장 외 2명   카드   \n",
       "1  2017-01-25 22:41   김앤장 (중구 무교로)   장애인단체 활동지원 논의간담회  장애인복지정책과장 외 3명   카드   \n",
       "\n",
       "     집행금액  \n",
       "0   76000  \n",
       "1  102000  "
      ]
     },
     "execution_count": 152,
     "metadata": {},
     "output_type": "execute_result"
    }
   ],
   "source": [
    "df_expense_all.head(2)"
   ]
  },
  {
   "cell_type": "markdown",
   "metadata": {},
   "source": [
    "**[16장: 578페이지]**"
   ]
  },
  {
   "cell_type": "code",
   "execution_count": 153,
   "metadata": {},
   "outputs": [
    {
     "data": {
      "text/html": [
       "<div>\n",
       "<style scoped>\n",
       "    .dataframe tbody tr th:only-of-type {\n",
       "        vertical-align: middle;\n",
       "    }\n",
       "\n",
       "    .dataframe tbody tr th {\n",
       "        vertical-align: top;\n",
       "    }\n",
       "\n",
       "    .dataframe thead th {\n",
       "        text-align: right;\n",
       "    }\n",
       "</style>\n",
       "<table border=\"1\" class=\"dataframe\">\n",
       "  <thead>\n",
       "    <tr style=\"text-align: right;\">\n",
       "      <th></th>\n",
       "      <th>제목</th>\n",
       "      <th>부서레벨1</th>\n",
       "      <th>부서레벨2</th>\n",
       "      <th>집행연도</th>\n",
       "      <th>집행월</th>\n",
       "      <th>부서명</th>\n",
       "      <th>집행일시</th>\n",
       "      <th>집행장소</th>\n",
       "      <th>집행목적</th>\n",
       "      <th>대상인원</th>\n",
       "      <th>결제방법</th>\n",
       "      <th>집행금액</th>\n",
       "    </tr>\n",
       "  </thead>\n",
       "  <tbody>\n",
       "    <tr>\n",
       "      <th>279249</th>\n",
       "      <td>2020년 12월 서울시본청 청년청 업무추진비 - 기관운영 시책추진 부서운영</td>\n",
       "      <td>서울시본청</td>\n",
       "      <td>청년청</td>\n",
       "      <td>2020</td>\n",
       "      <td>12</td>\n",
       "      <td>청년청</td>\n",
       "      <td>2020-12-01 16:22</td>\n",
       "      <td>카페테리아 마루(중구 서소문로 124)</td>\n",
       "      <td>시의회 정례회 대응 관련 간담회비 지급</td>\n",
       "      <td>청년청(담당관) 외 3명</td>\n",
       "      <td>제로페이</td>\n",
       "      <td>9800</td>\n",
       "    </tr>\n",
       "    <tr>\n",
       "      <th>279250</th>\n",
       "      <td>2020년 12월 서울시본청 청년청 업무추진비 - 기관운영 시책추진 부서운영</td>\n",
       "      <td>서울시본청</td>\n",
       "      <td>청년청</td>\n",
       "      <td>2020</td>\n",
       "      <td>12</td>\n",
       "      <td>청년청</td>\n",
       "      <td>2020-12-01 09:03</td>\n",
       "      <td>스타벅스(중구 서소문로 120)</td>\n",
       "      <td>청년거버넌스 운영 관련 간담회비 지급</td>\n",
       "      <td>청년청(담당관) 외 5명</td>\n",
       "      <td>카드</td>\n",
       "      <td>43500</td>\n",
       "    </tr>\n",
       "  </tbody>\n",
       "</table>\n",
       "</div>"
      ],
      "text/plain": [
       "                                                제목  부서레벨1 부서레벨2  집행연도  집행월  \\\n",
       "279249  2020년 12월 서울시본청 청년청 업무추진비 - 기관운영 시책추진 부서운영  서울시본청   청년청  2020   12   \n",
       "279250  2020년 12월 서울시본청 청년청 업무추진비 - 기관운영 시책추진 부서운영  서울시본청   청년청  2020   12   \n",
       "\n",
       "        부서명              집행일시                   집행장소                   집행목적  \\\n",
       "279249  청년청  2020-12-01 16:22  카페테리아 마루(중구 서소문로 124)  시의회 정례회 대응 관련 간담회비 지급   \n",
       "279250  청년청  2020-12-01 09:03      스타벅스(중구 서소문로 120)   청년거버넌스 운영 관련 간담회비 지급   \n",
       "\n",
       "                 대상인원  결제방법   집행금액  \n",
       "279249  청년청(담당관) 외 3명  제로페이   9800  \n",
       "279250  청년청(담당관) 외 5명    카드  43500  "
      ]
     },
     "execution_count": 153,
     "metadata": {},
     "output_type": "execute_result"
    }
   ],
   "source": [
    "df_expense_all.tail(2)"
   ]
  },
  {
   "cell_type": "markdown",
   "metadata": {},
   "source": [
    "#### 연도별 추이 분석"
   ]
  },
  {
   "cell_type": "markdown",
   "metadata": {},
   "source": [
    "**[16장: 578페이지]**"
   ]
  },
  {
   "cell_type": "code",
   "execution_count": 154,
   "metadata": {},
   "outputs": [
    {
     "data": {
      "text/plain": [
       "2019    74207\n",
       "2018    72218\n",
       "2017    70132\n",
       "2020    62694\n",
       "Name: 집행연도, dtype: int64"
      ]
     },
     "execution_count": 154,
     "metadata": {},
     "output_type": "execute_result"
    }
   ],
   "source": [
    "year_expense = df_expense_all['집행연도'].value_counts()\n",
    "year_expense"
   ]
  },
  {
   "cell_type": "markdown",
   "metadata": {},
   "source": [
    "**[16장: 579페이지]**"
   ]
  },
  {
   "cell_type": "code",
   "execution_count": 155,
   "metadata": {},
   "outputs": [
    {
     "data": {
      "image/png": "[encoded data removed]",
      "text/plain": [
       "<Figure size 432x288 with 1 Axes>"
      ]
     },
     "metadata": {
      "needs_background": "light"
     },
     "output_type": "display_data"
    }
   ],
   "source": [
    "import pandas as pd\n",
    "import matplotlib.pyplot as plt\n",
    "import matplotlib\n",
    "\n",
    "matplotlib.rcParams['font.family'] = 'Malgun Gothic'\n",
    "matplotlib.rcParams['axes.unicode_minus'] = False\n",
    "\n",
    "plt.bar(year_expense.index, year_expense.values, tick_label =year_expense.index, width = 0.5)\n",
    "plt.title(\"연도별 업무추진비 집행 횟수\")\n",
    "plt.xlabel(\"연도\")\n",
    "plt.ylabel(\"집행 횟수\")\n",
    "plt.show()"
   ]
  },
  {
   "cell_type": "markdown",
   "metadata": {},
   "source": [
    "**[16장: 579페이지]**"
   ]
  },
  {
   "cell_type": "code",
   "execution_count": 156,
   "metadata": {},
   "outputs": [
    {
     "data": {
      "text/html": [
       "<div>\n",
       "<style scoped>\n",
       "    .dataframe tbody tr th:only-of-type {\n",
       "        vertical-align: middle;\n",
       "    }\n",
       "\n",
       "    .dataframe tbody tr th {\n",
       "        vertical-align: top;\n",
       "    }\n",
       "\n",
       "    .dataframe thead th {\n",
       "        text-align: right;\n",
       "    }\n",
       "</style>\n",
       "<table border=\"1\" class=\"dataframe\">\n",
       "  <thead>\n",
       "    <tr style=\"text-align: right;\">\n",
       "      <th></th>\n",
       "      <th>집행금액</th>\n",
       "    </tr>\n",
       "    <tr>\n",
       "      <th>집행연도</th>\n",
       "      <th></th>\n",
       "    </tr>\n",
       "  </thead>\n",
       "  <tbody>\n",
       "    <tr>\n",
       "      <th>2017</th>\n",
       "      <td>9076941387</td>\n",
       "    </tr>\n",
       "    <tr>\n",
       "      <th>2018</th>\n",
       "      <td>9937556542</td>\n",
       "    </tr>\n",
       "    <tr>\n",
       "      <th>2019</th>\n",
       "      <td>10532330632</td>\n",
       "    </tr>\n",
       "    <tr>\n",
       "      <th>2020</th>\n",
       "      <td>8359612951</td>\n",
       "    </tr>\n",
       "  </tbody>\n",
       "</table>\n",
       "</div>"
      ],
      "text/plain": [
       "             집행금액\n",
       "집행연도             \n",
       "2017   9076941387\n",
       "2018   9937556542\n",
       "2019  10532330632\n",
       "2020   8359612951"
      ]
     },
     "execution_count": 156,
     "metadata": {},
     "output_type": "execute_result"
    }
   ],
   "source": [
    "import pandas as pd\n",
    "\n",
    "year_total = pd.pivot_table(df_expense_all, index = ['집행연도'], values=['집행금액'], aggfunc = sum)\n",
    "year_total"
   ]
  },
  {
   "cell_type": "markdown",
   "metadata": {},
   "source": [
    "**[16장: 580페이지]**"
   ]
  },
  {
   "cell_type": "code",
   "execution_count": 157,
   "metadata": {},
   "outputs": [
    {
     "data": {
      "image/png": "[encoded data removed]",
      "text/plain": [
       "<Figure size 432x288 with 1 Axes>"
      ]
     },
     "metadata": {
      "needs_background": "light"
     },
     "output_type": "display_data"
    }
   ],
   "source": [
    "import pandas as pd\n",
    "import matplotlib.pyplot as plt\n",
    "import matplotlib\n",
    "\n",
    "matplotlib.rcParams['font.family'] = 'Malgun Gothic'\n",
    "matplotlib.rcParams['axes.unicode_minus'] = False\n",
    "\n",
    "eok_won = 100000000 # 억원\n",
    "(year_total/eok_won).plot.bar(rot=0) # 'rot = 각도'로 xtick 회전 각도를 지정\n",
    "plt.ylabel('집행금액(억원)')\n",
    "plt.show()"
   ]
  },
  {
   "cell_type": "markdown",
   "metadata": {},
   "source": [
    "#### 월별 집행금액 분석"
   ]
  },
  {
   "cell_type": "markdown",
   "metadata": {},
   "source": [
    "**[16장: 581페이지]** "
   ]
  },
  {
   "cell_type": "code",
   "execution_count": 158,
   "metadata": {},
   "outputs": [
    {
     "data": {
      "text/html": [
       "<div>\n",
       "<style scoped>\n",
       "    .dataframe tbody tr th:only-of-type {\n",
       "        vertical-align: middle;\n",
       "    }\n",
       "\n",
       "    .dataframe tbody tr th {\n",
       "        vertical-align: top;\n",
       "    }\n",
       "\n",
       "    .dataframe thead th {\n",
       "        text-align: right;\n",
       "    }\n",
       "</style>\n",
       "<table border=\"1\" class=\"dataframe\">\n",
       "  <thead>\n",
       "    <tr style=\"text-align: right;\">\n",
       "      <th></th>\n",
       "      <th>집행금액</th>\n",
       "    </tr>\n",
       "    <tr>\n",
       "      <th>집행월</th>\n",
       "      <th></th>\n",
       "    </tr>\n",
       "  </thead>\n",
       "  <tbody>\n",
       "    <tr>\n",
       "      <th>1</th>\n",
       "      <td>3105200774</td>\n",
       "    </tr>\n",
       "    <tr>\n",
       "      <th>2</th>\n",
       "      <td>3009867115</td>\n",
       "    </tr>\n",
       "    <tr>\n",
       "      <th>3</th>\n",
       "      <td>2975002964</td>\n",
       "    </tr>\n",
       "    <tr>\n",
       "      <th>4</th>\n",
       "      <td>2904420469</td>\n",
       "    </tr>\n",
       "    <tr>\n",
       "      <th>5</th>\n",
       "      <td>2835444798</td>\n",
       "    </tr>\n",
       "    <tr>\n",
       "      <th>6</th>\n",
       "      <td>3145457557</td>\n",
       "    </tr>\n",
       "    <tr>\n",
       "      <th>7</th>\n",
       "      <td>3185624754</td>\n",
       "    </tr>\n",
       "    <tr>\n",
       "      <th>8</th>\n",
       "      <td>2741011060</td>\n",
       "    </tr>\n",
       "    <tr>\n",
       "      <th>9</th>\n",
       "      <td>3171612146</td>\n",
       "    </tr>\n",
       "    <tr>\n",
       "      <th>10</th>\n",
       "      <td>3047861226</td>\n",
       "    </tr>\n",
       "    <tr>\n",
       "      <th>11</th>\n",
       "      <td>3533411482</td>\n",
       "    </tr>\n",
       "    <tr>\n",
       "      <th>12</th>\n",
       "      <td>4251527167</td>\n",
       "    </tr>\n",
       "  </tbody>\n",
       "</table>\n",
       "</div>"
      ],
      "text/plain": [
       "           집행금액\n",
       "집행월            \n",
       "1    3105200774\n",
       "2    3009867115\n",
       "3    2975002964\n",
       "4    2904420469\n",
       "5    2835444798\n",
       "6    3145457557\n",
       "7    3185624754\n",
       "8    2741011060\n",
       "9    3171612146\n",
       "10   3047861226\n",
       "11   3533411482\n",
       "12   4251527167"
      ]
     },
     "execution_count": 158,
     "metadata": {},
     "output_type": "execute_result"
    }
   ],
   "source": [
    "month_total = pd.pivot_table(df_expense_all, index = ['집행월'], values=['집행금액'], \n",
    "                             aggfunc = sum)\n",
    "month_total"
   ]
  },
  {
   "cell_type": "markdown",
   "metadata": {},
   "source": [
    "**[16장: 581페이지]** "
   ]
  },
  {
   "cell_type": "code",
   "execution_count": 159,
   "metadata": {},
   "outputs": [
    {
     "data": {
      "text/html": [
       "<div>\n",
       "<style scoped>\n",
       "    .dataframe tbody tr th:only-of-type {\n",
       "        vertical-align: middle;\n",
       "    }\n",
       "\n",
       "    .dataframe tbody tr th {\n",
       "        vertical-align: top;\n",
       "    }\n",
       "\n",
       "    .dataframe thead tr th {\n",
       "        text-align: left;\n",
       "    }\n",
       "\n",
       "    .dataframe thead tr:last-of-type th {\n",
       "        text-align: right;\n",
       "    }\n",
       "</style>\n",
       "<table border=\"1\" class=\"dataframe\">\n",
       "  <thead>\n",
       "    <tr>\n",
       "      <th></th>\n",
       "      <th colspan=\"4\" halign=\"left\">집행금액</th>\n",
       "    </tr>\n",
       "    <tr>\n",
       "      <th>집행연도</th>\n",
       "      <th>2017</th>\n",
       "      <th>2018</th>\n",
       "      <th>2019</th>\n",
       "      <th>2020</th>\n",
       "    </tr>\n",
       "    <tr>\n",
       "      <th>집행월</th>\n",
       "      <th></th>\n",
       "      <th></th>\n",
       "      <th></th>\n",
       "      <th></th>\n",
       "    </tr>\n",
       "  </thead>\n",
       "  <tbody>\n",
       "    <tr>\n",
       "      <th>1</th>\n",
       "      <td>710368860</td>\n",
       "      <td>735587570</td>\n",
       "      <td>882512749</td>\n",
       "      <td>776731595</td>\n",
       "    </tr>\n",
       "    <tr>\n",
       "      <th>2</th>\n",
       "      <td>712679864</td>\n",
       "      <td>769360005</td>\n",
       "      <td>768931868</td>\n",
       "      <td>758895378</td>\n",
       "    </tr>\n",
       "    <tr>\n",
       "      <th>3</th>\n",
       "      <td>737250454</td>\n",
       "      <td>761059010</td>\n",
       "      <td>816280447</td>\n",
       "      <td>660413053</td>\n",
       "    </tr>\n",
       "    <tr>\n",
       "      <th>4</th>\n",
       "      <td>635265805</td>\n",
       "      <td>703781418</td>\n",
       "      <td>814657376</td>\n",
       "      <td>750715870</td>\n",
       "    </tr>\n",
       "    <tr>\n",
       "      <th>5</th>\n",
       "      <td>647582378</td>\n",
       "      <td>669044701</td>\n",
       "      <td>747256509</td>\n",
       "      <td>771561210</td>\n",
       "    </tr>\n",
       "    <tr>\n",
       "      <th>6</th>\n",
       "      <td>758257342</td>\n",
       "      <td>690652154</td>\n",
       "      <td>775945999</td>\n",
       "      <td>920602062</td>\n",
       "    </tr>\n",
       "    <tr>\n",
       "      <th>7</th>\n",
       "      <td>701604626</td>\n",
       "      <td>788926477</td>\n",
       "      <td>881725566</td>\n",
       "      <td>813368085</td>\n",
       "    </tr>\n",
       "    <tr>\n",
       "      <th>8</th>\n",
       "      <td>661174850</td>\n",
       "      <td>730290532</td>\n",
       "      <td>762251087</td>\n",
       "      <td>587294591</td>\n",
       "    </tr>\n",
       "    <tr>\n",
       "      <th>9</th>\n",
       "      <td>806170700</td>\n",
       "      <td>769404957</td>\n",
       "      <td>841641708</td>\n",
       "      <td>754394781</td>\n",
       "    </tr>\n",
       "    <tr>\n",
       "      <th>10</th>\n",
       "      <td>637219943</td>\n",
       "      <td>827022975</td>\n",
       "      <td>861865780</td>\n",
       "      <td>721752528</td>\n",
       "    </tr>\n",
       "    <tr>\n",
       "      <th>11</th>\n",
       "      <td>843619171</td>\n",
       "      <td>960310221</td>\n",
       "      <td>915992092</td>\n",
       "      <td>813489998</td>\n",
       "    </tr>\n",
       "    <tr>\n",
       "      <th>12</th>\n",
       "      <td>1225747394</td>\n",
       "      <td>1532116522</td>\n",
       "      <td>1463269451</td>\n",
       "      <td>30393800</td>\n",
       "    </tr>\n",
       "  </tbody>\n",
       "</table>\n",
       "</div>"
      ],
      "text/plain": [
       "            집행금액                                   \n",
       "집행연도        2017        2018        2019       2020\n",
       "집행월                                                \n",
       "1      710368860   735587570   882512749  776731595\n",
       "2      712679864   769360005   768931868  758895378\n",
       "3      737250454   761059010   816280447  660413053\n",
       "4      635265805   703781418   814657376  750715870\n",
       "5      647582378   669044701   747256509  771561210\n",
       "6      758257342   690652154   775945999  920602062\n",
       "7      701604626   788926477   881725566  813368085\n",
       "8      661174850   730290532   762251087  587294591\n",
       "9      806170700   769404957   841641708  754394781\n",
       "10     637219943   827022975   861865780  721752528\n",
       "11     843619171   960310221   915992092  813489998\n",
       "12    1225747394  1532116522  1463269451   30393800"
      ]
     },
     "execution_count": 159,
     "metadata": {},
     "output_type": "execute_result"
    }
   ],
   "source": [
    "year_month_total = pd.pivot_table(df_expense_all, index = ['집행월'], columns=['집행연도'], \n",
    "                                  values=['집행금액'], aggfunc = sum)\n",
    "year_month_total"
   ]
  },
  {
   "cell_type": "markdown",
   "metadata": {},
   "source": [
    "**[16장: 582페이지]** "
   ]
  },
  {
   "cell_type": "code",
   "execution_count": 162,
   "metadata": {},
   "outputs": [
    {
     "data": {
      "image/png": "[encoded data removed]",
      "text/plain": [
       "<Figure size 432x288 with 1 Axes>"
      ]
     },
     "metadata": {
      "needs_background": "light"
     },
     "output_type": "display_data"
    }
   ],
   "source": [
    "eok_won = 100000000 # 억원\n",
    "\n",
    "(year_month_total/eok_won).plot.bar(rot=0)\n",
    "plt.ylabel('집행금액(억원)')\n",
    "plt.title(\"업무추진비의 월별 집행8금액\")\n",
    "plt.legend(['2017년', '2018년', '2019년', '2020년'])\n",
    "plt.show()"
   ]
  },
  {
   "cell_type": "markdown",
   "metadata": {},
   "source": [
    "#### 부서별 집행 내역 분석"
   ]
  },
  {
   "cell_type": "markdown",
   "metadata": {},
   "source": [
    "**[16장: 583페이지]** "
   ]
  },
  {
   "cell_type": "code",
   "execution_count": 163,
   "metadata": {},
   "outputs": [
    {
     "data": {
      "text/html": [
       "<div>\n",
       "<style scoped>\n",
       "    .dataframe tbody tr th:only-of-type {\n",
       "        vertical-align: middle;\n",
       "    }\n",
       "\n",
       "    .dataframe tbody tr th {\n",
       "        vertical-align: top;\n",
       "    }\n",
       "\n",
       "    .dataframe thead th {\n",
       "        text-align: right;\n",
       "    }\n",
       "</style>\n",
       "<table border=\"1\" class=\"dataframe\">\n",
       "  <thead>\n",
       "    <tr style=\"text-align: right;\">\n",
       "      <th></th>\n",
       "      <th>집행금액</th>\n",
       "    </tr>\n",
       "    <tr>\n",
       "      <th>부서레벨1</th>\n",
       "      <th></th>\n",
       "    </tr>\n",
       "  </thead>\n",
       "  <tbody>\n",
       "    <tr>\n",
       "      <th>사업소</th>\n",
       "      <td>8472430877</td>\n",
       "    </tr>\n",
       "    <tr>\n",
       "      <th>서울시본청</th>\n",
       "      <td>21132744980</td>\n",
       "    </tr>\n",
       "    <tr>\n",
       "      <th>소방재난본부(소방서)</th>\n",
       "      <td>6620166045</td>\n",
       "    </tr>\n",
       "    <tr>\n",
       "      <th>의회사무처</th>\n",
       "      <td>1681099610</td>\n",
       "    </tr>\n",
       "  </tbody>\n",
       "</table>\n",
       "</div>"
      ],
      "text/plain": [
       "                    집행금액\n",
       "부서레벨1                   \n",
       "사업소           8472430877\n",
       "서울시본청        21132744980\n",
       "소방재난본부(소방서)   6620166045\n",
       "의회사무처         1681099610"
      ]
     },
     "execution_count": 163,
     "metadata": {},
     "output_type": "execute_result"
    }
   ],
   "source": [
    "dept_level1_total = pd.pivot_table(df_expense_all, index = ['부서레벨1'], values=['집행금액'], \n",
    "                                   aggfunc = sum)\n",
    "dept_level1_total"
   ]
  },
  {
   "cell_type": "markdown",
   "metadata": {},
   "source": [
    "**[16장: 584페이지]** "
   ]
  },
  {
   "cell_type": "code",
   "execution_count": 164,
   "metadata": {},
   "outputs": [
    {
     "data": {
      "text/html": [
       "<div>\n",
       "<style scoped>\n",
       "    .dataframe tbody tr th:only-of-type {\n",
       "        vertical-align: middle;\n",
       "    }\n",
       "\n",
       "    .dataframe tbody tr th {\n",
       "        vertical-align: top;\n",
       "    }\n",
       "\n",
       "    .dataframe thead th {\n",
       "        text-align: right;\n",
       "    }\n",
       "</style>\n",
       "<table border=\"1\" class=\"dataframe\">\n",
       "  <thead>\n",
       "    <tr style=\"text-align: right;\">\n",
       "      <th></th>\n",
       "      <th>집행금액</th>\n",
       "    </tr>\n",
       "    <tr>\n",
       "      <th>부서레벨2</th>\n",
       "      <th></th>\n",
       "    </tr>\n",
       "  </thead>\n",
       "  <tbody>\n",
       "    <tr>\n",
       "      <th>119특수구조단</th>\n",
       "      <td>150847260</td>\n",
       "    </tr>\n",
       "    <tr>\n",
       "      <th>감사위원회</th>\n",
       "      <td>444509430</td>\n",
       "    </tr>\n",
       "    <tr>\n",
       "      <th>강남소방서</th>\n",
       "      <td>282234770</td>\n",
       "    </tr>\n",
       "    <tr>\n",
       "      <th>강동소방서</th>\n",
       "      <td>241954930</td>\n",
       "    </tr>\n",
       "    <tr>\n",
       "      <th>강북소방서</th>\n",
       "      <td>210519430</td>\n",
       "    </tr>\n",
       "  </tbody>\n",
       "</table>\n",
       "</div>"
      ],
      "text/plain": [
       "               집행금액\n",
       "부서레벨2              \n",
       "119특수구조단  150847260\n",
       "감사위원회     444509430\n",
       "강남소방서     282234770\n",
       "강동소방서     241954930\n",
       "강북소방서     210519430"
      ]
     },
     "execution_count": 164,
     "metadata": {},
     "output_type": "execute_result"
    }
   ],
   "source": [
    "dept_level_2_total = pd.pivot_table(df_expense_all, index = ['부서레벨2'], values=['집행금액'], \n",
    "                                    aggfunc = sum)\n",
    "dept_level_2_total.head()\n"
   ]
  },
  {
   "cell_type": "markdown",
   "metadata": {},
   "source": [
    "**[16장: 584페이지]** "
   ]
  },
  {
   "cell_type": "code",
   "execution_count": 165,
   "metadata": {},
   "outputs": [
    {
     "data": {
      "text/html": [
       "<div>\n",
       "<style scoped>\n",
       "    .dataframe tbody tr th:only-of-type {\n",
       "        vertical-align: middle;\n",
       "    }\n",
       "\n",
       "    .dataframe tbody tr th {\n",
       "        vertical-align: top;\n",
       "    }\n",
       "\n",
       "    .dataframe thead th {\n",
       "        text-align: right;\n",
       "    }\n",
       "</style>\n",
       "<table border=\"1\" class=\"dataframe\">\n",
       "  <thead>\n",
       "    <tr style=\"text-align: right;\">\n",
       "      <th></th>\n",
       "      <th>집행금액</th>\n",
       "    </tr>\n",
       "    <tr>\n",
       "      <th>부서레벨2</th>\n",
       "      <th></th>\n",
       "    </tr>\n",
       "  </thead>\n",
       "  <tbody>\n",
       "    <tr>\n",
       "      <th>상수도사업본부</th>\n",
       "      <td>2748063538</td>\n",
       "    </tr>\n",
       "    <tr>\n",
       "      <th>기획조정실</th>\n",
       "      <td>1992330438</td>\n",
       "    </tr>\n",
       "    <tr>\n",
       "      <th>행정국</th>\n",
       "      <td>1642917294</td>\n",
       "    </tr>\n",
       "    <tr>\n",
       "      <th>서울특별시장</th>\n",
       "      <td>1123172470</td>\n",
       "    </tr>\n",
       "    <tr>\n",
       "      <th>시민소통기획관</th>\n",
       "      <td>1119461054</td>\n",
       "    </tr>\n",
       "    <tr>\n",
       "      <th>도시기반시설본부</th>\n",
       "      <td>787166854</td>\n",
       "    </tr>\n",
       "    <tr>\n",
       "      <th>정무부시장</th>\n",
       "      <td>742219632</td>\n",
       "    </tr>\n",
       "    <tr>\n",
       "      <th>행정1부시장</th>\n",
       "      <td>713975128</td>\n",
       "    </tr>\n",
       "    <tr>\n",
       "      <th>기후환경본부</th>\n",
       "      <td>662702302</td>\n",
       "    </tr>\n",
       "    <tr>\n",
       "      <th>문화본부</th>\n",
       "      <td>631415332</td>\n",
       "    </tr>\n",
       "  </tbody>\n",
       "</table>\n",
       "</div>"
      ],
      "text/plain": [
       "                집행금액\n",
       "부서레벨2               \n",
       "상수도사업본부   2748063538\n",
       "기획조정실     1992330438\n",
       "행정국       1642917294\n",
       "서울특별시장    1123172470\n",
       "시민소통기획관   1119461054\n",
       "도시기반시설본부   787166854\n",
       "정무부시장      742219632\n",
       "행정1부시장     713975128\n",
       "기후환경본부     662702302\n",
       "문화본부       631415332"
      ]
     },
     "execution_count": 165,
     "metadata": {},
     "output_type": "execute_result"
    }
   ],
   "source": [
    "dept_level_2_total_top10 = dept_level_2_total.sort_values(by=['집행금액'], ascending = False)[0:10]\n",
    "dept_level_2_total_top10"
   ]
  },
  {
   "cell_type": "markdown",
   "metadata": {},
   "source": [
    "**[16장: 585페이지]** "
   ]
  },
  {
   "cell_type": "code",
   "execution_count": 166,
   "metadata": {},
   "outputs": [
    {
     "data": {
      "image/png": "[encoded data removed]",
      "text/plain": [
       "<Figure size 432x288 with 1 Axes>"
      ]
     },
     "metadata": {
      "needs_background": "light"
     },
     "output_type": "display_data"
    }
   ],
   "source": [
    "eok_won = 100000000 # 억원\n",
    "\n",
    "(dept_level_2_total_top10/eok_won).plot.bar(rot=80)\n",
    "plt.ylabel('집행금액(억원)')\n",
    "plt.title(\"업무추진비 집행금액이 높은 상위 10개 부서\")\n",
    "plt.show()\n"
   ]
  },
  {
   "cell_type": "markdown",
   "metadata": {},
   "source": [
    "**[16장: 585 ~ 586페이지]** "
   ]
  },
  {
   "cell_type": "code",
   "execution_count": 167,
   "metadata": {},
   "outputs": [
    {
     "data": {
      "image/png": "[encoded data removed]",
      "text/plain": [
       "<Figure size 864x648 with 1 Axes>"
      ]
     },
     "metadata": {
      "needs_background": "light"
     },
     "output_type": "display_data"
    }
   ],
   "source": [
    "import matplotlib.pyplot as plt\n",
    "from wordcloud import WordCloud\n",
    "\n",
    "korean_font_path = 'C:/Windows/Fonts/malgun.ttf' # 한글 폰트(맑은 고딕) 파일명\n",
    "\n",
    "# 워드 클라우드 이미지 생성\n",
    "wc = WordCloud(font_path=korean_font_path, background_color='white',\n",
    "              width=800, height=600)\n",
    "\n",
    "frequencies = dept_level_2_total['집행금액'] # pandas의 Series 형식이 됨\n",
    "wordcloud_image = wc.generate_from_frequencies(frequencies)\n",
    "\n",
    "plt.figure(figsize=(12,9))\n",
    "plt.axis('off')\n",
    "plt.imshow(wordcloud_image, interpolation = 'bilinear')\n",
    "plt.show()"
   ]
  },
  {
   "cell_type": "markdown",
   "metadata": {},
   "source": [
    "#### 요일별 및 시간대별 집행 내역 분석"
   ]
  },
  {
   "cell_type": "markdown",
   "metadata": {},
   "source": [
    "**[16장: 586페이지]** "
   ]
  },
  {
   "cell_type": "code",
   "execution_count": 168,
   "metadata": {},
   "outputs": [
    {
     "data": {
      "text/plain": [
       "array(['2017-01-26 13:10', '2017-01-25 22:41', '2017-01-24 12:35', ...,\n",
       "       '2020-12-01 19:45', '2020-12-01 16:22', '2020-12-01 09:03'],\n",
       "      dtype=object)"
      ]
     },
     "execution_count": 168,
     "metadata": {},
     "output_type": "execute_result"
    }
   ],
   "source": [
    "df_expense_all['집행일시'].values"
   ]
  },
  {
   "cell_type": "markdown",
   "metadata": {},
   "source": [
    "**[16장: 587페이지]** "
   ]
  },
  {
   "cell_type": "code",
   "execution_count": 169,
   "metadata": {},
   "outputs": [
    {
     "data": {
      "text/plain": [
       "array(['2017-01-26T13:10:00.000000000', '2017-01-25T22:41:00.000000000',\n",
       "       '2017-01-24T12:35:00.000000000', ...,\n",
       "       '2020-12-01T19:45:00.000000000', '2020-12-01T16:22:00.000000000',\n",
       "       '2020-12-01T09:03:00.000000000'], dtype='datetime64[ns]')"
      ]
     },
     "execution_count": 169,
     "metadata": {},
     "output_type": "execute_result"
    }
   ],
   "source": [
    "expense_date_time = pd.to_datetime(df_expense_all['집행일시'])\n",
    "expense_date_time.values"
   ]
  },
  {
   "cell_type": "markdown",
   "metadata": {},
   "source": [
    "**[16장: 587페이지]**  "
   ]
  },
  {
   "cell_type": "code",
   "execution_count": 170,
   "metadata": {},
   "outputs": [],
   "source": [
    "week_day_name = [\"월\", \"화\", \"수\", \"목\", \"금\", \"토\", \"일\"]\n",
    "\n",
    "df_expense_all['집행일시_요일'] = [week_day_name[weekday] for weekday in expense_date_time.dt.weekday]"
   ]
  },
  {
   "cell_type": "markdown",
   "metadata": {},
   "source": [
    "**[16장: 587페이지]**  "
   ]
  },
  {
   "cell_type": "code",
   "execution_count": 171,
   "metadata": {},
   "outputs": [],
   "source": [
    "df_expense_all['집행일시_시간'] = [hour for hour in expense_date_time.dt.hour]"
   ]
  },
  {
   "cell_type": "markdown",
   "metadata": {},
   "source": [
    "**[16장: 587페이지]**  "
   ]
  },
  {
   "cell_type": "code",
   "execution_count": 172,
   "metadata": {},
   "outputs": [
    {
     "data": {
      "text/html": [
       "<div>\n",
       "<style scoped>\n",
       "    .dataframe tbody tr th:only-of-type {\n",
       "        vertical-align: middle;\n",
       "    }\n",
       "\n",
       "    .dataframe tbody tr th {\n",
       "        vertical-align: top;\n",
       "    }\n",
       "\n",
       "    .dataframe thead th {\n",
       "        text-align: right;\n",
       "    }\n",
       "</style>\n",
       "<table border=\"1\" class=\"dataframe\">\n",
       "  <thead>\n",
       "    <tr style=\"text-align: right;\">\n",
       "      <th></th>\n",
       "      <th>제목</th>\n",
       "      <th>부서레벨1</th>\n",
       "      <th>부서레벨2</th>\n",
       "      <th>집행연도</th>\n",
       "      <th>집행월</th>\n",
       "      <th>부서명</th>\n",
       "      <th>집행일시</th>\n",
       "      <th>집행장소</th>\n",
       "      <th>집행목적</th>\n",
       "      <th>대상인원</th>\n",
       "      <th>결제방법</th>\n",
       "      <th>집행금액</th>\n",
       "      <th>집행일시_요일</th>\n",
       "      <th>집행일시_시간</th>\n",
       "    </tr>\n",
       "  </thead>\n",
       "  <tbody>\n",
       "    <tr>\n",
       "      <th>0</th>\n",
       "      <td>2017년 1월 장애인복지정책과 업무추진비 집행내역</td>\n",
       "      <td>서울시본청</td>\n",
       "      <td>복지본부</td>\n",
       "      <td>2017</td>\n",
       "      <td>1</td>\n",
       "      <td>복지본부 장애인복지정책과</td>\n",
       "      <td>2017-01-26 13:10</td>\n",
       "      <td>동해일식 (중구 무교동)</td>\n",
       "      <td>기본소득과 장애인복지 논의간담회</td>\n",
       "      <td>장애인복지정책팀장 외 2명</td>\n",
       "      <td>카드</td>\n",
       "      <td>76000</td>\n",
       "      <td>목</td>\n",
       "      <td>13</td>\n",
       "    </tr>\n",
       "    <tr>\n",
       "      <th>1</th>\n",
       "      <td>2017년 1월 장애인복지정책과 업무추진비 집행내역</td>\n",
       "      <td>서울시본청</td>\n",
       "      <td>복지본부</td>\n",
       "      <td>2017</td>\n",
       "      <td>1</td>\n",
       "      <td>복지본부 장애인복지정책과</td>\n",
       "      <td>2017-01-25 22:41</td>\n",
       "      <td>김앤장 (중구 무교로)</td>\n",
       "      <td>장애인단체 활동지원 논의간담회</td>\n",
       "      <td>장애인복지정책과장 외 3명</td>\n",
       "      <td>카드</td>\n",
       "      <td>102000</td>\n",
       "      <td>수</td>\n",
       "      <td>22</td>\n",
       "    </tr>\n",
       "    <tr>\n",
       "      <th>2</th>\n",
       "      <td>2017년 1월 장애인복지정책과 업무추진비 집행내역</td>\n",
       "      <td>서울시본청</td>\n",
       "      <td>복지본부</td>\n",
       "      <td>2017</td>\n",
       "      <td>1</td>\n",
       "      <td>복지본부 장애인복지정책과</td>\n",
       "      <td>2017-01-24 12:35</td>\n",
       "      <td>왕왕생고기 (중구 을지로)</td>\n",
       "      <td>장애인 기본돌봄 복지시책 논의간담회</td>\n",
       "      <td>장애인복지정책팀장외7명</td>\n",
       "      <td>카드</td>\n",
       "      <td>80000</td>\n",
       "      <td>화</td>\n",
       "      <td>12</td>\n",
       "    </tr>\n",
       "  </tbody>\n",
       "</table>\n",
       "</div>"
      ],
      "text/plain": [
       "                             제목  부서레벨1 부서레벨2  집행연도  집행월            부서명  \\\n",
       "0  2017년 1월 장애인복지정책과 업무추진비 집행내역  서울시본청  복지본부  2017    1  복지본부 장애인복지정책과   \n",
       "1  2017년 1월 장애인복지정책과 업무추진비 집행내역  서울시본청  복지본부  2017    1  복지본부 장애인복지정책과   \n",
       "2  2017년 1월 장애인복지정책과 업무추진비 집행내역  서울시본청  복지본부  2017    1  복지본부 장애인복지정책과   \n",
       "\n",
       "               집행일시            집행장소                 집행목적            대상인원 결제방법  \\\n",
       "0  2017-01-26 13:10   동해일식 (중구 무교동)    기본소득과 장애인복지 논의간담회  장애인복지정책팀장 외 2명   카드   \n",
       "1  2017-01-25 22:41    김앤장 (중구 무교로)     장애인단체 활동지원 논의간담회  장애인복지정책과장 외 3명   카드   \n",
       "2  2017-01-24 12:35  왕왕생고기 (중구 을지로)  장애인 기본돌봄 복지시책 논의간담회    장애인복지정책팀장외7명   카드   \n",
       "\n",
       "     집행금액 집행일시_요일  집행일시_시간  \n",
       "0   76000       목       13  \n",
       "1  102000       수       22  \n",
       "2   80000       화       12  "
      ]
     },
     "execution_count": 172,
     "metadata": {},
     "output_type": "execute_result"
    }
   ],
   "source": [
    "df_expense_all.head(3)"
   ]
  },
  {
   "cell_type": "markdown",
   "metadata": {},
   "source": [
    "**[16장: 588페이지]**  "
   ]
  },
  {
   "cell_type": "code",
   "execution_count": 173,
   "metadata": {},
   "outputs": [
    {
     "data": {
      "text/plain": [
       "목    58730\n",
       "화    56822\n",
       "수    54980\n",
       "금    52708\n",
       "월    51192\n",
       "토     2715\n",
       "일     2104\n",
       "Name: 집행일시_요일, dtype: int64"
      ]
     },
     "execution_count": 173,
     "metadata": {},
     "output_type": "execute_result"
    }
   ],
   "source": [
    "expense_weekday = df_expense_all['집행일시_요일'].value_counts()\n",
    "expense_weekday"
   ]
  },
  {
   "cell_type": "markdown",
   "metadata": {},
   "source": [
    "**[16장: 588페이지]**  "
   ]
  },
  {
   "cell_type": "code",
   "execution_count": 174,
   "metadata": {},
   "outputs": [
    {
     "data": {
      "text/plain": [
       "월    51192\n",
       "화    56822\n",
       "수    54980\n",
       "목    58730\n",
       "금    52708\n",
       "토     2715\n",
       "일     2104\n",
       "Name: 집행일시_요일, dtype: int64"
      ]
     },
     "execution_count": 174,
     "metadata": {},
     "output_type": "execute_result"
    }
   ],
   "source": [
    "expense_weekday = expense_weekday.reindex(index = week_day_name)\n",
    "expense_weekday"
   ]
  },
  {
   "cell_type": "markdown",
   "metadata": {},
   "source": [
    "**[16장: 589페이지]**  "
   ]
  },
  {
   "cell_type": "code",
   "execution_count": 175,
   "metadata": {},
   "outputs": [
    {
     "data": {
      "image/png": "[encoded data removed]",
      "text/plain": [
       "<Figure size 432x288 with 1 Axes>"
      ]
     },
     "metadata": {
      "needs_background": "light"
     },
     "output_type": "display_data"
    }
   ],
   "source": [
    "expense_weekday.plot.bar(rot=0)\n",
    "plt.title(\"요일별 업무추진비 집행 횟수\")\n",
    "plt.xlabel(\"요일\")\n",
    "plt.ylabel(\"집행 횟수\")\n",
    "plt.show()"
   ]
  },
  {
   "cell_type": "markdown",
   "metadata": {},
   "source": [
    "**[16장: 589페이지]**  "
   ]
  },
  {
   "cell_type": "code",
   "execution_count": 176,
   "metadata": {},
   "outputs": [
    {
     "data": {
      "text/plain": [
       "12    115190\n",
       "20     28282\n",
       "13     26732\n",
       "19     20334\n",
       "21     15049\n",
       "11     11849\n",
       "14     11204\n",
       "15      9492\n",
       "10      7627\n",
       "18      7210\n",
       "16      6667\n",
       "0       6142\n",
       "9       4774\n",
       "17      3739\n",
       "22      3041\n",
       "8       1112\n",
       "7        467\n",
       "23       141\n",
       "6         52\n",
       "1         51\n",
       "3         29\n",
       "4         27\n",
       "5         20\n",
       "2         20\n",
       "Name: 집행일시_시간, dtype: int64"
      ]
     },
     "execution_count": 176,
     "metadata": {},
     "output_type": "execute_result"
    }
   ],
   "source": [
    "expense_hour_num = df_expense_all['집행일시_시간'].value_counts()\n",
    "expense_hour_num"
   ]
  },
  {
   "cell_type": "markdown",
   "metadata": {},
   "source": [
    "**[16장: 590페이지]**  "
   ]
  },
  {
   "cell_type": "code",
   "execution_count": 177,
   "metadata": {},
   "outputs": [
    {
     "data": {
      "text/plain": [
       "8       1112\n",
       "9       4774\n",
       "10      7627\n",
       "11     11849\n",
       "12    115190\n",
       "13     26732\n",
       "14     11204\n",
       "15      9492\n",
       "16      6667\n",
       "17      3739\n",
       "18      7210\n",
       "19     20334\n",
       "20     28282\n",
       "21     15049\n",
       "22      3041\n",
       "23       141\n",
       "0       6142\n",
       "1         51\n",
       "2         20\n",
       "3         29\n",
       "4         27\n",
       "5         20\n",
       "6         52\n",
       "7        467\n",
       "Name: 집행일시_시간, dtype: int64"
      ]
     },
     "execution_count": 177,
     "metadata": {},
     "output_type": "execute_result"
    }
   ],
   "source": [
    "work_hour = [ (k+8)%24 for k in range(24)]\n",
    "expense_hour_num = expense_hour_num.reindex(index = work_hour)\n",
    "expense_hour_num"
   ]
  },
  {
   "cell_type": "markdown",
   "metadata": {},
   "source": [
    "**[16장: 591페이지]** "
   ]
  },
  {
   "cell_type": "code",
   "execution_count": 179,
   "metadata": {},
   "outputs": [
    {
     "data": {
      "image/png": "[encoded data removed]",
      "text/plain": [
       "<Figure size 432x288 with 1 Axes>"
      ]
     },
     "metadata": {
      "needs_background": "light"
     },
     "output_type": "display_data"
    }
   ],
   "source": [
    "expense_hour_num.plot.bar(rot = 0)\n",
    "plt.title(\"시간별 업무추진비 집행 횟수\")\n",
    "plt.xlabel(\"집행 시간\")\n",
    "plt.ylabel(\"집행 횟수\")\n",
    "plt.show()"
   ]
  },
  {
   "cell_type": "markdown",
   "metadata": {},
   "source": [
    "**[16장: 592페이지]** "
   ]
  },
  {
   "cell_type": "code",
   "execution_count": 180,
   "metadata": {},
   "outputs": [
    {
     "data": {
      "text/html": [
       "<div>\n",
       "<style scoped>\n",
       "    .dataframe tbody tr th:only-of-type {\n",
       "        vertical-align: middle;\n",
       "    }\n",
       "\n",
       "    .dataframe tbody tr th {\n",
       "        vertical-align: top;\n",
       "    }\n",
       "\n",
       "    .dataframe thead th {\n",
       "        text-align: right;\n",
       "    }\n",
       "</style>\n",
       "<table border=\"1\" class=\"dataframe\">\n",
       "  <thead>\n",
       "    <tr style=\"text-align: right;\">\n",
       "      <th></th>\n",
       "      <th>집행금액</th>\n",
       "    </tr>\n",
       "    <tr>\n",
       "      <th>집행일시_시간</th>\n",
       "      <th></th>\n",
       "    </tr>\n",
       "  </thead>\n",
       "  <tbody>\n",
       "    <tr>\n",
       "      <th>0</th>\n",
       "      <td>1058894306</td>\n",
       "    </tr>\n",
       "    <tr>\n",
       "      <th>1</th>\n",
       "      <td>8870161</td>\n",
       "    </tr>\n",
       "    <tr>\n",
       "      <th>2</th>\n",
       "      <td>2715190</td>\n",
       "    </tr>\n",
       "    <tr>\n",
       "      <th>3</th>\n",
       "      <td>7671262</td>\n",
       "    </tr>\n",
       "    <tr>\n",
       "      <th>4</th>\n",
       "      <td>5868431</td>\n",
       "    </tr>\n",
       "  </tbody>\n",
       "</table>\n",
       "</div>"
      ],
      "text/plain": [
       "               집행금액\n",
       "집행일시_시간            \n",
       "0        1058894306\n",
       "1           8870161\n",
       "2           2715190\n",
       "3           7671262\n",
       "4           5868431"
      ]
     },
     "execution_count": 180,
     "metadata": {},
     "output_type": "execute_result"
    }
   ],
   "source": [
    "expense_hour_total = pd.pivot_table(df_expense_all, index = ['집행일시_시간'],\n",
    "                                    values=['집행금액'], aggfunc = sum)\n",
    "expense_hour_total.head()"
   ]
  },
  {
   "cell_type": "markdown",
   "metadata": {},
   "source": [
    "**[16장: 592페이지]** "
   ]
  },
  {
   "cell_type": "code",
   "execution_count": 181,
   "metadata": {},
   "outputs": [
    {
     "data": {
      "image/png": "[encoded data removed]",
      "text/plain": [
       "<Figure size 432x288 with 1 Axes>"
      ]
     },
     "metadata": {
      "needs_background": "light"
     },
     "output_type": "display_data"
    }
   ],
   "source": [
    "eok_won = 100000000 # 억원\n",
    "expense_hour_total = expense_hour_total.reindex(index = work_hour)\n",
    "\n",
    "(expense_hour_total/eok_won).plot.bar(rot=0)\n",
    "plt.ylabel('집행금액(억원)')\n",
    "plt.title(\"시간별대 업무추진비 집행금액\")\n",
    "plt.show()"
   ]
  },
  {
   "cell_type": "markdown",
   "metadata": {},
   "source": [
    "## 16.4 정리"
   ]
  }
 ],
 "metadata": {
  "kernelspec": {
   "display_name": "Python 3",
   "language": "python",
   "name": "python3"
  },
  "language_info": {
   "codemirror_mode": {
    "name": "ipython",
    "version": 3
   },
   "file_extension": ".py",
   "mimetype": "text/x-python",
   "name": "python",
   "nbconvert_exporter": "python",
   "pygments_lexer": "ipython3",
   "version": "3.7.4"
  },
  "toc": {
   "nav_menu": {},
   "number_sections": true,
   "sideBar": true,
   "skip_h1_title": false,
   "toc_cell": true,
   "toc_position": {
    "height": "581.867px",
    "left": "0px",
    "right": "1035px",
    "top": "111.133px",
    "width": "331px"
   },
   "toc_section_display": "block",
   "toc_window_display": true
  },
  "toc-autonumbering": false,
  "toc-showcode": false,
  "toc-showmarkdowntxt": false,
  "toc-showtags": false
 },
 "nbformat": 4,
 "nbformat_minor": 2
}
