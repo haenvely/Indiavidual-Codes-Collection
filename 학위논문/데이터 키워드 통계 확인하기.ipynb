{
 "cells": [
  {
   "cell_type": "markdown",
   "metadata": {},
   "source": [
    "# 데이터 통계 확인\n",
    "수집한 데이터라 어떤 특징을 보이고 있는지 간단하게 확인해 보자.\n",
    "\n",
    "어벤져스 또는 스포가 포함된 트윗을 수집하였는데, 각각의 빈도는 어느 정도일까?"
   ]
  },
  {
   "cell_type": "code",
   "execution_count": 1,
   "metadata": {},
   "outputs": [],
   "source": [
    "brand = '2020hyundai'"
   ]
  },
  {
   "cell_type": "code",
   "execution_count": 2,
   "metadata": {},
   "outputs": [
    {
     "data": {
      "text/html": [
       "<div>\n",
       "<style scoped>\n",
       "    .dataframe tbody tr th:only-of-type {\n",
       "        vertical-align: middle;\n",
       "    }\n",
       "\n",
       "    .dataframe tbody tr th {\n",
       "        vertical-align: top;\n",
       "    }\n",
       "\n",
       "    .dataframe thead th {\n",
       "        text-align: right;\n",
       "    }\n",
       "</style>\n",
       "<table border=\"1\" class=\"dataframe\">\n",
       "  <thead>\n",
       "    <tr style=\"text-align: right;\">\n",
       "      <th></th>\n",
       "      <th>date</th>\n",
       "      <th>time</th>\n",
       "      <th>user</th>\n",
       "      <th>text</th>\n",
       "    </tr>\n",
       "  </thead>\n",
       "  <tbody>\n",
       "    <tr>\n",
       "      <td>0</td>\n",
       "      <td>2020-01-29</td>\n",
       "      <td>23:59:53</td>\n",
       "      <td>BDeAngelis82</td>\n",
       "      <td>not bad . bonus point without affleck hyundai ...</td>\n",
       "    </tr>\n",
       "    <tr>\n",
       "      <td>1</td>\n",
       "      <td>2020-01-29</td>\n",
       "      <td>23:59:35</td>\n",
       "      <td>Bob_Lyons</td>\n",
       "      <td>worcester pronounce woooster ?</td>\n",
       "    </tr>\n",
       "    <tr>\n",
       "      <td>2</td>\n",
       "      <td>2020-01-29</td>\n",
       "      <td>23:58:54</td>\n",
       "      <td>RichieVeganza</td>\n",
       "      <td>palisade bettah</td>\n",
       "    </tr>\n",
       "    <tr>\n",
       "      <td>3</td>\n",
       "      <td>2020-01-29</td>\n",
       "      <td>23:57:08</td>\n",
       "      <td>WaywardByenia</td>\n",
       "      <td>save replace bulb instead let shop charge . . ...</td>\n",
       "    </tr>\n",
       "    <tr>\n",
       "      <td>4</td>\n",
       "      <td>2020-01-29</td>\n",
       "      <td>23:56:51</td>\n",
       "      <td>DaPathanGuy</td>\n",
       "      <td>discover inside hyundai genesis get rid helico...</td>\n",
       "    </tr>\n",
       "  </tbody>\n",
       "</table>\n",
       "</div>"
      ],
      "text/plain": [
       "         date      time           user  \\\n",
       "0  2020-01-29  23:59:53   BDeAngelis82   \n",
       "1  2020-01-29  23:59:35      Bob_Lyons   \n",
       "2  2020-01-29  23:58:54  RichieVeganza   \n",
       "3  2020-01-29  23:57:08  WaywardByenia   \n",
       "4  2020-01-29  23:56:51    DaPathanGuy   \n",
       "\n",
       "                                                text  \n",
       "0  not bad . bonus point without affleck hyundai ...  \n",
       "1                     worcester pronounce woooster ?  \n",
       "2                                    palisade bettah  \n",
       "3  save replace bulb instead let shop charge . . ...  \n",
       "4  discover inside hyundai genesis get rid helico...  "
      ]
     },
     "execution_count": 2,
     "metadata": {},
     "output_type": "execute_result"
    }
   ],
   "source": [
    "# 논문용\n",
    "import pandas as pd\n",
    "file_cols = ['date', 'time', 'user', 'text']\n",
    "file = pd.read_csv(\"./전처리/preprocessed/전처리최종_{}.csv\".format(brand), encoding = 'utf-8', header = None, names = file_cols)\n",
    "file.head()"
   ]
  },
  {
   "cell_type": "code",
   "execution_count": 8,
   "metadata": {},
   "outputs": [
    {
     "data": {
      "image/png": "[encoded data removed]",
      "text/plain": [
       "<Figure size 432x288 with 1 Axes>"
      ]
     },
     "metadata": {
      "needs_background": "light"
     },
     "output_type": "display_data"
    }
   ],
   "source": [
    "# 키워드 빈도 분석하기\n",
    "\n",
    "def get_keywords(dataframe):\n",
    "    keywords = []\n",
    "    dataframe = dataframe.fillna(\"\")\n",
    "    text = dataframe[\"text\"]\n",
    "    if \"superbowl\" in text:\n",
    "        keywords.append(\"superbowl\")\n",
    "    if \"super bowl\" in text:\n",
    "        keywords.append(\"super bowl\")\n",
    "    return \",\".join(keywords)\n",
    "\n",
    "file[\"keyword\"] = file.apply(get_keywords,axis=1)\n",
    "\n",
    "# barplot 그리기\n",
    "\n",
    "import matplotlib.pyplot as plt\n",
    "\n",
    "counts = file[\"keyword\"].value_counts()\n",
    "plt.bar(range(len(counts)), counts)\n",
    "plt.title(\"Tweets mentioning keywords\")\n",
    "plt.ylabel(\"# of tweets\")\n",
    "plt.show()"
   ]
  },
  {
   "cell_type": "code",
   "execution_count": 9,
   "metadata": {},
   "outputs": [
    {
     "name": "stdout",
     "output_type": "stream",
     "text": [
      "                        17684\n",
      "superbowl                1617\n",
      "super bowl                783\n",
      "superbowl,super bowl       99\n",
      "Name: keyword, dtype: int64\n"
     ]
    }
   ],
   "source": [
    "print(counts)"
   ]
  },
  {
   "cell_type": "markdown",
   "metadata": {},
   "source": [
    "barplot을 그릴 때에는 파이썬의 visualization package 중 가장 유명한 matplotlib을 사용했다.\n",
    "\n",
    "스포 가 단일로 포함된 트윗이 14,782개로 가장 많았고, 그 뒤로 어벤져스 단일이 6,902개 , 그리고 어벤져스 와 스포 모두 포함된 트윗이 1,248개 로 파악된다.\n",
    "\n",
    "이번에는 어벤져스 개봉일이 다가오면서 변화하는 트윗의 빈도를 출력해 보자."
   ]
  },
  {
   "cell_type": "code",
   "execution_count": null,
   "metadata": {},
   "outputs": [],
   "source": [
    "# 날짜별 빈도 분석하기\n",
    "\n",
    "counts = df_tweet[\"date\"].value_counts().sort_index()\n",
    "\n",
    "plt.title(\"Tweets mentioning keywords in time series\")\n",
    "plt.ylabel(\"# of tweets\")\n",
    "counts.plot(kind = 'bar')\n",
    "print(counts)"
   ]
  },
  {
   "cell_type": "markdown",
   "metadata": {},
   "source": [
    "## "
   ]
  },
  {
   "cell_type": "code",
   "execution_count": null,
   "metadata": {},
   "outputs": [],
   "source": []
  }
 ],
 "metadata": {
  "kernelspec": {
   "display_name": "Python 3",
   "language": "python",
   "name": "python3"
  },
  "language_info": {
   "codemirror_mode": {
    "name": "ipython",
    "version": 3
   },
   "file_extension": ".py",
   "mimetype": "text/x-python",
   "name": "python",
   "nbconvert_exporter": "python",
   "pygments_lexer": "ipython3",
   "version": "3.7.4"
  }
 },
 "nbformat": 4,
 "nbformat_minor": 2
}
