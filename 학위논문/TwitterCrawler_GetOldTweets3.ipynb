{
 "cells": [
  {
   "cell_type": "markdown",
   "metadata": {},
   "source": [
    "# GetOldTweets3 패키지를 이용한 과거 트윗 수집\n",
    "https://medium.com/@whj2013123218/%ED%8C%8C%EC%9D%B4%EC%8D%AC%EC%9D%84-%EC%9D%B4%EC%9A%A9%ED%95%9C-twitter-%ED%81%AC%EB%A1%A4%EB%A7%81-576f7b098daf\n",
    "https://jeongwookie.github.io/2019/06/10/190610-twitter-data-crawling/"
   ]
  },
  {
   "cell_type": "code",
   "execution_count": 1,
   "metadata": {},
   "outputs": [],
   "source": [
    "# GetOldTweet3 사용 준비\n",
    "try:\n",
    "    import GetOldTweets3 as got\n",
    "except:\n",
    "    !pip install GetOldTweets3\n",
    "    import GetOldTweets3 as got"
   ]
  },
  {
   "cell_type": "code",
   "execution_count": 2,
   "metadata": {},
   "outputs": [],
   "source": [
    "# BeautifulSoup4 사용 준비\n",
    "try:\n",
    "    from bs4 import BeautifulSoup\n",
    "except:\n",
    "    !pip install bs4\n",
    "    from bs4 import BeautifulSoup"
   ]
  },
  {
   "cell_type": "code",
   "execution_count": 4,
   "metadata": {},
   "outputs": [
    {
     "name": "stdout",
     "output_type": "stream",
     "text": [
      "=== 설정된 트윗 수집 기간은 2019-09-23 에서 2019-09-29 까지 입니다 ===\n",
      "=== 총 7일 간의 데이터 수집 ===\n"
     ]
    }
   ],
   "source": [
    "# 가져올 범위를 정의\n",
    "# 예제 : 2019-04-21 ~ 2019-04-24\n",
    "\n",
    "import datetime\n",
    "\n",
    "days_range = []\n",
    "\n",
    "start = datetime.datetime.strptime(\"2019-09-23\", \"%Y-%m-%d\")\n",
    "end = datetime.datetime.strptime(\"2019-09-30\", \"%Y-%m-%d\")\n",
    "date_generated = [start + datetime.timedelta(days=x) for x in range(0, (end-start).days)]\n",
    "\n",
    "for date in date_generated:\n",
    "    days_range.append(date.strftime(\"%Y-%m-%d\"))\n",
    "\n",
    "print(\"=== 설정된 트윗 수집 기간은 {} 에서 {} 까지 입니다 ===\".format(days_range[0], days_range[-1]))\n",
    "print(\"=== 총 {}일 간의 데이터 수집 ===\".format(len(days_range)))\n"
   ]
  },
  {
   "cell_type": "markdown",
   "metadata": {},
   "source": [
    "# 트윗 수집하기\n",
    "\n",
    "이제 본격적으로 트위터에서 데이터를 크롤링할 차례이다.\n",
    "\n",
    "GetOldTweet3는 tweetCriteria로 수집 기준을 정의할 수 있다.\n",
    "\n",
    "앞에서 설정한 수집 기간에서 어벤져스 또는 스포 가 포함된 트윗을 모두 수집해 보자.\n",
    "https://jeongwookie.github.io/2019/06/29/190629-multiprocessing-crawler/ <- 참고(원글 X)"
   ]
  },
  {
   "cell_type": "code",
   "execution_count": 5,
   "metadata": {},
   "outputs": [
    {
     "name": "stdout",
     "output_type": "stream",
     "text": [
      "Collecting data start.. from 2019-09-23 to 2019-09-29\n",
      "Collecting data end.. 28.32 Minutes\n",
      "=== Total num of tweets is 18625 ===\n"
     ]
    }
   ],
   "source": [
    "# 특정 검색어가 포함된 트윗 검색하기 (quary search)\n",
    "# 검색어 : 어벤져스, 스포\n",
    "\n",
    "import time\n",
    "\n",
    "# 수집 기간 맞추기\n",
    "start_date = days_range[0]\n",
    "end_date = (datetime.datetime.strptime(days_range[-1], \"%Y-%m-%d\") \n",
    "            + datetime.timedelta(days=1)).strftime(\"%Y-%m-%d\") # setUntil이 끝을 포함하지 않으므로, day + 1\n",
    "\n",
    "# 트윗 수집 기준 정의\n",
    "tweetCriteria = got.manager.TweetCriteria().setQuerySearch('Kia')\\\n",
    "                                           .setSince(start_date)\\\n",
    "                                           .setUntil(end_date)\\\n",
    "                                           .setMaxTweets(-1)\\\n",
    "                                            .setLang('en')\n",
    "                                            \n",
    "\n",
    "# 수집 with GetOldTweet3\n",
    "print(\"Collecting data start.. from {} to {}\".format(days_range[0], days_range[-1]))\n",
    "start_time = time.time()\n",
    "\n",
    "tweet = got.manager.TweetManager.getTweets(tweetCriteria)\n",
    "\n",
    "print(\"Collecting data end.. {0:0.2f} Minutes\".format((time.time() - start_time)/60))\n",
    "print(\"=== Total num of tweets is {} ===\".format(len(tweet)))\n",
    "\n"
   ]
  },
  {
   "cell_type": "markdown",
   "metadata": {},
   "source": [
    "수집하는 데 시간이 조금 걸린다. 참고로 너무 많은 트윗을 한번에 수집하려다 보면, 트위터 측에서 나가라고 쫒아낸다.. (Error 104)\n",
    "\n",
    "An error occured during an HTTP request: [Errno 104] Connection reset by peer\n",
    "\n",
    "Connection 관련한 에러가 뜨면, 지정한 날짜 범위에 기준을 만족하는 트윗의 수가 너무 많은 것이니 범위를 좁혀서 다시 시도해 보자.\n",
    "\n",
    "수집하는 데 얼마나 시간이 걸렸는지 알아보기 위해 time 을 임포트 해서 코드 몇줄을 추가했다. 참고로 나는 이 과정에서 1시간 넘게 소요된 적도 있었으니 참을성있게 기다려보자.\n",
    "\n",
    "위 코드는 41분 가량 소요되었다. 몇개의 트윗이 수집되었는지 출력되면, 아래 단계로 넘어가자."
   ]
  },
  {
   "cell_type": "markdown",
   "metadata": {},
   "source": [
    "# 변수 저장하기\n",
    "\n",
    "이제 원하는 정보만을 저장해 보자. GetOldTweet3 에서 제공하는 기본 변수 중 유저 아이디, 트윗 링크, 트윗 내용, 날짜, 리트윗 수, 관심글 수를 수집한다.\n",
    "\n",
    "또한, 이 패키지에서 제공하지 않는 변수 중 각 유저의 가입일, 전체 트윗 수, 팔로잉 수, 팔로워 수도 같이 수집한다. 이때, 앞서 준비한 BeautifulSoup4 를 사용한다. 자세한 사용 방법은 이전 포스트들을 참고하자."
   ]
  },
  {
   "cell_type": "code",
   "execution_count": 6,
   "metadata": {},
   "outputs": [],
   "source": [
    "#html parser 정의하기\n",
    "\n",
    "import requests\n",
    "from bs4 import BeautifulSoup\n",
    "\n",
    "def get_bs_obj(url):\n",
    "    result = requests.get(url)\n",
    "    bs_obj = BeautifulSoup(result.content, \"html.parser\")\n",
    "    \n",
    "    return bs_obj"
   ]
  },
  {
   "cell_type": "code",
   "execution_count": 7,
   "metadata": {},
   "outputs": [
    {
     "data": {
      "application/vnd.jupyter.widget-view+json": {
       "model_id": "bba11aac9e5840128e5ea5f29b676b48",
       "version_major": 2,
       "version_minor": 0
      },
      "text/plain": [
       "HBox(children=(IntProgress(value=0, max=18625), HTML(value='')))"
      ]
     },
     "metadata": {},
     "output_type": "display_data"
    },
    {
     "name": "stdout",
     "output_type": "stream",
     "text": [
      "\n"
     ]
    },
    {
     "data": {
      "text/plain": [
       "'    \\n    # === 유저 정보 수집 시작 ===\\n    try:\\n        personal_link = \\'https://twitter.com/\\' + username\\n        bs_obj = get_bs_obj(personal_link)\\n        uls = bs_obj.find(\"ul\", {\"class\": \"ProfileNav-list\"}).find_all(\"li\")\\n        div = bs_obj.find(\"div\", {\"class\": \"ProfileHeaderCard-joinDate\"}).find_all(\"span\")[1][\"title\"]\\n\\n\\n        # 가입일, 전체 트윗 수, 팔로잉 수, 팔로워 수\\n        joined_date = div.split(\\'-\\')[1].strip()\\n        num_tweets = uls[0].find(\"span\", {\"class\": \"ProfileNav-value\"}).text.strip()\\n        num_following = uls[1].find(\"span\", {\"class\": \"ProfileNav-value\"}).text.strip()\\n        num_follower = uls[2].find(\"span\", {\"class\": \"ProfileNav-value\"}).text.strip()\\n    \\n    except AttributeError:\\n        print(\"=== Attribute error occurs at {} ===\".format(link))\\n        print(\"link : {}\".format(personal_link))   \\n        pass\\n    \\n    # 결과 합치기\\n    #info_list = [tweet_date, tweet_time, username, content, link, retweets, favorites]\\n    info_list = [tweet_date,tweet_time,username,content,link,retweets,favorites]\\n                    #, joined_date, num_tweets, num_following, num_follower]\\n    tweet_list.append(info_list)\\n    \\n    # 휴식 \\n    time.sleep(uniform(1,2))\\n'"
      ]
     },
     "execution_count": 7,
     "metadata": {},
     "output_type": "execute_result"
    }
   ],
   "source": [
    "# 원하는 변수 골라서 저장하기\n",
    "\n",
    "from random import uniform\n",
    "from tqdm import tqdm_notebook\n",
    "\n",
    "# initialize\n",
    "tweet_list = []\n",
    "\n",
    "for index in tqdm_notebook(tweet):\n",
    "    \n",
    "    # 메타데이터 목록 \n",
    "    username = index.username\n",
    "    link = index.permalink \n",
    "    content = index.text\n",
    "    tweet_date = index.date.strftime(\"%Y-%m-%d\")\n",
    "    tweet_time = index.date.strftime(\"%H:%M:%S\")\n",
    "    retweets = index.retweets\n",
    "    favorites = index.favorites\n",
    "    \n",
    "    #밑에서 주석처리한 것 여기만 떼오기    # 결과 합치기\n",
    "    #info_list = [tweet_date, tweet_time, username, content, link, retweets, favorites]\n",
    "    info_list = [tweet_date,tweet_time,username,content,link,retweets,favorites]\n",
    "                    #, joined_date, num_tweets, num_following, num_follower]\n",
    "    tweet_list.append(info_list)\n",
    "    \n",
    "    # 휴식 \n",
    "    time.sleep(uniform(1,2))\n",
    "    \n",
    "'''    \n",
    "    # === 유저 정보 수집 시작 ===\n",
    "    try:\n",
    "        personal_link = 'https://twitter.com/' + username\n",
    "        bs_obj = get_bs_obj(personal_link)\n",
    "        uls = bs_obj.find(\"ul\", {\"class\": \"ProfileNav-list\"}).find_all(\"li\")\n",
    "        div = bs_obj.find(\"div\", {\"class\": \"ProfileHeaderCard-joinDate\"}).find_all(\"span\")[1][\"title\"]\n",
    "\n",
    "\n",
    "        # 가입일, 전체 트윗 수, 팔로잉 수, 팔로워 수\n",
    "        joined_date = div.split('-')[1].strip()\n",
    "        num_tweets = uls[0].find(\"span\", {\"class\": \"ProfileNav-value\"}).text.strip()\n",
    "        num_following = uls[1].find(\"span\", {\"class\": \"ProfileNav-value\"}).text.strip()\n",
    "        num_follower = uls[2].find(\"span\", {\"class\": \"ProfileNav-value\"}).text.strip()\n",
    "    \n",
    "    except AttributeError:\n",
    "        print(\"=== Attribute error occurs at {} ===\".format(link))\n",
    "        print(\"link : {}\".format(personal_link))   \n",
    "        pass\n",
    "    \n",
    "    # 결과 합치기\n",
    "    #info_list = [tweet_date, tweet_time, username, content, link, retweets, favorites]\n",
    "    info_list = [tweet_date,tweet_time,username,content,link,retweets,favorites]\n",
    "                    #, joined_date, num_tweets, num_following, num_follower]\n",
    "    tweet_list.append(info_list)\n",
    "    \n",
    "    # 휴식 \n",
    "    time.sleep(uniform(1,2))\n",
    "''' "
   ]
  },
  {
   "cell_type": "markdown",
   "metadata": {},
   "source": [
    "(주의: 실행 시 약 24시간이 소요됩니다. 결과를 빨리 확인하려면 유저 정보 수집 부분을 전부 주석처리 해주세요.)\n",
    "\n",
    "유저의 가입일, 전체 트윗 수, 팔로잉 수, 팔로워 수 와 같은 변수는 GetOldTweet3으로 얻은 username으로 personal_link을 만들어 수집하였다.\n",
    "\n",
    "중간에 try-except 구문을 사용하였는데, 이는 수집을 시도해 보니 몇몇 사용자의 팔로잉 수 혹은 팔로워 수가 공개되어 있지 않아 AttributeError을 발생시키고 있었다. 이런 에러를 발생시키는 계정은 보통 광고용 찌라시 계정이었는데, 이를 확인하기 위해 에러 발생시 그 link를 출력하도록 코드를 구성하였다.\n",
    "\n",
    "또한, 공격적인 크롤링 방지를 위해 random.uniform()을 활용하여 아래에 1~2초 사이로 랜덤하게 for문을 쉬게 하는 코드를 추가했다.\n",
    "\n",
    "트윗 수집 결과는 tweet_list에 저장된다."
   ]
  },
  {
   "cell_type": "markdown",
   "metadata": {},
   "source": [
    "# 파일 저장하고 확인하기\n",
    "이제 결과를 csv 파일로 저장하고, 저장된 파일을 불러와서 확인해 보자. Pandas 패키지를 사용할 것이다."
   ]
  },
  {
   "cell_type": "code",
   "execution_count": 8,
   "metadata": {},
   "outputs": [
    {
     "name": "stdout",
     "output_type": "stream",
     "text": [
      "=== 18625 tweets are successfully saved ===\n"
     ]
    }
   ],
   "source": [
    "# 파일 저장하기\n",
    "\n",
    "import pandas as pd\n",
    "\n",
    "twitter_df = pd.DataFrame(tweet_list, \n",
    "                          columns = [\"date\", \"time\", \"user_name\", \"text\", \"link\", \"retweet_counts\", \"favorite_counts\"])\n",
    "                                     #, \"user_created\", \"user_tweets\", \"user_followings\", \"user_followers\"])\n",
    "\n",
    "# csv 파일 만들기\n",
    "twitter_df.head()\n",
    "twitter_df.to_csv('Kia_twitter_data_{}_to_{}.csv'.format(days_range[0], days_range[-1]) , index = False)\n",
    "print(\"=== {} tweets are successfully saved ===\".format(len(tweet_list)))\n",
    "\n"
   ]
  },
  {
   "cell_type": "markdown",
   "metadata": {},
   "source": [
    "위 코드를 실행시키면, working directory 내에 sample_twitter_data_2019-04-21_to_2019-04-24.csv 파일이 생성되었음을 확인할 수 있다.\n",
    "\n",
    "생성한 파일을 로드해서 내용을 확인해 보자."
   ]
  },
  {
   "cell_type": "code",
   "execution_count": 18,
   "metadata": {},
   "outputs": [
    {
     "data": {
      "text/html": [
       "<div>\n",
       "<style scoped>\n",
       "    .dataframe tbody tr th:only-of-type {\n",
       "        vertical-align: middle;\n",
       "    }\n",
       "\n",
       "    .dataframe tbody tr th {\n",
       "        vertical-align: top;\n",
       "    }\n",
       "\n",
       "    .dataframe thead th {\n",
       "        text-align: right;\n",
       "    }\n",
       "</style>\n",
       "<table border=\"1\" class=\"dataframe\">\n",
       "  <thead>\n",
       "    <tr style=\"text-align: right;\">\n",
       "      <th></th>\n",
       "      <th>date</th>\n",
       "      <th>time</th>\n",
       "      <th>user_name</th>\n",
       "      <th>text</th>\n",
       "      <th>link</th>\n",
       "      <th>retweet_counts</th>\n",
       "      <th>favorite_counts</th>\n",
       "    </tr>\n",
       "  </thead>\n",
       "  <tbody>\n",
       "    <tr>\n",
       "      <td>0</td>\n",
       "      <td>2019-02-07</td>\n",
       "      <td>23:59:51</td>\n",
       "      <td>aishiwi</td>\n",
       "      <td>Yeah they made them in a very cheesy way i was...</td>\n",
       "      <td>https://twitter.com/aishiwi/status/10936606449...</td>\n",
       "      <td>0</td>\n",
       "      <td>0</td>\n",
       "    </tr>\n",
       "    <tr>\n",
       "      <td>1</td>\n",
       "      <td>2019-02-07</td>\n",
       "      <td>23:59:18</td>\n",
       "      <td>OwnSales</td>\n",
       "      <td>The price has changed on our 2017 Hyundai Sant...</td>\n",
       "      <td>https://twitter.com/OwnSales/status/1093660504...</td>\n",
       "      <td>0</td>\n",
       "      <td>0</td>\n",
       "    </tr>\n",
       "    <tr>\n",
       "      <td>2</td>\n",
       "      <td>2019-02-07</td>\n",
       "      <td>23:59:16</td>\n",
       "      <td>OwnSales</td>\n",
       "      <td>The price for 2015 Hyundai Genesis is $2,299 n...</td>\n",
       "      <td>https://twitter.com/OwnSales/status/1093660498...</td>\n",
       "      <td>0</td>\n",
       "      <td>0</td>\n",
       "    </tr>\n",
       "    <tr>\n",
       "      <td>3</td>\n",
       "      <td>2019-02-07</td>\n",
       "      <td>23:59:12</td>\n",
       "      <td>OwnSales</td>\n",
       "      <td>The price for 2017 Hyundai Santa Fe is $2,499 ...</td>\n",
       "      <td>https://twitter.com/OwnSales/status/1093660481...</td>\n",
       "      <td>0</td>\n",
       "      <td>0</td>\n",
       "    </tr>\n",
       "    <tr>\n",
       "      <td>4</td>\n",
       "      <td>2019-02-07</td>\n",
       "      <td>23:58:17</td>\n",
       "      <td>CarCenterInc</td>\n",
       "      <td>The price for 2007 Hyundai Elantra is $4,582 n...</td>\n",
       "      <td>https://twitter.com/CarCenterInc/status/109366...</td>\n",
       "      <td>0</td>\n",
       "      <td>0</td>\n",
       "    </tr>\n",
       "    <tr>\n",
       "      <td>5</td>\n",
       "      <td>2019-02-07</td>\n",
       "      <td>23:58:16</td>\n",
       "      <td>CarCenterInc</td>\n",
       "      <td>The price has changed on our 2015 Hyundai Sona...</td>\n",
       "      <td>https://twitter.com/CarCenterInc/status/109366...</td>\n",
       "      <td>0</td>\n",
       "      <td>0</td>\n",
       "    </tr>\n",
       "    <tr>\n",
       "      <td>6</td>\n",
       "      <td>2019-02-07</td>\n",
       "      <td>23:58:15</td>\n",
       "      <td>CarCenterInc</td>\n",
       "      <td>The price for 2006 Hyundai Sonata is $4,682 no...</td>\n",
       "      <td>https://twitter.com/CarCenterInc/status/109366...</td>\n",
       "      <td>0</td>\n",
       "      <td>0</td>\n",
       "    </tr>\n",
       "    <tr>\n",
       "      <td>7</td>\n",
       "      <td>2019-02-07</td>\n",
       "      <td>23:56:54</td>\n",
       "      <td>AutoSellersInc</td>\n",
       "      <td>Just in! We have recently added a 2012 Hyundai...</td>\n",
       "      <td>https://twitter.com/AutoSellersInc/status/1093...</td>\n",
       "      <td>0</td>\n",
       "      <td>0</td>\n",
       "    </tr>\n",
       "    <tr>\n",
       "      <td>8</td>\n",
       "      <td>2019-02-07</td>\n",
       "      <td>23:53:14</td>\n",
       "      <td>GoodCoinsF</td>\n",
       "      <td>COVERCRAFT SS2510PCTN Ss Frt fits Hyundai Tucs...</td>\n",
       "      <td>https://twitter.com/GoodCoinsF/status/10936589...</td>\n",
       "      <td>0</td>\n",
       "      <td>0</td>\n",
       "    </tr>\n",
       "    <tr>\n",
       "      <td>9</td>\n",
       "      <td>2019-02-07</td>\n",
       "      <td>23:49:03</td>\n",
       "      <td>OwnSales</td>\n",
       "      <td>The price has changed on our 2013 Hyundai Sona...</td>\n",
       "      <td>https://twitter.com/OwnSales/status/1093657926...</td>\n",
       "      <td>0</td>\n",
       "      <td>0</td>\n",
       "    </tr>\n",
       "  </tbody>\n",
       "</table>\n",
       "</div>"
      ],
      "text/plain": [
       "         date      time       user_name  \\\n",
       "0  2019-02-07  23:59:51         aishiwi   \n",
       "1  2019-02-07  23:59:18        OwnSales   \n",
       "2  2019-02-07  23:59:16        OwnSales   \n",
       "3  2019-02-07  23:59:12        OwnSales   \n",
       "4  2019-02-07  23:58:17    CarCenterInc   \n",
       "5  2019-02-07  23:58:16    CarCenterInc   \n",
       "6  2019-02-07  23:58:15    CarCenterInc   \n",
       "7  2019-02-07  23:56:54  AutoSellersInc   \n",
       "8  2019-02-07  23:53:14      GoodCoinsF   \n",
       "9  2019-02-07  23:49:03        OwnSales   \n",
       "\n",
       "                                                text  \\\n",
       "0  Yeah they made them in a very cheesy way i was...   \n",
       "1  The price has changed on our 2017 Hyundai Sant...   \n",
       "2  The price for 2015 Hyundai Genesis is $2,299 n...   \n",
       "3  The price for 2017 Hyundai Santa Fe is $2,499 ...   \n",
       "4  The price for 2007 Hyundai Elantra is $4,582 n...   \n",
       "5  The price has changed on our 2015 Hyundai Sona...   \n",
       "6  The price for 2006 Hyundai Sonata is $4,682 no...   \n",
       "7  Just in! We have recently added a 2012 Hyundai...   \n",
       "8  COVERCRAFT SS2510PCTN Ss Frt fits Hyundai Tucs...   \n",
       "9  The price has changed on our 2013 Hyundai Sona...   \n",
       "\n",
       "                                                link  retweet_counts  \\\n",
       "0  https://twitter.com/aishiwi/status/10936606449...               0   \n",
       "1  https://twitter.com/OwnSales/status/1093660504...               0   \n",
       "2  https://twitter.com/OwnSales/status/1093660498...               0   \n",
       "3  https://twitter.com/OwnSales/status/1093660481...               0   \n",
       "4  https://twitter.com/CarCenterInc/status/109366...               0   \n",
       "5  https://twitter.com/CarCenterInc/status/109366...               0   \n",
       "6  https://twitter.com/CarCenterInc/status/109366...               0   \n",
       "7  https://twitter.com/AutoSellersInc/status/1093...               0   \n",
       "8  https://twitter.com/GoodCoinsF/status/10936589...               0   \n",
       "9  https://twitter.com/OwnSales/status/1093657926...               0   \n",
       "\n",
       "   favorite_counts  \n",
       "0                0  \n",
       "1                0  \n",
       "2                0  \n",
       "3                0  \n",
       "4                0  \n",
       "5                0  \n",
       "6                0  \n",
       "7                0  \n",
       "8                0  \n",
       "9                0  "
      ]
     },
     "execution_count": 18,
     "metadata": {},
     "output_type": "execute_result"
    }
   ],
   "source": [
    "# 파일 확인하기\n",
    "\n",
    "df_tweet = pd.read_csv('hyundai_twitter_data_{}_to_{}.csv'.format(days_range[0], days_range[-1]))\n",
    "df_tweet.head(10) # 위에서 10개만 출력"
   ]
  },
  {
   "cell_type": "markdown",
   "metadata": {},
   "source": [
    "# 데이터 통계 확인\n",
    "수집한 데이터라 어떤 특징을 보이고 있는지 간단하게 확인해 보자.\n",
    "\n",
    "어벤져스 또는 스포가 포함된 트윗을 수집하였는데, 각각의 빈도는 어느 정도일까?"
   ]
  },
  {
   "cell_type": "code",
   "execution_count": 19,
   "metadata": {},
   "outputs": [
    {
     "data": {
      "text/plain": [
       "<Figure size 640x480 with 1 Axes>"
      ]
     },
     "metadata": {},
     "output_type": "display_data"
    },
    {
     "name": "stdout",
     "output_type": "stream",
     "text": [
      "              17616\n",
      "super bowl      910\n",
      "for sale         93\n",
      "Name: keyword, dtype: int64\n"
     ]
    }
   ],
   "source": [
    "# 키워드 빈도 분석하기\n",
    "\n",
    "def get_keywords(dataframe):\n",
    "    keywords = []\n",
    "    text = dataframe[\"text\"].lower()\n",
    "    if \"for sale\" in text:\n",
    "        keywords.append(\"for sale\")\n",
    "    if \"super bowl\" in text:\n",
    "        keywords.append(\"super bowl\")\n",
    "    return \",\".join(keywords)\n",
    "\n",
    "df_tweet[\"keyword\"] = df_tweet.apply(get_keywords,axis=1)\n",
    "\n",
    "# barplot 그리기\n",
    "\n",
    "import matplotlib.pyplot as plt\n",
    "\n",
    "counts = df_tweet[\"keyword\"].value_counts()\n",
    "plt.bar(range(len(counts)), counts)\n",
    "plt.title(\"Tweets mentioning keywords\")\n",
    "plt.ylabel(\"# of tweets\")\n",
    "plt.show()\n",
    "print(counts)"
   ]
  },
  {
   "cell_type": "markdown",
   "metadata": {},
   "source": [
    "barplot을 그릴 때에는 파이썬의 visualization package 중 가장 유명한 matplotlib을 사용했다.\n",
    "\n",
    "스포 가 단일로 포함된 트윗이 14,782개로 가장 많았고, 그 뒤로 어벤져스 단일이 6,902개 , 그리고 어벤져스 와 스포 모두 포함된 트윗이 1,248개 로 파악된다.\n",
    "\n",
    "이번에는 어벤져스 개봉일이 다가오면서 변화하는 트윗의 빈도를 출력해 보자."
   ]
  },
  {
   "cell_type": "code",
   "execution_count": 20,
   "metadata": {},
   "outputs": [
    {
     "name": "stdout",
     "output_type": "stream",
     "text": [
      "2019-01-31    1402\n",
      "2019-02-01    1249\n",
      "2019-02-02    1073\n",
      "2019-02-03    2810\n",
      "2019-02-04    7067\n",
      "2019-02-05    2078\n",
      "2019-02-06    1784\n",
      "2019-02-07    1156\n",
      "Name: date, dtype: int64\n"
     ]
    },
    {
     "data": {
      "image/png": "[encoded data removed]",
      "text/plain": [
       "<Figure size 432x288 with 1 Axes>"
      ]
     },
     "metadata": {
      "needs_background": "light"
     },
     "output_type": "display_data"
    }
   ],
   "source": [
    "# 날짜별 빈도 분석하기\n",
    "\n",
    "counts = df_tweet[\"date\"].value_counts().sort_index()\n",
    "\n",
    "plt.title(\"Tweets mentioning keywords in time series\")\n",
    "plt.ylabel(\"# of tweets\")\n",
    "counts.plot(kind = 'bar')\n",
    "print(counts)"
   ]
  },
  {
   "cell_type": "code",
   "execution_count": null,
   "metadata": {},
   "outputs": [],
   "source": []
  }
 ],
 "metadata": {
  "kernelspec": {
   "display_name": "Python 3",
   "language": "python",
   "name": "python3"
  },
  "language_info": {
   "codemirror_mode": {
    "name": "ipython",
    "version": 3
   },
   "file_extension": ".py",
   "mimetype": "text/x-python",
   "name": "python",
   "nbconvert_exporter": "python",
   "pygments_lexer": "ipython3",
   "version": "3.7.4"
  }
 },
 "nbformat": 4,
 "nbformat_minor": 2
}
